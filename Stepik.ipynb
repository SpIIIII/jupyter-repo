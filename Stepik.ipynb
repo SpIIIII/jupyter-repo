{
 "cells": [
  {
   "cell_type": "code",
   "execution_count": 1,
   "metadata": {},
   "outputs": [],
   "source": [
    "import numpy as np\n",
    "import pandas as pd\n",
    "import matplotlib.pyplot as plt\n",
    "from numpy import linalg\n",
    "import urllib\n",
    "from urllib import request"
   ]
  },
  {
   "cell_type": "code",
   "execution_count": 2,
   "metadata": {},
   "outputs": [],
   "source": [
    "def fmt_items(lines,max_lines=0):\n",
    "    max_width=max([len(line)for line in lines])\n",
    "    empty =' '*max_width\n",
    "    lines = [line.ljust(max_width)for line in lines]\n",
    "    lines += [empty]*(max_lines - len(lines))\n",
    "    return lines\n",
    "def pp (*list):\n",
    "    lines = [ str(item).split('\\n') for item in list]\n",
    "    max_lines=max([len(item)for  item in lines])\n",
    "    lines = [fmt_items(item,max_lines=max_lines)for item in lines]\n",
    "    lines_t= np.array(lines).T\n",
    "    print('\\n'.join([' '.join(line) for  line in lines_t]))"
   ]
  },
  {
   "cell_type": "code",
   "execution_count": 15,
   "metadata": {},
   "outputs": [
    {
     "name": "stdout",
     "output_type": "stream",
     "text": [
      "[[0 1 0 0]\n",
      " [0 0 1 0]\n",
      " [0 0 0 1]]\n"
     ]
    }
   ],
   "source": [
    "a = np.eye(3, 4, 0,dtype = int)\n",
    "b = np.eye(3, 4, 1,dtype = int)\n",
    "c = 2*a + b\n",
    "print(b)"
   ]
  },
  {
   "cell_type": "code",
   "execution_count": null,
   "metadata": {},
   "outputs": [],
   "source": []
  },
  {
   "cell_type": "code",
   "execution_count": 7,
   "metadata": {},
   "outputs": [],
   "source": [
    "path = 'https://stepic.org/media/attachments/lesson/16462/boston_houses.csv'\n",
    "file = urllib.request.urlopen(path)"
   ]
  },
  {
   "cell_type": "code",
   "execution_count": 8,
   "metadata": {},
   "outputs": [],
   "source": [
    "X = np.loadtxt(file,delimiter =',',skiprows=1)"
   ]
  },
  {
   "cell_type": "code",
   "execution_count": 9,
   "metadata": {},
   "outputs": [],
   "source": [
    "y = X[:,0].copy()"
   ]
  },
  {
   "cell_type": "code",
   "execution_count": 10,
   "metadata": {},
   "outputs": [],
   "source": [
    "X[:,0] = 1"
   ]
  },
  {
   "cell_type": "code",
   "execution_count": 13,
   "metadata": {},
   "outputs": [],
   "source": [
    "b = linalg.inv(X.T@X)@X.T@y"
   ]
  },
  {
   "cell_type": "code",
   "execution_count": 14,
   "metadata": {},
   "outputs": [
    {
     "data": {
      "text/plain": [
       "array([ -3.65580429,  -0.2163955 ,   0.0737306 ,   4.41245058,\n",
       "       -25.46844878,   7.14320155,  -1.30108768])"
      ]
     },
     "execution_count": 14,
     "metadata": {},
     "output_type": "execute_result"
    }
   ],
   "source": [
    "b"
   ]
  },
  {
   "cell_type": "markdown",
   "metadata": {},
   "source": [
    "### 2.3 Перцептрон: обучение"
   ]
  },
  {
   "cell_type": "code",
   "execution_count": 37,
   "metadata": {},
   "outputs": [],
   "source": [
    "def predict (example,w):\n",
    "    return int(np.sum(example*w)>0)"
   ]
  },
  {
   "cell_type": "code",
   "execution_count": 38,
   "metadata": {},
   "outputs": [],
   "source": [
    "w = np.array([0,0,0])\n",
    "imput = pd.DataFrame([[1,1,0.3],[1,0.4,0.5],[1,0.7,0.8]])\n",
    "answer = np.array([1,1,0])"
   ]
  },
  {
   "cell_type": "code",
   "execution_count": 39,
   "metadata": {},
   "outputs": [
    {
     "name": "stdout",
     "output_type": "stream",
     "text": [
      "0    1.0                0 1\n",
      "1    1.0                   \n",
      "2    0.3                   \n",
      "Name: 0, dtype: float64    \n",
      "0    1.0                1 1\n",
      "1    1.0                   \n",
      "2    0.3                   \n",
      "Name: 0, dtype: float64    \n",
      "0    0.0       1 0\n",
      "1    0.3          \n",
      "2   -0.5          \n",
      "dtype: float64    \n",
      "loop stoped\n"
     ]
    }
   ],
   "source": [
    "for z in range(1):\n",
    "    for i,r in imput.iterrows():\n",
    "        prediction = predict(r,w)\n",
    "        if prediction != answer[i]:\n",
    "            if prediction == 0:\n",
    "                w = w+r\n",
    "            else:\n",
    "                w = w-r\n",
    "        pp(w,prediction,answer[i])\n",
    "            \n",
    "print('loop stoped')\n",
    "\n",
    "    "
   ]
  },
  {
   "cell_type": "code",
   "execution_count": 36,
   "metadata": {},
   "outputs": [
    {
     "name": "stdout",
     "output_type": "stream",
     "text": [
      "[1.  1.  0.3] [0 0 0] 0.0 0\n",
      "0 [1.  1.  0.3] [1.  1.  0.3] \n",
      "\n",
      "\n",
      "[1.  0.4 0.5] [1.  1.  0.3] 1.5499999999999998 1\n",
      "[1.  0.7 0.8] [1.  1.  0.3] 1.94 1\n",
      "1 [ 0.   0.3 -0.5] [1.  0.7 0.8] \n",
      "\n",
      "\n",
      "[ 0.   0.3 -0.5]\n"
     ]
    }
   ],
   "source": [
    "import numpy\n",
    "\n",
    "examples = numpy.array([\n",
    "    [1, 1, 0.3],\n",
    "    [1, 0.4, 0.5],\n",
    "    [1, 0.7, 0.8]\n",
    "])\n",
    "target = [1, 1, 0]\n",
    "perfect = 0\n",
    "\n",
    "def predict(x, weights):\n",
    "    print(x,weights,x @ weights,int((x @ weights) > 0))\n",
    "    return int((x @ weights) > 0)\n",
    "\n",
    "\n",
    "w = numpy.array([0, 0, 0])\n",
    "for re in range(1):\n",
    "    perfect = 1\n",
    "    for idx, e in enumerate(examples):\n",
    "        prediction = predict(e, w)\n",
    "        \n",
    "        if prediction == target[idx]:\n",
    "            continue\n",
    "        perfect = 0\n",
    "        if prediction == 0:\n",
    "            w = w + e\n",
    "        if prediction == 1:\n",
    "            w = w - e\n",
    "        print(prediction,w,e,'\\n\\n')\n",
    "print(weights)"
   ]
  },
  {
   "cell_type": "code",
   "execution_count": null,
   "metadata": {},
   "outputs": [],
   "source": []
  },
  {
   "cell_type": "code",
   "execution_count": null,
   "metadata": {},
   "outputs": [],
   "source": []
  },
  {
   "cell_type": "code",
   "execution_count": null,
   "metadata": {},
   "outputs": [],
   "source": []
  },
  {
   "cell_type": "code",
   "execution_count": null,
   "metadata": {},
   "outputs": [],
   "source": []
  }
 ],
 "metadata": {
  "kernelspec": {
   "display_name": "Python 3",
   "language": "python",
   "name": "python3"
  },
  "language_info": {
   "codemirror_mode": {
    "name": "ipython",
    "version": 3
   },
   "file_extension": ".py",
   "mimetype": "text/x-python",
   "name": "python",
   "nbconvert_exporter": "python",
   "pygments_lexer": "ipython3",
   "version": "3.7.3"
  }
 },
 "nbformat": 4,
 "nbformat_minor": 2
}
