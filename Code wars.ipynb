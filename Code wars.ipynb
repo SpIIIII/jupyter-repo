{
 "cells": [
  {
   "cell_type": "code",
   "execution_count": 40,
   "metadata": {},
   "outputs": [],
   "source": [
    "#q6 \n",
    "#my\n",
    "def dig_pow(n, p):\n",
    "    s=squre(n,p)/n\n",
    "    print(s%10)\n",
    "    return int(s) if int(s)  else -1\n",
    "def squre(n,p):\n",
    "    res=0\n",
    "    for i in str(n):\n",
    "        res+=int(i)**p\n",
    "        p+=1\n",
    "    return res\n",
    "\n",
    "#the cleaver\n",
    "def dig_pow(n, p):\n",
    "    t = sum( int(d) ** (p+i) for i, d in enumerate(str(n)) )\n",
    "    return t//n if t%n==0 else -1"
   ]
  },
  {
   "cell_type": "code",
   "execution_count": 35,
   "metadata": {},
   "outputs": [
    {
     "name": "stdout",
     "output_type": "stream",
     "text": [
      "1.0\n",
      "51\n"
     ]
    }
   ],
   "source": [
    "print(dig_pow (46288, 3))"
   ]
  },
  {
   "cell_type": "code",
   "execution_count": 45,
   "metadata": {},
   "outputs": [
    {
     "ename": "NameError",
     "evalue": "name 'midle' is not defined",
     "output_type": "error",
     "traceback": [
      "\u001b[1;31m---------------------------------------------------------------------------\u001b[0m",
      "\u001b[1;31mNameError\u001b[0m                                 Traceback (most recent call last)",
      "\u001b[1;32m<ipython-input-45-407cc6192bef>\u001b[0m in \u001b[0;36m<module>\u001b[1;34m()\u001b[0m\n\u001b[0;32m      1\u001b[0m \u001b[0ma\u001b[0m \u001b[1;33m=\u001b[0m\u001b[1;33m[\u001b[0m\u001b[0mi\u001b[0m \u001b[1;32mfor\u001b[0m \u001b[0mi\u001b[0m \u001b[1;32min\u001b[0m \u001b[0mrange\u001b[0m\u001b[1;33m(\u001b[0m\u001b[1;36m24\u001b[0m\u001b[1;33m)\u001b[0m\u001b[1;33m]\u001b[0m\u001b[1;33m[\u001b[0m\u001b[1;36m1\u001b[0m\u001b[1;33m:\u001b[0m\u001b[1;33m]\u001b[0m\u001b[1;33m\u001b[0m\u001b[0m\n\u001b[1;32m----> 2\u001b[1;33m \u001b[0mprint\u001b[0m\u001b[1;33m(\u001b[0m\u001b[0mmidle\u001b[0m\u001b[1;33m(\u001b[0m\u001b[0ma\u001b[0m\u001b[1;33m)\u001b[0m\u001b[1;33m)\u001b[0m\u001b[1;33m\u001b[0m\u001b[0m\n\u001b[0m",
      "\u001b[1;31mNameError\u001b[0m: name 'midle' is not defined"
     ]
    }
   ],
   "source": [
    "\n",
    "print(midle(a))"
   ]
  },
  {
   "cell_type": "code",
   "execution_count": 2,
   "metadata": {},
   "outputs": [],
   "source": [
    "a =[i for i in range(24)][1:]\n",
    "def midle(a):\n",
    "    res=0\n",
    "    for i in a:\n",
    "        res+=i\n",
    "    return res/len(a)"
   ]
  },
  {
   "cell_type": "code",
   "execution_count": 12,
   "metadata": {},
   "outputs": [
    {
     "name": "stdout",
     "output_type": "stream",
     "text": [
      "12.0\n",
      "[1, 2, 3, 4, 5, 6, 7, 8, 9, 10, 11, 12, 13, 14, 15, 16, 17, 18, 19, 20, 21, 22, 23]\n",
      "[] 23 1\n",
      "[23, 1] 22 2\n",
      "[23, 1, 22, 2] 21 3\n",
      "[23, 1, 22, 2, 21, 3] 20 4\n",
      "[23, 1, 22, 2, 21, 3, 20, 4] 19 5\n",
      "[23, 1, 22, 2, 21, 3, 20, 4, 19, 5] 18 6\n",
      "[23, 1, 22, 2, 21, 3, 20, 4, 19, 5, 18, 6] 17 7\n",
      "[23, 1, 22, 2, 21, 3, 20, 4, 19, 5, 18, 6, 17, 7] 16 8\n",
      "[23, 1, 22, 2, 21, 3, 20, 4, 19, 5, 18, 6, 17, 7, 16, 8] 15 9\n",
      "[23, 1, 22, 2, 21, 3, 20, 4, 19, 5, 18, 6, 17, 7, 16, 8, 15, 9] 14 10\n",
      "[23, 1, 22, 2, 21, 3, 20, 4, 19, 5, 18, 6, 17, 7, 16, 8, 15, 9, 14, 10] 13 11\n",
      "[23, 1, 22, 2, 21, 3, 20, 4, 19, 5, 18, 6, 17, 7, 16, 8, 15, 9, 14, 10, 13, 11]\n"
     ]
    }
   ],
   "source": [
    "print(midle(a))\n",
    "print(a)\n",
    "res=[]\n",
    "x=1\n",
    "for i in a[:len(a)//2]:\n",
    "    res.append(a[x*-1])\n",
    "    res.append(a[x-1])\n",
    "    x=(x+1)\n",
    "   \n",
    "    \n",
    "class Pair:\n",
    "    def __init__(self,one,two):\n",
    "        self.one=one\n",
    "        self.two=two\n",
    "    def get(self):\n",
    "        return [self.one,self.two]\n",
    "        \n",
    "    \n",
    "print(res)"
   ]
  },
  {
   "cell_type": "code",
   "execution_count": 17,
   "metadata": {},
   "outputs": [
    {
     "name": "stdout",
     "output_type": "stream",
     "text": [
      "[1, 23, 2, 22, 3, 21, 4, 20, 5, 19, 6, 18, 7, 17, 8, 16, 9, 15, 10, 14, 11, 13]\n"
     ]
    }
   ],
   "source": [
    "res2=[]\n",
    "for i in a:\n",
    "    for j in a[i:]:\n",
    "        if i+j==24:\n",
    "            res2.append(i)\n",
    "            res2.append(j)\n",
    "print(res2)"
   ]
  },
  {
   "cell_type": "code",
   "execution_count": null,
   "metadata": {},
   "outputs": [],
   "source": [
    "#q6 my\n",
    "def Ackermann(m,n):\n",
    "    if m==0:\n",
    "        return n+1\n",
    "    if m>0 and n==0:\n",
    "        return Ackermann(m-1,1)\n",
    "    if m and n >0:\n",
    "        return Ackermann(m-1,Ackermann(m,n-1))\n",
    "\n",
    "#the cleaver\n",
    "def Ackermann(m,n):\n",
    "    if m:\n",
    "        if n:\n",
    "            return Ackermann(m - 1, Ackermann(m, n - 1))\n",
    "        return Ackermann(m - 1, 1)\n",
    "    return n+1"
   ]
  },
  {
   "cell_type": "markdown",
   "metadata": {},
   "source": [
    "# K primes"
   ]
  },
  {
   "cell_type": "code",
   "execution_count": 6,
   "metadata": {},
   "outputs": [],
   "source": [
    "import numpy as np\n",
    "k_primes1=[]\n",
    "def count_Kprimes(k, start, nd):\n",
    "    if start == 0:\n",
    "        start =1\n",
    "    k_numbers = []\n",
    "    max_nd_prime = n_primes1(int(nd/2)+1)\n",
    "    for i in range(nd+1-start):\n",
    "        if is_k_prime1(start+i,k,max_nd_prime):\n",
    "            k_numbers.append(start+i)\n",
    "    return k_numbers\n",
    "    \n",
    "def is_k_prime1(num,k,nd):\n",
    "    global k_primes1\n",
    "    k_primes1 = []\n",
    "    devide1(num,nd) \n",
    "    if len(k_primes1)==k:\n",
    "        return True\n",
    "    \n",
    "        \n",
    "def devide1 (num,rng):\n",
    "    global k_primes1\n",
    "    for i in rng:\n",
    "        if num%i == 0 :\n",
    "            k_primes1.append(i)\n",
    "            return devide1(num/i,rng) if num/i!= 1 else 1\n",
    "    \n",
    "        \n",
    "def n_primes1 (n):\n",
    "    k_prime = np.ones((n),dtype = bool)\n",
    "    for i in range(2,n):\n",
    "        if k_prime[i] == True:\n",
    "            for j in range(i*2,n,i):\n",
    "                k_prime[j]=False\n",
    "    return k_prime.nonzero()[0][2:].astype(np.int32)\n"
   ]
  },
  {
   "cell_type": "code",
   "execution_count": 7,
   "metadata": {},
   "outputs": [
    {
     "name": "stdout",
     "output_type": "stream",
     "text": [
      "[4, 6, 9, 10, 14, 15, 21, 22, 25, 26, 33, 34, 35, 38, 39, 46, 49, 51, 55, 57, 58, 62, 65, 69, 74, 77, 82, 85, 86, 87, 91, 93, 94, 95]\n"
     ]
    }
   ],
   "source": [
    "print(count_Kprimes(2, 0, 100))"
   ]
  },
  {
   "cell_type": "code",
   "execution_count": null,
   "metadata": {},
   "outputs": [],
   "source": [
    "every time i try my solution for this cata i have a timeout error,i don't know how to speed up it more. \n",
    " Can anyone suggest me where to think.  \n",
    " thanks )\n",
    "\n",
    "there is my code\n",
    "\n",
    "import numpy as np\n",
    "k_primes1=[]\n",
    "def count_Kprimes(k, start, nd):\n",
    "    if start == 0:\n",
    "        start =1\n",
    "    k_numbers = []\n",
    "    max_nd_prime = n_primes1(int(nd/2)+1)\n",
    "    for i in range(nd+1-start):\n",
    "        if is_k_prime1(start+i,k,max_nd_prime):\n",
    "            k_numbers.append(start+i)\n",
    "    return k_numbers\n",
    "    \n",
    "def is_k_prime1(num,k,nd):\n",
    "    global k_primes1\n",
    "    k_primes1 = []\n",
    "    devide1(num,nd) \n",
    "    if len(k_primes1)==k:\n",
    "        return True\n",
    "    \n",
    "        \n",
    "def devide1 (num,rng):\n",
    "    global k_primes1\n",
    "    for i in rng:\n",
    "        if num%i == 0 :\n",
    "            k_primes1.append(i)\n",
    "            return devide1(num/i,rng) if num/i!= 1 else 1\n",
    "    \n",
    "        \n",
    "def n_primes1 (n):\n",
    "    k_prime = np.ones((n),dtype = bool)\n",
    "    for i in range(2,n):\n",
    "        if k_prime[i] == True:\n",
    "            for j in range(i*2,n,i):\n",
    "                k_prime[j]=False\n",
    "    return k_prime.nonzero()[0][2:].astype(np.int32)"
   ]
  }
 ],
 "metadata": {
  "kernelspec": {
   "display_name": "Python 3",
   "language": "python",
   "name": "python3"
  },
  "language_info": {
   "codemirror_mode": {
    "name": "ipython",
    "version": 3
   },
   "file_extension": ".py",
   "mimetype": "text/x-python",
   "name": "python",
   "nbconvert_exporter": "python",
   "pygments_lexer": "ipython3",
   "version": "3.6.4"
  }
 },
 "nbformat": 4,
 "nbformat_minor": 2
}
