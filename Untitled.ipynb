{
 "cells": [
  {
   "cell_type": "code",
   "execution_count": null,
   "metadata": {},
   "outputs": [],
   "source": [
    "import logging\n",
    "import threading\n",
    "import time\n",
    "\n",
    "def thread_function(name):\n",
    "    logging.info(\"Thread %s: starting\", name)\n",
    "    time.sleep(2)\n",
    "    logging.info(\"Thread %s: finishing\", name)\n",
    "\n",
    "if __name__ == \"__main__\":\n",
    "    format = \"%(asctime)s: %(message)s\"\n",
    "    logging.basicConfig(format=format, level=logging.INFO,\n",
    "                        datefmt=\"%H:%M:%S\")\n",
    "\n",
    "    logging.info(\"Main    : before creating thread\")\n",
    "    x = threading.Thread(target=thread_function, args=(1,))\n",
    "    logging.info(\"Main    : before running thread\")\n",
    "    x.start()\n",
    "    logging.info(\"Main    : wait for the thread to finish\")\n",
    "    # x.join()\n",
    "    logging.info(\"Main    : all done\")\n"
   ]
  },
  {
   "cell_type": "code",
   "execution_count": null,
   "metadata": {},
   "outputs": [],
   "source": [
    "import platform\n",
    "platform.python_implementation()\n"
   ]
  },
  {
   "cell_type": "code",
   "execution_count": null,
   "metadata": {},
   "outputs": [],
   "source": [
    "d = make_bricks(7, 1, 13)\n",
    "print (d)"
   ]
  },
  {
   "cell_type": "code",
   "execution_count": null,
   "metadata": {},
   "outputs": [],
   "source": [
    "def make_bricks(small, big, goal):\n",
    "    s="
   ]
  },
  {
   "cell_type": "code",
   "execution_count": null,
   "metadata": {},
   "outputs": [],
   "source": [
    "from operator import itemgetter\n",
    "def house(plan):\n",
    "    print(plan) \n",
    "    x=0\n",
    "    y=[]\n",
    "    for i in plan.split('\\n'):\n",
    "        x+=1\n",
    "        if i.find('#')!=-1:\n",
    "            \n",
    "            y.append([x,i.find('#'),len(i)-(i[::-1].find('#'))-1])\n",
    "    if y ==[]:\n",
    "        return 0\n",
    "    return (max(y,key=lambda x:x[2])[2]+1-min(y,key=lambda x:x[1])[1])*(max(y,key=lambda x:x[0])[0]+1-min(y,key=lambda x:x[0])[0])\n",
    "\n",
    "if __name__ == '__main__':\n",
    "    print(\"Example:\")\n",
    "    print(house('''\n",
    "0000000\n",
    "##00##0\n",
    "######0\n",
    "##00##0\n",
    "#0000#0\n",
    "    '''))"
   ]
  },
  {
   "cell_type": "code",
   "execution_count": null,
   "metadata": {},
   "outputs": [],
   "source": [
    "FIRST_TEN = [\"one \", \"two \", \"three \", \"four \", \"five \", \"six \", \"seven \",\n",
    "             \"eigh t\", \"nine \"]\n",
    "SECOND_TEN = [\"ten \", \"eleven \", \"twelve \", \"thirteen \", \"fourteen \", \"fifteen \",\n",
    "              \"sixteen \", \"seventeen \", \"eighteen \", \"nineteen \"]\n",
    "OTHER_TENS = [\"twenty \", \"thirty \", \"forty \", \"fifty \", \"sixty \", \"seventy \",\n",
    "              \"eighty \", \"ninety \"]\n",
    "HUNDRED = \"hundred \"\n",
    "\n",
    "def checkio(number):\n",
    "    if number > 100:\n",
    "        return FIRST_TEN[number//100-1]+HUNDRED+\n",
    "        \n",
    "checkio(218)"
   ]
  },
  {
   "cell_type": "code",
   "execution_count": null,
   "metadata": {},
   "outputs": [],
   "source": [
    "lis = [[1,'q','z'],[2,'w','x'],[1,'s','x'],[3,'q','z']]\n",
    "a={}\n",
    "for i in lis:\n",
    "    a.setdefault(i[0], []).append(i[1])\n",
    "print(a)\n",
    "        \n"
   ]
  },
  {
   "cell_type": "code",
   "execution_count": null,
   "metadata": {},
   "outputs": [],
   "source": [
    "categories={'1':['11','12','13'],'11':['21','22','23'],'12':['31','32','33']}\n",
    "test = {}\n",
    "test1 = ['4','5','6']\n",
    "_list=['11','12','13']\n",
    "MLP={'Only Curators Can See This': ['curator voice chat', 'curator-chat'], 'None': ['Hi my friend', 'ONLY ADMIN Can See this', 'General chat', 'MLP Core .Net', 'VK Management', 'WEB Site Python', 'Discord Bot', 'Web Server', 'test them all', 'Only Curators Can See This'], 'Hi my friend': ['here-you-are', 'read-me-first', 'tell-about-your-goal'], 'ONLY ADMIN Can See this': ['log-discord-changes', 'log-user', 'passwords', 'amdin-chat'], 'General chat': ['start-info', 'discussion', 'suggestions', 'discussion-of-suggestions', 'book-of-complaints', 'daily-motivation', 'off-topic'], 'MLP Core .Net': ['info', 'classroom', 'tasks-core', 'step-by-step', 'questions', 'discussion', 'git-activity', 'git-activity-net'], 'VK Management': ['info', 'questions', 'discussion', 'think', 'git'], 'WEB Site Python': ['info', 'request-for-participation', 'step-by-step', 'questions', 'git-activity', 'discussion', 'tasks-backend'], 'Discord Bot': ['info', 'step-by-step', 'participation', 'discussion', 'task', 'git-activity'], 'Web Server': ['info', 'classroom', 'discussion', 'questions', 'requirements'], 'test them all': ['info', 'discussion', 'git-activity', 'questions', 'github-learning-lab', 'cool-links', 'noisy-tests', 'automaton']}\n",
    "# d={}\n",
    "# for indx,i in enumerate(categories['1']):\n",
    "#     print(categories[i])\n",
    "#     categories['string_'+str(indx)]=('\\t'.join(map(str,categories[i])).title()  )\n",
    "\n",
    "\n",
    "# test.setdefault('one',[]).append()\n",
    "# print(test)\n",
    "\n",
    "# def create_tree(name,obj):\n",
    "#     for i in obj[name]:\n",
    "#         yield name,list(create_tree(i,obj)) if i in obj else ''\n",
    "print(MLP['None'])"
   ]
  },
  {
   "cell_type": "code",
   "execution_count": null,
   "metadata": {},
   "outputs": [],
   "source": [
    "x = [1,2,3]\n",
    "print(x.__hash__)"
   ]
  },
  {
   "cell_type": "code",
   "execution_count": null,
   "metadata": {},
   "outputs": [],
   "source": [
    "received=['___no','one','two']\n",
    "for i in range(len(received)):\n",
    "    print(received.pop() if received[-1]!='___no' else 'not')"
   ]
  },
  {
   "cell_type": "code",
   "execution_count": null,
   "metadata": {},
   "outputs": [],
   "source": [
    "import matplotlib.pyplot as plt\n",
    "import numpy as np\n",
    "\n",
    "# Fixing random state for reproducibility\n",
    "np.random.seed(19680801)\n",
    "\n",
    "\n",
    "x = np.arange(0.0, 50.0, 5.0)\n",
    "y = x ** 1.3 + np.random.rand(*x.shape) * 30.0\n",
    "s = np.random.rand(*x.shape) * 800 + 500\n",
    "\n",
    "plt.scatter(x, y, s, c=\"r\", alpha=0.2, marker=r'$\\clubsuit$',\n",
    "            label=\"Luck\")\n",
    "plt.xlabel(\"Leprechauns\")\n",
    "plt.ylabel(\"Gold\")\n",
    "plt.legend(loc='upper left')\n",
    "plt.show()\n"
   ]
  },
  {
   "cell_type": "code",
   "execution_count": null,
   "metadata": {},
   "outputs": [],
   "source": [
    "\n",
    "def some_funct(a,arg=[]):\n",
    "    return arg.append(a)\n",
    "a='foo'\n",
    "print( some_funct(a))"
   ]
  },
  {
   "cell_type": "code",
   "execution_count": null,
   "metadata": {},
   "outputs": [],
   "source": [
    "def foo(a,arg=[]):\n",
    "    arg.append(a)\n",
    "    return arg\n",
    "print(foo('car'))\n",
    "print(foo('ran'))"
   ]
  },
  {
   "cell_type": "code",
   "execution_count": null,
   "metadata": {},
   "outputs": [],
   "source": [
    "a=1\n",
    "b=1\n",
    "a is b"
   ]
  },
  {
   "cell_type": "code",
   "execution_count": null,
   "metadata": {},
   "outputs": [],
   "source": [
    "b=300\n",
    "c=300\n",
    "b is c"
   ]
  },
  {
   "cell_type": "code",
   "execution_count": null,
   "metadata": {},
   "outputs": [],
   "source": [
    "class Mapping(Generic[KT, VT]):\n",
    "    def __getitem__(self, key: KT) -> VT:\n",
    "        pass\n",
    "\n",
    "X = TypeVar('X')\n",
    "Y = TypeVar('Y')\n",
    "\n",
    "def lookup_name(mapping: Mapping[X, Y], key: X, default: Y) -> Y:\n",
    "    try:\n",
    "        return mapping[key]\n",
    "    except KeyError:\n",
    "        return default"
   ]
  },
  {
   "cell_type": "code",
   "execution_count": null,
   "metadata": {},
   "outputs": [],
   "source": [
    "class DiscordNode:\n",
    "    def __init__(self, \n",
    "                aNodeName:str =None, \n",
    "                aNodeKind:str =None,\n",
    "                aNodeDescr:str =None):\n",
    "        self.NodeName = aNodeName\n",
    "        self.NodeKind = aNodeKind\n",
    "        self.NodeDescr = aNodeDescr\n",
    "dn = DiscordNode(\"MLP Discord\",\"root\",\"Discord\" )\n",
    "print(DiscordNode.__init.__dict__)"
   ]
  },
  {
   "cell_type": "code",
   "execution_count": null,
   "metadata": {},
   "outputs": [],
   "source": [
    "def squre(n,p):\n",
    "    res=0\n",
    "    for i in str(n):\n",
    "        res+=int(i)**p\n",
    "        print(f'{i}**{p} = ',int(i)**p)\n",
    "        p+=1\n",
    "    return res"
   ]
  },
  {
   "cell_type": "code",
   "execution_count": null,
   "metadata": {},
   "outputs": [],
   "source": [
    "squre(46288,3)"
   ]
  },
  {
   "cell_type": "code",
   "execution_count": null,
   "metadata": {},
   "outputs": [],
   "source": [
    "for x in range(0, 9):\n",
    "    globals()['string%s' % x] = 'Hello'\n",
    "    if x==8:\n",
    "        globals()['string%s' % x]='Not Hello'\n",
    "    print(globals()['string%s' % x])\n"
   ]
  },
  {
   "cell_type": "code",
   "execution_count": null,
   "metadata": {},
   "outputs": [],
   "source": [
    "print(300==300)\n",
    "print(200==200)"
   ]
  },
  {
   "cell_type": "code",
   "execution_count": null,
   "metadata": {},
   "outputs": [],
   "source": [
    "arr=[2,6,4,8,4,2,443,5,7,8,9,7,6,54,6,3,234,45,678,]\n",
    "def summ(arr):\n",
    "    i,*els = arr\n",
    "    return i+ summ(els) if els else 0\n",
    "print(summ(arr))"
   ]
  },
  {
   "cell_type": "code",
   "execution_count": null,
   "metadata": {},
   "outputs": [],
   "source": [
    "\n",
    "\n",
    "def convert_base(num, to_base=10, from_base=10):\n",
    "    # first convert to decimal number\n",
    "    if isinstance(num, str):\n",
    "        n = int(num, from_base)\n",
    "    else:\n",
    "        n = int(num)\n",
    "    # now convert decimal to 'to_base' base\n",
    "    alphabet = \"0123456789ABCDEFGHIJKLMNOPQRSTUVWXYZ\"\n",
    "    if n < to_base:\n",
    "        return alphabet[n]\n",
    "    else:\n",
    "        return convert_base(n // to_base, to_base) + alphabet[n % to_base]"
   ]
  },
  {
   "cell_type": "code",
   "execution_count": null,
   "metadata": {},
   "outputs": [],
   "source": [
    "convert_base ('10',to_base=16,from_base=2)"
   ]
  },
  {
   "cell_type": "code",
   "execution_count": null,
   "metadata": {},
   "outputs": [],
   "source": [
    "n = int('1010', 2)\n",
    "print(n)"
   ]
  },
  {
   "cell_type": "code",
   "execution_count": null,
   "metadata": {},
   "outputs": [],
   "source": [
    "medals ={':unranked:':'1' ,':bronze:':'10' ,':silver:':'100', \n",
    "        ':gold:':'1000', ':platinum:':'10000' ,':diamond:':'100000' ,\n",
    "        ':master:' :'1000000',':devops:':'10000000' ,':scientist:':'100000000' }\n",
    "print(int(medals[':bronze:'],4))\n"
   ]
  },
  {
   "cell_type": "code",
   "execution_count": null,
   "metadata": {},
   "outputs": [],
   "source": [
    "from itertools import repeat\n",
    "x='str'\n",
    "l = []\n",
    "l.extend(repeat(x, 0))\n",
    "print(l)"
   ]
  },
  {
   "cell_type": "code",
   "execution_count": null,
   "metadata": {},
   "outputs": [],
   "source": [
    "def fmt_item(lines, max_lines=0):\n",
    "    max_width = max([len(line) for line in lines])\n",
    "    empty = ' '*max_width\n",
    "    lines = [line.ljust(max_width) for line in lines]\n",
    "    lines += [empty] * (max_lines - len(lines))\n",
    "    return lines\n",
    "def pp(*lst):\n",
    "    lines = [str(item).split('\\n') for item in lst]\n",
    "    max_lines = max([len(item) for item in lines])\n",
    "    lines = [fmt_item(item, max_lines=max_lines) for item in lines]\n",
    "    lines_t = np.array(lines).T\n",
    "    print('\\n'.join([' '.join(line) for line in lines_t]))"
   ]
  },
  {
   "cell_type": "code",
   "execution_count": null,
   "metadata": {},
   "outputs": [],
   "source": [
    "from math import *\n",
    "import numpy as np\n",
    "x = (1,1)\n",
    "y = (5,3)\n",
    "\n",
    "ranges =np.fromiter([ i-j for i,j in zip(x,y)],np.int8)\n",
    "\n",
    "dist=np.sum(np.abs(ranges))\n",
    "\n",
    "print(dist)"
   ]
  },
  {
   "cell_type": "code",
   "execution_count": null,
   "metadata": {},
   "outputs": [],
   "source": []
  },
  {
   "cell_type": "code",
   "execution_count": null,
   "metadata": {},
   "outputs": [],
   "source": []
  },
  {
   "cell_type": "code",
   "execution_count": null,
   "metadata": {},
   "outputs": [],
   "source": [
    "def two_loop (A,B,R):\n",
    "    for i in range(A.shape[0]):\n",
    "        for j in range(B.shape[0]):\n",
    "            ranges = A[i]-B[j]\n",
    "            R[i,j] =  np.sum(np.abs(ranges))\n",
    "            "
   ]
  },
  {
   "cell_type": "code",
   "execution_count": null,
   "metadata": {},
   "outputs": [],
   "source": [
    "def one_loop (A,B,R):\n",
    "    for i in range(A.shape[0]):\n",
    "        R[i]=np.sum(np.abs(B-A[i]),axis = 1)\n",
    "        pp(np.sum(np.abs(B-A[i]),axis = 1))\n",
    "       "
   ]
  },
  {
   "cell_type": "code",
   "execution_count": null,
   "metadata": {},
   "outputs": [],
   "source": [
    "def no_loop (A,B,R):\n",
    "    R[:]=np.sum(np.abs(B-A[:,None]),axis = 2)[:]\n",
    "#     pp(np.abs(B-A[:,None]))\n",
    "    pp(A[:,None])"
   ]
  },
  {
   "cell_type": "code",
   "execution_count": null,
   "metadata": {},
   "outputs": [],
   "source": [
    "import numpy as np\n",
    "np.random.seed(42)\n",
    "A = np.random.randint(10,size=(3,5))\n",
    "B = np.random.randint(10,size=(3,5))\n",
    "R = np.zeros ((A.shape[0],B.shape[0]),np.float32)\n",
    "#two_loop (A,B,R)\n",
    "#one_loop(A,B,R)\n",
    "no_loop(A,B,R)\n",
    "#pp(A,B)\n",
    "pp(A,'-',B, '=',R)"
   ]
  },
  {
   "cell_type": "code",
   "execution_count": null,
   "metadata": {},
   "outputs": [],
   "source": [
    "test_A=np.arange(15).reshape(3,5)"
   ]
  },
  {
   "cell_type": "code",
   "execution_count": null,
   "metadata": {},
   "outputs": [],
   "source": [
    "pp(test_A[0].T,test_A[0:1].T,test_A[0].T-test_A[0:1].T)"
   ]
  },
  {
   "cell_type": "code",
   "execution_count": null,
   "metadata": {},
   "outputs": [],
   "source": [
    "pp (B - test_A[:,None] )"
   ]
  },
  {
   "cell_type": "code",
   "execution_count": null,
   "metadata": {},
   "outputs": [],
   "source": [
    "print ( test_A[:,None] -B )"
   ]
  },
  {
   "cell_type": "code",
   "execution_count": null,
   "metadata": {},
   "outputs": [],
   "source": [
    "from datetime import datetime,timedelta\n",
    "delta = [timedelta (hours = i) for i in range(0,4)]\n",
    "time = datetime.today().replace(second = 0,microsecond = 0)\n",
    "times = [time+delt for delt in delta]\n",
    "print(time , times)\n",
    "if time in times:\n",
    "    print ('it is')"
   ]
  },
  {
   "cell_type": "code",
   "execution_count": null,
   "metadata": {},
   "outputs": [],
   "source": [
    "import numpy as np\n",
    "\n",
    "actu = np.array([True,True,False,True,False,False])\n",
    "pred = np.array([False,True,True,False,False,True])\n",
    "\n",
    "TP = actu[pred == False]\n",
    "print(TP[TP])"
   ]
  },
  {
   "cell_type": "code",
   "execution_count": null,
   "metadata": {},
   "outputs": [],
   "source": [
    "bools = np.array([np.mean(i) for i in bols])>0.5\n",
    "print(bools)\n"
   ]
  },
  {
   "cell_type": "code",
   "execution_count": null,
   "metadata": {},
   "outputs": [],
   "source": [
    "for i in bols:\n",
    "    bools = me(i)"
   ]
  },
  {
   "cell_type": "code",
   "execution_count": null,
   "metadata": {},
   "outputs": [],
   "source": [
    "from datetime import datetime"
   ]
  },
  {
   "cell_type": "code",
   "execution_count": null,
   "metadata": {},
   "outputs": [],
   "source": [
    "t = datetime.today().minute\n",
    "print(t)"
   ]
  },
  {
   "cell_type": "code",
   "execution_count": null,
   "metadata": {},
   "outputs": [],
   "source": [
    "lists_ = [np.random.choice(a = [True,False], size = 20) for i in range(5)]\n",
    "print(lists_)"
   ]
  },
  {
   "cell_type": "code",
   "execution_count": null,
   "metadata": {},
   "outputs": [],
   "source": [
    "import numpy as np# x is your dataset\n",
    "x = np.arange(20)\n",
    "x_split = np.split(x,5)\n",
    "print(len(x_splitplit))"
   ]
  },
  {
   "cell_type": "code",
   "execution_count": null,
   "metadata": {},
   "outputs": [],
   "source": [
    "def pred_func (list_):\n",
    "    in_list = np.copy(list_)\n",
    "    indxes = np.random.randint(0,20,2)\n",
    "    indxes = [0,1]\n",
    "    in_list[indxes] = ~in_list[indxes]\n",
    "    return  in_list\n",
    "    "
   ]
  },
  {
   "cell_type": "code",
   "execution_count": null,
   "metadata": {},
   "outputs": [],
   "source": [
    "def acurecy (gr_t,pred):\n",
    "    return len(pred[gr_t == pred])/len(gr_t)"
   ]
  },
  {
   "cell_type": "code",
   "execution_count": null,
   "metadata": {},
   "outputs": [],
   "source": [
    "[acurecy(pred_func(list_),list_) for list_ in lists_ ]"
   ]
  },
  {
   "cell_type": "code",
   "execution_count": null,
   "metadata": {},
   "outputs": [],
   "source": [
    "print(pred_func(list_).shape)"
   ]
  },
  {
   "cell_type": "code",
   "execution_count": null,
   "metadata": {},
   "outputs": [],
   "source": [
    "\n",
    "import numpy as np\n",
    "k_primes=[]\n",
    "\n",
    "def count_Kprimes(k, start, nd):\n",
    "    if start == 0:\n",
    "        start =1\n",
    "    k_numbers = []\n",
    "    max_nd_prime = n_primes(int(nd/2)+1)\n",
    "    for i in range(nd+1-start):\n",
    "        if is_dev(i+start,max_nd_prime) == k:\n",
    "            k_numbers.append(i+start)            \n",
    "    return k_numbers\n",
    "    \n",
    "def is_k_prime(num,k,nd):\n",
    "    global k_primes\n",
    "    k_primes = []\n",
    "    devide(num,nd) \n",
    "    if len(k_primes)==k:\n",
    "        return True\n",
    "    \n",
    "        \n",
    "def devide (num,rng):\n",
    "    global k_primes\n",
    "    for i in rng:\n",
    "        if num%i == 0 :\n",
    "            k_primes.append(i)\n",
    "            return devide(num/i,rng) if num/i!= 1 else 1\n",
    "        else:\n",
    "            return 1\n",
    "        \n",
    "def is_dev(num,i):\n",
    "    i1,*il=i    \n",
    "    if num%i1==0:\n",
    "        return 1+is_dev(num/i1,i) \n",
    "    else:\n",
    "        return is_dev(num,il) if num>1 else 0\n",
    "    \n",
    "        \n",
    "def n_primes (n):\n",
    "    k_prime = np.ones((n),dtype = bool)\n",
    "    for i in range(2,n):\n",
    "        if k_prime[i] == True:\n",
    "            for j in range(i*2,n,i):\n",
    "                k_prime[j]=False\n",
    "            \n",
    "    return k_prime.nonzero()[0][2:].astype(np.int32)\n",
    "\n"
   ]
  },
  {
   "cell_type": "code",
   "execution_count": null,
   "metadata": {},
   "outputs": [],
   "source": [
    "is_dev(12,n_primes (100))"
   ]
  },
  {
   "cell_type": "code",
   "execution_count": null,
   "metadata": {},
   "outputs": [],
   "source": [
    "%prun count_Kprimes(5, 500, 1000)"
   ]
  },
  {
   "cell_type": "code",
   "execution_count": null,
   "metadata": {},
   "outputs": [],
   "source": []
  },
  {
   "cell_type": "code",
   "execution_count": null,
   "metadata": {},
   "outputs": [],
   "source": [
    "import numpy as np\n",
    "k_primes1=[]\n",
    "def count_Kprimes1(k, start, nd):\n",
    "    if start == 0:\n",
    "        start =1\n",
    "    k_numbers = []\n",
    "    max_nd_prime = n_primes1(int(nd/4)+1)\n",
    "    for i in range(nd+1-start):\n",
    "        if is_k_prime1(start+i,k,max_nd_prime):\n",
    "            k_numbers.append(start+i)\n",
    "    return k_numbers\n",
    "    \n",
    "def is_k_prime1(num,k,nd):\n",
    "    global k_primes1\n",
    "    k_primes1 = []\n",
    "    devide1(num,nd) \n",
    "    if len(k_primes1)==k:\n",
    "        return True\n",
    "    \n",
    "        \n",
    "def devide1 (num,rng):\n",
    "    global k_primes1\n",
    "    for i in rng:\n",
    "        if num%i == 0 :\n",
    "            k_primes1.append(i)\n",
    "            return devide1(num/i,rng) if num/i!= 1 else 1\n",
    "    \n",
    "        \n",
    "def n_primes1 (n):\n",
    "    k_prime = np.ones((n),dtype = bool)\n",
    "    for i in range(2,n):\n",
    "        if k_prime[i] == True:\n",
    "            for j in range(i*2,n,i):\n",
    "                k_prime[j]=False\n",
    "    return k_prime.nonzero()[0][2:].astype(np.int32)"
   ]
  },
  {
   "cell_type": "code",
   "execution_count": null,
   "metadata": {},
   "outputs": [],
   "source": [
    "%prun count_Kprimes1(5, 500, 1000)"
   ]
  },
  {
   "cell_type": "code",
   "execution_count": null,
   "metadata": {},
   "outputs": [],
   "source": [
    "from typing import List"
   ]
  },
  {
   "cell_type": "code",
   "execution_count": null,
   "metadata": {},
   "outputs": [],
   "source": []
  },
  {
   "cell_type": "code",
   "execution_count": 208,
   "metadata": {},
   "outputs": [],
   "source": [
    "def checkio(game_result: List[str]) -> str:\n",
    "    print(game_result)\n",
    "    o_cord = [(i,j) for i,row in enumerate(game_result) for j,lit in enumerate(row) if lit == 'O']\n",
    "    x_cord = [(i,j) for i,row in enumerate(game_result) for j,lit in enumerate(row) if lit == 'X']\n",
    "    \n",
    "    if is_win_d(o_cord) :#or is_win_v_h(o_cord):\n",
    "        return \"O\"\n",
    "    elif is_win_d(x_cord) :#or is_win_v_h(x_cord):\n",
    "        return \"X\"\n",
    "    else:\n",
    "        return \"D\"\n",
    "    \n",
    "    \n",
    "def is_win_v_h (cords):\n",
    "#     print(cords)\n",
    "    x = map(lambda x: x[0],cords)\n",
    "    y = map(lambda x: x[1],cords)\n",
    "    len_x = [len(list(j)) for _,j in groupby(sorted(x))]\n",
    "    len_y = [len(list(j)) for _,j in groupby(sorted(y))]\n",
    "#     print(len_x,len_y)\n",
    "    if 3 in len_x or 3 in len_y:\n",
    "        return True\n",
    "    else:\n",
    "        return False\n",
    "    \n",
    "def is_win_d(cords):\n",
    "    if (0,2)in cords and (1,1) in cords and (2,0) in cords:\n",
    "        print(cords)\n",
    "        return True\n",
    "    \n",
    "    cords = ([(i,j) for i,j in cords if i==j])\n",
    "    if len(cords)==3:\n",
    "        x = sorted(map(lambda x: x[0],cords))\n",
    "        y = sorted(map(lambda x: x[1],cords))\n",
    "        \n",
    "        if x == y:\n",
    "            return True   \n",
    "    return False\n",
    "    \n",
    "    "
   ]
  },
  {
   "cell_type": "code",
   "execution_count": 224,
   "metadata": {},
   "outputs": [],
   "source": [
    "def checkio1(result):\n",
    "    rows = result\n",
    "    \n",
    "    \n",
    "    cols = map(''.join, zip(*rows))\n",
    "    \n",
    "    diags = map(''.join, zip(*[(r[i], r[2 - i]) for i, r in enumerate(rows)]))\n",
    "    \n",
    "    lines = rows + list(cols) + list(diags)\n",
    "    print(lines)\n",
    "\n",
    "    return 'X' if ('XXX' in lines) else 'O' if ('OOO' in lines) else 'D'"
   ]
  },
  {
   "cell_type": "code",
   "execution_count": 225,
   "metadata": {},
   "outputs": [
    {
     "name": "stdout",
     "output_type": "stream",
     "text": [
      "['OOX', 'XXO', 'OXX', 'OXO', 'OXX', 'XOX', 'OXX', 'XXO']\n"
     ]
    },
    {
     "data": {
      "text/plain": [
       "'D'"
      ]
     },
     "execution_count": 225,
     "metadata": {},
     "output_type": "execute_result"
    }
   ],
   "source": [
    "game =[\n",
    "        \"OOX\",\n",
    "        \"XXO\",\n",
    "        \"OXX\"]\n",
    "checkio1(game)"
   ]
  },
  {
   "cell_type": "code",
   "execution_count": 210,
   "metadata": {},
   "outputs": [
    {
     "data": {
      "text/plain": [
       "[0]"
      ]
     },
     "execution_count": 210,
     "metadata": {},
     "output_type": "execute_result"
    }
   ],
   "source": [
    "[0for globals()['checkio'],checkio.__name__,checkio.__doc__ in[((lambda t,n=range(9),d='.',l=len,s=set:[[*(r[i]for i in n[:9:3]if(l(s(r[i:i+3]))==1)&(r[i]!=d)),*(r[c]for c in n[:3]if(l(s(r[c:9:3]))==1)&(r[c]!=d)),r[0]if(l(s(r[::4]))==1)&(r[0]!=d)else r[4]if(l(s(r[2:7:2]))==1)&(r[4]!=d)else'D'][0]for r in[''.join(t)]][0]),'checkio','Return the result of a game of tic-tac-toe')]]"
   ]
  },
  {
   "cell_type": "code",
   "execution_count": 89,
   "metadata": {},
   "outputs": [
    {
     "name": "stdout",
     "output_type": "stream",
     "text": [
      "XXXOO\n"
     ]
    }
   ],
   "source": []
  },
  {
   "cell_type": "code",
   "execution_count": 250,
   "metadata": {},
   "outputs": [],
   "source": [
    "def checkio(first, second):\n",
    "    first = first.split(',')\n",
    "    second = second.split(',')\n",
    "    return ', '.join(i for i in first for j in second if i==j)"
   ]
  },
  {
   "cell_type": "code",
   "execution_count": 1,
   "metadata": {},
   "outputs": [
    {
     "name": "stdout",
     "output_type": "stream",
     "text": [
      "hello\n",
      "XD\n"
     ]
    }
   ],
   "source": [
    "list_of_funcs = ['print(\"hello\")', 'str(5)', 'print(\"XD\")']\n",
    " \n",
    "for func in list_of_funcs:\n",
    "    eval(func)"
   ]
  },
  {
   "cell_type": "code",
   "execution_count": 1,
   "metadata": {},
   "outputs": [],
   "source": [
    "import numpy as np"
   ]
  },
  {
   "cell_type": "code",
   "execution_count": 162,
   "metadata": {},
   "outputs": [],
   "source": [
    "A = np.array ([2,5,9,8,8,3,2,1,2,1,8])"
   ]
  },
  {
   "cell_type": "code",
   "execution_count": 21,
   "metadata": {},
   "outputs": [
    {
     "name": "stdout",
     "output_type": "stream",
     "text": [
      "[1 2 3 5 8 9]\n",
      "[2 5 9 8 8 3 2 1 2 1 8]\n"
     ]
    }
   ],
   "source": [
    "set_=np.unique(A)\n",
    "print(set_)\n",
    "print(np.where(A==A[0],A,A))"
   ]
  },
  {
   "cell_type": "code",
   "execution_count": 210,
   "metadata": {},
   "outputs": [
    {
     "name": "stdout",
     "output_type": "stream",
     "text": [
      "[8.0, 4.666666666666667, 5.0, 1.0, 5.666666666666667, 2.0]\n"
     ]
    }
   ],
   "source": [
    "A = np.array ([2,5,9,8,8,3,2,1,2,1,8])\n",
    "set_ = np.unique(A)\n",
    "indeces = [np.where(A==i) for i in set_]\n",
    "mean_ = [np.mean(i) for i in indeces]\n",
    "print(mean_)"
   ]
  },
  {
   "cell_type": "code",
   "execution_count": 202,
   "metadata": {
    "scrolled": false
   },
   "outputs": [
    {
     "data": {
      "text/plain": [
       "[7, 0, 5, 1, 3, 2]"
      ]
     },
     "execution_count": 202,
     "metadata": {},
     "output_type": "execute_result"
    }
   ],
   "source": [
    "A = np.array ([2,5,9,8,8,3,2,1,2,1,8])\n",
    "set_ = np.unique(A)\n",
    "indeces = map(np.where,[A==i for i in set_])\n",
    "[np.mean for i in indeces]"
   ]
  },
  {
   "cell_type": "code",
   "execution_count": 88,
   "metadata": {},
   "outputs": [
    {
     "name": "stdout",
     "output_type": "stream",
     "text": [
      "['__bytes__', '__class__', '__delattr__', '__dict__', '__dir__', '__doc__', '__eq__', '__format__', '__ge__', '__getattr__', '__getattribute__', '__getitem__', '__gt__', '__hash__', '__init__', '__init_subclass__', '__iter__', '__le__', '__len__', '__lt__', '__module__', '__ne__', '__new__', '__reduce__', '__reduce_ex__', '__repr__', '__setattr__', '__sizeof__', '__str__', '__subclasshook__', '__unicode__', '__weakref__', '_accessors', '_add_numeric_operations', '_agg_doc', '_aggregate', '_aggregate_multiple_funcs', '_aggregate_named', '_apply_filter', '_apply_to_column_groupbys', '_apply_whitelist', '_assure_grouper', '_builtin_table', '_concat_objects', '_constructor', '_cumcount_array', '_cython_agg_general', '_cython_table', '_cython_transform', '_def_str', '_deprecations', '_dir_additions', '_dir_deletions', '_get_index', '_get_indices', '_gotitem', '_group_selection', '_index_with_as_index', '_internal_names', '_internal_names_set', '_is_builtin_func', '_is_cython_func', '_iterate_slices', '_make_wrapper', '_obj_with_exclusions', '_python_agg_general', '_python_apply_general', '_reset_cache', '_reset_group_selection', '_selected_obj', '_selection', '_selection_list', '_selection_name', '_set_group_selection', '_set_result_index_ordered', '_shallow_copy', '_transform_fast', '_try_aggregate_string_function', '_try_cast', '_wrap_aggregated_output', '_wrap_applied_output', '_wrap_output', '_wrap_transformed_output', 'agg', 'aggregate', 'all', 'any', 'apply', 'backfill', 'bfill', 'corr', 'count', 'cov', 'cumcount', 'cummax', 'cummin', 'cumprod', 'cumsum', 'describe', 'diff', 'dtype', 'expanding', 'ffill', 'fillna', 'filter', 'first', 'get_group', 'groups', 'head', 'hist', 'idxmax', 'idxmin', 'indices', 'last', 'mad', 'max', 'mean', 'median', 'min', 'ndim', 'ngroup', 'ngroups', 'nlargest', 'nsmallest', 'nth', 'nunique', 'ohlc', 'pad', 'pct_change', 'pipe', 'plot', 'prod', 'quantile', 'rank', 'resample', 'rolling', 'sem', 'shift', 'size', 'skew', 'std', 'sum', 'tail', 'take', 'transform', 'tshift', 'unique', 'value_counts', 'var']\n",
      "[8.         4.66666667 5.         1.         5.66666667 2.        ]\n"
     ]
    }
   ],
   "source": [
    "import numpy as np\n",
    "import pandas as pd\n",
    "A = np.array([2,5,9,8,8,3,2,1,2,1,8])\n",
    "S = pd.Series(np.arange(len(A)))\n",
    "G=S.groupby(A)\n",
    "print(dir(G))\n",
    "print(S.groupby(A).mean().values)"
   ]
  },
  {
   "cell_type": "code",
   "execution_count": 61,
   "metadata": {},
   "outputs": [
    {
     "name": "stdout",
     "output_type": "stream",
     "text": [
      "8\n"
     ]
    }
   ],
   "source": [
    "import numpy as np\n",
    "import pandas as pd\n",
    "a=[8,5,9,8,8,3,2,1,2,1,2]\n",
    "b=[9,3,8,5,3,3,8]\n",
    "c=[1,2,3,4,5,6,7,8,9,]\n",
    "\n",
    "A = np.array(a)\n",
    "\n",
    "\n",
    "is_more = np.bincount(A)\n",
    "\n",
    "if (any(is_more[is_more>1])):\n",
    "    S = pd.DataFrame({'col 1':A,'col 2':np.arange(len(A))})\n",
    "    gb_S = S.groupby(S['col 1'])\n",
    "    largest = gb_S.size().nlargest()\n",
    "    lrg_val = largest[largest==largest.max()].index.values\n",
    "    if len(lrg_val)==1:\n",
    "        print(A[largest.loc[lrg_val[0]]])\n",
    "    else:\n",
    "        x=[np.mean(S[S['col 1']==i].index.values) for i in lrg_val]\n",
    "        print(A_[np.where(np.argmin(x))][0])\n",
    "    \n",
    "    \n",
    "    \n",
    "else: \n",
    "    print(A[0])\n",
    "    \n",
    "\n",
    "# [print(j,i) for j,i in gb_S]\n",
    "\n",
    "\n",
    "\n",
    "# G = S.groupby(A)\n",
    "# size_ = G.size()\n",
    "# largest = size_.nlargest()\n",
    "# closest_labels = largest[largest==largest.max()]\n",
    "# print (closest_labels.index.values)\n",
    "# for key,_ in G:\n",
    "#     print(key)\n",
    "#     print(G.get_group(key))\n"
   ]
  },
  {
   "cell_type": "code",
   "execution_count": 45,
   "metadata": {},
   "outputs": [],
   "source": [
    "a=[8,5,9,8,8,3,2,1,2,1,2]\n",
    "b=[9,7,8,3,4,3,8]\n",
    "\n",
    "A_ = np.array(a)\n",
    "A = pd.DataFrame({'col 1':A_,'col 2':np.arange(len(A_))})\n",
    "gb_A = A.groupby(A['col 1'])\n",
    "largest = gb_A.size().nlargest()\n",
    "large_val = largest[largest==largest.max()].index.values\n",
    "print(large_val)\n",
    "x=[np.mean(A[A['col 1']==i].index.values) for i in large_val]\n",
    "print(np.argmin(x))\n",
    "print(A_[np.where(np.argmin(x))])\n",
    "[print(i) for _,i in gb_A]\n"
   ]
  },
  {
   "cell_type": "code",
   "execution_count": null,
   "metadata": {},
   "outputs": [],
   "source": []
  }
 ],
 "metadata": {
  "kernelspec": {
   "display_name": "Python 3",
   "language": "python",
   "name": "python3"
  },
  "language_info": {
   "codemirror_mode": {
    "name": "ipython",
    "version": 3
   },
   "file_extension": ".py",
   "mimetype": "text/x-python",
   "name": "python",
   "nbconvert_exporter": "python",
   "pygments_lexer": "ipython3",
   "version": "3.6.4"
  }
 },
 "nbformat": 4,
 "nbformat_minor": 2
}
