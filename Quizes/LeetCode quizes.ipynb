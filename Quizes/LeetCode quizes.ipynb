{
 "cells": [
  {
   "cell_type": "code",
   "execution_count": 1,
   "metadata": {},
   "outputs": [],
   "source": [
    "# easy check if parentheses valid\n",
    "\n",
    "class Solution:\n",
    "    def isValid(self, s: str) -> bool:\n",
    "        if len(s)==1:\n",
    "            return False\n",
    "        pairs = {')':'(','}':'{',']':'['}\n",
    "        opens = ('(','{','[')\n",
    "        stack = []\n",
    "        for i in s:\n",
    "            if i in opens:\n",
    "                stack.append(i)\n",
    "            else:\n",
    "                if len(stack)!=0:\n",
    "                    if stack.pop() != pairs[i]:\n",
    "                        return False\n",
    "                else:\n",
    "                    return False\n",
    "        if len(stack) != 0:\n",
    "            return False\n",
    "\n",
    "        return True"
   ]
  },
  {
   "cell_type": "code",
   "execution_count": null,
   "metadata": {},
   "outputs": [],
   "source": [
    "# easy return k smallest pairs of element of two given arrays\n",
    "## my\n",
    "def kSmallestPairs(nums1, nums2, k: int):\n",
    "    res = []\n",
    "    for i,num1 in enumerate(nums1):\n",
    "        for j,num2 in enumerate(nums2):\n",
    "            res.append([num1,num2])\n",
    "    return sorted(res,key = sum)[:k]\n",
    "\n",
    "## not my"
   ]
  },
  {
   "cell_type": "code",
   "execution_count": null,
   "metadata": {},
   "outputs": [],
   "source": [
    "# easy revers integer in bite form\n",
    "def reverse( x: int) -> int:        \n",
    "    negative = x < 0        \n",
    "    if negative : x = -1*x            \n",
    "    s_x= str(x)        \n",
    "    if negative : rev_x = -1* int(s_x[::-1])\n",
    "    else: rev_x =  int(s_x[::-1])\n",
    "\n",
    "    if ( rev_x > (pow(2,31)-1) ) or (pow(-2,31) > rev_x): return (0)\n",
    "    return (rev_x)"
   ]
  },
  {
   "cell_type": "code",
   "execution_count": null,
   "metadata": {},
   "outputs": [],
   "source": [
    "# easy Roam to integer\n",
    "\n",
    "def romanToInt( s: str) -> int:\n",
    "    d = {'I': 1, 'V': 5, 'X': 10, 'L': 50, 'C': 100, 'D': 500, 'M': 1000}\n",
    "\n",
    "    out = 0\n",
    "    last_char = s[0]\n",
    "    queue = d[last_char]\n",
    "\n",
    "    for char in s[1:]:\n",
    "        char_val = d[char]\n",
    "        if d[last_char] < char_val:\n",
    "            queue = char_val - queue\n",
    "        else:\n",
    "            out += queue\n",
    "            queue = char_val\n",
    "        last_char = char\n",
    "\n",
    "    return queue + out"
   ]
  },
  {
   "cell_type": "code",
   "execution_count": 96,
   "metadata": {},
   "outputs": [
    {
     "name": "stdout",
     "output_type": "stream",
     "text": [
      "2 2\n",
      "2 2\n",
      "1 2\n",
      "2 2\n",
      "2 2\n",
      "1 2\n",
      "1 2\n",
      "1 2\n",
      "1 2\n"
     ]
    },
    {
     "data": {
      "text/plain": [
       "4"
      ]
     },
     "execution_count": 96,
     "metadata": {},
     "output_type": "execute_result"
    }
   ],
   "source": [
    "# Easy Range Addition II\n",
    "\n",
    "def maxCount( m: int, n: int, ops) -> int:\n",
    "    M = [[0 for i in range(m)] for j in range(n)]\n",
    "    for op in ops:\n",
    "        for i in range(op[0]):\n",
    "            for j in range(op[1]):\n",
    "                M[i][j] +=1\n",
    "    max_= M[0][0]\n",
    "    sum_= 0\n",
    "    for i in M:\n",
    "        for j in i:\n",
    "            if j == max_:\n",
    "                sum_ += 1\n",
    "    return sum_\n",
    "\n",
    "m = 3\n",
    "n = 3\n",
    "operations = [[2,2],[3,3]]\n",
    "maxCount(m,n,operations)"
   ]
  },
  {
   "cell_type": "code",
   "execution_count": 31,
   "metadata": {},
   "outputs": [
    {
     "name": "stdout",
     "output_type": "stream",
     "text": [
      "2019 2 10\n",
      "41\n"
     ]
    },
    {
     "data": {
      "text/plain": [
       "41"
      ]
     },
     "execution_count": 31,
     "metadata": {},
     "output_type": "execute_result"
    }
   ],
   "source": [
    "# Easy Day of the Year\n",
    "import itertools\n",
    "#mine\n",
    "from datetime import datetime\n",
    "def dayOfYear_my( date: str) -> int:\n",
    "    date = (datetime.strptime(date,'%Y-%m-%d'))\n",
    "    return int(format(date, '%j'))\n",
    "\n",
    "\n",
    "\n",
    "# the solution\n",
    "def dayOfYear( date: str) -> int:\n",
    "    year, month, day = map(int, date.split('-'))\n",
    "    days = [31, 28, 31, 30, 31, 30, 31, 31, 30, 31, 30, 31]\n",
    "    if not year % 400 or not year % 4 and year % 100: days[1] = 29\n",
    "    print(year, month, day)\n",
    "    print(sum(days[:month-1])+day)\n",
    "    return sum(itertools.islice(days, month - 1)) + day\n",
    "\n",
    "date = \"2019-02-10\"\n",
    "dayOfYear(date)"
   ]
  },
  {
   "cell_type": "code",
   "execution_count": 69,
   "metadata": {},
   "outputs": [
    {
     "data": {
      "text/plain": [
       "1026"
      ]
     },
     "execution_count": 69,
     "metadata": {},
     "output_type": "execute_result"
    }
   ],
   "source": [
    "# medium Sum Root to Leaf Numbers\n",
    "\n",
    "# Definition for a binary tree node. And creatint tree from array (prerequirements)\n",
    "class TreeNode:\n",
    "    def __init__(self, x):\n",
    "        self.val = x\n",
    "        self.left = None\n",
    "        self.right = None\n",
    "    def __repr__(self):\n",
    "        return f'TreeNode({self.val})[{self.left},{self.right}]'\n",
    "def create_treeNode( root) -> int:\n",
    "    x = [TreeNode(i) for i in root]\n",
    "    to_fill_x = x.copy()\n",
    "    to_fill_x.pop(0)\n",
    "    for i in x:\n",
    "        if to_fill_x:\n",
    "            i.left=(to_fill_x.pop(0))\n",
    "        if to_fill_x:\n",
    "            i.right=(to_fill_x.pop(0))\n",
    "    return x[0]\n",
    "   \n",
    "\n",
    "    \n",
    "# my solution\n",
    "def sumNumbers_my(root: TreeNode)->int:\n",
    "    def inner(node,path):\n",
    "        if not node.left and not node.right:\n",
    "            return int(path+str(node.val))\n",
    "        sum_,path = 0,path+str(node.val)\n",
    "        if node.left:\n",
    "            sum_ += inner(node.left,path)\n",
    "        if node.right:\n",
    "            sum_ += inner(node.right,path)\n",
    "        return sum_\n",
    "            \n",
    "    if not root:\n",
    "        return 0\n",
    "    return inner(root,'')\n",
    "            \n",
    "        \n",
    "        \n",
    "#the solution\n",
    "def sumNumbers(root: TreeNode) -> int:\n",
    "    def helper(node: TreeNode, path: str):\n",
    "        if not node.left and not node.right:\n",
    "            return int(path+str(node.val))\n",
    "        sum_, path = 0, path + str(node.val)\n",
    "        if node.left:\n",
    "            sum_ += helper(node.left, path)\n",
    "        if node.right:\n",
    "            sum_ += helper(node.right, path)\n",
    "        return sum_\n",
    "    if not root:\n",
    "        return 0\n",
    "    return helper(root, \"\")\n",
    "\n",
    "\n",
    "\n",
    "x = [4,9,0,5,1]\n",
    "res = create_treeNode(x)\n",
    "sumNumbers_my(res)"
   ]
  },
  {
   "cell_type": "code",
   "execution_count": 72,
   "metadata": {
    "scrolled": true
   },
   "outputs": [
    {
     "data": {
      "text/plain": [
       "'ababa'"
      ]
     },
     "execution_count": 72,
     "metadata": {},
     "output_type": "execute_result"
    }
   ],
   "source": [
    "# Medium Reorganize String\n",
    "import heapq\n",
    "import collections\n",
    "x = collections.Counter(\"baaba\")\n",
    "\n",
    "def reorganizeString(S):\n",
    "    n = len(S)\n",
    "    count = collections.Counter(S)\n",
    "    if count.most_common()[0][1]*2 - n > 1:\n",
    "        return ''\n",
    "    ans = [0]*n\n",
    "    i, j = 0, 0\n",
    "    for (k, v) in count.most_common():\n",
    "        while v > 0:\n",
    "            if 2*i < n:\n",
    "                ans[2*i] = k\n",
    "                v-=1\n",
    "                i+=1\n",
    "            elif 2*j+1 < n:\n",
    "                ans[2*j+1] = k\n",
    "                v-=1\n",
    "                j+=1\n",
    "    return ''.join(ans)\n",
    "\n",
    "string = 'aaabb'\n",
    "reorganizeString(string)"
   ]
  },
  {
   "cell_type": "code",
   "execution_count": 69,
   "metadata": {},
   "outputs": [
    {
     "name": "stdout",
     "output_type": "stream",
     "text": [
      "2\n",
      "3\n",
      "4\n",
      "5\n",
      "6\n",
      "7\n"
     ]
    },
    {
     "data": {
      "text/plain": [
       "[1, 2, 3, 4, 5, 6]"
      ]
     },
     "execution_count": 69,
     "metadata": {},
     "output_type": "execute_result"
    }
   ],
   "source": [
    "x = [1,2,3,4,5,6]\n",
    "for i in x:\n",
    "    i+=1\n",
    "    print(i)\n",
    "x\n",
    "\n",
    "# x = list('string')\n",
    "# y = [0]*len(x)\n",
    "# for i in y:\n",
    "#     i = 1\n",
    "#     print(i)\n",
    "# y"
   ]
  },
  {
   "cell_type": "code",
   "execution_count": 20,
   "metadata": {},
   "outputs": [],
   "source": [
    "# hard split array into into subarrays the way to minimize sum of each\n",
    "\n",
    "## not my\n",
    "def splitArray( nums, m: int) -> int:\n",
    "    \"\"\"\n",
    "    The goal is to find the minimum largest subarray sum among the `m` \n",
    "    splits from the given array. Obviously, that sum must fall in the range \n",
    "    of [max(nums), sum(nums)] - the minimum sum is at least `max(nums)` when\n",
    "    the max number in the array is a subarray by itself; the maximum sum is \n",
    "    the sum of the whole array when `m == 1`. Herein, the goal is to search \n",
    "    for the minimum largest subarray sum among `m` splits of the given array \n",
    "    in this range.\n",
    "\n",
    "    The strategy is to find a largest subarray sum tentatively and check \n",
    "    if the sum allows us to divide the given array into `m` splits. \n",
    "    Intuitively, we can use binary search and adjust the bounds accordingly \n",
    "    - if we have more than `m` splits, that means the current sum is too \n",
    "    small and forces more splits in order to keep each subarray sum smaller \n",
    "    than or equal to it, therefore we need to increase the lower bound to \n",
    "    find a larger sum; if we have fewer than `m` splits, that means the \n",
    "    subarray sum is too large and there is room to further split certain \n",
    "    subarray(s) and decrease the largest subarray sum, thus we need to \n",
    "    decrease the upper bound to find a smaller sum; if we have `m` splits \n",
    "    even, there is still room for decreasing the sum, since the split \n",
    "    pattern may not necessarily be optimal, e.g., there could be a gigantic \n",
    "    subarray with a huge sum and others with small sums, therefore we can \n",
    "    further decrease the upper bound to find a smaller sum tentatively until\n",
    "    the bounds meet. \n",
    "    \"\"\"\n",
    "    # lower and upper bound of the largest subarray sum\n",
    "    lo, hi = max(nums), sum(nums)\n",
    "    res = hi\n",
    "    while lo <= hi:\n",
    "        # find a tentaive sum\n",
    "        mid = (lo + hi)//2\n",
    "        # start with a single subarray, which is the entire given array,\n",
    "        # keep adding the numbers in the array to the sum to determine if a \n",
    "        # split should be done\n",
    "        sum_, count = 0, 1\n",
    "        for n in nums:\n",
    "            # when the sum is greater than the tentative sum, a split is \n",
    "            # required to keep the subarray sum smaller than the tentative \n",
    "            # sum\n",
    "            if sum_ + n > mid:\n",
    "                # reset the sum to the current number in the array\n",
    "                sum_ = n\n",
    "\n",
    "                # increment the number of splits by 1 since a split is done\n",
    "                count += 1\n",
    "            # otherwise, keep adding the numbers to the sum\n",
    "            else:\n",
    "                sum_ += n\n",
    "        # when the number of splits is fewer than or equal to `m`, decrease \n",
    "        # the upper bound to decrease the largest subarray sum\n",
    "        if count <= m:\n",
    "            res = min(res, mid)\n",
    "            hi = mid - 1\n",
    "        # otherwise, increase the lower bound to ensure there are no more \n",
    "        # than `m` splits required\n",
    "        else:\n",
    "            lo = mid + 1\n",
    "\n",
    "    return res\n"
   ]
  },
  {
   "cell_type": "code",
   "execution_count": 1,
   "metadata": {},
   "outputs": [
    {
     "name": "stdout",
     "output_type": "stream",
     "text": [
      "[1, 0, 0, 0]\n",
      "[0, 0, 0, 0]\n",
      "[0, 0, 2, -1]\n"
     ]
    }
   ],
   "source": [
    "#hard \n",
    "# On a 2-dimensional grid, there are 4 types of squares:\n",
    "\n",
    "#     1 represents the starting square.  There is exactly one starting square.\n",
    "#     2 represents the ending square.  There is exactly one ending square.\n",
    "#     0 represents empty squares we can walk over.\n",
    "#     -1 represents obstacles that we cannot walk over.\n",
    "\n",
    "# Return the number of 4-directional walks from the starting square to the ending square, that walk over every non-obstacle square exactly once.\n",
    "\n",
    "# Input: [[1,0,0,0],[0,0,0,0],[0,0,2,-1]]\n",
    "# Output: 2\n",
    "# Explanation: We have the following two paths: \n",
    "# 1. (0,0),(0,1),(0,2),(0,3),(1,3),(1,2),(1,1),(1,0),(2,0),(2,1),(2,2)\n",
    "# 2. (0,0),(1,0),(2,0),(2,1),(1,1),(0,1),(0,2),(0,3),(1,3),(1,2),(2,2)\n",
    "\n",
    "\n",
    "#====================\n",
    "# with Back tracking\n",
    "\n",
    "class Solution_my:\n",
    "    def uniquePathsIII(self, grid: List[List[int]]) -> int:\n",
    "        self.res = 0\n",
    "        self.scan(grid)\n",
    "        self.BT(self.start, grid)\n",
    "        return self.res\n",
    "        \n",
    "        \n",
    "    def scan (self, grid):\n",
    "        self.n_rows = len(grid)\n",
    "        self.n_cols = len(grid[0])\n",
    "        self.valids =0\n",
    "        for r in range(self.n_rows):\n",
    "            for c in range(self.n_cols):\n",
    "                if grid[r][c]==1:\n",
    "                    self.start = (r,c)\n",
    "                if grid[r][c]==2:\n",
    "                    self.end = (r,c)\n",
    "                elif grid[r][c] != -1:\n",
    "                    self.valids +=1\n",
    "                    \n",
    "    def BT (self, curent, grid):\n",
    "        if curent==self.end and self.valids==0:\n",
    "            self.res+=1\n",
    "            \n",
    "        for nr, nc in [(curent[0],curent[1]+1),(curent[0]+1,curent[1]),(curent[0],curent[1]-1),(curent[0]-1,curent[1])]:\n",
    "            if 0<=nr<self.n_rows and 0<=nc<self.n_cols and (grid[nr][nc]==0 or grid[nr][nc]==2):\n",
    "                self.valids -=1\n",
    "                grid[nr][nc]=-1\n",
    "                self.BT((nr,nc), grid)\n",
    "                self.valids +=1\n",
    "                grid[nr][nc]=0\n",
    "        return\n",
    "\n",
    "\n",
    "    \n",
    "uniquePathsIII([[1,0,0,0],[0,0,0,0],[0,0,2,-1]])\n",
    "\n",
    "\n",
    "\n",
    "\n",
    "#===============================\n",
    "# the fastest i can finde\n",
    "\n",
    "class Graph:\n",
    "    def __init__(self):\n",
    "        self.node_neighbors = {}\n",
    "        self.visited = {}\n",
    "        self.cnt = 0\n",
    "        \n",
    "    def add_nodes(self, coord):\n",
    "        x, y = coord\n",
    "        if (x, y) not in self.node_neighbors:\n",
    "            self.node_neighbors[(x, y)] = []\n",
    "    \n",
    "    def add_edge(self, edge):\n",
    "        x_f, y_f, x_s, y_s = edge\n",
    "        self.node_neighbors[(x_f, y_f)].append((x_s, y_s))\n",
    "        self.node_neighbors[(x_s, y_s)].append((x_f, y_f))\n",
    "    \n",
    "    def dfs(self,start, end):\n",
    "        if start == end:\n",
    "            if len(self.node_neighbors) == len(self.visited) + 1:\n",
    "                self.cnt += 1\n",
    "            return\n",
    "        self.visited[start] = True\n",
    "        for n in self.node_neighbors[start]:\n",
    "            if n not in self.visited:\n",
    "                self.dfs(n, end)\n",
    "        self.visited.pop(start)\n",
    "\n",
    "class Solution:\n",
    "    def uniquePathsIII(self, grid: List[List[int]]) -> int:\n",
    "        if len(grid) == 0 or len(grid[0]) == 0:\n",
    "            return 0\n",
    "        start = (0, 0)\n",
    "        end = (0, 0)\n",
    "        graph = Graph()\n",
    "        for i in range(len(grid)):\n",
    "            for j in range(len(grid[0])):\n",
    "                if grid[i][j] == -1:\n",
    "                    continue\n",
    "                graph.add_nodes((i,j))\n",
    "                if grid[i][j] == 1:\n",
    "                    start = (i, j)\n",
    "                elif grid[i][j] == 2:\n",
    "                    end = (i, j)\n",
    "                if i != len(grid)-1 and grid[i+1][j] != -1:\n",
    "                    graph.add_nodes((i+1, j))\n",
    "                    graph.add_edge((i, j, i+1, j))\n",
    "                if j != len(grid[0]) - 1 and grid[i][j+1] != -1:\n",
    "                    graph.add_nodes((i, j+1))\n",
    "                    graph.add_edge((i, j, i, j+1))\n",
    "        graph.dfs(start, end)\n",
    "        return graph.cnt\n"
   ]
  },
  {
   "cell_type": "code",
   "execution_count": 13,
   "metadata": {},
   "outputs": [
    {
     "name": "stdout",
     "output_type": "stream",
     "text": [
      "360 µs ± 3.21 µs per loop (mean ± std. dev. of 7 runs, 1000 loops each)\n"
     ]
    }
   ],
   "source": [
    "%%timeit\n",
    "class Solution:\n",
    "    def uniquePathsIII(self, grid ) -> int:\n",
    "        self.res = 0\n",
    "        self.scan(grid)\n",
    "        self.BT(self.start, grid)\n",
    "        return self.res\n",
    "        \n",
    "        \n",
    "    def scan (self, grid):\n",
    "        self.n_rows = len(grid)\n",
    "        self.n_cols = len(grid[0])\n",
    "        self.valids =0\n",
    "        for r in range(self.n_rows):\n",
    "            for c in range(self.n_cols):\n",
    "                if grid[r][c]==1:\n",
    "                    self.start = (r,c)\n",
    "                if grid[r][c]==2:\n",
    "                    self.end = (r,c)\n",
    "                elif grid[r][c] != -1:\n",
    "                    self.valids +=1\n",
    "                    \n",
    "    def BT (self, curent, grid):\n",
    "        if curent==self.end and self.valids==0:\n",
    "            self.res+=1\n",
    "            \n",
    "        for nr, nc in [(curent[0],curent[1]+1),(curent[0]+1,curent[1]),(curent[0],curent[1]-1),(curent[0]-1,curent[1])]:\n",
    "            if 0<=nr<self.n_rows and 0<=nc<self.n_cols and (grid[nr][nc]==0 or grid[nr][nc]==2):\n",
    "                self.valids -=1\n",
    "                grid[nr][nc]=-1\n",
    "                self.BT((nr,nc), grid)\n",
    "                self.valids +=1\n",
    "                grid[nr][nc]=0\n",
    "        return\n",
    "s = Solution()    \n",
    "s.uniquePathsIII([[1,0,0,0],[0,0,0,0],[0,0,0,2]])"
   ]
  },
  {
   "cell_type": "code",
   "execution_count": 15,
   "metadata": {},
   "outputs": [
    {
     "name": "stdout",
     "output_type": "stream",
     "text": [
      "114 µs ± 208 ns per loop (mean ± std. dev. of 7 runs, 10000 loops each)\n"
     ]
    }
   ],
   "source": [
    "%%timeit\n",
    "class Graph:\n",
    "    def __init__(self):\n",
    "        self.node_neighbors = {}\n",
    "        self.visited = {}\n",
    "        self.cnt = 0\n",
    "        \n",
    "    def add_nodes(self, coord):\n",
    "        x, y = coord\n",
    "        if (x, y) not in self.node_neighbors:\n",
    "            self.node_neighbors[(x, y)] = []\n",
    "    \n",
    "    def add_edge(self, edge):\n",
    "        x_f, y_f, x_s, y_s = edge\n",
    "        self.node_neighbors[(x_f, y_f)].append((x_s, y_s))\n",
    "        self.node_neighbors[(x_s, y_s)].append((x_f, y_f))\n",
    "    \n",
    "    def dfs(self,start, end):\n",
    "        if start == end:\n",
    "            if len(self.node_neighbors) == len(self.visited) + 1:\n",
    "                self.cnt += 1\n",
    "            return\n",
    "        self.visited[start] = True\n",
    "        for n in self.node_neighbors[start]:\n",
    "            if n not in self.visited:\n",
    "                self.dfs(n, end)\n",
    "        self.visited.pop(start)\n",
    "\n",
    "class Solution:\n",
    "    def uniquePathsIII(self, grid) -> int:\n",
    "        if len(grid) == 0 or len(grid[0]) == 0:\n",
    "            return 0\n",
    "        start = (0, 0)\n",
    "        end = (0, 0)\n",
    "        graph = Graph()\n",
    "        for i in range(len(grid)):\n",
    "            for j in range(len(grid[0])):\n",
    "                if grid[i][j] == -1:\n",
    "                    continue\n",
    "                graph.add_nodes((i,j))\n",
    "                if grid[i][j] == 1:\n",
    "                    start = (i, j)\n",
    "                elif grid[i][j] == 2:\n",
    "                    end = (i, j)\n",
    "                if i != len(grid)-1 and grid[i+1][j] != -1:\n",
    "                    graph.add_nodes((i+1, j))\n",
    "                    graph.add_edge((i, j, i+1, j))\n",
    "                if j != len(grid[0]) - 1 and grid[i][j+1] != -1:\n",
    "                    graph.add_nodes((i, j+1))\n",
    "                    graph.add_edge((i, j, i, j+1))\n",
    "        graph.dfs(start, end)\n",
    "        return graph.cnt\n",
    "s = Solution()    \n",
    "s.uniquePathsIII([[1,0,0,0],[0,0,0,0],[0,0,0,2]])"
   ]
  },
  {
   "cell_type": "code",
   "execution_count": null,
   "metadata": {},
   "outputs": [],
   "source": []
  },
  {
   "cell_type": "code",
   "execution_count": 4,
   "metadata": {},
   "outputs": [
    {
     "name": "stdout",
     "output_type": "stream",
     "text": [
      "0 3\n",
      "1 3\n",
      "2 3\n"
     ]
    }
   ],
   "source": []
  },
  {
   "cell_type": "markdown",
   "metadata": {},
   "source": [
    "\n",
    "#                                                    Daily interview\n",
    "=============================================================================================================="
   ]
  },
  {
   "cell_type": "code",
   "execution_count": 3,
   "metadata": {},
   "outputs": [
    {
     "name": "stdout",
     "output_type": "stream",
     "text": [
      "[[7, 4, 1], [8, 5, 2], [9, 6, 3]]\n"
     ]
    }
   ],
   "source": [
    "### Rotate square matrix\n",
    "\n",
    "def rotate(mat):\n",
    "    res = [[],[],[]]\n",
    "    for k,i in enumerate(mat):\n",
    "        for l,j in enumerate(i):\n",
    "            res[l].insert(0,j)\n",
    "    return res\n",
    "\n",
    "mat = [[1, 2, 3], [4, 5, 6], [7, 8, 9]]\n",
    "# Looks like\n",
    "# 1 2 3\n",
    "# 4 5 6\n",
    "# 7 8 9\n",
    "\n",
    "# Looks like\n",
    "# 7 4 1\n",
    "# 8 5 2\n",
    "# 9 6 3\n",
    "assert rotate(mat) == [[7, 4, 1], [8, 5, 2], [9, 6, 3]], \"it's not work\"\n",
    "print(rotate(mat))"
   ]
  },
  {
   "cell_type": "code",
   "execution_count": 4,
   "metadata": {},
   "outputs": [
    {
     "data": {
      "text/plain": [
       "True"
      ]
     },
     "execution_count": 4,
     "metadata": {},
     "output_type": "execute_result"
    }
   ],
   "source": [
    "### Find a save not in tree ###\n",
    "\n",
    "class Node:\n",
    "    def __init__(self, value, left=None, right=None):\n",
    "        self.value = value\n",
    "        self.left = left\n",
    "        self.right = right\n",
    "\n",
    "    def __repr__(self):\n",
    "        return f\"(Value: {self.value} Left: {self.left} Right: {self.right})\"\n",
    "\n",
    "def find_subtree(s, t):\n",
    "    if t.right == None or t.left == None:\n",
    "        return False\n",
    "    return True if s.__repr__() == t.__repr__() else find_subtree(s,t.right) or find_subtree(s,t.left)\n",
    "\n",
    "t3 = Node(4, Node(3), Node(2))\n",
    "t2 = Node(5, Node(4), Node(-1))\n",
    "t = Node(1, t2, t3)\n",
    "\n",
    "s = Node(5, Node(4), Node(-1))\n",
    "find_subtree(s,t)"
   ]
  },
  {
   "cell_type": "code",
   "execution_count": 5,
   "metadata": {},
   "outputs": [
    {
     "name": "stdout",
     "output_type": "stream",
     "text": [
      "0b00000000000000000000000011011000\n"
     ]
    }
   ],
   "source": [
    "### Swap odd and even bits ###\n",
    "\n",
    "def swap_bits(x):\n",
    "    \n",
    "    # Get all even bits of x \n",
    "    even_bits = x & 0xAAAAAAAA\n",
    "  \n",
    "    # Get all odd bits of x \n",
    "    odd_bits = x & 0x55555555\n",
    "      \n",
    "    # Right shift even bits \n",
    "    even_bits >>= 1\n",
    "      \n",
    "    # Left shift odd bits \n",
    "    odd_bits <<= 1 \n",
    "  \n",
    "    # Combine even and odd bits \n",
    "    return (even_bits | odd_bits)  \n",
    "\n",
    "print(f\"0b{swap_bits(0b11100100):032b}\")"
   ]
  },
  {
   "cell_type": "markdown",
   "metadata": {},
   "source": [
    "## need to be done"
   ]
  },
  {
   "cell_type": "code",
   "execution_count": null,
   "metadata": {},
   "outputs": [],
   "source": [
    "class Node:\n",
    "    def __init__(self, value, left=None, right=None):\n",
    "        self.value = value\n",
    "        self.left = left\n",
    "        self.right = right\n",
    "\n",
    "    def __repr__(self):\n",
    "        if self.left and self.right:\n",
    "            return f\"({self.value}, {self.left}, {self.right})\"\n",
    "        if self.left:\n",
    "            return f\"({self.value}, {self.left})\"\n",
    "        if self.right:\n",
    "            return f\"({self.value}, None, {self.right})\"\n",
    "        return f\"({self.value})\"\n",
    "\n",
    "def split_bst(bst, s):\n",
    "    node_for_split = find_node(bst,s)\n",
    "    right\n",
    "    \n",
    "    return right_node, left_node\n",
    "    \n",
    "    \n",
    "    \n",
    "def find_node (node, n):\n",
    "    if node.value == n:\n",
    "        return node\n",
    "    elif node.left:\n",
    "        return find_node(node.left,n)\n",
    "    elif node.right:\n",
    "        return find_node(node.right,n)\n",
    "    else:\n",
    "        print('there is no that value')\n",
    "        return None\n",
    "\n",
    "n2 = Node(2)\n",
    "n1 = Node(1, n2)\n",
    "\n",
    "n5 = Node(5)\n",
    "n4 = Node(4, None, n5)\n",
    "\n",
    "root = Node(3, n1, n4)\n",
    "\n",
    "print(root)\n",
    "# (3, (1, (2)), (4, None, (5)))\n",
    "# How the tree looks like\n",
    "#     3\n",
    "#   /   \\\n",
    "#  1     4\n",
    "#   \\     \\\n",
    "#    2     5\n",
    "\n",
    "print(split_bst(root, 2))\n",
    "# ((1, (2)), (3, None, (4, None, (5))))\n",
    "# Split into two trees\n",
    "# 1    And   3\n",
    "#  \\          \\\n",
    "#   2          4\n",
    "#               \\\n",
    "#                5"
   ]
  },
  {
   "cell_type": "code",
   "execution_count": null,
   "metadata": {},
   "outputs": [],
   "source": [
    "class Node:\n",
    "    def __init__(self, value, next=None):\n",
    "        self.value = value\n",
    "        self.next = next\n",
    "\n",
    "    def __repr__(self):\n",
    "        return f\"({self.value}, {self.next})\"\n",
    "\n",
    "\n",
    "def remove_dup(lst):\n",
    "  # Fill this in.\n",
    "\n",
    "lst = Node(1, Node(2, Node(2, Node(3, Node(3)))))\n",
    "\n",
    "remove_dup(lst)\n",
    "print(lst)\n",
    "# (1, (2, (3, None)))"
   ]
  },
  {
   "cell_type": "code",
   "execution_count": null,
   "metadata": {},
   "outputs": [],
   "source": []
  }
 ],
 "metadata": {
  "kernelspec": {
   "display_name": "Python 3",
   "language": "python",
   "name": "python3"
  },
  "language_info": {
   "codemirror_mode": {
    "name": "ipython",
    "version": 3
   },
   "file_extension": ".py",
   "mimetype": "text/x-python",
   "name": "python",
   "nbconvert_exporter": "python",
   "pygments_lexer": "ipython3",
   "version": "3.7.6"
  }
 },
 "nbformat": 4,
 "nbformat_minor": 2
}
