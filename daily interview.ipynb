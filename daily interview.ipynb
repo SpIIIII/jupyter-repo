{
 "cells": [
  {
   "cell_type": "markdown",
   "metadata": {},
   "source": [
    "# Done"
   ]
  },
  {
   "cell_type": "code",
   "execution_count": 3,
   "metadata": {},
   "outputs": [
    {
     "name": "stdout",
     "output_type": "stream",
     "text": [
      "[[7, 4, 1], [8, 5, 2], [9, 6, 3]]\n"
     ]
    }
   ],
   "source": [
    "### Rotate square matrix\n",
    "\n",
    "def rotate(mat):\n",
    "    res = [[],[],[]]\n",
    "    for k,i in enumerate(mat):\n",
    "        for l,j in enumerate(i):\n",
    "            res[l].insert(0,j)\n",
    "    return res\n",
    "\n",
    "mat = [[1, 2, 3], [4, 5, 6], [7, 8, 9]]\n",
    "# Looks like\n",
    "# 1 2 3\n",
    "# 4 5 6\n",
    "# 7 8 9\n",
    "\n",
    "# Looks like\n",
    "# 7 4 1\n",
    "# 8 5 2\n",
    "# 9 6 3\n",
    "assert rotate(mat) == [[7, 4, 1], [8, 5, 2], [9, 6, 3]], \"it's not work\"\n",
    "print(rotate(mat))"
   ]
  },
  {
   "cell_type": "code",
   "execution_count": 2,
   "metadata": {},
   "outputs": [
    {
     "data": {
      "text/plain": [
       "True"
      ]
     },
     "execution_count": 2,
     "metadata": {},
     "output_type": "execute_result"
    }
   ],
   "source": [
    "### Find a save not in tree ###\n",
    "\n",
    "class Node:\n",
    "    def __init__(self, value, left=None, right=None):\n",
    "        self.value = value\n",
    "        self.left = left\n",
    "        self.right = right\n",
    "\n",
    "    def __repr__(self):\n",
    "        return f\"(Value: {self.value} Left: {self.left} Right: {self.right})\"\n",
    "\n",
    "def find_subtree(s, t):\n",
    "    if t.right == None or t.left == None:\n",
    "        return False\n",
    "    return True if s.__repr__() == t.__repr__() else find_subtree(s,t.right) or find_subtree(s,t.left)\n",
    "\n",
    "t3 = Node(4, Node(3), Node(2))\n",
    "t2 = Node(5, Node(4), Node(-1))\n",
    "t = Node(1, t2, t3)\n",
    "\n",
    "s = Node(5, Node(4), Node(-1))\n",
    "find_subtree(s,t)"
   ]
  },
  {
   "cell_type": "code",
   "execution_count": 1,
   "metadata": {},
   "outputs": [
    {
     "name": "stdout",
     "output_type": "stream",
     "text": [
      "0b00000000000000000000000011011000\n"
     ]
    }
   ],
   "source": [
    "### Swap odd and even bits ###\n",
    "\n",
    "def swap_bits(x):\n",
    "    \n",
    "    # Get all even bits of x \n",
    "    even_bits = x & 0xAAAAAAAA\n",
    "  \n",
    "    # Get all odd bits of x \n",
    "    odd_bits = x & 0x55555555\n",
    "      \n",
    "    # Right shift even bits \n",
    "    even_bits >>= 1\n",
    "      \n",
    "    # Left shift odd bits \n",
    "    odd_bits <<= 1 \n",
    "  \n",
    "    # Combine even and odd bits \n",
    "    return (even_bits | odd_bits)  \n",
    "\n",
    "print(f\"0b{swap_bits(0b11100100):032b}\")\n"
   ]
  },
  {
   "cell_type": "code",
   "execution_count": null,
   "metadata": {},
   "outputs": [],
   "source": []
  },
  {
   "cell_type": "markdown",
   "metadata": {},
   "source": [
    "# Need To Be Done"
   ]
  },
  {
   "cell_type": "code",
   "execution_count": null,
   "metadata": {},
   "outputs": [],
   "source": [
    "class Node:\n",
    "    def __init__(self, value, left=None, right=None):\n",
    "        self.value = value\n",
    "        self.left = left\n",
    "        self.right = right\n",
    "\n",
    "    def __repr__(self):\n",
    "        if self.left and self.right:\n",
    "            return f\"({self.value}, {self.left}, {self.right})\"\n",
    "        if self.left:\n",
    "            return f\"({self.value}, {self.left})\"\n",
    "        if self.right:\n",
    "            return f\"({self.value}, None, {self.right})\"\n",
    "        return f\"({self.value})\"\n",
    "\n",
    "def split_bst(bst, s):\n",
    "    node_for_split = find_node(bst,s)\n",
    "    right\n",
    "    \n",
    "    return right_node, left_node\n",
    "    \n",
    "    \n",
    "    \n",
    "def find_node (node, n):\n",
    "    if node.value == n:\n",
    "        return node\n",
    "    elif node.left:\n",
    "        return find_node(node.left,n)\n",
    "    elif node.right:\n",
    "        return find_node(node.right,n)\n",
    "    else:\n",
    "        print('there is no that value')\n",
    "        return None\n",
    "\n",
    "n2 = Node(2)\n",
    "n1 = Node(1, n2)\n",
    "\n",
    "n5 = Node(5)\n",
    "n4 = Node(4, None, n5)\n",
    "\n",
    "root = Node(3, n1, n4)\n",
    "\n",
    "print(root)\n",
    "# (3, (1, (2)), (4, None, (5)))\n",
    "# How the tree looks like\n",
    "#     3\n",
    "#   /   \\\n",
    "#  1     4\n",
    "#   \\     \\\n",
    "#    2     5\n",
    "\n",
    "print(split_bst(root, 2))\n",
    "# ((1, (2)), (3, None, (4, None, (5))))\n",
    "# Split into two trees\n",
    "# 1    And   3\n",
    "#  \\          \\\n",
    "#   2          4\n",
    "#               \\\n",
    "#                5"
   ]
  },
  {
   "cell_type": "code",
   "execution_count": null,
   "metadata": {},
   "outputs": [],
   "source": [
    "class Node:\n",
    "    def __init__(self, value, next=None):\n",
    "        self.value = value\n",
    "        self.next = next\n",
    "\n",
    "    def __repr__(self):\n",
    "        return f\"({self.value}, {self.next})\"\n",
    "\n",
    "\n",
    "def remove_dup(lst):\n",
    "  # Fill this in.\n",
    "\n",
    "lst = Node(1, Node(2, Node(2, Node(3, Node(3)))))\n",
    "\n",
    "remove_dup(lst)\n",
    "print(lst)\n",
    "# (1, (2, (3, None)))"
   ]
  },
  {
   "cell_type": "code",
   "execution_count": 6,
   "metadata": {},
   "outputs": [],
   "source": []
  },
  {
   "cell_type": "code",
   "execution_count": null,
   "metadata": {},
   "outputs": [],
   "source": []
  },
  {
   "cell_type": "code",
   "execution_count": null,
   "metadata": {},
   "outputs": [],
   "source": []
  },
  {
   "cell_type": "code",
   "execution_count": null,
   "metadata": {},
   "outputs": [],
   "source": []
  },
  {
   "cell_type": "code",
   "execution_count": null,
   "metadata": {},
   "outputs": [],
   "source": []
  },
  {
   "cell_type": "code",
   "execution_count": null,
   "metadata": {},
   "outputs": [],
   "source": []
  },
  {
   "cell_type": "code",
   "execution_count": null,
   "metadata": {},
   "outputs": [],
   "source": []
  },
  {
   "cell_type": "code",
   "execution_count": null,
   "metadata": {},
   "outputs": [],
   "source": []
  },
  {
   "cell_type": "code",
   "execution_count": null,
   "metadata": {},
   "outputs": [],
   "source": []
  },
  {
   "cell_type": "code",
   "execution_count": null,
   "metadata": {},
   "outputs": [],
   "source": []
  },
  {
   "cell_type": "code",
   "execution_count": null,
   "metadata": {},
   "outputs": [],
   "source": []
  },
  {
   "cell_type": "code",
   "execution_count": null,
   "metadata": {},
   "outputs": [],
   "source": []
  },
  {
   "cell_type": "code",
   "execution_count": null,
   "metadata": {},
   "outputs": [],
   "source": []
  },
  {
   "cell_type": "code",
   "execution_count": null,
   "metadata": {},
   "outputs": [],
   "source": []
  },
  {
   "cell_type": "code",
   "execution_count": null,
   "metadata": {},
   "outputs": [],
   "source": []
  },
  {
   "cell_type": "code",
   "execution_count": null,
   "metadata": {},
   "outputs": [],
   "source": []
  },
  {
   "cell_type": "code",
   "execution_count": null,
   "metadata": {},
   "outputs": [],
   "source": []
  },
  {
   "cell_type": "code",
   "execution_count": null,
   "metadata": {},
   "outputs": [],
   "source": []
  },
  {
   "cell_type": "code",
   "execution_count": null,
   "metadata": {},
   "outputs": [],
   "source": []
  },
  {
   "cell_type": "code",
   "execution_count": null,
   "metadata": {},
   "outputs": [],
   "source": []
  },
  {
   "cell_type": "code",
   "execution_count": null,
   "metadata": {},
   "outputs": [],
   "source": []
  },
  {
   "cell_type": "code",
   "execution_count": null,
   "metadata": {},
   "outputs": [],
   "source": []
  },
  {
   "cell_type": "code",
   "execution_count": null,
   "metadata": {},
   "outputs": [],
   "source": []
  },
  {
   "cell_type": "code",
   "execution_count": null,
   "metadata": {},
   "outputs": [],
   "source": []
  },
  {
   "cell_type": "code",
   "execution_count": null,
   "metadata": {},
   "outputs": [],
   "source": []
  },
  {
   "cell_type": "code",
   "execution_count": null,
   "metadata": {},
   "outputs": [],
   "source": []
  }
 ],
 "metadata": {
  "kernelspec": {
   "display_name": "Python 3",
   "language": "python",
   "name": "python3"
  },
  "language_info": {
   "codemirror_mode": {
    "name": "ipython",
    "version": 3
   },
   "file_extension": ".py",
   "mimetype": "text/x-python",
   "name": "python",
   "nbconvert_exporter": "python",
   "pygments_lexer": "ipython3",
   "version": "3.7.4"
  }
 },
 "nbformat": 4,
 "nbformat_minor": 2
}
