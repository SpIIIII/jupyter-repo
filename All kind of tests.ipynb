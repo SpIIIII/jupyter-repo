{
 "cells": [
  {
   "cell_type": "code",
   "execution_count": 1,
   "metadata": {},
   "outputs": [],
   "source": [
    "import numpy as np\n",
    "import pandas as pd\n",
    "import matplotlib.pyplot as plt\n",
    "from numpy import linalg\n",
    "\n",
    "\n",
    "def fmt_items(lines,max_lines=0):\n",
    "    max_width=max([len(line)for line in lines])\n",
    "    empty =' '*max_width\n",
    "    lines = [line.ljust(max_width)for line in lines]\n",
    "    lines += [empty]*(max_lines - len(lines))\n",
    "    return lines\n",
    "def pp (*list):\n",
    "    lines = [ str(item).split('\\n') for item in list]\n",
    "    max_lines=max([len(item)for  item in lines])\n",
    "    lines = [fmt_items(item,max_lines=max_lines)for item in lines]\n",
    "    lines_t= np.array(lines).T\n",
    "    print('\\n'.join([' '.join(line) for  line in lines_t]))"
   ]
  },
  {
   "cell_type": "code",
   "execution_count": 3,
   "metadata": {},
   "outputs": [
    {
     "name": "stdout",
     "output_type": "stream",
     "text": [
      "6 10 12 14 15 18 20 21 22 24 26 28 33 34 35 36 38 39 40 44 45 46 48 50 51 52 54 55 56 57 58 62 63 65 68 69 72 74 75 76 77 80 82 85 86 87 88 91 92 93 94 95 96 98 99 100 "
     ]
    }
   ],
   "source": [
    "\n",
    "# Python 3 program to count \n",
    "# all those numbers in \n",
    "# given range whose count \n",
    "# of prime factors  \n",
    "# is k \n",
    "  \n",
    "def printKPFNums(A, B, K) : \n",
    "  \n",
    "    # Count prime factors \n",
    "    # of all numbers \n",
    "    # till B. \n",
    "    prime = [ True]*(B+1) \n",
    "    p_factors= [ 0 ]*(B+1) \n",
    "    for p in range(2,B+1) : \n",
    "        if (p_factors[p] == 0)  : \n",
    "            for i in range(p,B+1,p) : \n",
    "                p_factors[i] = p_factors[i] + 1\n",
    "   \n",
    "    # Print all numbers with \n",
    "    # k prime factors \n",
    "    for i in range(A,B+1) : \n",
    "        if (p_factors[i] == K) : \n",
    "            print( i ,end=\" \") \n",
    "  \n",
    "  \n",
    "# Driver code \n",
    "A = 0\n",
    "B = 100\n",
    "K = 2\n",
    "printKPFNums(A, B, K) \n",
    "  \n",
    "  \n",
    "# This code is contributed \n",
    "# by Nikita Tiwari. "
   ]
  },
  {
   "cell_type": "code",
   "execution_count": 44,
   "metadata": {},
   "outputs": [
    {
     "ename": "TypeError",
     "evalue": "map() must have at least two arguments.",
     "output_type": "error",
     "traceback": [
      "\u001b[1;31m---------------------------------------------------------------------------\u001b[0m",
      "\u001b[1;31mTypeError\u001b[0m                                 Traceback (most recent call last)",
      "\u001b[1;32m<ipython-input-44-118ef30c8440>\u001b[0m in \u001b[0;36m<module>\u001b[1;34m()\u001b[0m\n\u001b[0;32m      4\u001b[0m \u001b[1;32mdef\u001b[0m \u001b[0mis_prime\u001b[0m\u001b[1;33m(\u001b[0m\u001b[0mar\u001b[0m\u001b[1;33m,\u001b[0m\u001b[0mnum\u001b[0m\u001b[1;33m)\u001b[0m\u001b[1;33m:\u001b[0m\u001b[1;33m\u001b[0m\u001b[0m\n\u001b[0;32m      5\u001b[0m     \u001b[0many\u001b[0m\u001b[1;33m(\u001b[0m\u001b[0mmap\u001b[0m\u001b[1;33m(\u001b[0m\u001b[1;33m)\u001b[0m\u001b[1;33m)\u001b[0m\u001b[1;33m\u001b[0m\u001b[0m\n\u001b[1;32m----> 6\u001b[1;33m \u001b[0mprint\u001b[0m\u001b[1;33m(\u001b[0m\u001b[0mis_prime\u001b[0m\u001b[1;33m(\u001b[0m\u001b[0mprimes\u001b[0m\u001b[1;33m,\u001b[0m\u001b[1;36m1\u001b[0m\u001b[1;33m)\u001b[0m\u001b[1;33m)\u001b[0m\u001b[1;33m\u001b[0m\u001b[0m\n\u001b[0m",
      "\u001b[1;32m<ipython-input-44-118ef30c8440>\u001b[0m in \u001b[0;36mis_prime\u001b[1;34m(ar, num)\u001b[0m\n\u001b[0;32m      3\u001b[0m \u001b[1;33m\u001b[0m\u001b[0m\n\u001b[0;32m      4\u001b[0m \u001b[1;32mdef\u001b[0m \u001b[0mis_prime\u001b[0m\u001b[1;33m(\u001b[0m\u001b[0mar\u001b[0m\u001b[1;33m,\u001b[0m\u001b[0mnum\u001b[0m\u001b[1;33m)\u001b[0m\u001b[1;33m:\u001b[0m\u001b[1;33m\u001b[0m\u001b[0m\n\u001b[1;32m----> 5\u001b[1;33m     \u001b[0many\u001b[0m\u001b[1;33m(\u001b[0m\u001b[0mmap\u001b[0m\u001b[1;33m(\u001b[0m\u001b[1;33m)\u001b[0m\u001b[1;33m)\u001b[0m\u001b[1;33m\u001b[0m\u001b[0m\n\u001b[0m\u001b[0;32m      6\u001b[0m \u001b[0mprint\u001b[0m\u001b[1;33m(\u001b[0m\u001b[0mis_prime\u001b[0m\u001b[1;33m(\u001b[0m\u001b[0mprimes\u001b[0m\u001b[1;33m,\u001b[0m\u001b[1;36m1\u001b[0m\u001b[1;33m)\u001b[0m\u001b[1;33m)\u001b[0m\u001b[1;33m\u001b[0m\u001b[0m\n",
      "\u001b[1;31mTypeError\u001b[0m: map() must have at least two arguments."
     ]
    }
   ],
   "source": [
    "primes=[2,3,4,5,6,7,8,9,10]\n",
    "\n",
    "\n",
    "def is_prime(ar,num):\n",
    "    any(map())\n",
    "print(is_prime(primes,1))"
   ]
  },
  {
   "cell_type": "code",
   "execution_count": 45,
   "metadata": {},
   "outputs": [
    {
     "data": {
      "text/plain": [
       "<Figure size 640x480 with 1 Axes>"
      ]
     },
     "metadata": {},
     "output_type": "display_data"
    },
    {
     "data": {
      "text/plain": [
       "<Figure size 640x480 with 1 Axes>"
      ]
     },
     "metadata": {},
     "output_type": "display_data"
    }
   ],
   "source": [
    "import numpy as np\n",
    "import matplotlib.pyplot as plt\n",
    "plt.plot([1,2,3,4,5,7],'ro')\n",
    "plt.ylabel('some numbers')\n",
    "plt.show()\n",
    "\n",
    "plt.plot([1,2,3,4], [1,4,9,16],'yo')\n",
    "plt.axis([0, 6, 0, 20])\n",
    "plt.show()"
   ]
  },
  {
   "cell_type": "code",
   "execution_count": 46,
   "metadata": {},
   "outputs": [
    {
     "data": {
      "image/png": "[encoded data removed]",
      "text/plain": [
       "<Figure size 432x288 with 2 Axes>"
      ]
     },
     "metadata": {},
     "output_type": "display_data"
    }
   ],
   "source": [
    "x = np.random.randn(50)\n",
    "\n",
    "# old style\n",
    "fig = plt.figure()\n",
    "ax1 = fig.add_subplot(211)\n",
    "ax2 = fig.add_subplot(212, sharex=ax1, sharey=ax1)"
   ]
  },
  {
   "cell_type": "code",
   "execution_count": 47,
   "metadata": {},
   "outputs": [
    {
     "data": {
      "image/png": "[encoded data removed]",
      "text/plain": [
       "<Figure size 432x288 with 2 Axes>"
      ]
     },
     "metadata": {},
     "output_type": "display_data"
    }
   ],
   "source": [
    "def f(t):\n",
    "    return np.exp(-t) * np.cos(2*np.pi*t)\n",
    "\n",
    "t1 = np.arange(0.0, 5.0, 0.1)\n",
    "t2 = np.arange(0.0, 5.0, 0.02)\n",
    "\n",
    "\n",
    "plt.subplot(211)\n",
    "plt.plot(t1, f(t1), 'bo', t2, f(t2), 'k')\n",
    "\n",
    "plt.subplot(212)\n",
    "plt.plot(t2, np.cos(2*np.pi*t2), 'r-')\n",
    "plt.show()"
   ]
  },
  {
   "cell_type": "code",
   "execution_count": 48,
   "metadata": {},
   "outputs": [
    {
     "name": "stdout",
     "output_type": "stream",
     "text": [
      "[115.73956466 112.99148762 108.267019   ...  95.52403791  73.28843349\n",
      "  77.0735325 ]\n"
     ]
    },
    {
     "name": "stderr",
     "output_type": "stream",
     "text": [
      "C:\\Anaconda3\\lib\\site-packages\\matplotlib\\axes\\_axes.py:6462: UserWarning: The 'normed' kwarg is deprecated, and has been replaced by the 'density' kwarg.\n",
      "  warnings.warn(\"The 'normed' kwarg is deprecated, and has been \"\n"
     ]
    },
    {
     "data": {
      "image/png": "[encoded data removed]",
      "text/plain": [
       "<Figure size 432x288 with 1 Axes>"
      ]
     },
     "metadata": {},
     "output_type": "display_data"
    }
   ],
   "source": [
    "# Fixing random state for reproducibility\n",
    "np.random.seed(19680801)\n",
    "\n",
    "mu, sigma = 100, 15\n",
    "x = mu + sigma * np.random.randn(10000)\n",
    "print(x)\n",
    "\n",
    "# the histogram of the data\n",
    "n, bins, patches = plt.hist(x, 50, normed=1, facecolor='g', alpha=0.75)\n",
    "\n",
    "\n",
    "plt.xlabel('Smarts')\n",
    "plt.ylabel('Probability')\n",
    "plt.title('Histogram of IQ')\n",
    "plt.text(60, .025, r'$\\mu=100,\\ \\sigma=15$')\n",
    "plt.axis([40, 160, 0, 0.03])\n",
    "plt.grid(True)\n",
    "plt.show()"
   ]
  },
  {
   "cell_type": "code",
   "execution_count": 7,
   "metadata": {},
   "outputs": [
    {
     "data": {
      "image/png": "[encoded data removed]",
      "text/plain": [
       "<Figure size 432x288 with 1 Axes>"
      ]
     },
     "metadata": {
      "needs_background": "light"
     },
     "output_type": "display_data"
    }
   ],
   "source": [
    "from mpl_toolkits.mplot3d import Axes3D  # noqa: F401 unused import\n",
    "\n",
    "\n",
    "\n",
    "# Fixing random state for reproducibility\n",
    "np.random.seed(19680801)\n",
    "\n",
    "\n",
    "fig = plt.figure()\n",
    "ax = fig.add_subplot(111, projection='3d')\n",
    "\n",
    "colors = ['r', 'g', 'b', 'y']\n",
    "yticks = [3, 2, 1, 0]\n",
    "for c, k in zip(colors, yticks):\n",
    "    # Generate the random data for the y=k 'layer'.\n",
    "    xs = np.arange(20)\n",
    "    ys = np.random.rand(20)\n",
    "\n",
    "    # You can provide either a single color or an array with the same length as\n",
    "    # xs and ys. To demonstrate this, we color the first bar of each set cyan.\n",
    "    cs = [c] * len(xs)\n",
    "    cs[0] = 'c'\n",
    "\n",
    "    # Plot the bar graph given by xs and ys on the plane y=k with 80% opacity.\n",
    "    ax.bar(xs, ys, zs=k, zdir='y', color=cs, alpha=0.9)\n",
    "\n",
    "ax.set_xlabel('X')\n",
    "ax.set_ylabel('Y')\n",
    "ax.set_zlabel('Z')\n",
    "\n",
    "# On the y axis let's only label the discrete values that we have data for.\n",
    "ax.set_yticks(yticks)\n",
    "\n",
    "plt.show()"
   ]
  },
  {
   "cell_type": "code",
   "execution_count": 50,
   "metadata": {},
   "outputs": [
    {
     "data": {
      "image/png": "[encoded data removed]",
      "text/plain": [
       "<Figure size 432x288 with 1 Axes>"
      ]
     },
     "metadata": {},
     "output_type": "display_data"
    }
   ],
   "source": [
    "from mpl_toolkits.mplot3d import Axes3D  # noqa: F401 unused import\n",
    "\n",
    "\n",
    "\n",
    "# Fixing random state for reproducibility\n",
    "np.random.seed(19680801)\n",
    "\n",
    "\n",
    "fig = plt.figure()\n",
    "ax = fig.add_subplot(111, projection='3d')\n",
    "\n",
    "colors = ['r', 'g', 'b', 'y']\n",
    "yticks = [3, 2, 1, 0]\n",
    "for c, k in zip(colors, yticks):\n",
    "    # Generate the random data for the y=k 'layer'.\n",
    "    xs = np.arange(20)\n",
    "    ys = np.random.rand(20)\n",
    "\n",
    "    # You can provide either a single color or an array with the same length as\n",
    "    # xs and ys. To demonstrate this, we color the first bar of each set cyan.\n",
    "    cs = [c] * len(xs)\n",
    "    cs[0] = 'c'\n",
    "\n",
    "    # Plot the bar graph given by xs and ys on the plane y=k with 80% opacity.\n",
    "    ax.bar(xs, ys, zs=k, zdir='y', color=cs, alpha=0.9)\n",
    "\n",
    "ax.set_xlabel('X')\n",
    "ax.set_ylabel('Y')\n",
    "ax.set_zlabel('Z')\n",
    "\n",
    "# On the y axis let's only label the discrete values that we have data for.\n",
    "ax.set_yticks(yticks)\n",
    "\n",
    "plt.show()"
   ]
  },
  {
   "cell_type": "code",
   "execution_count": 51,
   "metadata": {},
   "outputs": [
    {
     "data": {
      "image/png": "[encoded data removed]",
      "text/plain": [
       "<Figure size 432x288 with 1 Axes>"
      ]
     },
     "metadata": {},
     "output_type": "display_data"
    }
   ],
   "source": [
    "fig = plt.figure()\n",
    "ax = fig.gca(projection='3d')\n",
    "\n",
    "zdirs = (None, 'x', 'y', 'z', (1, 1, 0), (1, 1, 1))\n",
    "xs = (1, 4, 4, 9, 4, 1)\n",
    "ys = (2, 5, 8, 10, 1, 2)\n",
    "zs = (10, 3, 8, 9, 1, 8)\n",
    "\n",
    "for zdir, x, y, z in zip(zdirs, xs, ys, zs):\n",
    "    label = '(%d, %d, %d), dir=%s' % (x, y, z, zdir)\n",
    "    ax.text(x, y, z, label, zdir)\n",
    "\n",
    "ax.text(9, 0, 0, \"red\", color='red')\n",
    "ax.text2D(0.05, 0.95, \"2D Text\", transform=ax.transAxes)\n",
    "\n",
    "ax.set_xlim3d(0, 10)\n",
    "ax.set_ylim3d(0, 10)\n",
    "ax.set_zlim3d(0, 10)\n",
    "\n",
    "ax.set_xlabel('X axis')\n",
    "ax.set_ylabel('Y axis')\n",
    "ax.set_zlabel('Z axis')\n",
    "\n",
    "plt.show()"
   ]
  },
  {
   "cell_type": "code",
   "execution_count": 11,
   "metadata": {},
   "outputs": [
    {
     "ename": "TypeError",
     "evalue": "scatter() missing 1 required positional argument: 'ys'",
     "output_type": "error",
     "traceback": [
      "\u001b[1;31m---------------------------------------------------------------------------\u001b[0m",
      "\u001b[1;31mTypeError\u001b[0m                                 Traceback (most recent call last)",
      "\u001b[1;32m<ipython-input-11-9ca953faca42>\u001b[0m in \u001b[0;36m<module>\u001b[1;34m\u001b[0m\n\u001b[0;32m      1\u001b[0m \u001b[0max\u001b[0m \u001b[1;33m=\u001b[0m \u001b[0mplt\u001b[0m\u001b[1;33m.\u001b[0m\u001b[0msubplot\u001b[0m\u001b[1;33m(\u001b[0m\u001b[0mprojection\u001b[0m \u001b[1;33m=\u001b[0m \u001b[1;34m'3d'\u001b[0m\u001b[1;33m)\u001b[0m\u001b[1;33m\u001b[0m\u001b[1;33m\u001b[0m\u001b[0m\n\u001b[1;32m----> 2\u001b[1;33m \u001b[0max\u001b[0m\u001b[1;33m.\u001b[0m\u001b[0mscatter\u001b[0m\u001b[1;33m(\u001b[0m\u001b[0mnp\u001b[0m\u001b[1;33m.\u001b[0m\u001b[0marray\u001b[0m\u001b[1;33m(\u001b[0m\u001b[1;33m[\u001b[0m\u001b[1;36m1\u001b[0m\u001b[1;33m,\u001b[0m\u001b[1;36m1\u001b[0m\u001b[1;33m,\u001b[0m\u001b[1;36m1\u001b[0m\u001b[1;33m]\u001b[0m\u001b[1;33m)\u001b[0m\u001b[1;33m,\u001b[0m \u001b[0mc\u001b[0m \u001b[1;33m=\u001b[0m\u001b[1;34m'red'\u001b[0m \u001b[1;33m)\u001b[0m\u001b[1;33m\u001b[0m\u001b[1;33m\u001b[0m\u001b[0m\n\u001b[0m",
      "\u001b[1;31mTypeError\u001b[0m: scatter() missing 1 required positional argument: 'ys'"
     ]
    },
    {
     "data": {
      "image/png": "[encoded data removed]",
      "text/plain": [
       "<Figure size 432x288 with 1 Axes>"
      ]
     },
     "metadata": {
      "needs_background": "light"
     },
     "output_type": "display_data"
    }
   ],
   "source": [
    "ax = plt.subplot(projection = '3d')\n",
    "ax.scatter(np.array([1,1,1]), c ='red' )"
   ]
  },
  {
   "cell_type": "code",
   "execution_count": 52,
   "metadata": {},
   "outputs": [
    {
     "data": {
      "image/png": "[encoded data removed]",
      "text/plain": [
       "<Figure size 576x360 with 1 Axes>"
      ]
     },
     "metadata": {},
     "output_type": "display_data"
    }
   ],
   "source": [
    "from __future__ import division\n",
    "\n",
    "import matplotlib.pyplot as plt\n",
    "from matplotlib import colors as mcolors\n",
    "\n",
    "\n",
    "colors = dict(mcolors.BASE_COLORS, **mcolors.CSS4_COLORS)\n",
    "\n",
    "# Sort colors by hue, saturation, value and name.\n",
    "by_hsv = sorted((tuple(mcolors.rgb_to_hsv(mcolors.to_rgba(color)[:3])), name)\n",
    "                for name, color in colors.items())\n",
    "sorted_names = [name for hsv, name in by_hsv]\n",
    "\n",
    "n = len(sorted_names)\n",
    "ncols = 4\n",
    "nrows = n // ncols + 1\n",
    "\n",
    "fig, ax = plt.subplots(figsize=(8, 5))\n",
    "\n",
    "# Get height and width\n",
    "X, Y = fig.get_dpi() * fig.get_size_inches()\n",
    "h = Y / (nrows + 1)\n",
    "w = X / ncols\n",
    "\n",
    "for i, name in enumerate(sorted_names):\n",
    "    col = i % ncols\n",
    "    row = i // ncols\n",
    "    y = Y - (row * h) - h\n",
    "\n",
    "    xi_line = w * (col + 0.05)\n",
    "    xf_line = w * (col + 0.25)\n",
    "    xi_text = w * (col + 0.3)\n",
    "\n",
    "    ax.text(xi_text, y, name, fontsize=(h * 0.8),\n",
    "            horizontalalignment='left',\n",
    "            verticalalignment='center')\n",
    "\n",
    "    ax.hlines(y + h * 0.1, xi_line, xf_line,\n",
    "              color=colors[name], linewidth=(h * 0.6))\n",
    "\n",
    "ax.set_xlim(0, X)\n",
    "ax.set_ylim(0, Y)\n",
    "ax.set_axis_off()\n",
    "\n",
    "fig.subplots_adjust(left=0, right=1,\n",
    "                    top=1, bottom=0,\n",
    "                    hspace=0, wspace=0)\n",
    "plt.show()"
   ]
  },
  {
   "cell_type": "code",
   "execution_count": 53,
   "metadata": {},
   "outputs": [
    {
     "name": "stderr",
     "output_type": "stream",
     "text": [
      "C:\\Anaconda3\\lib\\site-packages\\matplotlib\\axes\\_base.py:3443: UserWarning: Attempting to set identical bottom==top results\n",
      "in singular transformations; automatically expanding.\n",
      "bottom=2, top=2\n",
      "  'bottom=%s, top=%s') % (bottom, top))\n"
     ]
    },
    {
     "data": {
      "image/png": "[encoded data removed]",
      "text/plain": [
       "<Figure size 432x288 with 1 Axes>"
      ]
     },
     "metadata": {},
     "output_type": "display_data"
    },
    {
     "data": {
      "image/png": "[encoded data removed]",
      "text/plain": [
       "<Figure size 432x288 with 1 Axes>"
      ]
     },
     "metadata": {},
     "output_type": "display_data"
    }
   ],
   "source": [
    "x = np.linspace(-2, 2, 7)\n",
    "y = np.linspace(-2, 2, 7)\n",
    "\n",
    "xx, yy = np.meshgrid(x, y)\n",
    "\n",
    "z = xx*0+yy*0+ np.random.random(size=[7,7])\n",
    "\n",
    "plt.imshow(z, interpolation='nearest', cmap=plt.cm.viridis, extent=[-2,2,2,2])\n",
    "plt.show()\n",
    "\n",
    "from mpl_toolkits.mplot3d import Axes3D\n",
    "ax = Axes3D(plt.figure())\n",
    "\n",
    "ax.plot_surface(xx, yy, z, cmap=plt.cm.viridis, cstride=1, rstride=1)\n",
    "plt.show()"
   ]
  },
  {
   "cell_type": "code",
   "execution_count": 54,
   "metadata": {},
   "outputs": [
    {
     "data": {
      "text/plain": [
       "12"
      ]
     },
     "execution_count": 54,
     "metadata": {},
     "output_type": "execute_result"
    }
   ],
   "source": [
    "x=11\n",
    "x-=-1\n",
    "x"
   ]
  },
  {
   "cell_type": "code",
   "execution_count": 55,
   "metadata": {},
   "outputs": [
    {
     "name": "stdout",
     "output_type": "stream",
     "text": [
      "7\n"
     ]
    }
   ],
   "source": [
    "a=[[[[[[[[]]]]]]]]\n",
    "x=0\n",
    "\n",
    "\n",
    "def deep_count(a):\n",
    "    return sum(1+(deep_count(x)if  isinstance(x, list)else 0) for x in a)\n",
    "    \n",
    "\n",
    "        \n",
    "#print(a[2],len(a[2]))\n",
    "print(deep_count(a))"
   ]
  },
  {
   "cell_type": "code",
   "execution_count": 56,
   "metadata": {},
   "outputs": [
    {
     "name": "stdout",
     "output_type": "stream",
     "text": [
      "12\n"
     ]
    },
    {
     "data": {
      "text/plain": [
       "'2:30 p.m.'"
      ]
     },
     "execution_count": 56,
     "metadata": {},
     "output_type": "execute_result"
    }
   ],
   "source": [
    "from datetime import datetime\n",
    "\n",
    "def time_converter(time):\n",
    "    final_string= datetime.strptime(time,'%H:%M').strftime('%I:%M %p').lower()[:-1]+'.m.'\n",
    "    print(int(final_string[0:2]))\n",
    "    return final_string if int(final_string[0:2])<10 else final_string[1:]\n",
    "    \n",
    "    \n",
    "time_converter('12:30')"
   ]
  },
  {
   "cell_type": "code",
   "execution_count": 57,
   "metadata": {},
   "outputs": [
    {
     "name": "stdout",
     "output_type": "stream",
     "text": [
      "6\n"
     ]
    }
   ],
   "source": [
    "#Array Deep Count\n",
    "a=['cat', [['dog']], ['[bird]']]\n",
    "\n",
    "def deep_count(a):\n",
    "    return sum(1 + (deep_count(x) if isinstance(x, list) else 0) for x in a)\n",
    "\n",
    "\n",
    "print (deep_count(a))"
   ]
  },
  {
   "cell_type": "code",
   "execution_count": 58,
   "metadata": {},
   "outputs": [
    {
     "ename": "NameError",
     "evalue": "name 'profile' is not defined",
     "output_type": "error",
     "traceback": [
      "\u001b[1;31m---------------------------------------------------------------------------\u001b[0m",
      "\u001b[1;31mNameError\u001b[0m                                 Traceback (most recent call last)",
      "\u001b[1;32m<ipython-input-58-5297469291c1>\u001b[0m in \u001b[0;36m<module>\u001b[1;34m()\u001b[0m\n\u001b[0;32m      4\u001b[0m     \u001b[1;32mreturn\u001b[0m  \u001b[0msorted\u001b[0m \u001b[1;33m(\u001b[0m\u001b[1;33m[\u001b[0m\u001b[0mname\u001b[0m \u001b[1;32mfor\u001b[0m \u001b[0mname\u001b[0m\u001b[1;33m,\u001b[0m\u001b[0mage\u001b[0m \u001b[1;32min\u001b[0m \u001b[0msailors\u001b[0m\u001b[1;33m.\u001b[0m\u001b[0mitems\u001b[0m\u001b[1;33m(\u001b[0m\u001b[1;33m)\u001b[0m \u001b[1;32mif\u001b[0m \u001b[0mage\u001b[0m \u001b[1;33m>\u001b[0m\u001b[1;36m40\u001b[0m \u001b[1;32mor\u001b[0m \u001b[0mage\u001b[0m \u001b[1;33m<\u001b[0m \u001b[1;36m20\u001b[0m \u001b[1;33m]\u001b[0m\u001b[1;33m)\u001b[0m\u001b[1;33m,\u001b[0m\u001b[0msorted\u001b[0m \u001b[1;33m(\u001b[0m\u001b[1;33m[\u001b[0m\u001b[0mname\u001b[0m \u001b[1;32mfor\u001b[0m \u001b[0mname\u001b[0m\u001b[1;33m,\u001b[0m\u001b[0mage\u001b[0m \u001b[1;32min\u001b[0m \u001b[0msailors\u001b[0m\u001b[1;33m.\u001b[0m\u001b[0mitems\u001b[0m\u001b[1;33m(\u001b[0m\u001b[1;33m)\u001b[0m \u001b[1;32mif\u001b[0m \u001b[0mage\u001b[0m \u001b[1;33m<\u001b[0m\u001b[1;36m40\u001b[0m \u001b[1;32mand\u001b[0m \u001b[0mage\u001b[0m \u001b[1;33m>\u001b[0m \u001b[1;36m20\u001b[0m \u001b[1;33m]\u001b[0m\u001b[1;33m)\u001b[0m\u001b[1;33m\u001b[0m\u001b[0m\n\u001b[0;32m      5\u001b[0m \u001b[1;33m\u001b[0m\u001b[0m\n\u001b[1;32m----> 6\u001b[1;33m \u001b[0mprofile\u001b[0m\u001b[1;33m.\u001b[0m\u001b[0mrun\u001b[0m\u001b[1;33m(\u001b[0m\u001b[1;34m'for i in range(1000): two_teams(a)'\u001b[0m\u001b[1;33m)\u001b[0m\u001b[1;33m\u001b[0m\u001b[0m\n\u001b[0m",
      "\u001b[1;31mNameError\u001b[0m: name 'profile' is not defined"
     ]
    }
   ],
   "source": [
    "a={'Fernandes': 18, 'Johnson': 22, 'Kale': 41, 'McCortney': 54}\n",
    "\n",
    "def two_teams(sailors):\n",
    "    return  sorted ([name for name,age in sailors.items() if age >40 or age < 20 ]),sorted ([name for name,age in sailors.items() if age <40 and age > 20 ])\n",
    "\n",
    "profile.run('for i in range(1000): two_teams(a)')"
   ]
  },
  {
   "cell_type": "code",
   "execution_count": 123,
   "metadata": {},
   "outputs": [
    {
     "ename": "AttributeError",
     "evalue": "'Knight' object has no attribute 'health'",
     "output_type": "error",
     "traceback": [
      "\u001b[1;31m---------------------------------------------------------------------------\u001b[0m",
      "\u001b[1;31mAttributeError\u001b[0m                            Traceback (most recent call last)",
      "\u001b[1;32m<ipython-input-123-6a892a169362>\u001b[0m in \u001b[0;36m<module>\u001b[1;34m()\u001b[0m\n\u001b[0;32m     29\u001b[0m \u001b[1;33m\u001b[0m\u001b[0m\n\u001b[0;32m     30\u001b[0m     \u001b[1;32massert\u001b[0m \u001b[0mfight\u001b[0m\u001b[1;33m(\u001b[0m\u001b[0mchuck\u001b[0m\u001b[1;33m,\u001b[0m \u001b[0mbruce\u001b[0m\u001b[1;33m)\u001b[0m \u001b[1;33m==\u001b[0m \u001b[1;32mTrue\u001b[0m\u001b[1;33m\u001b[0m\u001b[0m\n\u001b[1;32m---> 31\u001b[1;33m     \u001b[1;32massert\u001b[0m \u001b[0mfight\u001b[0m\u001b[1;33m(\u001b[0m\u001b[0mdave\u001b[0m\u001b[1;33m,\u001b[0m \u001b[0mcarl\u001b[0m\u001b[1;33m)\u001b[0m \u001b[1;33m==\u001b[0m \u001b[1;32mFalse\u001b[0m\u001b[1;33m\u001b[0m\u001b[0m\n\u001b[0m\u001b[0;32m     32\u001b[0m     \u001b[1;32massert\u001b[0m \u001b[0mchuck\u001b[0m\u001b[1;33m.\u001b[0m\u001b[0mis_alive\u001b[0m \u001b[1;33m==\u001b[0m \u001b[1;32mTrue\u001b[0m\u001b[1;33m\u001b[0m\u001b[0m\n\u001b[0;32m     33\u001b[0m     \u001b[1;32massert\u001b[0m \u001b[0mbruce\u001b[0m\u001b[1;33m.\u001b[0m\u001b[0mis_alive\u001b[0m \u001b[1;33m==\u001b[0m \u001b[1;32mFalse\u001b[0m\u001b[1;33m\u001b[0m\u001b[0m\n",
      "\u001b[1;32m<ipython-input-123-6a892a169362>\u001b[0m in \u001b[0;36mfight\u001b[1;34m(unit_1, unit_2)\u001b[0m\n\u001b[0;32m     16\u001b[0m     \u001b[1;32mif\u001b[0m \u001b[0munit_1\u001b[0m\u001b[1;33m.\u001b[0m\u001b[0mis_alive\u001b[0m\u001b[1;33m(\u001b[0m\u001b[1;33m)\u001b[0m \u001b[1;32mor\u001b[0m \u001b[0munit_2\u001b[0m\u001b[1;33m.\u001b[0m\u001b[0mis_alive\u001b[0m\u001b[1;33m(\u001b[0m\u001b[1;33m)\u001b[0m\u001b[1;33m:\u001b[0m\u001b[1;33m\u001b[0m\u001b[0m\n\u001b[0;32m     17\u001b[0m         \u001b[0munit_1\u001b[0m\u001b[1;33m.\u001b[0m\u001b[0mhealth\u001b[0m\u001b[1;33m-=\u001b[0m\u001b[0munit_2\u001b[0m\u001b[1;33m.\u001b[0m\u001b[0mattack_damage\u001b[0m\u001b[1;33m\u001b[0m\u001b[0m\n\u001b[1;32m---> 18\u001b[1;33m         \u001b[0munit_2\u001b[0m\u001b[1;33m.\u001b[0m\u001b[0mhealth\u001b[0m\u001b[1;33m-=\u001b[0m\u001b[0munit_1\u001b[0m\u001b[1;33m.\u001b[0m\u001b[0mattack_damage\u001b[0m\u001b[1;33m\u001b[0m\u001b[0m\n\u001b[0m\u001b[0;32m     19\u001b[0m     \u001b[1;32mreturn\u001b[0m \u001b[1;32mTrue\u001b[0m \u001b[1;32mif\u001b[0m \u001b[0munit_1\u001b[0m\u001b[1;33m.\u001b[0m\u001b[0mis_alive\u001b[0m\u001b[1;33m(\u001b[0m\u001b[1;33m)\u001b[0m \u001b[1;32mor\u001b[0m \u001b[0munit_2\u001b[0m\u001b[1;33m.\u001b[0m\u001b[0mis_alive\u001b[0m\u001b[1;33m(\u001b[0m\u001b[1;33m)\u001b[0m \u001b[1;32melse\u001b[0m \u001b[1;32mFalse\u001b[0m\u001b[1;33m\u001b[0m\u001b[0m\n\u001b[0;32m     20\u001b[0m \u001b[1;33m\u001b[0m\u001b[0m\n",
      "\u001b[1;31mAttributeError\u001b[0m: 'Knight' object has no attribute 'health'"
     ]
    }
   ],
   "source": [
    "class Warrior:\n",
    "    def __init__ (self):\n",
    "        self.health=50\n",
    "        self.attack_damage=5\n",
    "    \n",
    "    def is_alive(self):\n",
    "        return True if self.health>0 else False\n",
    "    \n",
    "\n",
    "class Knight(Warrior):\n",
    "    def __init__ (self):\n",
    "        self.attack_damage=7\n",
    "    \n",
    "\n",
    "def fight(unit_1, unit_2):\n",
    "    if unit_1.is_alive() or unit_2.is_alive():\n",
    "        unit_1.health-=unit_2.attack_damage\n",
    "        unit_2.health-=unit_1.attack_damage\n",
    "    return True if unit_1.is_alive() or unit_2.is_alive() else False\n",
    "\n",
    "if __name__ == '__main__':\n",
    "    #These \"asserts\" using only for self-checking and not necessary for auto-testing\n",
    "\n",
    "    chuck = Warrior()\n",
    "    bruce = Warrior()\n",
    "    carl = Knight()\n",
    "    dave = Warrior()\n",
    "    mark = Warrior()\n",
    "\n",
    "    assert fight(chuck, bruce) == True\n",
    "    assert fight(dave, carl) == False\n",
    "    assert chuck.is_alive == True\n",
    "    assert bruce.is_alive == False\n",
    "    assert carl.is_alive == True\n",
    "    assert dave.is_alive == False\n",
    "    assert fight(carl, mark) == False\n",
    "    assert carl.is_alive == False\n",
    "\n",
    "    print(\"Coding complete? Let's try tests!\")"
   ]
  },
  {
   "cell_type": "code",
   "execution_count": 124,
   "metadata": {},
   "outputs": [
    {
     "name": "stdout",
     "output_type": "stream",
     "text": [
      "43 45 True True\n",
      "False\n",
      "36 40 True True\n",
      "False\n",
      "29 35 True True\n",
      "False\n",
      "22 30 True True\n",
      "False\n",
      "15 25 True True\n",
      "False\n",
      "8 20 True True\n",
      "False\n",
      "1 15 True True\n",
      "False\n",
      "-6 10 False True\n",
      "False\n",
      "False\n"
     ]
    }
   ],
   "source": [
    "class Warrior:\n",
    "    def __init__ (self):\n",
    "        self.health=50\n",
    "        self.attack_damage=5\n",
    "    @property\n",
    "    def is_alive(self):\n",
    "        return self.health>0\n",
    "    \n",
    "\n",
    "class Knight(Warrior):\n",
    "    def __init__ (self):\n",
    "        self.health=50\n",
    "        self.attack_damage=7\n",
    "        \n",
    "    \n",
    "    \n",
    "\n",
    "def fight(unit_1, unit_2):\n",
    "    while unit_1.is_alive and unit_2.is_alive:\n",
    "        unit_1.health-=unit_2.attack_damage\n",
    "        unit_2.health-=unit_1.attack_damage\n",
    "        print(unit_1.health,unit_2.health,unit_1.is_alive ,unit_2.is_alive )\n",
    "        print(unit_1.is_alive and not unit_2.is_alive )\n",
    "    return unit_1.is_alive and not unit_2.is_alive \n",
    "\n",
    "        \n",
    "chuck = Warrior()\n",
    "bruce = Warrior()\n",
    "carl = Knight()\n",
    "dave = Warrior()\n",
    "mark = Warrior()\n",
    "print(fight(bruce,carl ) )\n",
    "#     assert fight(dave, carl) == False\n",
    "#     assert chuck.is_alive == True\n",
    "#     assert bruce.is_alive == False\n",
    "#     assert carl.is_alive == True\n",
    "#     assert dave.is_alive == False\n",
    "#     assert fight(carl, mark) == False\n",
    "#     assert carl.is_alive == False\n"
   ]
  },
  {
   "cell_type": "code",
   "execution_count": 125,
   "metadata": {},
   "outputs": [
    {
     "name": "stdout",
     "output_type": "stream",
     "text": [
      "3\n"
     ]
    }
   ],
   "source": [
    "users = {1: 3,  5: 1}\n",
    "users1={1: 1, 1: 10, 2: 6 ,3:4 ,  5: 1}\n",
    "\n",
    "#My\n",
    "def MyNexus(users):\n",
    "    return min(list([abs(key-value),key] for key,value in users.items()))[1]\n",
    "\n",
    "#FromCodeWars\n",
    "nexus=lambda d:min(d,key=lambda x:(abs(x-d[x]),x))\n",
    "\n",
    "\n",
    "print(nexus(users1))"
   ]
  },
  {
   "cell_type": "code",
   "execution_count": 126,
   "metadata": {},
   "outputs": [
    {
     "name": "stdout",
     "output_type": "stream",
     "text": [
      "2\n",
      "3\n",
      "3\n",
      "3\n",
      "3\n",
      "3\n",
      "2\n",
      "3\n",
      "A wise old owl lived in an oak\n"
     ]
    }
   ],
   "source": [
    "string =\"65 119esi 111dl 111lw 108dvei 105n 97n 111ka\"\n",
    "\n",
    "#My\n",
    "def My_decipher_this(stirng):\n",
    "    one_string=''\n",
    "    strings=string.split(' ')\n",
    "    for i in strings:\n",
    "        string_without_digits(only_digit(i),i)\n",
    "        one_string+= chr(int(only_digit(i)))+change_first_and_last(string_without_digits(only_digit(i),i))\n",
    "    return one_string\n",
    "    \n",
    "def only_digit (data):\n",
    "    theReturn = ''.join(filter(lambda x: x.isdigit(),(i for i in data)))\n",
    "    return theReturn\n",
    "\n",
    "def string_without_digits(digit,string):\n",
    "    return string[len(digit):]\n",
    "    \n",
    "def change_first_and_last(string):\n",
    "    if len(string)>1:\n",
    "        return string[-1]+string[1:-1]+string[0]+' '\n",
    "    else:\n",
    "        return string\n",
    "\n",
    "#The Cleaver\n",
    "def decipher_word(word):\n",
    "    #print(sum(map(str.isdigit, word)))\n",
    "    i = sum(map(str.isdigit, word))\n",
    "    print(i)\n",
    "    decoded = chr(int(word[:i]))\n",
    "    if len(word) > i + 1:\n",
    "        decoded += word[-1]\n",
    "    if len(word) > i:\n",
    "        decoded += word[i+1:-1] + word[i:i+1]\n",
    "    return decoded\n",
    "\n",
    "def decipher_this(string):\n",
    "    return ' '.join(map(decipher_word, string.split()))\n",
    "\n",
    "\n",
    "\n",
    "print(decipher_this(string))"
   ]
  },
  {
   "cell_type": "code",
   "execution_count": 127,
   "metadata": {},
   "outputs": [
    {
     "name": "stdout",
     "output_type": "stream",
     "text": [
      "65 119esi 111dl 111lw 108dvei 105n 97n 111ka\n"
     ]
    }
   ],
   "source": [
    "string =\"A wise old owl lived in an oak\"\n",
    "#My\n",
    "def My_encrypt_this(text):\n",
    "    result_string=''\n",
    "    for i in text.split():\n",
    "        result_string+=first_letter(i)+swap_letters(i[1:])+' '\n",
    "    return result_string[:-1]\n",
    "    \n",
    "def first_letter (word):\n",
    "    return str(ord(word[0]))\n",
    "\n",
    "def swap_letters (word):\n",
    "    if len(word)>1:\n",
    "        return word[-1]+word[1:-1]+word[0]\n",
    "    else:\n",
    "        return word\n",
    "    \n",
    "#The Coeaver\n",
    "def swapper(w):\n",
    "    return w if len(w)<2 else w[-1] + w[1:-1] + w[0]\n",
    "\n",
    "def encrypt_this(s):\n",
    "    return ' '.join(w if not w else str(ord(w[0])) + swapper(w[1:]) for w in s.split())\n",
    "\n",
    "    \n",
    "print(encrypt_this(string))"
   ]
  },
  {
   "cell_type": "code",
   "execution_count": 128,
   "metadata": {},
   "outputs": [
    {
     "name": "stdout",
     "output_type": "stream",
     "text": [
      "[(0, 0), (1, 1), (1, 2), (1, 3), (1, 4), (1, 5), (2, 6), (2, 7), (2, 8), (2, 9), (2, 10), (2, 11), (2, 12), (2, 13), (2, 14), (2, 15), (3, 16), (3, 17), (3, 18), (3, 19), (3, 20), (3, 21), (3, 22), (3, 23), (3, 24), (3, 25), (3, 26), (3, 27), (3, 28), (3, 29), (3, 30), (4, 31), (4, 32), (4, 33), (4, 34), (4, 35), (4, 36), (4, 37), (4, 38), (4, 39), (4, 40), (4, 41), (4, 42), (4, 43), (4, 44), (4, 45), (4, 46), (4, 47), (4, 48), (4, 49), (4, 50), (5, 51), (5, 52), (5, 53), (5, 54), (5, 55), (5, 56), (5, 57), (5, 58), (5, 59), (5, 60), (5, 61), (5, 62), (5, 63), (5, 64), (5, 65), (5, 66), (5, 67), (5, 68), (5, 69), (5, 70), (5, 71), (5, 72), (5, 73), (5, 74), (5, 75), (6, 76), (6, 77), (6, 78), (6, 79), (6, 80), (6, 81), (6, 82), (6, 83), (6, 84), (6, 85), (6, 86), (6, 87), (6, 88), (6, 89), (6, 90), (6, 91), (6, 92), (6, 93), (6, 94), (6, 95), (6, 96), (6, 97), (6, 98), (6, 99), (6, 100), (6, 101), (6, 102), (6, 103), (6, 104), (6, 105), (7, 106), (7, 107), (7, 108), (7, 109), (7, 110), (7, 111), (7, 112), (7, 113), (7, 114), (7, 115), (7, 116), (7, 117), (7, 118), (7, 119), (7, 120), (7, 121), (7, 122), (7, 123), (7, 124), (7, 125), (7, 126), (7, 127), (7, 128), (7, 129), (7, 130), (7, 131), (7, 132), (7, 133), (7, 134), (7, 135), (7, 136), (7, 137), (7, 138), (7, 139), (7, 140), (7, 141), (7, 142), (7, 143), (7, 144), (7, 145), (7, 146), (7, 147), (7, 148), (7, 149), (7, 150), (7, 151), (7, 152), (7, 153), (7, 154), (7, 155), (8, 156), (8, 157), (8, 158), (8, 159), (8, 160), (8, 161), (8, 162), (8, 163), (8, 164), (8, 165), (8, 166), (8, 167), (8, 168), (8, 169), (8, 170), (8, 171), (8, 172), (8, 173), (8, 174), (8, 175), (8, 176), (8, 177), (8, 178), (8, 179), (8, 180), (8, 181), (8, 182), (8, 183), (8, 184), (8, 185), (8, 186), (8, 187), (8, 188), (8, 189), (8, 190), (8, 191), (8, 192), (8, 193), (8, 194), (8, 195), (8, 196), (8, 197), (8, 198), (8, 199), (8, 200), (8, 201), (8, 202), (8, 203), (8, 204), (8, 205), (9, 206), (9, 207), (9, 208), (9, 209), (9, 210), (9, 211), (9, 212), (9, 213), (9, 214), (9, 215), (9, 216), (9, 217), (9, 218), (9, 219), (9, 220), (9, 221), (9, 222), (9, 223), (9, 224), (9, 225), (9, 226), (9, 227), (9, 228), (9, 229), (9, 230), (9, 231), (9, 232), (9, 233), (9, 234), (9, 235), (9, 236), (9, 237), (9, 238), (9, 239), (9, 240), (9, 241), (9, 242), (9, 243), (9, 244), (9, 245), (9, 246), (9, 247), (9, 248), (9, 249), (9, 250), (9, 251), (9, 252), (9, 253), (9, 254), (9, 255), (10, 256), (10, 257), (10, 258), (10, 259), (10, 260), (10, 261), (10, 262), (10, 263), (10, 264), (10, 265), (10, 266), (10, 267), (10, 268), (10, 269), (10, 270), (10, 271), (10, 272), (10, 273), (10, 274), (10, 275), (10, 276), (10, 277), (10, 278), (10, 279), (10, 280), (10, 281), (10, 282), (10, 283), (10, 284), (10, 285), (10, 286), (10, 287), (10, 288), (10, 289), (10, 290), (10, 291), (10, 292), (10, 293), (10, 294), (10, 295), (10, 296), (10, 297), (10, 298), (10, 299), (10, 300), (10, 301), (10, 302), (10, 303), (10, 304), (10, 305), (11, 306), (11, 307), (11, 308), (11, 309), (11, 310), (11, 311), (11, 312), (11, 313), (11, 314), (11, 315), (11, 316), (11, 317), (11, 318), (11, 319), (11, 320), (11, 321), (11, 322), (11, 323), (11, 324), (11, 325), (11, 326), (11, 327), (11, 328), (11, 329), (11, 330), (11, 331), (11, 332), (11, 333), (11, 334), (11, 335), (11, 336), (11, 337), (11, 338), (11, 339), (11, 340), (11, 341), (11, 342), (11, 343), (11, 344), (11, 345), (11, 346), (11, 347), (11, 348), (11, 349), (11, 350), (11, 351), (11, 352), (11, 353), (11, 354), (11, 355), (12, 356), (12, 357), (12, 358), (12, 359), (12, 360), (12, 361), (12, 362), (12, 363), (12, 364), (12, 365), (12, 366), (12, 367), (12, 368), (12, 369), (12, 370), (12, 371), (12, 372), (12, 373), (12, 374), (12, 375), (12, 376), (12, 377), (12, 378), (12, 379), (12, 380), (12, 381), (12, 382), (12, 383), (12, 384), (12, 385), (12, 386), (12, 387), (12, 388), (12, 389), (12, 390), (12, 391), (12, 392), (12, 393), (12, 394), (12, 395), (12, 396), (12, 397), (12, 398), (12, 399), (12, 400), (12, 401), (12, 402), (12, 403), (12, 404), (12, 405), (13, 406), (13, 407), (13, 408), (13, 409), (13, 410), (13, 411), (13, 412), (13, 413), (13, 414), (13, 415), (13, 416), (13, 417), (13, 418), (13, 419), (13, 420), (13, 421), (13, 422), (13, 423), (13, 424), (13, 425), (13, 426), (13, 427), (13, 428), (13, 429), (13, 430), (13, 431), (13, 432), (13, 433), (13, 434), (13, 435), (13, 436), (13, 437), (13, 438), (13, 439), (13, 440), (13, 441), (13, 442), (13, 443), (13, 444), (13, 445), (13, 446), (13, 447), (13, 448), (13, 449), (13, 450), (13, 451), (13, 452), (13, 453), (13, 454), (13, 455), (14, 456), (14, 457), (14, 458), (14, 459), (14, 460), (14, 461), (14, 462), (14, 463), (14, 464), (14, 465), (14, 466), (14, 467), (14, 468), (14, 469), (14, 470), (14, 471), (14, 472), (14, 473), (14, 474), (14, 475), (14, 476), (14, 477), (14, 478), (14, 479), (14, 480), (14, 481), (14, 482), (14, 483), (14, 484), (14, 485), (14, 486), (14, 487), (14, 488), (14, 489), (14, 490), (14, 491), (14, 492), (14, 493), (14, 494), (14, 495), (14, 496), (14, 497), (14, 498), (14, 499)]\n"
     ]
    }
   ],
   "source": [
    "def get_level(score):\n",
    "    return 1 + get_level(score-50) if score>140 else l_level(score)\n",
    "\n",
    "\n",
    "def l_level(score):\n",
    "    if score ==0:\n",
    "        return 0\n",
    "    x=0\n",
    "    y=1\n",
    "    level=1\n",
    "    while x <35:\n",
    "        x+=5\n",
    "        y+=x\n",
    "        \n",
    "        if score<y:\n",
    "            return level\n",
    "        level+=1\n",
    "       \n",
    "        \n",
    "print(list(zip(map(get_level,[i for i in range(500)]),(i for i in range (500)))))"
   ]
  },
  {
   "cell_type": "code",
   "execution_count": 129,
   "metadata": {},
   "outputs": [],
   "source": [
    "import uuid\n",
    "x=uuid.uuid4()"
   ]
  },
  {
   "cell_type": "code",
   "execution_count": 130,
   "metadata": {},
   "outputs": [
    {
     "name": "stdout",
     "output_type": "stream",
     "text": [
      "25078520\n"
     ]
    }
   ],
   "source": [
    "print(x.time_low)\n"
   ]
  },
  {
   "cell_type": "code",
   "execution_count": 131,
   "metadata": {},
   "outputs": [
    {
     "name": "stderr",
     "output_type": "stream",
     "text": [
      "14:00:00: Main    : before creating thread\n",
      "14:00:00: Main    : before running thread\n",
      "14:00:00: Thread 1: starting\n",
      "14:00:00: Main    : wait for the thread to finish\n",
      "14:00:00: Main    : all done\n"
     ]
    }
   ],
   "source": [
    "import logging\n",
    "import threading\n",
    "import time\n",
    "\n",
    "def thread_function(name):\n",
    "    logging.info(\"Thread %s: starting\", name)\n",
    "    time.sleep(2)\n",
    "    logging.info(\"Thread %s: finishing\", name)\n",
    "\n",
    "if __name__ == \"__main__\":\n",
    "    format = \"%(asctime)s: %(message)s\"\n",
    "    logging.basicConfig(format=format, level=logging.INFO,\n",
    "                        datefmt=\"%H:%M:%S\")\n",
    "\n",
    "    logging.info(\"Main    : before creating thread\")\n",
    "    x = threading.Thread(target=thread_function, args=(1,))\n",
    "    logging.info(\"Main    : before running thread\")\n",
    "    x.start()\n",
    "    logging.info(\"Main    : wait for the thread to finish\")\n",
    "    # x.join()\n",
    "    logging.info(\"Main    : all done\")"
   ]
  },
  {
   "cell_type": "code",
   "execution_count": 132,
   "metadata": {},
   "outputs": [
    {
     "data": {
      "text/plain": [
       "'CPython'"
      ]
     },
     "execution_count": 132,
     "metadata": {},
     "output_type": "execute_result"
    }
   ],
   "source": [
    "import platform\n",
    "platform.python_implementation()\n"
   ]
  },
  {
   "cell_type": "code",
   "execution_count": 133,
   "metadata": {},
   "outputs": [
    {
     "ename": "NameError",
     "evalue": "name 'make_bricks' is not defined",
     "output_type": "error",
     "traceback": [
      "\u001b[1;31m---------------------------------------------------------------------------\u001b[0m",
      "\u001b[1;31mNameError\u001b[0m                                 Traceback (most recent call last)",
      "\u001b[1;32m<ipython-input-133-785443fdd71e>\u001b[0m in \u001b[0;36m<module>\u001b[1;34m()\u001b[0m\n\u001b[1;32m----> 1\u001b[1;33m \u001b[0md\u001b[0m \u001b[1;33m=\u001b[0m \u001b[0mmake_bricks\u001b[0m\u001b[1;33m(\u001b[0m\u001b[1;36m7\u001b[0m\u001b[1;33m,\u001b[0m \u001b[1;36m1\u001b[0m\u001b[1;33m,\u001b[0m \u001b[1;36m13\u001b[0m\u001b[1;33m)\u001b[0m\u001b[1;33m\u001b[0m\u001b[0m\n\u001b[0m\u001b[0;32m      2\u001b[0m \u001b[0mprint\u001b[0m \u001b[1;33m(\u001b[0m\u001b[0md\u001b[0m\u001b[1;33m)\u001b[0m\u001b[1;33m\u001b[0m\u001b[0m\n",
      "\u001b[1;31mNameError\u001b[0m: name 'make_bricks' is not defined"
     ]
    },
    {
     "name": "stderr",
     "output_type": "stream",
     "text": [
      "14:00:02: Thread 1: finishing\n"
     ]
    }
   ],
   "source": [
    "d = make_bricks(7, 1, 13)\n",
    "print (d)"
   ]
  },
  {
   "cell_type": "code",
   "execution_count": 134,
   "metadata": {},
   "outputs": [
    {
     "ename": "SyntaxError",
     "evalue": "invalid syntax (<ipython-input-134-1da95d27bc73>, line 2)",
     "output_type": "error",
     "traceback": [
      "\u001b[1;36m  File \u001b[1;32m\"<ipython-input-134-1da95d27bc73>\"\u001b[1;36m, line \u001b[1;32m2\u001b[0m\n\u001b[1;33m    s=\u001b[0m\n\u001b[1;37m      ^\u001b[0m\n\u001b[1;31mSyntaxError\u001b[0m\u001b[1;31m:\u001b[0m invalid syntax\n"
     ]
    }
   ],
   "source": [
    "def make_bricks(small, big, goal):\n",
    "    s="
   ]
  },
  {
   "cell_type": "code",
   "execution_count": 135,
   "metadata": {},
   "outputs": [
    {
     "name": "stdout",
     "output_type": "stream",
     "text": [
      "Example:\n",
      "\n",
      "0000000\n",
      "##00##0\n",
      "######0\n",
      "##00##0\n",
      "#0000#0\n",
      "    \n",
      "24\n"
     ]
    }
   ],
   "source": [
    "from operator import itemgetter\n",
    "def house(plan):\n",
    "    print(plan) \n",
    "    x=0\n",
    "    y=[]\n",
    "    for i in plan.split('\\n'):\n",
    "        x+=1\n",
    "        if i.find('#')!=-1:\n",
    "            \n",
    "            y.append([x,i.find('#'),len(i)-(i[::-1].find('#'))-1])\n",
    "    if y ==[]:\n",
    "        return 0\n",
    "    return (max(y,key=lambda x:x[2])[2]+1-min(y,key=lambda x:x[1])[1])*(max(y,key=lambda x:x[0])[0]+1-min(y,key=lambda x:x[0])[0])\n",
    "\n",
    "if __name__ == '__main__':\n",
    "    print(\"Example:\")\n",
    "    print(house('''\n",
    "0000000\n",
    "##00##0\n",
    "######0\n",
    "##00##0\n",
    "#0000#0\n",
    "    '''))"
   ]
  },
  {
   "cell_type": "code",
   "execution_count": 136,
   "metadata": {},
   "outputs": [
    {
     "ename": "SyntaxError",
     "evalue": "invalid syntax (<ipython-input-136-674e86e4948f>, line 11)",
     "output_type": "error",
     "traceback": [
      "\u001b[1;36m  File \u001b[1;32m\"<ipython-input-136-674e86e4948f>\"\u001b[1;36m, line \u001b[1;32m11\u001b[0m\n\u001b[1;33m    return FIRST_TEN[number//100-1]+HUNDRED+\u001b[0m\n\u001b[1;37m                                            ^\u001b[0m\n\u001b[1;31mSyntaxError\u001b[0m\u001b[1;31m:\u001b[0m invalid syntax\n"
     ]
    }
   ],
   "source": [
    "FIRST_TEN = [\"one \", \"two \", \"three \", \"four \", \"five \", \"six \", \"seven \",\n",
    "             \"eigh t\", \"nine \"]\n",
    "SECOND_TEN = [\"ten \", \"eleven \", \"twelve \", \"thirteen \", \"fourteen \", \"fifteen \",\n",
    "              \"sixteen \", \"seventeen \", \"eighteen \", \"nineteen \"]\n",
    "OTHER_TENS = [\"twenty \", \"thirty \", \"forty \", \"fifty \", \"sixty \", \"seventy \",\n",
    "              \"eighty \", \"ninety \"]\n",
    "HUNDRED = \"hundred \"\n",
    "\n",
    "def checkio(number):\n",
    "    if number > 100:\n",
    "        return FIRST_TEN[number//100-1]+HUNDRED+\n",
    "        \n",
    "checkio(218)"
   ]
  },
  {
   "cell_type": "code",
   "execution_count": 137,
   "metadata": {},
   "outputs": [
    {
     "name": "stdout",
     "output_type": "stream",
     "text": [
      "{1: ['q', 's'], 2: ['w'], 3: ['q']}\n"
     ]
    }
   ],
   "source": [
    "lis = [[1,'q','z'],[2,'w','x'],[1,'s','x'],[3,'q','z']]\n",
    "a={}\n",
    "for i in lis:\n",
    "    a.setdefault(i[0], []).append(i[1])\n",
    "print(a)\n",
    "        \n"
   ]
  },
  {
   "cell_type": "code",
   "execution_count": 61,
   "metadata": {},
   "outputs": [
    {
     "name": "stdout",
     "output_type": "stream",
     "text": [
      "['Hi my friend', 'ONLY ADMIN Can See this', 'General chat', 'MLP Core .Net', 'VK Management', 'WEB Site Python', 'Discord Bot', 'Web Server', 'test them all', 'Only Curators Can See This']\n"
     ]
    }
   ],
   "source": [
    "categories={'1':['11','12','13'],'11':['21','22','23'],'12':['31','32','33']}\n",
    "test = {}\n",
    "test1 = ['4','5','6']\n",
    "_list=['11','12','13']\n",
    "MLP={'Only Curators Can See This': ['curator voice chat', 'curator-chat'], 'None': ['Hi my friend', 'ONLY ADMIN Can See this', 'General chat', 'MLP Core .Net', 'VK Management', 'WEB Site Python', 'Discord Bot', 'Web Server', 'test them all', 'Only Curators Can See This'], 'Hi my friend': ['here-you-are', 'read-me-first', 'tell-about-your-goal'], 'ONLY ADMIN Can See this': ['log-discord-changes', 'log-user', 'passwords', 'amdin-chat'], 'General chat': ['start-info', 'discussion', 'suggestions', 'discussion-of-suggestions', 'book-of-complaints', 'daily-motivation', 'off-topic'], 'MLP Core .Net': ['info', 'classroom', 'tasks-core', 'step-by-step', 'questions', 'discussion', 'git-activity', 'git-activity-net'], 'VK Management': ['info', 'questions', 'discussion', 'think', 'git'], 'WEB Site Python': ['info', 'request-for-participation', 'step-by-step', 'questions', 'git-activity', 'discussion', 'tasks-backend'], 'Discord Bot': ['info', 'step-by-step', 'participation', 'discussion', 'task', 'git-activity'], 'Web Server': ['info', 'classroom', 'discussion', 'questions', 'requirements'], 'test them all': ['info', 'discussion', 'git-activity', 'questions', 'github-learning-lab', 'cool-links', 'noisy-tests', 'automaton']}\n",
    "# d={}\n",
    "# for indx,i in enumerate(categories['1']):\n",
    "#     print(categories[i])\n",
    "#     categories['string_'+str(indx)]=('\\t'.join(map(str,categories[i])).title()  )\n",
    "\n",
    "\n",
    "# test.setdefault('one',[]).append()\n",
    "# print(test)\n",
    "\n",
    "# def create_tree(name,obj):\n",
    "#     for i in obj[name]:\n",
    "#         yield name,list(create_tree(i,obj)) if i in obj else ''\n",
    "print(MLP['None'])"
   ]
  },
  {
   "cell_type": "code",
   "execution_count": 62,
   "metadata": {},
   "outputs": [
    {
     "name": "stdout",
     "output_type": "stream",
     "text": [
      "None\n"
     ]
    }
   ],
   "source": [
    "x = [1,2,3]\n",
    "print(x.__hash__)"
   ]
  },
  {
   "cell_type": "code",
   "execution_count": 63,
   "metadata": {},
   "outputs": [
    {
     "name": "stdout",
     "output_type": "stream",
     "text": [
      "two\n",
      "one\n",
      "not\n"
     ]
    }
   ],
   "source": [
    "received=['___no','one','two']\n",
    "for i in range(len(received)):\n",
    "    print(received.pop() if received[-1]!='___no' else 'not')"
   ]
  },
  {
   "cell_type": "code",
   "execution_count": 64,
   "metadata": {},
   "outputs": [
    {
     "data": {
      "image/png": "[encoded data removed]",
      "text/plain": [
       "<Figure size 432x288 with 1 Axes>"
      ]
     },
     "metadata": {},
     "output_type": "display_data"
    }
   ],
   "source": [
    "import matplotlib.pyplot as plt\n",
    "import numpy as np\n",
    "\n",
    "# Fixing random state for reproducibility\n",
    "np.random.seed(19680801)\n",
    "\n",
    "\n",
    "x = np.arange(0.0, 50.0, 5.0)\n",
    "y = x ** 1.3 + np.random.rand(*x.shape) * 30.0\n",
    "s = np.random.rand(*x.shape) * 800 + 500\n",
    "\n",
    "plt.scatter(x, y, s, c=\"r\", alpha=0.2, marker=r'$\\clubsuit$',\n",
    "            label=\"Luck\")\n",
    "plt.xlabel(\"Leprechauns\")\n",
    "plt.ylabel(\"Gold\")\n",
    "plt.legend(loc='upper left')\n",
    "plt.show()\n"
   ]
  },
  {
   "cell_type": "code",
   "execution_count": 65,
   "metadata": {},
   "outputs": [
    {
     "name": "stdout",
     "output_type": "stream",
     "text": [
      "None\n"
     ]
    }
   ],
   "source": [
    "\n",
    "def some_funct(a,arg=[]):\n",
    "    return arg.append(a)\n",
    "a='foo'\n",
    "print( some_funct(a))"
   ]
  },
  {
   "cell_type": "code",
   "execution_count": 66,
   "metadata": {},
   "outputs": [
    {
     "name": "stdout",
     "output_type": "stream",
     "text": [
      "['car']\n",
      "['car', 'ran']\n"
     ]
    }
   ],
   "source": [
    "def foo(a,arg=[]):\n",
    "    arg.append(a)\n",
    "    return arg\n",
    "print(foo('car'))\n",
    "print(foo('ran'))"
   ]
  },
  {
   "cell_type": "code",
   "execution_count": 67,
   "metadata": {},
   "outputs": [
    {
     "data": {
      "text/plain": [
       "True"
      ]
     },
     "execution_count": 67,
     "metadata": {},
     "output_type": "execute_result"
    }
   ],
   "source": [
    "a=1\n",
    "b=1\n",
    "a is b"
   ]
  },
  {
   "cell_type": "code",
   "execution_count": 68,
   "metadata": {},
   "outputs": [
    {
     "data": {
      "text/plain": [
       "False"
      ]
     },
     "execution_count": 68,
     "metadata": {},
     "output_type": "execute_result"
    }
   ],
   "source": [
    "b=300\n",
    "c=300\n",
    "b is c"
   ]
  },
  {
   "cell_type": "code",
   "execution_count": 69,
   "metadata": {},
   "outputs": [
    {
     "ename": "NameError",
     "evalue": "name 'Generic' is not defined",
     "output_type": "error",
     "traceback": [
      "\u001b[1;31m---------------------------------------------------------------------------\u001b[0m",
      "\u001b[1;31mNameError\u001b[0m                                 Traceback (most recent call last)",
      "\u001b[1;32m<ipython-input-69-8ed217471c90>\u001b[0m in \u001b[0;36m<module>\u001b[1;34m()\u001b[0m\n\u001b[1;32m----> 1\u001b[1;33m \u001b[1;32mclass\u001b[0m \u001b[0mMapping\u001b[0m\u001b[1;33m(\u001b[0m\u001b[0mGeneric\u001b[0m\u001b[1;33m[\u001b[0m\u001b[0mKT\u001b[0m\u001b[1;33m,\u001b[0m \u001b[0mVT\u001b[0m\u001b[1;33m]\u001b[0m\u001b[1;33m)\u001b[0m\u001b[1;33m:\u001b[0m\u001b[1;33m\u001b[0m\u001b[0m\n\u001b[0m\u001b[0;32m      2\u001b[0m     \u001b[1;32mdef\u001b[0m \u001b[0m__getitem__\u001b[0m\u001b[1;33m(\u001b[0m\u001b[0mself\u001b[0m\u001b[1;33m,\u001b[0m \u001b[0mkey\u001b[0m\u001b[1;33m:\u001b[0m \u001b[0mKT\u001b[0m\u001b[1;33m)\u001b[0m \u001b[1;33m->\u001b[0m \u001b[0mVT\u001b[0m\u001b[1;33m:\u001b[0m\u001b[1;33m\u001b[0m\u001b[0m\n\u001b[0;32m      3\u001b[0m         \u001b[1;32mpass\u001b[0m\u001b[1;33m\u001b[0m\u001b[0m\n\u001b[0;32m      4\u001b[0m \u001b[1;33m\u001b[0m\u001b[0m\n\u001b[0;32m      5\u001b[0m \u001b[0mX\u001b[0m \u001b[1;33m=\u001b[0m \u001b[0mTypeVar\u001b[0m\u001b[1;33m(\u001b[0m\u001b[1;34m'X'\u001b[0m\u001b[1;33m)\u001b[0m\u001b[1;33m\u001b[0m\u001b[0m\n",
      "\u001b[1;31mNameError\u001b[0m: name 'Generic' is not defined"
     ]
    }
   ],
   "source": [
    "class Mapping(Generic[KT, VT]):\n",
    "    def __getitem__(self, key: KT) -> VT:\n",
    "        pass\n",
    "\n",
    "X = TypeVar('X')\n",
    "Y = TypeVar('Y')\n",
    "\n",
    "def lookup_name(mapping: Mapping[X, Y], key: X, default: Y) -> Y:\n",
    "    try:\n",
    "        return mapping[key]\n",
    "    except KeyError:\n",
    "        return default"
   ]
  },
  {
   "cell_type": "code",
   "execution_count": 70,
   "metadata": {},
   "outputs": [
    {
     "ename": "AttributeError",
     "evalue": "type object 'DiscordNode' has no attribute '__init'",
     "output_type": "error",
     "traceback": [
      "\u001b[1;31m---------------------------------------------------------------------------\u001b[0m",
      "\u001b[1;31mAttributeError\u001b[0m                            Traceback (most recent call last)",
      "\u001b[1;32m<ipython-input-70-bb4a39d0d95d>\u001b[0m in \u001b[0;36m<module>\u001b[1;34m()\u001b[0m\n\u001b[0;32m      8\u001b[0m         \u001b[0mself\u001b[0m\u001b[1;33m.\u001b[0m\u001b[0mNodeDescr\u001b[0m \u001b[1;33m=\u001b[0m \u001b[0maNodeDescr\u001b[0m\u001b[1;33m\u001b[0m\u001b[0m\n\u001b[0;32m      9\u001b[0m \u001b[0mdn\u001b[0m \u001b[1;33m=\u001b[0m \u001b[0mDiscordNode\u001b[0m\u001b[1;33m(\u001b[0m\u001b[1;34m\"MLP Discord\"\u001b[0m\u001b[1;33m,\u001b[0m\u001b[1;34m\"root\"\u001b[0m\u001b[1;33m,\u001b[0m\u001b[1;34m\"Discord\"\u001b[0m \u001b[1;33m)\u001b[0m\u001b[1;33m\u001b[0m\u001b[0m\n\u001b[1;32m---> 10\u001b[1;33m \u001b[0mprint\u001b[0m\u001b[1;33m(\u001b[0m\u001b[0mDiscordNode\u001b[0m\u001b[1;33m.\u001b[0m\u001b[0m__init\u001b[0m\u001b[1;33m.\u001b[0m\u001b[0m__dict__\u001b[0m\u001b[1;33m)\u001b[0m\u001b[1;33m\u001b[0m\u001b[0m\n\u001b[0m",
      "\u001b[1;31mAttributeError\u001b[0m: type object 'DiscordNode' has no attribute '__init'"
     ]
    }
   ],
   "source": [
    "class DiscordNode:\n",
    "    def __init__(self, \n",
    "                aNodeName:str =None, \n",
    "                aNodeKind:str =None,\n",
    "                aNodeDescr:str =None):\n",
    "        self.NodeName = aNodeName\n",
    "        self.NodeKind = aNodeKind\n",
    "        self.NodeDescr = aNodeDescr\n",
    "dn = DiscordNode(\"MLP Discord\",\"root\",\"Discord\" )\n",
    "print(DiscordNode.__init.__dict__)"
   ]
  },
  {
   "cell_type": "code",
   "execution_count": 71,
   "metadata": {},
   "outputs": [],
   "source": [
    "def squre(n,p):\n",
    "    res=0\n",
    "    for i in str(n):\n",
    "        res+=int(i)**p\n",
    "        print(f'{i}**{p} = ',int(i)**p)\n",
    "        p+=1\n",
    "    return res"
   ]
  },
  {
   "cell_type": "code",
   "execution_count": 72,
   "metadata": {},
   "outputs": [
    {
     "name": "stdout",
     "output_type": "stream",
     "text": [
      "4**3 =  64\n",
      "6**4 =  1296\n",
      "2**5 =  32\n",
      "8**6 =  262144\n",
      "8**7 =  2097152\n"
     ]
    },
    {
     "data": {
      "text/plain": [
       "2360688"
      ]
     },
     "execution_count": 72,
     "metadata": {},
     "output_type": "execute_result"
    }
   ],
   "source": [
    "squre(46288,3)"
   ]
  },
  {
   "cell_type": "code",
   "execution_count": 73,
   "metadata": {},
   "outputs": [
    {
     "name": "stdout",
     "output_type": "stream",
     "text": [
      "Hello\n",
      "Hello\n",
      "Hello\n",
      "Hello\n",
      "Hello\n",
      "Hello\n",
      "Hello\n",
      "Hello\n",
      "Not Hello\n"
     ]
    }
   ],
   "source": [
    "for x in range(0, 9):\n",
    "    globals()['string%s' % x] = 'Hello'\n",
    "    if x==8:\n",
    "        globals()['string%s' % x]='Not Hello'\n",
    "    print(globals()['string%s' % x])\n"
   ]
  },
  {
   "cell_type": "code",
   "execution_count": 74,
   "metadata": {},
   "outputs": [
    {
     "name": "stdout",
     "output_type": "stream",
     "text": [
      "True\n",
      "True\n"
     ]
    }
   ],
   "source": [
    "print(300==300)\n",
    "print(200==200)"
   ]
  },
  {
   "cell_type": "code",
   "execution_count": 75,
   "metadata": {},
   "outputs": [
    {
     "name": "stdout",
     "output_type": "stream",
     "text": [
      "853\n"
     ]
    }
   ],
   "source": [
    "arr=[2,6,4,8,4,2,443,5,7,8,9,7,6,54,6,3,234,45,678,]\n",
    "def summ(arr):\n",
    "    i,*els = arr\n",
    "    return i+ summ(els) if els else 0\n",
    "print(summ(arr))"
   ]
  },
  {
   "cell_type": "code",
   "execution_count": 76,
   "metadata": {},
   "outputs": [],
   "source": [
    "\n",
    "\n",
    "def convert_base(num, to_base=10, from_base=10):\n",
    "    # first convert to decimal number\n",
    "    if isinstance(num, str):\n",
    "        n = int(num, from_base)\n",
    "    else:\n",
    "        n = int(num)\n",
    "    # now convert decimal to 'to_base' base\n",
    "    alphabet = \"0123456789ABCDEFGHIJKLMNOPQRSTUVWXYZ\"\n",
    "    if n < to_base:\n",
    "        return alphabet[n]\n",
    "    else:\n",
    "        return convert_base(n // to_base, to_base) + alphabet[n % to_base]"
   ]
  },
  {
   "cell_type": "code",
   "execution_count": 77,
   "metadata": {},
   "outputs": [
    {
     "data": {
      "text/plain": [
       "'2'"
      ]
     },
     "execution_count": 77,
     "metadata": {},
     "output_type": "execute_result"
    }
   ],
   "source": [
    "convert_base ('10',to_base=16,from_base=2)"
   ]
  },
  {
   "cell_type": "code",
   "execution_count": 78,
   "metadata": {},
   "outputs": [
    {
     "name": "stdout",
     "output_type": "stream",
     "text": [
      "10\n"
     ]
    }
   ],
   "source": [
    "n = int('1010', 2)\n",
    "print(n)"
   ]
  },
  {
   "cell_type": "code",
   "execution_count": 79,
   "metadata": {},
   "outputs": [
    {
     "name": "stdout",
     "output_type": "stream",
     "text": [
      "4\n"
     ]
    }
   ],
   "source": [
    "medals ={':unranked:':'1' ,':bronze:':'10' ,':silver:':'100', \n",
    "        ':gold:':'1000', ':platinum:':'10000' ,':diamond:':'100000' ,\n",
    "        ':master:' :'1000000',':devops:':'10000000' ,':scientist:':'100000000' }\n",
    "print(int(medals[':bronze:'],4))\n"
   ]
  },
  {
   "cell_type": "code",
   "execution_count": 80,
   "metadata": {},
   "outputs": [
    {
     "name": "stdout",
     "output_type": "stream",
     "text": [
      "[]\n"
     ]
    }
   ],
   "source": [
    "from itertools import repeat\n",
    "x='str'\n",
    "l = []\n",
    "l.extend(repeat(x, 0))\n",
    "print(l)"
   ]
  },
  {
   "cell_type": "code",
   "execution_count": 81,
   "metadata": {},
   "outputs": [],
   "source": [
    "def fmt_item(lines, max_lines=0):\n",
    "    max_width = max([len(line) for line in lines])\n",
    "    empty = ' '*max_width\n",
    "    lines = [line.ljust(max_width) for line in lines]\n",
    "    lines += [empty] * (max_lines - len(lines))\n",
    "    return lines\n",
    "def pp(*lst):\n",
    "    lines = [str(item).split('\\n') for item in lst]\n",
    "    max_lines = max([len(item) for item in lines])\n",
    "    lines = [fmt_item(item, max_lines=max_lines) for item in lines]\n",
    "    lines_t = np.array(lines).T\n",
    "    print('\\n'.join([' '.join(line) for line in lines_t]))"
   ]
  },
  {
   "cell_type": "code",
   "execution_count": 82,
   "metadata": {},
   "outputs": [
    {
     "name": "stdout",
     "output_type": "stream",
     "text": [
      "6\n"
     ]
    }
   ],
   "source": [
    "from math import *\n",
    "import numpy as np\n",
    "x = (1,1)\n",
    "y = (5,3)\n",
    "\n",
    "ranges =np.fromiter([ i-j for i,j in zip(x,y)],np.int8)\n",
    "\n",
    "dist=np.sum(np.abs(ranges))\n",
    "\n",
    "print(dist)"
   ]
  },
  {
   "cell_type": "code",
   "execution_count": null,
   "metadata": {},
   "outputs": [],
   "source": []
  },
  {
   "cell_type": "code",
   "execution_count": null,
   "metadata": {},
   "outputs": [],
   "source": []
  },
  {
   "cell_type": "code",
   "execution_count": 83,
   "metadata": {},
   "outputs": [],
   "source": [
    "def two_loop (A,B,R):\n",
    "    for i in range(A.shape[0]):\n",
    "        for j in range(B.shape[0]):\n",
    "            ranges = A[i]-B[j]\n",
    "            R[i,j] =  np.sum(np.abs(ranges))\n",
    "            "
   ]
  },
  {
   "cell_type": "code",
   "execution_count": 84,
   "metadata": {},
   "outputs": [],
   "source": [
    "def one_loop (A,B,R):\n",
    "    for i in range(A.shape[0]):\n",
    "        R[i]=np.sum(np.abs(B-A[i]),axis = 1)\n",
    "        pp(np.sum(np.abs(B-A[i]),axis = 1))\n",
    "       "
   ]
  },
  {
   "cell_type": "code",
   "execution_count": 85,
   "metadata": {},
   "outputs": [],
   "source": [
    "def no_loop (A,B,R):\n",
    "    R[:]=np.sum(np.abs(B-A[:,None]),axis = 2)[:]\n",
    "#     pp(np.abs(B-A[:,None]))\n",
    "    pp(A[:,None])"
   ]
  },
  {
   "cell_type": "code",
   "execution_count": 86,
   "metadata": {},
   "outputs": [
    {
     "name": "stdout",
     "output_type": "stream",
     "text": [
      "[[[6 3 7 4 6]] \n",
      "               \n",
      " [[9 2 6 7 4]] \n",
      "               \n",
      " [[3 7 7 2 5]]]\n",
      "[[6 3 7 4 6]  - [[4 1 7 5 1]  = [[10. 10. 22.] \n",
      " [9 2 6 7 4]     [4 0 9 5 8]     [12. 16. 22.] \n",
      " [3 7 7 2 5]]    [0 9 2 6 3]]    [14. 16. 16.]]\n"
     ]
    }
   ],
   "source": [
    "import numpy as np\n",
    "np.random.seed(42)\n",
    "A = np.random.randint(10,size=(3,5))\n",
    "B = np.random.randint(10,size=(3,5))\n",
    "R = np.zeros ((A.shape[0],B.shape[0]),np.float32)\n",
    "#two_loop (A,B,R)\n",
    "#one_loop(A,B,R)\n",
    "no_loop(A,B,R)\n",
    "#pp(A,B)\n",
    "pp(A,'-',B, '=',R)"
   ]
  },
  {
   "cell_type": "code",
   "execution_count": 87,
   "metadata": {},
   "outputs": [],
   "source": [
    "test_A=np.arange(15).reshape(3,5)"
   ]
  },
  {
   "cell_type": "code",
   "execution_count": 88,
   "metadata": {},
   "outputs": [
    {
     "name": "stdout",
     "output_type": "stream",
     "text": [
      "[0 1 2 3 4] [[0]  [[ 0  1  2  3  4] \n",
      "             [1]   [-1  0  1  2  3] \n",
      "             [2]   [-2 -1  0  1  2] \n",
      "             [3]   [-3 -2 -1  0  1] \n",
      "             [4]]  [-4 -3 -2 -1  0]]\n"
     ]
    }
   ],
   "source": [
    "pp(test_A[0].T,test_A[0:1].T,test_A[0].T-test_A[0:1].T)"
   ]
  },
  {
   "cell_type": "code",
   "execution_count": 89,
   "metadata": {},
   "outputs": [
    {
     "name": "stdout",
     "output_type": "stream",
     "text": [
      "[[[  4   0   5   2  -3]  \n",
      "  [  4  -1   7   2   4]  \n",
      "  [  0   8   0   3  -1]] \n",
      "                         \n",
      " [[ -1  -5   0  -3  -8]  \n",
      "  [ -1  -6   2  -3  -1]  \n",
      "  [ -5   3  -5  -2  -6]] \n",
      "                         \n",
      " [[ -6 -10  -5  -8 -13]  \n",
      "  [ -6 -11  -3  -8  -6]  \n",
      "  [-10  -2 -10  -7 -11]]]\n"
     ]
    }
   ],
   "source": [
    "pp (B - test_A[:,None] )"
   ]
  },
  {
   "cell_type": "code",
   "execution_count": 90,
   "metadata": {},
   "outputs": [
    {
     "name": "stdout",
     "output_type": "stream",
     "text": [
      "[[[-4  0 -5 -2  3]\n",
      "  [-4  1 -7 -2 -4]\n",
      "  [ 0 -8  0 -3  1]]\n",
      "\n",
      " [[ 1  5  0  3  8]\n",
      "  [ 1  6 -2  3  1]\n",
      "  [ 5 -3  5  2  6]]\n",
      "\n",
      " [[ 6 10  5  8 13]\n",
      "  [ 6 11  3  8  6]\n",
      "  [10  2 10  7 11]]]\n"
     ]
    }
   ],
   "source": [
    "print ( test_A[:,None] -B )"
   ]
  },
  {
   "cell_type": "code",
   "execution_count": 91,
   "metadata": {},
   "outputs": [
    {
     "name": "stdout",
     "output_type": "stream",
     "text": [
      "2019-08-04 13:59:00 [datetime.datetime(2019, 8, 4, 13, 59), datetime.datetime(2019, 8, 4, 14, 59), datetime.datetime(2019, 8, 4, 15, 59), datetime.datetime(2019, 8, 4, 16, 59)]\n",
      "it is\n"
     ]
    }
   ],
   "source": [
    "from datetime import datetime,timedelta\n",
    "delta = [timedelta (hours = i) for i in range(0,4)]\n",
    "time = datetime.today().replace(second = 0,microsecond = 0)\n",
    "times = [time+delt for delt in delta]\n",
    "print(time , times)\n",
    "if time in times:\n",
    "    print ('it is')"
   ]
  },
  {
   "cell_type": "code",
   "execution_count": 92,
   "metadata": {},
   "outputs": [
    {
     "name": "stdout",
     "output_type": "stream",
     "text": [
      "[ True  True]\n"
     ]
    }
   ],
   "source": [
    "import numpy as np\n",
    "\n",
    "actu = np.array([True,True,False,True,False,False])\n",
    "pred = np.array([False,True,True,False,False,True])\n",
    "\n",
    "TP = actu[pred == False]\n",
    "print(TP[TP])"
   ]
  },
  {
   "cell_type": "code",
   "execution_count": 93,
   "metadata": {},
   "outputs": [
    {
     "ename": "NameError",
     "evalue": "name 'bols' is not defined",
     "output_type": "error",
     "traceback": [
      "\u001b[1;31m---------------------------------------------------------------------------\u001b[0m",
      "\u001b[1;31mNameError\u001b[0m                                 Traceback (most recent call last)",
      "\u001b[1;32m<ipython-input-93-56b61cc564b5>\u001b[0m in \u001b[0;36m<module>\u001b[1;34m()\u001b[0m\n\u001b[1;32m----> 1\u001b[1;33m \u001b[0mbools\u001b[0m \u001b[1;33m=\u001b[0m \u001b[0mnp\u001b[0m\u001b[1;33m.\u001b[0m\u001b[0marray\u001b[0m\u001b[1;33m(\u001b[0m\u001b[1;33m[\u001b[0m\u001b[0mnp\u001b[0m\u001b[1;33m.\u001b[0m\u001b[0mmean\u001b[0m\u001b[1;33m(\u001b[0m\u001b[0mi\u001b[0m\u001b[1;33m)\u001b[0m \u001b[1;32mfor\u001b[0m \u001b[0mi\u001b[0m \u001b[1;32min\u001b[0m \u001b[0mbols\u001b[0m\u001b[1;33m]\u001b[0m\u001b[1;33m)\u001b[0m\u001b[1;33m>\u001b[0m\u001b[1;36m0.5\u001b[0m\u001b[1;33m\u001b[0m\u001b[0m\n\u001b[0m\u001b[0;32m      2\u001b[0m \u001b[0mprint\u001b[0m\u001b[1;33m(\u001b[0m\u001b[0mbools\u001b[0m\u001b[1;33m)\u001b[0m\u001b[1;33m\u001b[0m\u001b[0m\n",
      "\u001b[1;31mNameError\u001b[0m: name 'bols' is not defined"
     ]
    }
   ],
   "source": [
    "bools = np.array([np.mean(i) for i in bols])>0.5\n",
    "print(bools)\n"
   ]
  },
  {
   "cell_type": "code",
   "execution_count": 94,
   "metadata": {},
   "outputs": [
    {
     "ename": "NameError",
     "evalue": "name 'bols' is not defined",
     "output_type": "error",
     "traceback": [
      "\u001b[1;31m---------------------------------------------------------------------------\u001b[0m",
      "\u001b[1;31mNameError\u001b[0m                                 Traceback (most recent call last)",
      "\u001b[1;32m<ipython-input-94-5a708830ccd9>\u001b[0m in \u001b[0;36m<module>\u001b[1;34m()\u001b[0m\n\u001b[1;32m----> 1\u001b[1;33m \u001b[1;32mfor\u001b[0m \u001b[0mi\u001b[0m \u001b[1;32min\u001b[0m \u001b[0mbols\u001b[0m\u001b[1;33m:\u001b[0m\u001b[1;33m\u001b[0m\u001b[0m\n\u001b[0m\u001b[0;32m      2\u001b[0m     \u001b[0mbools\u001b[0m \u001b[1;33m=\u001b[0m \u001b[0mme\u001b[0m\u001b[1;33m(\u001b[0m\u001b[0mi\u001b[0m\u001b[1;33m)\u001b[0m\u001b[1;33m\u001b[0m\u001b[0m\n",
      "\u001b[1;31mNameError\u001b[0m: name 'bols' is not defined"
     ]
    }
   ],
   "source": [
    "for i in bols:\n",
    "    bools = me(i)"
   ]
  },
  {
   "cell_type": "code",
   "execution_count": 96,
   "metadata": {},
   "outputs": [],
   "source": [
    "from datetime import datetime"
   ]
  },
  {
   "cell_type": "code",
   "execution_count": 97,
   "metadata": {},
   "outputs": [
    {
     "name": "stdout",
     "output_type": "stream",
     "text": [
      "59\n"
     ]
    }
   ],
   "source": [
    "t = datetime.today().minute\n",
    "print(t)"
   ]
  },
  {
   "cell_type": "code",
   "execution_count": 98,
   "metadata": {},
   "outputs": [
    {
     "name": "stdout",
     "output_type": "stream",
     "text": [
      "[array([False,  True,  True,  True,  True,  True,  True,  True,  True,\n",
      "       False, False,  True, False, False, False, False,  True, False,\n",
      "        True, False]), array([False, False,  True, False,  True, False,  True, False,  True,\n",
      "        True, False,  True, False, False, False, False, False, False,\n",
      "       False, False]), array([False, False, False,  True,  True, False, False, False, False,\n",
      "       False, False, False, False,  True, False,  True, False, False,\n",
      "        True, False]), array([ True, False, False,  True, False,  True, False,  True,  True,\n",
      "       False, False,  True, False, False, False,  True,  True,  True,\n",
      "        True,  True]), array([ True,  True,  True,  True, False,  True, False, False, False,\n",
      "        True,  True,  True,  True, False,  True,  True,  True,  True,\n",
      "        True, False])]\n"
     ]
    }
   ],
   "source": [
    "lists_ = [np.random.choice(a = [True,False], size = 20) for i in range(5)]\n",
    "print(lists_)"
   ]
  },
  {
   "cell_type": "code",
   "execution_count": 99,
   "metadata": {},
   "outputs": [
    {
     "ename": "NameError",
     "evalue": "name 'x_splitplit' is not defined",
     "output_type": "error",
     "traceback": [
      "\u001b[1;31m---------------------------------------------------------------------------\u001b[0m",
      "\u001b[1;31mNameError\u001b[0m                                 Traceback (most recent call last)",
      "\u001b[1;32m<ipython-input-99-4f291dd2daae>\u001b[0m in \u001b[0;36m<module>\u001b[1;34m()\u001b[0m\n\u001b[0;32m      2\u001b[0m \u001b[0mx\u001b[0m \u001b[1;33m=\u001b[0m \u001b[0mnp\u001b[0m\u001b[1;33m.\u001b[0m\u001b[0marange\u001b[0m\u001b[1;33m(\u001b[0m\u001b[1;36m20\u001b[0m\u001b[1;33m)\u001b[0m\u001b[1;33m\u001b[0m\u001b[0m\n\u001b[0;32m      3\u001b[0m \u001b[0mx_split\u001b[0m \u001b[1;33m=\u001b[0m \u001b[0mnp\u001b[0m\u001b[1;33m.\u001b[0m\u001b[0msplit\u001b[0m\u001b[1;33m(\u001b[0m\u001b[0mx\u001b[0m\u001b[1;33m,\u001b[0m\u001b[1;36m5\u001b[0m\u001b[1;33m)\u001b[0m\u001b[1;33m\u001b[0m\u001b[0m\n\u001b[1;32m----> 4\u001b[1;33m \u001b[0mprint\u001b[0m\u001b[1;33m(\u001b[0m\u001b[0mlen\u001b[0m\u001b[1;33m(\u001b[0m\u001b[0mx_splitplit\u001b[0m\u001b[1;33m)\u001b[0m\u001b[1;33m)\u001b[0m\u001b[1;33m\u001b[0m\u001b[0m\n\u001b[0m",
      "\u001b[1;31mNameError\u001b[0m: name 'x_splitplit' is not defined"
     ]
    }
   ],
   "source": [
    "import numpy as np# x is your dataset\n",
    "x = np.arange(20)\n",
    "x_split = np.split(x,5)\n",
    "print(len(x_splitplit))"
   ]
  },
  {
   "cell_type": "code",
   "execution_count": 100,
   "metadata": {},
   "outputs": [],
   "source": [
    "def pred_func (list_):\n",
    "    in_list = np.copy(list_)\n",
    "    indxes = np.random.randint(0,20,2)\n",
    "    indxes = [0,1]\n",
    "    in_list[indxes] = ~in_list[indxes]\n",
    "    return  in_list\n",
    "    "
   ]
  },
  {
   "cell_type": "code",
   "execution_count": 101,
   "metadata": {},
   "outputs": [],
   "source": [
    "def acurecy (gr_t,pred):\n",
    "    return len(pred[gr_t == pred])/len(gr_t)"
   ]
  },
  {
   "cell_type": "code",
   "execution_count": 102,
   "metadata": {},
   "outputs": [
    {
     "data": {
      "text/plain": [
       "[0.9, 0.9, 0.9, 0.9, 0.9]"
      ]
     },
     "execution_count": 102,
     "metadata": {},
     "output_type": "execute_result"
    }
   ],
   "source": [
    "[acurecy(pred_func(list_),list_) for list_ in lists_ ]"
   ]
  },
  {
   "cell_type": "code",
   "execution_count": 103,
   "metadata": {},
   "outputs": [
    {
     "ename": "NameError",
     "evalue": "name 'list_' is not defined",
     "output_type": "error",
     "traceback": [
      "\u001b[1;31m---------------------------------------------------------------------------\u001b[0m",
      "\u001b[1;31mNameError\u001b[0m                                 Traceback (most recent call last)",
      "\u001b[1;32m<ipython-input-103-afad3d4f2646>\u001b[0m in \u001b[0;36m<module>\u001b[1;34m()\u001b[0m\n\u001b[1;32m----> 1\u001b[1;33m \u001b[0mprint\u001b[0m\u001b[1;33m(\u001b[0m\u001b[0mpred_func\u001b[0m\u001b[1;33m(\u001b[0m\u001b[0mlist_\u001b[0m\u001b[1;33m)\u001b[0m\u001b[1;33m.\u001b[0m\u001b[0mshape\u001b[0m\u001b[1;33m)\u001b[0m\u001b[1;33m\u001b[0m\u001b[0m\n\u001b[0m",
      "\u001b[1;31mNameError\u001b[0m: name 'list_' is not defined"
     ]
    }
   ],
   "source": [
    "print(pred_func(list_).shape)"
   ]
  },
  {
   "cell_type": "code",
   "execution_count": 104,
   "metadata": {},
   "outputs": [],
   "source": [
    "\n",
    "import numpy as np\n",
    "k_primes=[]\n",
    "\n",
    "def count_Kprimes(k, start, nd):\n",
    "    if start == 0:\n",
    "        start =1\n",
    "    k_numbers = []\n",
    "    max_nd_prime = n_primes(int(nd/2)+1)\n",
    "    for i in range(nd+1-start):\n",
    "        if is_dev(i+start,max_nd_prime) == k:\n",
    "            k_numbers.append(i+start)            \n",
    "    return k_numbers\n",
    "    \n",
    "def is_k_prime(num,k,nd):\n",
    "    global k_primes\n",
    "    k_primes = []\n",
    "    devide(num,nd) \n",
    "    if len(k_primes)==k:\n",
    "        return True\n",
    "    \n",
    "        \n",
    "def devide (num,rng):\n",
    "    global k_primes\n",
    "    for i in rng:\n",
    "        if num%i == 0 :\n",
    "            k_primes.append(i)\n",
    "            return devide(num/i,rng) if num/i!= 1 else 1\n",
    "        else:\n",
    "            return 1\n",
    "        \n",
    "def is_dev(num,i):\n",
    "    i1,*il=i    \n",
    "    if num%i1==0:\n",
    "        return 1+is_dev(num/i1,i) \n",
    "    else:\n",
    "        return is_dev(num,il) if num>1 else 0\n",
    "    \n",
    "        \n",
    "def n_primes (n):\n",
    "    k_prime = np.ones((n),dtype = bool)\n",
    "    for i in range(2,n):\n",
    "        if k_prime[i] == True:\n",
    "            for j in range(i*2,n,i):\n",
    "                k_prime[j]=False\n",
    "            \n",
    "    return k_prime.nonzero()[0][2:].astype(np.int32)\n",
    "\n"
   ]
  },
  {
   "cell_type": "code",
   "execution_count": 105,
   "metadata": {},
   "outputs": [
    {
     "data": {
      "text/plain": [
       "3"
      ]
     },
     "execution_count": 105,
     "metadata": {},
     "output_type": "execute_result"
    }
   ],
   "source": [
    "is_dev(12,n_primes (100))"
   ]
  },
  {
   "cell_type": "code",
   "execution_count": 106,
   "metadata": {},
   "outputs": [
    {
     "ename": "ValueError",
     "evalue": "not enough values to unpack (expected at least 1, got 0)",
     "output_type": "error",
     "traceback": [
      "\u001b[1;31m---------------------------------------------------------------------------\u001b[0m",
      "\u001b[1;31mValueError\u001b[0m                                Traceback (most recent call last)",
      "\u001b[1;32m<ipython-input-106-1fe71b1058c5>\u001b[0m in \u001b[0;36m<module>\u001b[1;34m()\u001b[0m\n\u001b[1;32m----> 1\u001b[1;33m \u001b[0mget_ipython\u001b[0m\u001b[1;33m(\u001b[0m\u001b[1;33m)\u001b[0m\u001b[1;33m.\u001b[0m\u001b[0mrun_line_magic\u001b[0m\u001b[1;33m(\u001b[0m\u001b[1;34m'prun'\u001b[0m\u001b[1;33m,\u001b[0m \u001b[1;34m'count_Kprimes(5, 500, 1000)'\u001b[0m\u001b[1;33m)\u001b[0m\u001b[1;33m\u001b[0m\u001b[0m\n\u001b[0m",
      "\u001b[1;32mC:\\Anaconda3\\lib\\site-packages\\IPython\\core\\interactiveshell.py\u001b[0m in \u001b[0;36mrun_line_magic\u001b[1;34m(self, magic_name, line, _stack_depth)\u001b[0m\n\u001b[0;32m   2129\u001b[0m                 \u001b[0mkwargs\u001b[0m\u001b[1;33m[\u001b[0m\u001b[1;34m'local_ns'\u001b[0m\u001b[1;33m]\u001b[0m \u001b[1;33m=\u001b[0m \u001b[0msys\u001b[0m\u001b[1;33m.\u001b[0m\u001b[0m_getframe\u001b[0m\u001b[1;33m(\u001b[0m\u001b[0mstack_depth\u001b[0m\u001b[1;33m)\u001b[0m\u001b[1;33m.\u001b[0m\u001b[0mf_locals\u001b[0m\u001b[1;33m\u001b[0m\u001b[0m\n\u001b[0;32m   2130\u001b[0m             \u001b[1;32mwith\u001b[0m \u001b[0mself\u001b[0m\u001b[1;33m.\u001b[0m\u001b[0mbuiltin_trap\u001b[0m\u001b[1;33m:\u001b[0m\u001b[1;33m\u001b[0m\u001b[0m\n\u001b[1;32m-> 2131\u001b[1;33m                 \u001b[0mresult\u001b[0m \u001b[1;33m=\u001b[0m \u001b[0mfn\u001b[0m\u001b[1;33m(\u001b[0m\u001b[1;33m*\u001b[0m\u001b[0margs\u001b[0m\u001b[1;33m,\u001b[0m\u001b[1;33m**\u001b[0m\u001b[0mkwargs\u001b[0m\u001b[1;33m)\u001b[0m\u001b[1;33m\u001b[0m\u001b[0m\n\u001b[0m\u001b[0;32m   2132\u001b[0m             \u001b[1;32mreturn\u001b[0m \u001b[0mresult\u001b[0m\u001b[1;33m\u001b[0m\u001b[0m\n\u001b[0;32m   2133\u001b[0m \u001b[1;33m\u001b[0m\u001b[0m\n",
      "\u001b[1;32m<decorator-gen-57>\u001b[0m in \u001b[0;36mprun\u001b[1;34m(self, parameter_s, cell)\u001b[0m\n",
      "\u001b[1;32mC:\\Anaconda3\\lib\\site-packages\\IPython\\core\\magic.py\u001b[0m in \u001b[0;36m<lambda>\u001b[1;34m(f, *a, **k)\u001b[0m\n\u001b[0;32m    185\u001b[0m     \u001b[1;31m# but it's overkill for just that one bit of state.\u001b[0m\u001b[1;33m\u001b[0m\u001b[1;33m\u001b[0m\u001b[0m\n\u001b[0;32m    186\u001b[0m     \u001b[1;32mdef\u001b[0m \u001b[0mmagic_deco\u001b[0m\u001b[1;33m(\u001b[0m\u001b[0marg\u001b[0m\u001b[1;33m)\u001b[0m\u001b[1;33m:\u001b[0m\u001b[1;33m\u001b[0m\u001b[0m\n\u001b[1;32m--> 187\u001b[1;33m         \u001b[0mcall\u001b[0m \u001b[1;33m=\u001b[0m \u001b[1;32mlambda\u001b[0m \u001b[0mf\u001b[0m\u001b[1;33m,\u001b[0m \u001b[1;33m*\u001b[0m\u001b[0ma\u001b[0m\u001b[1;33m,\u001b[0m \u001b[1;33m**\u001b[0m\u001b[0mk\u001b[0m\u001b[1;33m:\u001b[0m \u001b[0mf\u001b[0m\u001b[1;33m(\u001b[0m\u001b[1;33m*\u001b[0m\u001b[0ma\u001b[0m\u001b[1;33m,\u001b[0m \u001b[1;33m**\u001b[0m\u001b[0mk\u001b[0m\u001b[1;33m)\u001b[0m\u001b[1;33m\u001b[0m\u001b[0m\n\u001b[0m\u001b[0;32m    188\u001b[0m \u001b[1;33m\u001b[0m\u001b[0m\n\u001b[0;32m    189\u001b[0m         \u001b[1;32mif\u001b[0m \u001b[0mcallable\u001b[0m\u001b[1;33m(\u001b[0m\u001b[0marg\u001b[0m\u001b[1;33m)\u001b[0m\u001b[1;33m:\u001b[0m\u001b[1;33m\u001b[0m\u001b[0m\n",
      "\u001b[1;32mC:\\Anaconda3\\lib\\site-packages\\IPython\\core\\magics\\execution.py\u001b[0m in \u001b[0;36mprun\u001b[1;34m(self, parameter_s, cell)\u001b[0m\n\u001b[0;32m    300\u001b[0m             \u001b[0marg_str\u001b[0m \u001b[1;33m+=\u001b[0m \u001b[1;34m'\\n'\u001b[0m \u001b[1;33m+\u001b[0m \u001b[0mcell\u001b[0m\u001b[1;33m\u001b[0m\u001b[0m\n\u001b[0;32m    301\u001b[0m         \u001b[0marg_str\u001b[0m \u001b[1;33m=\u001b[0m \u001b[0mself\u001b[0m\u001b[1;33m.\u001b[0m\u001b[0mshell\u001b[0m\u001b[1;33m.\u001b[0m\u001b[0minput_splitter\u001b[0m\u001b[1;33m.\u001b[0m\u001b[0mtransform_cell\u001b[0m\u001b[1;33m(\u001b[0m\u001b[0marg_str\u001b[0m\u001b[1;33m)\u001b[0m\u001b[1;33m\u001b[0m\u001b[0m\n\u001b[1;32m--> 302\u001b[1;33m         \u001b[1;32mreturn\u001b[0m \u001b[0mself\u001b[0m\u001b[1;33m.\u001b[0m\u001b[0m_run_with_profiler\u001b[0m\u001b[1;33m(\u001b[0m\u001b[0marg_str\u001b[0m\u001b[1;33m,\u001b[0m \u001b[0mopts\u001b[0m\u001b[1;33m,\u001b[0m \u001b[0mself\u001b[0m\u001b[1;33m.\u001b[0m\u001b[0mshell\u001b[0m\u001b[1;33m.\u001b[0m\u001b[0muser_ns\u001b[0m\u001b[1;33m)\u001b[0m\u001b[1;33m\u001b[0m\u001b[0m\n\u001b[0m\u001b[0;32m    303\u001b[0m \u001b[1;33m\u001b[0m\u001b[0m\n\u001b[0;32m    304\u001b[0m     \u001b[1;32mdef\u001b[0m \u001b[0m_run_with_profiler\u001b[0m\u001b[1;33m(\u001b[0m\u001b[0mself\u001b[0m\u001b[1;33m,\u001b[0m \u001b[0mcode\u001b[0m\u001b[1;33m,\u001b[0m \u001b[0mopts\u001b[0m\u001b[1;33m,\u001b[0m \u001b[0mnamespace\u001b[0m\u001b[1;33m)\u001b[0m\u001b[1;33m:\u001b[0m\u001b[1;33m\u001b[0m\u001b[0m\n",
      "\u001b[1;32mC:\\Anaconda3\\lib\\site-packages\\IPython\\core\\magics\\execution.py\u001b[0m in \u001b[0;36m_run_with_profiler\u001b[1;34m(self, code, opts, namespace)\u001b[0m\n\u001b[0;32m    322\u001b[0m         \u001b[0mprof\u001b[0m \u001b[1;33m=\u001b[0m \u001b[0mprofile\u001b[0m\u001b[1;33m.\u001b[0m\u001b[0mProfile\u001b[0m\u001b[1;33m(\u001b[0m\u001b[1;33m)\u001b[0m\u001b[1;33m\u001b[0m\u001b[0m\n\u001b[0;32m    323\u001b[0m         \u001b[1;32mtry\u001b[0m\u001b[1;33m:\u001b[0m\u001b[1;33m\u001b[0m\u001b[0m\n\u001b[1;32m--> 324\u001b[1;33m             \u001b[0mprof\u001b[0m \u001b[1;33m=\u001b[0m \u001b[0mprof\u001b[0m\u001b[1;33m.\u001b[0m\u001b[0mrunctx\u001b[0m\u001b[1;33m(\u001b[0m\u001b[0mcode\u001b[0m\u001b[1;33m,\u001b[0m \u001b[0mnamespace\u001b[0m\u001b[1;33m,\u001b[0m \u001b[0mnamespace\u001b[0m\u001b[1;33m)\u001b[0m\u001b[1;33m\u001b[0m\u001b[0m\n\u001b[0m\u001b[0;32m    325\u001b[0m             \u001b[0msys_exit\u001b[0m \u001b[1;33m=\u001b[0m \u001b[1;34m''\u001b[0m\u001b[1;33m\u001b[0m\u001b[0m\n\u001b[0;32m    326\u001b[0m         \u001b[1;32mexcept\u001b[0m \u001b[0mSystemExit\u001b[0m\u001b[1;33m:\u001b[0m\u001b[1;33m\u001b[0m\u001b[0m\n",
      "\u001b[1;32mC:\\Anaconda3\\lib\\cProfile.py\u001b[0m in \u001b[0;36mrunctx\u001b[1;34m(self, cmd, globals, locals)\u001b[0m\n\u001b[0;32m     98\u001b[0m         \u001b[0mself\u001b[0m\u001b[1;33m.\u001b[0m\u001b[0menable\u001b[0m\u001b[1;33m(\u001b[0m\u001b[1;33m)\u001b[0m\u001b[1;33m\u001b[0m\u001b[0m\n\u001b[0;32m     99\u001b[0m         \u001b[1;32mtry\u001b[0m\u001b[1;33m:\u001b[0m\u001b[1;33m\u001b[0m\u001b[0m\n\u001b[1;32m--> 100\u001b[1;33m             \u001b[0mexec\u001b[0m\u001b[1;33m(\u001b[0m\u001b[0mcmd\u001b[0m\u001b[1;33m,\u001b[0m \u001b[0mglobals\u001b[0m\u001b[1;33m,\u001b[0m \u001b[0mlocals\u001b[0m\u001b[1;33m)\u001b[0m\u001b[1;33m\u001b[0m\u001b[0m\n\u001b[0m\u001b[0;32m    101\u001b[0m         \u001b[1;32mfinally\u001b[0m\u001b[1;33m:\u001b[0m\u001b[1;33m\u001b[0m\u001b[0m\n\u001b[0;32m    102\u001b[0m             \u001b[0mself\u001b[0m\u001b[1;33m.\u001b[0m\u001b[0mdisable\u001b[0m\u001b[1;33m(\u001b[0m\u001b[1;33m)\u001b[0m\u001b[1;33m\u001b[0m\u001b[0m\n",
      "\u001b[1;32m<string>\u001b[0m in \u001b[0;36m<module>\u001b[1;34m()\u001b[0m\n",
      "\u001b[1;32m<ipython-input-104-34b3236344d2>\u001b[0m in \u001b[0;36mcount_Kprimes\u001b[1;34m(k, start, nd)\u001b[0m\n\u001b[0;32m      9\u001b[0m     \u001b[0mmax_nd_prime\u001b[0m \u001b[1;33m=\u001b[0m \u001b[0mn_primes\u001b[0m\u001b[1;33m(\u001b[0m\u001b[0mint\u001b[0m\u001b[1;33m(\u001b[0m\u001b[0mnd\u001b[0m\u001b[1;33m/\u001b[0m\u001b[1;36m2\u001b[0m\u001b[1;33m)\u001b[0m\u001b[1;33m+\u001b[0m\u001b[1;36m1\u001b[0m\u001b[1;33m)\u001b[0m\u001b[1;33m\u001b[0m\u001b[0m\n\u001b[0;32m     10\u001b[0m     \u001b[1;32mfor\u001b[0m \u001b[0mi\u001b[0m \u001b[1;32min\u001b[0m \u001b[0mrange\u001b[0m\u001b[1;33m(\u001b[0m\u001b[0mnd\u001b[0m\u001b[1;33m+\u001b[0m\u001b[1;36m1\u001b[0m\u001b[1;33m-\u001b[0m\u001b[0mstart\u001b[0m\u001b[1;33m)\u001b[0m\u001b[1;33m:\u001b[0m\u001b[1;33m\u001b[0m\u001b[0m\n\u001b[1;32m---> 11\u001b[1;33m         \u001b[1;32mif\u001b[0m \u001b[0mis_dev\u001b[0m\u001b[1;33m(\u001b[0m\u001b[0mi\u001b[0m\u001b[1;33m+\u001b[0m\u001b[0mstart\u001b[0m\u001b[1;33m,\u001b[0m\u001b[0mmax_nd_prime\u001b[0m\u001b[1;33m)\u001b[0m \u001b[1;33m==\u001b[0m \u001b[0mk\u001b[0m\u001b[1;33m:\u001b[0m\u001b[1;33m\u001b[0m\u001b[0m\n\u001b[0m\u001b[0;32m     12\u001b[0m             \u001b[0mk_numbers\u001b[0m\u001b[1;33m.\u001b[0m\u001b[0mappend\u001b[0m\u001b[1;33m(\u001b[0m\u001b[0mi\u001b[0m\u001b[1;33m+\u001b[0m\u001b[0mstart\u001b[0m\u001b[1;33m)\u001b[0m\u001b[1;33m\u001b[0m\u001b[0m\n\u001b[0;32m     13\u001b[0m     \u001b[1;32mreturn\u001b[0m \u001b[0mk_numbers\u001b[0m\u001b[1;33m\u001b[0m\u001b[0m\n",
      "\u001b[1;32m<ipython-input-104-34b3236344d2>\u001b[0m in \u001b[0;36mis_dev\u001b[1;34m(num, i)\u001b[0m\n\u001b[0;32m     35\u001b[0m         \u001b[1;32mreturn\u001b[0m \u001b[1;36m1\u001b[0m\u001b[1;33m+\u001b[0m\u001b[0mis_dev\u001b[0m\u001b[1;33m(\u001b[0m\u001b[0mnum\u001b[0m\u001b[1;33m/\u001b[0m\u001b[0mi1\u001b[0m\u001b[1;33m,\u001b[0m\u001b[0mi\u001b[0m\u001b[1;33m)\u001b[0m\u001b[1;33m\u001b[0m\u001b[0m\n\u001b[0;32m     36\u001b[0m     \u001b[1;32melse\u001b[0m\u001b[1;33m:\u001b[0m\u001b[1;33m\u001b[0m\u001b[0m\n\u001b[1;32m---> 37\u001b[1;33m         \u001b[1;32mreturn\u001b[0m \u001b[0mis_dev\u001b[0m\u001b[1;33m(\u001b[0m\u001b[0mnum\u001b[0m\u001b[1;33m,\u001b[0m\u001b[0mil\u001b[0m\u001b[1;33m)\u001b[0m \u001b[1;32mif\u001b[0m \u001b[0mnum\u001b[0m\u001b[1;33m>\u001b[0m\u001b[1;36m1\u001b[0m \u001b[1;32melse\u001b[0m \u001b[1;36m0\u001b[0m\u001b[1;33m\u001b[0m\u001b[0m\n\u001b[0m\u001b[0;32m     38\u001b[0m \u001b[1;33m\u001b[0m\u001b[0m\n\u001b[0;32m     39\u001b[0m \u001b[1;33m\u001b[0m\u001b[0m\n",
      "\u001b[1;32m<ipython-input-104-34b3236344d2>\u001b[0m in \u001b[0;36mis_dev\u001b[1;34m(num, i)\u001b[0m\n\u001b[0;32m     35\u001b[0m         \u001b[1;32mreturn\u001b[0m \u001b[1;36m1\u001b[0m\u001b[1;33m+\u001b[0m\u001b[0mis_dev\u001b[0m\u001b[1;33m(\u001b[0m\u001b[0mnum\u001b[0m\u001b[1;33m/\u001b[0m\u001b[0mi1\u001b[0m\u001b[1;33m,\u001b[0m\u001b[0mi\u001b[0m\u001b[1;33m)\u001b[0m\u001b[1;33m\u001b[0m\u001b[0m\n\u001b[0;32m     36\u001b[0m     \u001b[1;32melse\u001b[0m\u001b[1;33m:\u001b[0m\u001b[1;33m\u001b[0m\u001b[0m\n\u001b[1;32m---> 37\u001b[1;33m         \u001b[1;32mreturn\u001b[0m \u001b[0mis_dev\u001b[0m\u001b[1;33m(\u001b[0m\u001b[0mnum\u001b[0m\u001b[1;33m,\u001b[0m\u001b[0mil\u001b[0m\u001b[1;33m)\u001b[0m \u001b[1;32mif\u001b[0m \u001b[0mnum\u001b[0m\u001b[1;33m>\u001b[0m\u001b[1;36m1\u001b[0m \u001b[1;32melse\u001b[0m \u001b[1;36m0\u001b[0m\u001b[1;33m\u001b[0m\u001b[0m\n\u001b[0m\u001b[0;32m     38\u001b[0m \u001b[1;33m\u001b[0m\u001b[0m\n\u001b[0;32m     39\u001b[0m \u001b[1;33m\u001b[0m\u001b[0m\n",
      "\u001b[1;32m<ipython-input-104-34b3236344d2>\u001b[0m in \u001b[0;36mis_dev\u001b[1;34m(num, i)\u001b[0m\n\u001b[0;32m     35\u001b[0m         \u001b[1;32mreturn\u001b[0m \u001b[1;36m1\u001b[0m\u001b[1;33m+\u001b[0m\u001b[0mis_dev\u001b[0m\u001b[1;33m(\u001b[0m\u001b[0mnum\u001b[0m\u001b[1;33m/\u001b[0m\u001b[0mi1\u001b[0m\u001b[1;33m,\u001b[0m\u001b[0mi\u001b[0m\u001b[1;33m)\u001b[0m\u001b[1;33m\u001b[0m\u001b[0m\n\u001b[0;32m     36\u001b[0m     \u001b[1;32melse\u001b[0m\u001b[1;33m:\u001b[0m\u001b[1;33m\u001b[0m\u001b[0m\n\u001b[1;32m---> 37\u001b[1;33m         \u001b[1;32mreturn\u001b[0m \u001b[0mis_dev\u001b[0m\u001b[1;33m(\u001b[0m\u001b[0mnum\u001b[0m\u001b[1;33m,\u001b[0m\u001b[0mil\u001b[0m\u001b[1;33m)\u001b[0m \u001b[1;32mif\u001b[0m \u001b[0mnum\u001b[0m\u001b[1;33m>\u001b[0m\u001b[1;36m1\u001b[0m \u001b[1;32melse\u001b[0m \u001b[1;36m0\u001b[0m\u001b[1;33m\u001b[0m\u001b[0m\n\u001b[0m\u001b[0;32m     38\u001b[0m \u001b[1;33m\u001b[0m\u001b[0m\n\u001b[0;32m     39\u001b[0m \u001b[1;33m\u001b[0m\u001b[0m\n",
      "\u001b[1;32m<ipython-input-104-34b3236344d2>\u001b[0m in \u001b[0;36mis_dev\u001b[1;34m(num, i)\u001b[0m\n\u001b[0;32m     35\u001b[0m         \u001b[1;32mreturn\u001b[0m \u001b[1;36m1\u001b[0m\u001b[1;33m+\u001b[0m\u001b[0mis_dev\u001b[0m\u001b[1;33m(\u001b[0m\u001b[0mnum\u001b[0m\u001b[1;33m/\u001b[0m\u001b[0mi1\u001b[0m\u001b[1;33m,\u001b[0m\u001b[0mi\u001b[0m\u001b[1;33m)\u001b[0m\u001b[1;33m\u001b[0m\u001b[0m\n\u001b[0;32m     36\u001b[0m     \u001b[1;32melse\u001b[0m\u001b[1;33m:\u001b[0m\u001b[1;33m\u001b[0m\u001b[0m\n\u001b[1;32m---> 37\u001b[1;33m         \u001b[1;32mreturn\u001b[0m \u001b[0mis_dev\u001b[0m\u001b[1;33m(\u001b[0m\u001b[0mnum\u001b[0m\u001b[1;33m,\u001b[0m\u001b[0mil\u001b[0m\u001b[1;33m)\u001b[0m \u001b[1;32mif\u001b[0m \u001b[0mnum\u001b[0m\u001b[1;33m>\u001b[0m\u001b[1;36m1\u001b[0m \u001b[1;32melse\u001b[0m \u001b[1;36m0\u001b[0m\u001b[1;33m\u001b[0m\u001b[0m\n\u001b[0m\u001b[0;32m     38\u001b[0m \u001b[1;33m\u001b[0m\u001b[0m\n\u001b[0;32m     39\u001b[0m \u001b[1;33m\u001b[0m\u001b[0m\n",
      "\u001b[1;32m<ipython-input-104-34b3236344d2>\u001b[0m in \u001b[0;36mis_dev\u001b[1;34m(num, i)\u001b[0m\n\u001b[0;32m     35\u001b[0m         \u001b[1;32mreturn\u001b[0m \u001b[1;36m1\u001b[0m\u001b[1;33m+\u001b[0m\u001b[0mis_dev\u001b[0m\u001b[1;33m(\u001b[0m\u001b[0mnum\u001b[0m\u001b[1;33m/\u001b[0m\u001b[0mi1\u001b[0m\u001b[1;33m,\u001b[0m\u001b[0mi\u001b[0m\u001b[1;33m)\u001b[0m\u001b[1;33m\u001b[0m\u001b[0m\n\u001b[0;32m     36\u001b[0m     \u001b[1;32melse\u001b[0m\u001b[1;33m:\u001b[0m\u001b[1;33m\u001b[0m\u001b[0m\n\u001b[1;32m---> 37\u001b[1;33m         \u001b[1;32mreturn\u001b[0m \u001b[0mis_dev\u001b[0m\u001b[1;33m(\u001b[0m\u001b[0mnum\u001b[0m\u001b[1;33m,\u001b[0m\u001b[0mil\u001b[0m\u001b[1;33m)\u001b[0m \u001b[1;32mif\u001b[0m \u001b[0mnum\u001b[0m\u001b[1;33m>\u001b[0m\u001b[1;36m1\u001b[0m \u001b[1;32melse\u001b[0m \u001b[1;36m0\u001b[0m\u001b[1;33m\u001b[0m\u001b[0m\n\u001b[0m\u001b[0;32m     38\u001b[0m \u001b[1;33m\u001b[0m\u001b[0m\n\u001b[0;32m     39\u001b[0m \u001b[1;33m\u001b[0m\u001b[0m\n",
      "\u001b[1;32m<ipython-input-104-34b3236344d2>\u001b[0m in \u001b[0;36mis_dev\u001b[1;34m(num, i)\u001b[0m\n\u001b[0;32m     35\u001b[0m         \u001b[1;32mreturn\u001b[0m \u001b[1;36m1\u001b[0m\u001b[1;33m+\u001b[0m\u001b[0mis_dev\u001b[0m\u001b[1;33m(\u001b[0m\u001b[0mnum\u001b[0m\u001b[1;33m/\u001b[0m\u001b[0mi1\u001b[0m\u001b[1;33m,\u001b[0m\u001b[0mi\u001b[0m\u001b[1;33m)\u001b[0m\u001b[1;33m\u001b[0m\u001b[0m\n\u001b[0;32m     36\u001b[0m     \u001b[1;32melse\u001b[0m\u001b[1;33m:\u001b[0m\u001b[1;33m\u001b[0m\u001b[0m\n\u001b[1;32m---> 37\u001b[1;33m         \u001b[1;32mreturn\u001b[0m \u001b[0mis_dev\u001b[0m\u001b[1;33m(\u001b[0m\u001b[0mnum\u001b[0m\u001b[1;33m,\u001b[0m\u001b[0mil\u001b[0m\u001b[1;33m)\u001b[0m \u001b[1;32mif\u001b[0m \u001b[0mnum\u001b[0m\u001b[1;33m>\u001b[0m\u001b[1;36m1\u001b[0m \u001b[1;32melse\u001b[0m \u001b[1;36m0\u001b[0m\u001b[1;33m\u001b[0m\u001b[0m\n\u001b[0m\u001b[0;32m     38\u001b[0m \u001b[1;33m\u001b[0m\u001b[0m\n\u001b[0;32m     39\u001b[0m \u001b[1;33m\u001b[0m\u001b[0m\n",
      "\u001b[1;32m<ipython-input-104-34b3236344d2>\u001b[0m in \u001b[0;36mis_dev\u001b[1;34m(num, i)\u001b[0m\n\u001b[0;32m     35\u001b[0m         \u001b[1;32mreturn\u001b[0m \u001b[1;36m1\u001b[0m\u001b[1;33m+\u001b[0m\u001b[0mis_dev\u001b[0m\u001b[1;33m(\u001b[0m\u001b[0mnum\u001b[0m\u001b[1;33m/\u001b[0m\u001b[0mi1\u001b[0m\u001b[1;33m,\u001b[0m\u001b[0mi\u001b[0m\u001b[1;33m)\u001b[0m\u001b[1;33m\u001b[0m\u001b[0m\n\u001b[0;32m     36\u001b[0m     \u001b[1;32melse\u001b[0m\u001b[1;33m:\u001b[0m\u001b[1;33m\u001b[0m\u001b[0m\n\u001b[1;32m---> 37\u001b[1;33m         \u001b[1;32mreturn\u001b[0m \u001b[0mis_dev\u001b[0m\u001b[1;33m(\u001b[0m\u001b[0mnum\u001b[0m\u001b[1;33m,\u001b[0m\u001b[0mil\u001b[0m\u001b[1;33m)\u001b[0m \u001b[1;32mif\u001b[0m \u001b[0mnum\u001b[0m\u001b[1;33m>\u001b[0m\u001b[1;36m1\u001b[0m \u001b[1;32melse\u001b[0m \u001b[1;36m0\u001b[0m\u001b[1;33m\u001b[0m\u001b[0m\n\u001b[0m\u001b[0;32m     38\u001b[0m \u001b[1;33m\u001b[0m\u001b[0m\n\u001b[0;32m     39\u001b[0m \u001b[1;33m\u001b[0m\u001b[0m\n",
      "\u001b[1;32m<ipython-input-104-34b3236344d2>\u001b[0m in \u001b[0;36mis_dev\u001b[1;34m(num, i)\u001b[0m\n\u001b[0;32m     35\u001b[0m         \u001b[1;32mreturn\u001b[0m \u001b[1;36m1\u001b[0m\u001b[1;33m+\u001b[0m\u001b[0mis_dev\u001b[0m\u001b[1;33m(\u001b[0m\u001b[0mnum\u001b[0m\u001b[1;33m/\u001b[0m\u001b[0mi1\u001b[0m\u001b[1;33m,\u001b[0m\u001b[0mi\u001b[0m\u001b[1;33m)\u001b[0m\u001b[1;33m\u001b[0m\u001b[0m\n\u001b[0;32m     36\u001b[0m     \u001b[1;32melse\u001b[0m\u001b[1;33m:\u001b[0m\u001b[1;33m\u001b[0m\u001b[0m\n\u001b[1;32m---> 37\u001b[1;33m         \u001b[1;32mreturn\u001b[0m \u001b[0mis_dev\u001b[0m\u001b[1;33m(\u001b[0m\u001b[0mnum\u001b[0m\u001b[1;33m,\u001b[0m\u001b[0mil\u001b[0m\u001b[1;33m)\u001b[0m \u001b[1;32mif\u001b[0m \u001b[0mnum\u001b[0m\u001b[1;33m>\u001b[0m\u001b[1;36m1\u001b[0m \u001b[1;32melse\u001b[0m \u001b[1;36m0\u001b[0m\u001b[1;33m\u001b[0m\u001b[0m\n\u001b[0m\u001b[0;32m     38\u001b[0m \u001b[1;33m\u001b[0m\u001b[0m\n\u001b[0;32m     39\u001b[0m \u001b[1;33m\u001b[0m\u001b[0m\n",
      "\u001b[1;32m<ipython-input-104-34b3236344d2>\u001b[0m in \u001b[0;36mis_dev\u001b[1;34m(num, i)\u001b[0m\n\u001b[0;32m     35\u001b[0m         \u001b[1;32mreturn\u001b[0m \u001b[1;36m1\u001b[0m\u001b[1;33m+\u001b[0m\u001b[0mis_dev\u001b[0m\u001b[1;33m(\u001b[0m\u001b[0mnum\u001b[0m\u001b[1;33m/\u001b[0m\u001b[0mi1\u001b[0m\u001b[1;33m,\u001b[0m\u001b[0mi\u001b[0m\u001b[1;33m)\u001b[0m\u001b[1;33m\u001b[0m\u001b[0m\n\u001b[0;32m     36\u001b[0m     \u001b[1;32melse\u001b[0m\u001b[1;33m:\u001b[0m\u001b[1;33m\u001b[0m\u001b[0m\n\u001b[1;32m---> 37\u001b[1;33m         \u001b[1;32mreturn\u001b[0m \u001b[0mis_dev\u001b[0m\u001b[1;33m(\u001b[0m\u001b[0mnum\u001b[0m\u001b[1;33m,\u001b[0m\u001b[0mil\u001b[0m\u001b[1;33m)\u001b[0m \u001b[1;32mif\u001b[0m \u001b[0mnum\u001b[0m\u001b[1;33m>\u001b[0m\u001b[1;36m1\u001b[0m \u001b[1;32melse\u001b[0m \u001b[1;36m0\u001b[0m\u001b[1;33m\u001b[0m\u001b[0m\n\u001b[0m\u001b[0;32m     38\u001b[0m \u001b[1;33m\u001b[0m\u001b[0m\n\u001b[0;32m     39\u001b[0m \u001b[1;33m\u001b[0m\u001b[0m\n",
      "\u001b[1;32m<ipython-input-104-34b3236344d2>\u001b[0m in \u001b[0;36mis_dev\u001b[1;34m(num, i)\u001b[0m\n\u001b[0;32m     35\u001b[0m         \u001b[1;32mreturn\u001b[0m \u001b[1;36m1\u001b[0m\u001b[1;33m+\u001b[0m\u001b[0mis_dev\u001b[0m\u001b[1;33m(\u001b[0m\u001b[0mnum\u001b[0m\u001b[1;33m/\u001b[0m\u001b[0mi1\u001b[0m\u001b[1;33m,\u001b[0m\u001b[0mi\u001b[0m\u001b[1;33m)\u001b[0m\u001b[1;33m\u001b[0m\u001b[0m\n\u001b[0;32m     36\u001b[0m     \u001b[1;32melse\u001b[0m\u001b[1;33m:\u001b[0m\u001b[1;33m\u001b[0m\u001b[0m\n\u001b[1;32m---> 37\u001b[1;33m         \u001b[1;32mreturn\u001b[0m \u001b[0mis_dev\u001b[0m\u001b[1;33m(\u001b[0m\u001b[0mnum\u001b[0m\u001b[1;33m,\u001b[0m\u001b[0mil\u001b[0m\u001b[1;33m)\u001b[0m \u001b[1;32mif\u001b[0m \u001b[0mnum\u001b[0m\u001b[1;33m>\u001b[0m\u001b[1;36m1\u001b[0m \u001b[1;32melse\u001b[0m \u001b[1;36m0\u001b[0m\u001b[1;33m\u001b[0m\u001b[0m\n\u001b[0m\u001b[0;32m     38\u001b[0m \u001b[1;33m\u001b[0m\u001b[0m\n\u001b[0;32m     39\u001b[0m \u001b[1;33m\u001b[0m\u001b[0m\n",
      "\u001b[1;32m<ipython-input-104-34b3236344d2>\u001b[0m in \u001b[0;36mis_dev\u001b[1;34m(num, i)\u001b[0m\n\u001b[0;32m     35\u001b[0m         \u001b[1;32mreturn\u001b[0m \u001b[1;36m1\u001b[0m\u001b[1;33m+\u001b[0m\u001b[0mis_dev\u001b[0m\u001b[1;33m(\u001b[0m\u001b[0mnum\u001b[0m\u001b[1;33m/\u001b[0m\u001b[0mi1\u001b[0m\u001b[1;33m,\u001b[0m\u001b[0mi\u001b[0m\u001b[1;33m)\u001b[0m\u001b[1;33m\u001b[0m\u001b[0m\n\u001b[0;32m     36\u001b[0m     \u001b[1;32melse\u001b[0m\u001b[1;33m:\u001b[0m\u001b[1;33m\u001b[0m\u001b[0m\n\u001b[1;32m---> 37\u001b[1;33m         \u001b[1;32mreturn\u001b[0m \u001b[0mis_dev\u001b[0m\u001b[1;33m(\u001b[0m\u001b[0mnum\u001b[0m\u001b[1;33m,\u001b[0m\u001b[0mil\u001b[0m\u001b[1;33m)\u001b[0m \u001b[1;32mif\u001b[0m \u001b[0mnum\u001b[0m\u001b[1;33m>\u001b[0m\u001b[1;36m1\u001b[0m \u001b[1;32melse\u001b[0m \u001b[1;36m0\u001b[0m\u001b[1;33m\u001b[0m\u001b[0m\n\u001b[0m\u001b[0;32m     38\u001b[0m \u001b[1;33m\u001b[0m\u001b[0m\n\u001b[0;32m     39\u001b[0m \u001b[1;33m\u001b[0m\u001b[0m\n",
      "\u001b[1;32m<ipython-input-104-34b3236344d2>\u001b[0m in \u001b[0;36mis_dev\u001b[1;34m(num, i)\u001b[0m\n\u001b[0;32m     35\u001b[0m         \u001b[1;32mreturn\u001b[0m \u001b[1;36m1\u001b[0m\u001b[1;33m+\u001b[0m\u001b[0mis_dev\u001b[0m\u001b[1;33m(\u001b[0m\u001b[0mnum\u001b[0m\u001b[1;33m/\u001b[0m\u001b[0mi1\u001b[0m\u001b[1;33m,\u001b[0m\u001b[0mi\u001b[0m\u001b[1;33m)\u001b[0m\u001b[1;33m\u001b[0m\u001b[0m\n\u001b[0;32m     36\u001b[0m     \u001b[1;32melse\u001b[0m\u001b[1;33m:\u001b[0m\u001b[1;33m\u001b[0m\u001b[0m\n\u001b[1;32m---> 37\u001b[1;33m         \u001b[1;32mreturn\u001b[0m \u001b[0mis_dev\u001b[0m\u001b[1;33m(\u001b[0m\u001b[0mnum\u001b[0m\u001b[1;33m,\u001b[0m\u001b[0mil\u001b[0m\u001b[1;33m)\u001b[0m \u001b[1;32mif\u001b[0m \u001b[0mnum\u001b[0m\u001b[1;33m>\u001b[0m\u001b[1;36m1\u001b[0m \u001b[1;32melse\u001b[0m \u001b[1;36m0\u001b[0m\u001b[1;33m\u001b[0m\u001b[0m\n\u001b[0m\u001b[0;32m     38\u001b[0m \u001b[1;33m\u001b[0m\u001b[0m\n\u001b[0;32m     39\u001b[0m \u001b[1;33m\u001b[0m\u001b[0m\n",
      "\u001b[1;32m<ipython-input-104-34b3236344d2>\u001b[0m in \u001b[0;36mis_dev\u001b[1;34m(num, i)\u001b[0m\n\u001b[0;32m     35\u001b[0m         \u001b[1;32mreturn\u001b[0m \u001b[1;36m1\u001b[0m\u001b[1;33m+\u001b[0m\u001b[0mis_dev\u001b[0m\u001b[1;33m(\u001b[0m\u001b[0mnum\u001b[0m\u001b[1;33m/\u001b[0m\u001b[0mi1\u001b[0m\u001b[1;33m,\u001b[0m\u001b[0mi\u001b[0m\u001b[1;33m)\u001b[0m\u001b[1;33m\u001b[0m\u001b[0m\n\u001b[0;32m     36\u001b[0m     \u001b[1;32melse\u001b[0m\u001b[1;33m:\u001b[0m\u001b[1;33m\u001b[0m\u001b[0m\n\u001b[1;32m---> 37\u001b[1;33m         \u001b[1;32mreturn\u001b[0m \u001b[0mis_dev\u001b[0m\u001b[1;33m(\u001b[0m\u001b[0mnum\u001b[0m\u001b[1;33m,\u001b[0m\u001b[0mil\u001b[0m\u001b[1;33m)\u001b[0m \u001b[1;32mif\u001b[0m \u001b[0mnum\u001b[0m\u001b[1;33m>\u001b[0m\u001b[1;36m1\u001b[0m \u001b[1;32melse\u001b[0m \u001b[1;36m0\u001b[0m\u001b[1;33m\u001b[0m\u001b[0m\n\u001b[0m\u001b[0;32m     38\u001b[0m \u001b[1;33m\u001b[0m\u001b[0m\n\u001b[0;32m     39\u001b[0m \u001b[1;33m\u001b[0m\u001b[0m\n",
      "\u001b[1;32m<ipython-input-104-34b3236344d2>\u001b[0m in \u001b[0;36mis_dev\u001b[1;34m(num, i)\u001b[0m\n\u001b[0;32m     35\u001b[0m         \u001b[1;32mreturn\u001b[0m \u001b[1;36m1\u001b[0m\u001b[1;33m+\u001b[0m\u001b[0mis_dev\u001b[0m\u001b[1;33m(\u001b[0m\u001b[0mnum\u001b[0m\u001b[1;33m/\u001b[0m\u001b[0mi1\u001b[0m\u001b[1;33m,\u001b[0m\u001b[0mi\u001b[0m\u001b[1;33m)\u001b[0m\u001b[1;33m\u001b[0m\u001b[0m\n\u001b[0;32m     36\u001b[0m     \u001b[1;32melse\u001b[0m\u001b[1;33m:\u001b[0m\u001b[1;33m\u001b[0m\u001b[0m\n\u001b[1;32m---> 37\u001b[1;33m         \u001b[1;32mreturn\u001b[0m \u001b[0mis_dev\u001b[0m\u001b[1;33m(\u001b[0m\u001b[0mnum\u001b[0m\u001b[1;33m,\u001b[0m\u001b[0mil\u001b[0m\u001b[1;33m)\u001b[0m \u001b[1;32mif\u001b[0m \u001b[0mnum\u001b[0m\u001b[1;33m>\u001b[0m\u001b[1;36m1\u001b[0m \u001b[1;32melse\u001b[0m \u001b[1;36m0\u001b[0m\u001b[1;33m\u001b[0m\u001b[0m\n\u001b[0m\u001b[0;32m     38\u001b[0m \u001b[1;33m\u001b[0m\u001b[0m\n\u001b[0;32m     39\u001b[0m \u001b[1;33m\u001b[0m\u001b[0m\n",
      "\u001b[1;32m<ipython-input-104-34b3236344d2>\u001b[0m in \u001b[0;36mis_dev\u001b[1;34m(num, i)\u001b[0m\n\u001b[0;32m     35\u001b[0m         \u001b[1;32mreturn\u001b[0m \u001b[1;36m1\u001b[0m\u001b[1;33m+\u001b[0m\u001b[0mis_dev\u001b[0m\u001b[1;33m(\u001b[0m\u001b[0mnum\u001b[0m\u001b[1;33m/\u001b[0m\u001b[0mi1\u001b[0m\u001b[1;33m,\u001b[0m\u001b[0mi\u001b[0m\u001b[1;33m)\u001b[0m\u001b[1;33m\u001b[0m\u001b[0m\n\u001b[0;32m     36\u001b[0m     \u001b[1;32melse\u001b[0m\u001b[1;33m:\u001b[0m\u001b[1;33m\u001b[0m\u001b[0m\n\u001b[1;32m---> 37\u001b[1;33m         \u001b[1;32mreturn\u001b[0m \u001b[0mis_dev\u001b[0m\u001b[1;33m(\u001b[0m\u001b[0mnum\u001b[0m\u001b[1;33m,\u001b[0m\u001b[0mil\u001b[0m\u001b[1;33m)\u001b[0m \u001b[1;32mif\u001b[0m \u001b[0mnum\u001b[0m\u001b[1;33m>\u001b[0m\u001b[1;36m1\u001b[0m \u001b[1;32melse\u001b[0m \u001b[1;36m0\u001b[0m\u001b[1;33m\u001b[0m\u001b[0m\n\u001b[0m\u001b[0;32m     38\u001b[0m \u001b[1;33m\u001b[0m\u001b[0m\n\u001b[0;32m     39\u001b[0m \u001b[1;33m\u001b[0m\u001b[0m\n",
      "\u001b[1;32m<ipython-input-104-34b3236344d2>\u001b[0m in \u001b[0;36mis_dev\u001b[1;34m(num, i)\u001b[0m\n\u001b[0;32m     35\u001b[0m         \u001b[1;32mreturn\u001b[0m \u001b[1;36m1\u001b[0m\u001b[1;33m+\u001b[0m\u001b[0mis_dev\u001b[0m\u001b[1;33m(\u001b[0m\u001b[0mnum\u001b[0m\u001b[1;33m/\u001b[0m\u001b[0mi1\u001b[0m\u001b[1;33m,\u001b[0m\u001b[0mi\u001b[0m\u001b[1;33m)\u001b[0m\u001b[1;33m\u001b[0m\u001b[0m\n\u001b[0;32m     36\u001b[0m     \u001b[1;32melse\u001b[0m\u001b[1;33m:\u001b[0m\u001b[1;33m\u001b[0m\u001b[0m\n\u001b[1;32m---> 37\u001b[1;33m         \u001b[1;32mreturn\u001b[0m \u001b[0mis_dev\u001b[0m\u001b[1;33m(\u001b[0m\u001b[0mnum\u001b[0m\u001b[1;33m,\u001b[0m\u001b[0mil\u001b[0m\u001b[1;33m)\u001b[0m \u001b[1;32mif\u001b[0m \u001b[0mnum\u001b[0m\u001b[1;33m>\u001b[0m\u001b[1;36m1\u001b[0m \u001b[1;32melse\u001b[0m \u001b[1;36m0\u001b[0m\u001b[1;33m\u001b[0m\u001b[0m\n\u001b[0m\u001b[0;32m     38\u001b[0m \u001b[1;33m\u001b[0m\u001b[0m\n\u001b[0;32m     39\u001b[0m \u001b[1;33m\u001b[0m\u001b[0m\n",
      "\u001b[1;32m<ipython-input-104-34b3236344d2>\u001b[0m in \u001b[0;36mis_dev\u001b[1;34m(num, i)\u001b[0m\n\u001b[0;32m     35\u001b[0m         \u001b[1;32mreturn\u001b[0m \u001b[1;36m1\u001b[0m\u001b[1;33m+\u001b[0m\u001b[0mis_dev\u001b[0m\u001b[1;33m(\u001b[0m\u001b[0mnum\u001b[0m\u001b[1;33m/\u001b[0m\u001b[0mi1\u001b[0m\u001b[1;33m,\u001b[0m\u001b[0mi\u001b[0m\u001b[1;33m)\u001b[0m\u001b[1;33m\u001b[0m\u001b[0m\n\u001b[0;32m     36\u001b[0m     \u001b[1;32melse\u001b[0m\u001b[1;33m:\u001b[0m\u001b[1;33m\u001b[0m\u001b[0m\n\u001b[1;32m---> 37\u001b[1;33m         \u001b[1;32mreturn\u001b[0m \u001b[0mis_dev\u001b[0m\u001b[1;33m(\u001b[0m\u001b[0mnum\u001b[0m\u001b[1;33m,\u001b[0m\u001b[0mil\u001b[0m\u001b[1;33m)\u001b[0m \u001b[1;32mif\u001b[0m \u001b[0mnum\u001b[0m\u001b[1;33m>\u001b[0m\u001b[1;36m1\u001b[0m \u001b[1;32melse\u001b[0m \u001b[1;36m0\u001b[0m\u001b[1;33m\u001b[0m\u001b[0m\n\u001b[0m\u001b[0;32m     38\u001b[0m \u001b[1;33m\u001b[0m\u001b[0m\n\u001b[0;32m     39\u001b[0m \u001b[1;33m\u001b[0m\u001b[0m\n",
      "\u001b[1;32m<ipython-input-104-34b3236344d2>\u001b[0m in \u001b[0;36mis_dev\u001b[1;34m(num, i)\u001b[0m\n\u001b[0;32m     35\u001b[0m         \u001b[1;32mreturn\u001b[0m \u001b[1;36m1\u001b[0m\u001b[1;33m+\u001b[0m\u001b[0mis_dev\u001b[0m\u001b[1;33m(\u001b[0m\u001b[0mnum\u001b[0m\u001b[1;33m/\u001b[0m\u001b[0mi1\u001b[0m\u001b[1;33m,\u001b[0m\u001b[0mi\u001b[0m\u001b[1;33m)\u001b[0m\u001b[1;33m\u001b[0m\u001b[0m\n\u001b[0;32m     36\u001b[0m     \u001b[1;32melse\u001b[0m\u001b[1;33m:\u001b[0m\u001b[1;33m\u001b[0m\u001b[0m\n\u001b[1;32m---> 37\u001b[1;33m         \u001b[1;32mreturn\u001b[0m \u001b[0mis_dev\u001b[0m\u001b[1;33m(\u001b[0m\u001b[0mnum\u001b[0m\u001b[1;33m,\u001b[0m\u001b[0mil\u001b[0m\u001b[1;33m)\u001b[0m \u001b[1;32mif\u001b[0m \u001b[0mnum\u001b[0m\u001b[1;33m>\u001b[0m\u001b[1;36m1\u001b[0m \u001b[1;32melse\u001b[0m \u001b[1;36m0\u001b[0m\u001b[1;33m\u001b[0m\u001b[0m\n\u001b[0m\u001b[0;32m     38\u001b[0m \u001b[1;33m\u001b[0m\u001b[0m\n\u001b[0;32m     39\u001b[0m \u001b[1;33m\u001b[0m\u001b[0m\n",
      "\u001b[1;32m<ipython-input-104-34b3236344d2>\u001b[0m in \u001b[0;36mis_dev\u001b[1;34m(num, i)\u001b[0m\n\u001b[0;32m     35\u001b[0m         \u001b[1;32mreturn\u001b[0m \u001b[1;36m1\u001b[0m\u001b[1;33m+\u001b[0m\u001b[0mis_dev\u001b[0m\u001b[1;33m(\u001b[0m\u001b[0mnum\u001b[0m\u001b[1;33m/\u001b[0m\u001b[0mi1\u001b[0m\u001b[1;33m,\u001b[0m\u001b[0mi\u001b[0m\u001b[1;33m)\u001b[0m\u001b[1;33m\u001b[0m\u001b[0m\n\u001b[0;32m     36\u001b[0m     \u001b[1;32melse\u001b[0m\u001b[1;33m:\u001b[0m\u001b[1;33m\u001b[0m\u001b[0m\n\u001b[1;32m---> 37\u001b[1;33m         \u001b[1;32mreturn\u001b[0m \u001b[0mis_dev\u001b[0m\u001b[1;33m(\u001b[0m\u001b[0mnum\u001b[0m\u001b[1;33m,\u001b[0m\u001b[0mil\u001b[0m\u001b[1;33m)\u001b[0m \u001b[1;32mif\u001b[0m \u001b[0mnum\u001b[0m\u001b[1;33m>\u001b[0m\u001b[1;36m1\u001b[0m \u001b[1;32melse\u001b[0m \u001b[1;36m0\u001b[0m\u001b[1;33m\u001b[0m\u001b[0m\n\u001b[0m\u001b[0;32m     38\u001b[0m \u001b[1;33m\u001b[0m\u001b[0m\n\u001b[0;32m     39\u001b[0m \u001b[1;33m\u001b[0m\u001b[0m\n",
      "\u001b[1;32m<ipython-input-104-34b3236344d2>\u001b[0m in \u001b[0;36mis_dev\u001b[1;34m(num, i)\u001b[0m\n\u001b[0;32m     35\u001b[0m         \u001b[1;32mreturn\u001b[0m \u001b[1;36m1\u001b[0m\u001b[1;33m+\u001b[0m\u001b[0mis_dev\u001b[0m\u001b[1;33m(\u001b[0m\u001b[0mnum\u001b[0m\u001b[1;33m/\u001b[0m\u001b[0mi1\u001b[0m\u001b[1;33m,\u001b[0m\u001b[0mi\u001b[0m\u001b[1;33m)\u001b[0m\u001b[1;33m\u001b[0m\u001b[0m\n\u001b[0;32m     36\u001b[0m     \u001b[1;32melse\u001b[0m\u001b[1;33m:\u001b[0m\u001b[1;33m\u001b[0m\u001b[0m\n\u001b[1;32m---> 37\u001b[1;33m         \u001b[1;32mreturn\u001b[0m \u001b[0mis_dev\u001b[0m\u001b[1;33m(\u001b[0m\u001b[0mnum\u001b[0m\u001b[1;33m,\u001b[0m\u001b[0mil\u001b[0m\u001b[1;33m)\u001b[0m \u001b[1;32mif\u001b[0m \u001b[0mnum\u001b[0m\u001b[1;33m>\u001b[0m\u001b[1;36m1\u001b[0m \u001b[1;32melse\u001b[0m \u001b[1;36m0\u001b[0m\u001b[1;33m\u001b[0m\u001b[0m\n\u001b[0m\u001b[0;32m     38\u001b[0m \u001b[1;33m\u001b[0m\u001b[0m\n\u001b[0;32m     39\u001b[0m \u001b[1;33m\u001b[0m\u001b[0m\n",
      "\u001b[1;32m<ipython-input-104-34b3236344d2>\u001b[0m in \u001b[0;36mis_dev\u001b[1;34m(num, i)\u001b[0m\n\u001b[0;32m     35\u001b[0m         \u001b[1;32mreturn\u001b[0m \u001b[1;36m1\u001b[0m\u001b[1;33m+\u001b[0m\u001b[0mis_dev\u001b[0m\u001b[1;33m(\u001b[0m\u001b[0mnum\u001b[0m\u001b[1;33m/\u001b[0m\u001b[0mi1\u001b[0m\u001b[1;33m,\u001b[0m\u001b[0mi\u001b[0m\u001b[1;33m)\u001b[0m\u001b[1;33m\u001b[0m\u001b[0m\n\u001b[0;32m     36\u001b[0m     \u001b[1;32melse\u001b[0m\u001b[1;33m:\u001b[0m\u001b[1;33m\u001b[0m\u001b[0m\n\u001b[1;32m---> 37\u001b[1;33m         \u001b[1;32mreturn\u001b[0m \u001b[0mis_dev\u001b[0m\u001b[1;33m(\u001b[0m\u001b[0mnum\u001b[0m\u001b[1;33m,\u001b[0m\u001b[0mil\u001b[0m\u001b[1;33m)\u001b[0m \u001b[1;32mif\u001b[0m \u001b[0mnum\u001b[0m\u001b[1;33m>\u001b[0m\u001b[1;36m1\u001b[0m \u001b[1;32melse\u001b[0m \u001b[1;36m0\u001b[0m\u001b[1;33m\u001b[0m\u001b[0m\n\u001b[0m\u001b[0;32m     38\u001b[0m \u001b[1;33m\u001b[0m\u001b[0m\n\u001b[0;32m     39\u001b[0m \u001b[1;33m\u001b[0m\u001b[0m\n",
      "\u001b[1;32m<ipython-input-104-34b3236344d2>\u001b[0m in \u001b[0;36mis_dev\u001b[1;34m(num, i)\u001b[0m\n\u001b[0;32m     35\u001b[0m         \u001b[1;32mreturn\u001b[0m \u001b[1;36m1\u001b[0m\u001b[1;33m+\u001b[0m\u001b[0mis_dev\u001b[0m\u001b[1;33m(\u001b[0m\u001b[0mnum\u001b[0m\u001b[1;33m/\u001b[0m\u001b[0mi1\u001b[0m\u001b[1;33m,\u001b[0m\u001b[0mi\u001b[0m\u001b[1;33m)\u001b[0m\u001b[1;33m\u001b[0m\u001b[0m\n\u001b[0;32m     36\u001b[0m     \u001b[1;32melse\u001b[0m\u001b[1;33m:\u001b[0m\u001b[1;33m\u001b[0m\u001b[0m\n\u001b[1;32m---> 37\u001b[1;33m         \u001b[1;32mreturn\u001b[0m \u001b[0mis_dev\u001b[0m\u001b[1;33m(\u001b[0m\u001b[0mnum\u001b[0m\u001b[1;33m,\u001b[0m\u001b[0mil\u001b[0m\u001b[1;33m)\u001b[0m \u001b[1;32mif\u001b[0m \u001b[0mnum\u001b[0m\u001b[1;33m>\u001b[0m\u001b[1;36m1\u001b[0m \u001b[1;32melse\u001b[0m \u001b[1;36m0\u001b[0m\u001b[1;33m\u001b[0m\u001b[0m\n\u001b[0m\u001b[0;32m     38\u001b[0m \u001b[1;33m\u001b[0m\u001b[0m\n\u001b[0;32m     39\u001b[0m \u001b[1;33m\u001b[0m\u001b[0m\n",
      "\u001b[1;32m<ipython-input-104-34b3236344d2>\u001b[0m in \u001b[0;36mis_dev\u001b[1;34m(num, i)\u001b[0m\n\u001b[0;32m     35\u001b[0m         \u001b[1;32mreturn\u001b[0m \u001b[1;36m1\u001b[0m\u001b[1;33m+\u001b[0m\u001b[0mis_dev\u001b[0m\u001b[1;33m(\u001b[0m\u001b[0mnum\u001b[0m\u001b[1;33m/\u001b[0m\u001b[0mi1\u001b[0m\u001b[1;33m,\u001b[0m\u001b[0mi\u001b[0m\u001b[1;33m)\u001b[0m\u001b[1;33m\u001b[0m\u001b[0m\n\u001b[0;32m     36\u001b[0m     \u001b[1;32melse\u001b[0m\u001b[1;33m:\u001b[0m\u001b[1;33m\u001b[0m\u001b[0m\n\u001b[1;32m---> 37\u001b[1;33m         \u001b[1;32mreturn\u001b[0m \u001b[0mis_dev\u001b[0m\u001b[1;33m(\u001b[0m\u001b[0mnum\u001b[0m\u001b[1;33m,\u001b[0m\u001b[0mil\u001b[0m\u001b[1;33m)\u001b[0m \u001b[1;32mif\u001b[0m \u001b[0mnum\u001b[0m\u001b[1;33m>\u001b[0m\u001b[1;36m1\u001b[0m \u001b[1;32melse\u001b[0m \u001b[1;36m0\u001b[0m\u001b[1;33m\u001b[0m\u001b[0m\n\u001b[0m\u001b[0;32m     38\u001b[0m \u001b[1;33m\u001b[0m\u001b[0m\n\u001b[0;32m     39\u001b[0m \u001b[1;33m\u001b[0m\u001b[0m\n",
      "\u001b[1;32m<ipython-input-104-34b3236344d2>\u001b[0m in \u001b[0;36mis_dev\u001b[1;34m(num, i)\u001b[0m\n\u001b[0;32m     35\u001b[0m         \u001b[1;32mreturn\u001b[0m \u001b[1;36m1\u001b[0m\u001b[1;33m+\u001b[0m\u001b[0mis_dev\u001b[0m\u001b[1;33m(\u001b[0m\u001b[0mnum\u001b[0m\u001b[1;33m/\u001b[0m\u001b[0mi1\u001b[0m\u001b[1;33m,\u001b[0m\u001b[0mi\u001b[0m\u001b[1;33m)\u001b[0m\u001b[1;33m\u001b[0m\u001b[0m\n\u001b[0;32m     36\u001b[0m     \u001b[1;32melse\u001b[0m\u001b[1;33m:\u001b[0m\u001b[1;33m\u001b[0m\u001b[0m\n\u001b[1;32m---> 37\u001b[1;33m         \u001b[1;32mreturn\u001b[0m \u001b[0mis_dev\u001b[0m\u001b[1;33m(\u001b[0m\u001b[0mnum\u001b[0m\u001b[1;33m,\u001b[0m\u001b[0mil\u001b[0m\u001b[1;33m)\u001b[0m \u001b[1;32mif\u001b[0m \u001b[0mnum\u001b[0m\u001b[1;33m>\u001b[0m\u001b[1;36m1\u001b[0m \u001b[1;32melse\u001b[0m \u001b[1;36m0\u001b[0m\u001b[1;33m\u001b[0m\u001b[0m\n\u001b[0m\u001b[0;32m     38\u001b[0m \u001b[1;33m\u001b[0m\u001b[0m\n\u001b[0;32m     39\u001b[0m \u001b[1;33m\u001b[0m\u001b[0m\n",
      "\u001b[1;32m<ipython-input-104-34b3236344d2>\u001b[0m in \u001b[0;36mis_dev\u001b[1;34m(num, i)\u001b[0m\n\u001b[0;32m     35\u001b[0m         \u001b[1;32mreturn\u001b[0m \u001b[1;36m1\u001b[0m\u001b[1;33m+\u001b[0m\u001b[0mis_dev\u001b[0m\u001b[1;33m(\u001b[0m\u001b[0mnum\u001b[0m\u001b[1;33m/\u001b[0m\u001b[0mi1\u001b[0m\u001b[1;33m,\u001b[0m\u001b[0mi\u001b[0m\u001b[1;33m)\u001b[0m\u001b[1;33m\u001b[0m\u001b[0m\n\u001b[0;32m     36\u001b[0m     \u001b[1;32melse\u001b[0m\u001b[1;33m:\u001b[0m\u001b[1;33m\u001b[0m\u001b[0m\n\u001b[1;32m---> 37\u001b[1;33m         \u001b[1;32mreturn\u001b[0m \u001b[0mis_dev\u001b[0m\u001b[1;33m(\u001b[0m\u001b[0mnum\u001b[0m\u001b[1;33m,\u001b[0m\u001b[0mil\u001b[0m\u001b[1;33m)\u001b[0m \u001b[1;32mif\u001b[0m \u001b[0mnum\u001b[0m\u001b[1;33m>\u001b[0m\u001b[1;36m1\u001b[0m \u001b[1;32melse\u001b[0m \u001b[1;36m0\u001b[0m\u001b[1;33m\u001b[0m\u001b[0m\n\u001b[0m\u001b[0;32m     38\u001b[0m \u001b[1;33m\u001b[0m\u001b[0m\n\u001b[0;32m     39\u001b[0m \u001b[1;33m\u001b[0m\u001b[0m\n",
      "\u001b[1;32m<ipython-input-104-34b3236344d2>\u001b[0m in \u001b[0;36mis_dev\u001b[1;34m(num, i)\u001b[0m\n\u001b[0;32m     35\u001b[0m         \u001b[1;32mreturn\u001b[0m \u001b[1;36m1\u001b[0m\u001b[1;33m+\u001b[0m\u001b[0mis_dev\u001b[0m\u001b[1;33m(\u001b[0m\u001b[0mnum\u001b[0m\u001b[1;33m/\u001b[0m\u001b[0mi1\u001b[0m\u001b[1;33m,\u001b[0m\u001b[0mi\u001b[0m\u001b[1;33m)\u001b[0m\u001b[1;33m\u001b[0m\u001b[0m\n\u001b[0;32m     36\u001b[0m     \u001b[1;32melse\u001b[0m\u001b[1;33m:\u001b[0m\u001b[1;33m\u001b[0m\u001b[0m\n\u001b[1;32m---> 37\u001b[1;33m         \u001b[1;32mreturn\u001b[0m \u001b[0mis_dev\u001b[0m\u001b[1;33m(\u001b[0m\u001b[0mnum\u001b[0m\u001b[1;33m,\u001b[0m\u001b[0mil\u001b[0m\u001b[1;33m)\u001b[0m \u001b[1;32mif\u001b[0m \u001b[0mnum\u001b[0m\u001b[1;33m>\u001b[0m\u001b[1;36m1\u001b[0m \u001b[1;32melse\u001b[0m \u001b[1;36m0\u001b[0m\u001b[1;33m\u001b[0m\u001b[0m\n\u001b[0m\u001b[0;32m     38\u001b[0m \u001b[1;33m\u001b[0m\u001b[0m\n\u001b[0;32m     39\u001b[0m \u001b[1;33m\u001b[0m\u001b[0m\n",
      "\u001b[1;32m<ipython-input-104-34b3236344d2>\u001b[0m in \u001b[0;36mis_dev\u001b[1;34m(num, i)\u001b[0m\n\u001b[0;32m     35\u001b[0m         \u001b[1;32mreturn\u001b[0m \u001b[1;36m1\u001b[0m\u001b[1;33m+\u001b[0m\u001b[0mis_dev\u001b[0m\u001b[1;33m(\u001b[0m\u001b[0mnum\u001b[0m\u001b[1;33m/\u001b[0m\u001b[0mi1\u001b[0m\u001b[1;33m,\u001b[0m\u001b[0mi\u001b[0m\u001b[1;33m)\u001b[0m\u001b[1;33m\u001b[0m\u001b[0m\n\u001b[0;32m     36\u001b[0m     \u001b[1;32melse\u001b[0m\u001b[1;33m:\u001b[0m\u001b[1;33m\u001b[0m\u001b[0m\n\u001b[1;32m---> 37\u001b[1;33m         \u001b[1;32mreturn\u001b[0m \u001b[0mis_dev\u001b[0m\u001b[1;33m(\u001b[0m\u001b[0mnum\u001b[0m\u001b[1;33m,\u001b[0m\u001b[0mil\u001b[0m\u001b[1;33m)\u001b[0m \u001b[1;32mif\u001b[0m \u001b[0mnum\u001b[0m\u001b[1;33m>\u001b[0m\u001b[1;36m1\u001b[0m \u001b[1;32melse\u001b[0m \u001b[1;36m0\u001b[0m\u001b[1;33m\u001b[0m\u001b[0m\n\u001b[0m\u001b[0;32m     38\u001b[0m \u001b[1;33m\u001b[0m\u001b[0m\n\u001b[0;32m     39\u001b[0m \u001b[1;33m\u001b[0m\u001b[0m\n",
      "\u001b[1;32m<ipython-input-104-34b3236344d2>\u001b[0m in \u001b[0;36mis_dev\u001b[1;34m(num, i)\u001b[0m\n\u001b[0;32m     35\u001b[0m         \u001b[1;32mreturn\u001b[0m \u001b[1;36m1\u001b[0m\u001b[1;33m+\u001b[0m\u001b[0mis_dev\u001b[0m\u001b[1;33m(\u001b[0m\u001b[0mnum\u001b[0m\u001b[1;33m/\u001b[0m\u001b[0mi1\u001b[0m\u001b[1;33m,\u001b[0m\u001b[0mi\u001b[0m\u001b[1;33m)\u001b[0m\u001b[1;33m\u001b[0m\u001b[0m\n\u001b[0;32m     36\u001b[0m     \u001b[1;32melse\u001b[0m\u001b[1;33m:\u001b[0m\u001b[1;33m\u001b[0m\u001b[0m\n\u001b[1;32m---> 37\u001b[1;33m         \u001b[1;32mreturn\u001b[0m \u001b[0mis_dev\u001b[0m\u001b[1;33m(\u001b[0m\u001b[0mnum\u001b[0m\u001b[1;33m,\u001b[0m\u001b[0mil\u001b[0m\u001b[1;33m)\u001b[0m \u001b[1;32mif\u001b[0m \u001b[0mnum\u001b[0m\u001b[1;33m>\u001b[0m\u001b[1;36m1\u001b[0m \u001b[1;32melse\u001b[0m \u001b[1;36m0\u001b[0m\u001b[1;33m\u001b[0m\u001b[0m\n\u001b[0m\u001b[0;32m     38\u001b[0m \u001b[1;33m\u001b[0m\u001b[0m\n\u001b[0;32m     39\u001b[0m \u001b[1;33m\u001b[0m\u001b[0m\n",
      "\u001b[1;32m<ipython-input-104-34b3236344d2>\u001b[0m in \u001b[0;36mis_dev\u001b[1;34m(num, i)\u001b[0m\n\u001b[0;32m     35\u001b[0m         \u001b[1;32mreturn\u001b[0m \u001b[1;36m1\u001b[0m\u001b[1;33m+\u001b[0m\u001b[0mis_dev\u001b[0m\u001b[1;33m(\u001b[0m\u001b[0mnum\u001b[0m\u001b[1;33m/\u001b[0m\u001b[0mi1\u001b[0m\u001b[1;33m,\u001b[0m\u001b[0mi\u001b[0m\u001b[1;33m)\u001b[0m\u001b[1;33m\u001b[0m\u001b[0m\n\u001b[0;32m     36\u001b[0m     \u001b[1;32melse\u001b[0m\u001b[1;33m:\u001b[0m\u001b[1;33m\u001b[0m\u001b[0m\n\u001b[1;32m---> 37\u001b[1;33m         \u001b[1;32mreturn\u001b[0m \u001b[0mis_dev\u001b[0m\u001b[1;33m(\u001b[0m\u001b[0mnum\u001b[0m\u001b[1;33m,\u001b[0m\u001b[0mil\u001b[0m\u001b[1;33m)\u001b[0m \u001b[1;32mif\u001b[0m \u001b[0mnum\u001b[0m\u001b[1;33m>\u001b[0m\u001b[1;36m1\u001b[0m \u001b[1;32melse\u001b[0m \u001b[1;36m0\u001b[0m\u001b[1;33m\u001b[0m\u001b[0m\n\u001b[0m\u001b[0;32m     38\u001b[0m \u001b[1;33m\u001b[0m\u001b[0m\n\u001b[0;32m     39\u001b[0m \u001b[1;33m\u001b[0m\u001b[0m\n",
      "\u001b[1;32m<ipython-input-104-34b3236344d2>\u001b[0m in \u001b[0;36mis_dev\u001b[1;34m(num, i)\u001b[0m\n\u001b[0;32m     35\u001b[0m         \u001b[1;32mreturn\u001b[0m \u001b[1;36m1\u001b[0m\u001b[1;33m+\u001b[0m\u001b[0mis_dev\u001b[0m\u001b[1;33m(\u001b[0m\u001b[0mnum\u001b[0m\u001b[1;33m/\u001b[0m\u001b[0mi1\u001b[0m\u001b[1;33m,\u001b[0m\u001b[0mi\u001b[0m\u001b[1;33m)\u001b[0m\u001b[1;33m\u001b[0m\u001b[0m\n\u001b[0;32m     36\u001b[0m     \u001b[1;32melse\u001b[0m\u001b[1;33m:\u001b[0m\u001b[1;33m\u001b[0m\u001b[0m\n\u001b[1;32m---> 37\u001b[1;33m         \u001b[1;32mreturn\u001b[0m \u001b[0mis_dev\u001b[0m\u001b[1;33m(\u001b[0m\u001b[0mnum\u001b[0m\u001b[1;33m,\u001b[0m\u001b[0mil\u001b[0m\u001b[1;33m)\u001b[0m \u001b[1;32mif\u001b[0m \u001b[0mnum\u001b[0m\u001b[1;33m>\u001b[0m\u001b[1;36m1\u001b[0m \u001b[1;32melse\u001b[0m \u001b[1;36m0\u001b[0m\u001b[1;33m\u001b[0m\u001b[0m\n\u001b[0m\u001b[0;32m     38\u001b[0m \u001b[1;33m\u001b[0m\u001b[0m\n\u001b[0;32m     39\u001b[0m \u001b[1;33m\u001b[0m\u001b[0m\n",
      "\u001b[1;32m<ipython-input-104-34b3236344d2>\u001b[0m in \u001b[0;36mis_dev\u001b[1;34m(num, i)\u001b[0m\n\u001b[0;32m     35\u001b[0m         \u001b[1;32mreturn\u001b[0m \u001b[1;36m1\u001b[0m\u001b[1;33m+\u001b[0m\u001b[0mis_dev\u001b[0m\u001b[1;33m(\u001b[0m\u001b[0mnum\u001b[0m\u001b[1;33m/\u001b[0m\u001b[0mi1\u001b[0m\u001b[1;33m,\u001b[0m\u001b[0mi\u001b[0m\u001b[1;33m)\u001b[0m\u001b[1;33m\u001b[0m\u001b[0m\n\u001b[0;32m     36\u001b[0m     \u001b[1;32melse\u001b[0m\u001b[1;33m:\u001b[0m\u001b[1;33m\u001b[0m\u001b[0m\n\u001b[1;32m---> 37\u001b[1;33m         \u001b[1;32mreturn\u001b[0m \u001b[0mis_dev\u001b[0m\u001b[1;33m(\u001b[0m\u001b[0mnum\u001b[0m\u001b[1;33m,\u001b[0m\u001b[0mil\u001b[0m\u001b[1;33m)\u001b[0m \u001b[1;32mif\u001b[0m \u001b[0mnum\u001b[0m\u001b[1;33m>\u001b[0m\u001b[1;36m1\u001b[0m \u001b[1;32melse\u001b[0m \u001b[1;36m0\u001b[0m\u001b[1;33m\u001b[0m\u001b[0m\n\u001b[0m\u001b[0;32m     38\u001b[0m \u001b[1;33m\u001b[0m\u001b[0m\n\u001b[0;32m     39\u001b[0m \u001b[1;33m\u001b[0m\u001b[0m\n",
      "\u001b[1;32m<ipython-input-104-34b3236344d2>\u001b[0m in \u001b[0;36mis_dev\u001b[1;34m(num, i)\u001b[0m\n\u001b[0;32m     35\u001b[0m         \u001b[1;32mreturn\u001b[0m \u001b[1;36m1\u001b[0m\u001b[1;33m+\u001b[0m\u001b[0mis_dev\u001b[0m\u001b[1;33m(\u001b[0m\u001b[0mnum\u001b[0m\u001b[1;33m/\u001b[0m\u001b[0mi1\u001b[0m\u001b[1;33m,\u001b[0m\u001b[0mi\u001b[0m\u001b[1;33m)\u001b[0m\u001b[1;33m\u001b[0m\u001b[0m\n\u001b[0;32m     36\u001b[0m     \u001b[1;32melse\u001b[0m\u001b[1;33m:\u001b[0m\u001b[1;33m\u001b[0m\u001b[0m\n\u001b[1;32m---> 37\u001b[1;33m         \u001b[1;32mreturn\u001b[0m \u001b[0mis_dev\u001b[0m\u001b[1;33m(\u001b[0m\u001b[0mnum\u001b[0m\u001b[1;33m,\u001b[0m\u001b[0mil\u001b[0m\u001b[1;33m)\u001b[0m \u001b[1;32mif\u001b[0m \u001b[0mnum\u001b[0m\u001b[1;33m>\u001b[0m\u001b[1;36m1\u001b[0m \u001b[1;32melse\u001b[0m \u001b[1;36m0\u001b[0m\u001b[1;33m\u001b[0m\u001b[0m\n\u001b[0m\u001b[0;32m     38\u001b[0m \u001b[1;33m\u001b[0m\u001b[0m\n\u001b[0;32m     39\u001b[0m \u001b[1;33m\u001b[0m\u001b[0m\n",
      "\u001b[1;32m<ipython-input-104-34b3236344d2>\u001b[0m in \u001b[0;36mis_dev\u001b[1;34m(num, i)\u001b[0m\n\u001b[0;32m     35\u001b[0m         \u001b[1;32mreturn\u001b[0m \u001b[1;36m1\u001b[0m\u001b[1;33m+\u001b[0m\u001b[0mis_dev\u001b[0m\u001b[1;33m(\u001b[0m\u001b[0mnum\u001b[0m\u001b[1;33m/\u001b[0m\u001b[0mi1\u001b[0m\u001b[1;33m,\u001b[0m\u001b[0mi\u001b[0m\u001b[1;33m)\u001b[0m\u001b[1;33m\u001b[0m\u001b[0m\n\u001b[0;32m     36\u001b[0m     \u001b[1;32melse\u001b[0m\u001b[1;33m:\u001b[0m\u001b[1;33m\u001b[0m\u001b[0m\n\u001b[1;32m---> 37\u001b[1;33m         \u001b[1;32mreturn\u001b[0m \u001b[0mis_dev\u001b[0m\u001b[1;33m(\u001b[0m\u001b[0mnum\u001b[0m\u001b[1;33m,\u001b[0m\u001b[0mil\u001b[0m\u001b[1;33m)\u001b[0m \u001b[1;32mif\u001b[0m \u001b[0mnum\u001b[0m\u001b[1;33m>\u001b[0m\u001b[1;36m1\u001b[0m \u001b[1;32melse\u001b[0m \u001b[1;36m0\u001b[0m\u001b[1;33m\u001b[0m\u001b[0m\n\u001b[0m\u001b[0;32m     38\u001b[0m \u001b[1;33m\u001b[0m\u001b[0m\n\u001b[0;32m     39\u001b[0m \u001b[1;33m\u001b[0m\u001b[0m\n",
      "\u001b[1;32m<ipython-input-104-34b3236344d2>\u001b[0m in \u001b[0;36mis_dev\u001b[1;34m(num, i)\u001b[0m\n\u001b[0;32m     35\u001b[0m         \u001b[1;32mreturn\u001b[0m \u001b[1;36m1\u001b[0m\u001b[1;33m+\u001b[0m\u001b[0mis_dev\u001b[0m\u001b[1;33m(\u001b[0m\u001b[0mnum\u001b[0m\u001b[1;33m/\u001b[0m\u001b[0mi1\u001b[0m\u001b[1;33m,\u001b[0m\u001b[0mi\u001b[0m\u001b[1;33m)\u001b[0m\u001b[1;33m\u001b[0m\u001b[0m\n\u001b[0;32m     36\u001b[0m     \u001b[1;32melse\u001b[0m\u001b[1;33m:\u001b[0m\u001b[1;33m\u001b[0m\u001b[0m\n\u001b[1;32m---> 37\u001b[1;33m         \u001b[1;32mreturn\u001b[0m \u001b[0mis_dev\u001b[0m\u001b[1;33m(\u001b[0m\u001b[0mnum\u001b[0m\u001b[1;33m,\u001b[0m\u001b[0mil\u001b[0m\u001b[1;33m)\u001b[0m \u001b[1;32mif\u001b[0m \u001b[0mnum\u001b[0m\u001b[1;33m>\u001b[0m\u001b[1;36m1\u001b[0m \u001b[1;32melse\u001b[0m \u001b[1;36m0\u001b[0m\u001b[1;33m\u001b[0m\u001b[0m\n\u001b[0m\u001b[0;32m     38\u001b[0m \u001b[1;33m\u001b[0m\u001b[0m\n\u001b[0;32m     39\u001b[0m \u001b[1;33m\u001b[0m\u001b[0m\n",
      "\u001b[1;32m<ipython-input-104-34b3236344d2>\u001b[0m in \u001b[0;36mis_dev\u001b[1;34m(num, i)\u001b[0m\n\u001b[0;32m     35\u001b[0m         \u001b[1;32mreturn\u001b[0m \u001b[1;36m1\u001b[0m\u001b[1;33m+\u001b[0m\u001b[0mis_dev\u001b[0m\u001b[1;33m(\u001b[0m\u001b[0mnum\u001b[0m\u001b[1;33m/\u001b[0m\u001b[0mi1\u001b[0m\u001b[1;33m,\u001b[0m\u001b[0mi\u001b[0m\u001b[1;33m)\u001b[0m\u001b[1;33m\u001b[0m\u001b[0m\n\u001b[0;32m     36\u001b[0m     \u001b[1;32melse\u001b[0m\u001b[1;33m:\u001b[0m\u001b[1;33m\u001b[0m\u001b[0m\n\u001b[1;32m---> 37\u001b[1;33m         \u001b[1;32mreturn\u001b[0m \u001b[0mis_dev\u001b[0m\u001b[1;33m(\u001b[0m\u001b[0mnum\u001b[0m\u001b[1;33m,\u001b[0m\u001b[0mil\u001b[0m\u001b[1;33m)\u001b[0m \u001b[1;32mif\u001b[0m \u001b[0mnum\u001b[0m\u001b[1;33m>\u001b[0m\u001b[1;36m1\u001b[0m \u001b[1;32melse\u001b[0m \u001b[1;36m0\u001b[0m\u001b[1;33m\u001b[0m\u001b[0m\n\u001b[0m\u001b[0;32m     38\u001b[0m \u001b[1;33m\u001b[0m\u001b[0m\n\u001b[0;32m     39\u001b[0m \u001b[1;33m\u001b[0m\u001b[0m\n",
      "\u001b[1;32m<ipython-input-104-34b3236344d2>\u001b[0m in \u001b[0;36mis_dev\u001b[1;34m(num, i)\u001b[0m\n\u001b[0;32m     35\u001b[0m         \u001b[1;32mreturn\u001b[0m \u001b[1;36m1\u001b[0m\u001b[1;33m+\u001b[0m\u001b[0mis_dev\u001b[0m\u001b[1;33m(\u001b[0m\u001b[0mnum\u001b[0m\u001b[1;33m/\u001b[0m\u001b[0mi1\u001b[0m\u001b[1;33m,\u001b[0m\u001b[0mi\u001b[0m\u001b[1;33m)\u001b[0m\u001b[1;33m\u001b[0m\u001b[0m\n\u001b[0;32m     36\u001b[0m     \u001b[1;32melse\u001b[0m\u001b[1;33m:\u001b[0m\u001b[1;33m\u001b[0m\u001b[0m\n\u001b[1;32m---> 37\u001b[1;33m         \u001b[1;32mreturn\u001b[0m \u001b[0mis_dev\u001b[0m\u001b[1;33m(\u001b[0m\u001b[0mnum\u001b[0m\u001b[1;33m,\u001b[0m\u001b[0mil\u001b[0m\u001b[1;33m)\u001b[0m \u001b[1;32mif\u001b[0m \u001b[0mnum\u001b[0m\u001b[1;33m>\u001b[0m\u001b[1;36m1\u001b[0m \u001b[1;32melse\u001b[0m \u001b[1;36m0\u001b[0m\u001b[1;33m\u001b[0m\u001b[0m\n\u001b[0m\u001b[0;32m     38\u001b[0m \u001b[1;33m\u001b[0m\u001b[0m\n\u001b[0;32m     39\u001b[0m \u001b[1;33m\u001b[0m\u001b[0m\n",
      "\u001b[1;32m<ipython-input-104-34b3236344d2>\u001b[0m in \u001b[0;36mis_dev\u001b[1;34m(num, i)\u001b[0m\n\u001b[0;32m     35\u001b[0m         \u001b[1;32mreturn\u001b[0m \u001b[1;36m1\u001b[0m\u001b[1;33m+\u001b[0m\u001b[0mis_dev\u001b[0m\u001b[1;33m(\u001b[0m\u001b[0mnum\u001b[0m\u001b[1;33m/\u001b[0m\u001b[0mi1\u001b[0m\u001b[1;33m,\u001b[0m\u001b[0mi\u001b[0m\u001b[1;33m)\u001b[0m\u001b[1;33m\u001b[0m\u001b[0m\n\u001b[0;32m     36\u001b[0m     \u001b[1;32melse\u001b[0m\u001b[1;33m:\u001b[0m\u001b[1;33m\u001b[0m\u001b[0m\n\u001b[1;32m---> 37\u001b[1;33m         \u001b[1;32mreturn\u001b[0m \u001b[0mis_dev\u001b[0m\u001b[1;33m(\u001b[0m\u001b[0mnum\u001b[0m\u001b[1;33m,\u001b[0m\u001b[0mil\u001b[0m\u001b[1;33m)\u001b[0m \u001b[1;32mif\u001b[0m \u001b[0mnum\u001b[0m\u001b[1;33m>\u001b[0m\u001b[1;36m1\u001b[0m \u001b[1;32melse\u001b[0m \u001b[1;36m0\u001b[0m\u001b[1;33m\u001b[0m\u001b[0m\n\u001b[0m\u001b[0;32m     38\u001b[0m \u001b[1;33m\u001b[0m\u001b[0m\n\u001b[0;32m     39\u001b[0m \u001b[1;33m\u001b[0m\u001b[0m\n",
      "\u001b[1;32m<ipython-input-104-34b3236344d2>\u001b[0m in \u001b[0;36mis_dev\u001b[1;34m(num, i)\u001b[0m\n\u001b[0;32m     35\u001b[0m         \u001b[1;32mreturn\u001b[0m \u001b[1;36m1\u001b[0m\u001b[1;33m+\u001b[0m\u001b[0mis_dev\u001b[0m\u001b[1;33m(\u001b[0m\u001b[0mnum\u001b[0m\u001b[1;33m/\u001b[0m\u001b[0mi1\u001b[0m\u001b[1;33m,\u001b[0m\u001b[0mi\u001b[0m\u001b[1;33m)\u001b[0m\u001b[1;33m\u001b[0m\u001b[0m\n\u001b[0;32m     36\u001b[0m     \u001b[1;32melse\u001b[0m\u001b[1;33m:\u001b[0m\u001b[1;33m\u001b[0m\u001b[0m\n\u001b[1;32m---> 37\u001b[1;33m         \u001b[1;32mreturn\u001b[0m \u001b[0mis_dev\u001b[0m\u001b[1;33m(\u001b[0m\u001b[0mnum\u001b[0m\u001b[1;33m,\u001b[0m\u001b[0mil\u001b[0m\u001b[1;33m)\u001b[0m \u001b[1;32mif\u001b[0m \u001b[0mnum\u001b[0m\u001b[1;33m>\u001b[0m\u001b[1;36m1\u001b[0m \u001b[1;32melse\u001b[0m \u001b[1;36m0\u001b[0m\u001b[1;33m\u001b[0m\u001b[0m\n\u001b[0m\u001b[0;32m     38\u001b[0m \u001b[1;33m\u001b[0m\u001b[0m\n\u001b[0;32m     39\u001b[0m \u001b[1;33m\u001b[0m\u001b[0m\n",
      "\u001b[1;32m<ipython-input-104-34b3236344d2>\u001b[0m in \u001b[0;36mis_dev\u001b[1;34m(num, i)\u001b[0m\n\u001b[0;32m     35\u001b[0m         \u001b[1;32mreturn\u001b[0m \u001b[1;36m1\u001b[0m\u001b[1;33m+\u001b[0m\u001b[0mis_dev\u001b[0m\u001b[1;33m(\u001b[0m\u001b[0mnum\u001b[0m\u001b[1;33m/\u001b[0m\u001b[0mi1\u001b[0m\u001b[1;33m,\u001b[0m\u001b[0mi\u001b[0m\u001b[1;33m)\u001b[0m\u001b[1;33m\u001b[0m\u001b[0m\n\u001b[0;32m     36\u001b[0m     \u001b[1;32melse\u001b[0m\u001b[1;33m:\u001b[0m\u001b[1;33m\u001b[0m\u001b[0m\n\u001b[1;32m---> 37\u001b[1;33m         \u001b[1;32mreturn\u001b[0m \u001b[0mis_dev\u001b[0m\u001b[1;33m(\u001b[0m\u001b[0mnum\u001b[0m\u001b[1;33m,\u001b[0m\u001b[0mil\u001b[0m\u001b[1;33m)\u001b[0m \u001b[1;32mif\u001b[0m \u001b[0mnum\u001b[0m\u001b[1;33m>\u001b[0m\u001b[1;36m1\u001b[0m \u001b[1;32melse\u001b[0m \u001b[1;36m0\u001b[0m\u001b[1;33m\u001b[0m\u001b[0m\n\u001b[0m\u001b[0;32m     38\u001b[0m \u001b[1;33m\u001b[0m\u001b[0m\n\u001b[0;32m     39\u001b[0m \u001b[1;33m\u001b[0m\u001b[0m\n",
      "\u001b[1;32m<ipython-input-104-34b3236344d2>\u001b[0m in \u001b[0;36mis_dev\u001b[1;34m(num, i)\u001b[0m\n\u001b[0;32m     35\u001b[0m         \u001b[1;32mreturn\u001b[0m \u001b[1;36m1\u001b[0m\u001b[1;33m+\u001b[0m\u001b[0mis_dev\u001b[0m\u001b[1;33m(\u001b[0m\u001b[0mnum\u001b[0m\u001b[1;33m/\u001b[0m\u001b[0mi1\u001b[0m\u001b[1;33m,\u001b[0m\u001b[0mi\u001b[0m\u001b[1;33m)\u001b[0m\u001b[1;33m\u001b[0m\u001b[0m\n\u001b[0;32m     36\u001b[0m     \u001b[1;32melse\u001b[0m\u001b[1;33m:\u001b[0m\u001b[1;33m\u001b[0m\u001b[0m\n\u001b[1;32m---> 37\u001b[1;33m         \u001b[1;32mreturn\u001b[0m \u001b[0mis_dev\u001b[0m\u001b[1;33m(\u001b[0m\u001b[0mnum\u001b[0m\u001b[1;33m,\u001b[0m\u001b[0mil\u001b[0m\u001b[1;33m)\u001b[0m \u001b[1;32mif\u001b[0m \u001b[0mnum\u001b[0m\u001b[1;33m>\u001b[0m\u001b[1;36m1\u001b[0m \u001b[1;32melse\u001b[0m \u001b[1;36m0\u001b[0m\u001b[1;33m\u001b[0m\u001b[0m\n\u001b[0m\u001b[0;32m     38\u001b[0m \u001b[1;33m\u001b[0m\u001b[0m\n\u001b[0;32m     39\u001b[0m \u001b[1;33m\u001b[0m\u001b[0m\n",
      "\u001b[1;32m<ipython-input-104-34b3236344d2>\u001b[0m in \u001b[0;36mis_dev\u001b[1;34m(num, i)\u001b[0m\n\u001b[0;32m     35\u001b[0m         \u001b[1;32mreturn\u001b[0m \u001b[1;36m1\u001b[0m\u001b[1;33m+\u001b[0m\u001b[0mis_dev\u001b[0m\u001b[1;33m(\u001b[0m\u001b[0mnum\u001b[0m\u001b[1;33m/\u001b[0m\u001b[0mi1\u001b[0m\u001b[1;33m,\u001b[0m\u001b[0mi\u001b[0m\u001b[1;33m)\u001b[0m\u001b[1;33m\u001b[0m\u001b[0m\n\u001b[0;32m     36\u001b[0m     \u001b[1;32melse\u001b[0m\u001b[1;33m:\u001b[0m\u001b[1;33m\u001b[0m\u001b[0m\n\u001b[1;32m---> 37\u001b[1;33m         \u001b[1;32mreturn\u001b[0m \u001b[0mis_dev\u001b[0m\u001b[1;33m(\u001b[0m\u001b[0mnum\u001b[0m\u001b[1;33m,\u001b[0m\u001b[0mil\u001b[0m\u001b[1;33m)\u001b[0m \u001b[1;32mif\u001b[0m \u001b[0mnum\u001b[0m\u001b[1;33m>\u001b[0m\u001b[1;36m1\u001b[0m \u001b[1;32melse\u001b[0m \u001b[1;36m0\u001b[0m\u001b[1;33m\u001b[0m\u001b[0m\n\u001b[0m\u001b[0;32m     38\u001b[0m \u001b[1;33m\u001b[0m\u001b[0m\n\u001b[0;32m     39\u001b[0m \u001b[1;33m\u001b[0m\u001b[0m\n",
      "\u001b[1;32m<ipython-input-104-34b3236344d2>\u001b[0m in \u001b[0;36mis_dev\u001b[1;34m(num, i)\u001b[0m\n\u001b[0;32m     35\u001b[0m         \u001b[1;32mreturn\u001b[0m \u001b[1;36m1\u001b[0m\u001b[1;33m+\u001b[0m\u001b[0mis_dev\u001b[0m\u001b[1;33m(\u001b[0m\u001b[0mnum\u001b[0m\u001b[1;33m/\u001b[0m\u001b[0mi1\u001b[0m\u001b[1;33m,\u001b[0m\u001b[0mi\u001b[0m\u001b[1;33m)\u001b[0m\u001b[1;33m\u001b[0m\u001b[0m\n\u001b[0;32m     36\u001b[0m     \u001b[1;32melse\u001b[0m\u001b[1;33m:\u001b[0m\u001b[1;33m\u001b[0m\u001b[0m\n\u001b[1;32m---> 37\u001b[1;33m         \u001b[1;32mreturn\u001b[0m \u001b[0mis_dev\u001b[0m\u001b[1;33m(\u001b[0m\u001b[0mnum\u001b[0m\u001b[1;33m,\u001b[0m\u001b[0mil\u001b[0m\u001b[1;33m)\u001b[0m \u001b[1;32mif\u001b[0m \u001b[0mnum\u001b[0m\u001b[1;33m>\u001b[0m\u001b[1;36m1\u001b[0m \u001b[1;32melse\u001b[0m \u001b[1;36m0\u001b[0m\u001b[1;33m\u001b[0m\u001b[0m\n\u001b[0m\u001b[0;32m     38\u001b[0m \u001b[1;33m\u001b[0m\u001b[0m\n\u001b[0;32m     39\u001b[0m \u001b[1;33m\u001b[0m\u001b[0m\n",
      "\u001b[1;32m<ipython-input-104-34b3236344d2>\u001b[0m in \u001b[0;36mis_dev\u001b[1;34m(num, i)\u001b[0m\n\u001b[0;32m     35\u001b[0m         \u001b[1;32mreturn\u001b[0m \u001b[1;36m1\u001b[0m\u001b[1;33m+\u001b[0m\u001b[0mis_dev\u001b[0m\u001b[1;33m(\u001b[0m\u001b[0mnum\u001b[0m\u001b[1;33m/\u001b[0m\u001b[0mi1\u001b[0m\u001b[1;33m,\u001b[0m\u001b[0mi\u001b[0m\u001b[1;33m)\u001b[0m\u001b[1;33m\u001b[0m\u001b[0m\n\u001b[0;32m     36\u001b[0m     \u001b[1;32melse\u001b[0m\u001b[1;33m:\u001b[0m\u001b[1;33m\u001b[0m\u001b[0m\n\u001b[1;32m---> 37\u001b[1;33m         \u001b[1;32mreturn\u001b[0m \u001b[0mis_dev\u001b[0m\u001b[1;33m(\u001b[0m\u001b[0mnum\u001b[0m\u001b[1;33m,\u001b[0m\u001b[0mil\u001b[0m\u001b[1;33m)\u001b[0m \u001b[1;32mif\u001b[0m \u001b[0mnum\u001b[0m\u001b[1;33m>\u001b[0m\u001b[1;36m1\u001b[0m \u001b[1;32melse\u001b[0m \u001b[1;36m0\u001b[0m\u001b[1;33m\u001b[0m\u001b[0m\n\u001b[0m\u001b[0;32m     38\u001b[0m \u001b[1;33m\u001b[0m\u001b[0m\n\u001b[0;32m     39\u001b[0m \u001b[1;33m\u001b[0m\u001b[0m\n",
      "\u001b[1;32m<ipython-input-104-34b3236344d2>\u001b[0m in \u001b[0;36mis_dev\u001b[1;34m(num, i)\u001b[0m\n\u001b[0;32m     35\u001b[0m         \u001b[1;32mreturn\u001b[0m \u001b[1;36m1\u001b[0m\u001b[1;33m+\u001b[0m\u001b[0mis_dev\u001b[0m\u001b[1;33m(\u001b[0m\u001b[0mnum\u001b[0m\u001b[1;33m/\u001b[0m\u001b[0mi1\u001b[0m\u001b[1;33m,\u001b[0m\u001b[0mi\u001b[0m\u001b[1;33m)\u001b[0m\u001b[1;33m\u001b[0m\u001b[0m\n\u001b[0;32m     36\u001b[0m     \u001b[1;32melse\u001b[0m\u001b[1;33m:\u001b[0m\u001b[1;33m\u001b[0m\u001b[0m\n\u001b[1;32m---> 37\u001b[1;33m         \u001b[1;32mreturn\u001b[0m \u001b[0mis_dev\u001b[0m\u001b[1;33m(\u001b[0m\u001b[0mnum\u001b[0m\u001b[1;33m,\u001b[0m\u001b[0mil\u001b[0m\u001b[1;33m)\u001b[0m \u001b[1;32mif\u001b[0m \u001b[0mnum\u001b[0m\u001b[1;33m>\u001b[0m\u001b[1;36m1\u001b[0m \u001b[1;32melse\u001b[0m \u001b[1;36m0\u001b[0m\u001b[1;33m\u001b[0m\u001b[0m\n\u001b[0m\u001b[0;32m     38\u001b[0m \u001b[1;33m\u001b[0m\u001b[0m\n\u001b[0;32m     39\u001b[0m \u001b[1;33m\u001b[0m\u001b[0m\n",
      "\u001b[1;32m<ipython-input-104-34b3236344d2>\u001b[0m in \u001b[0;36mis_dev\u001b[1;34m(num, i)\u001b[0m\n\u001b[0;32m     35\u001b[0m         \u001b[1;32mreturn\u001b[0m \u001b[1;36m1\u001b[0m\u001b[1;33m+\u001b[0m\u001b[0mis_dev\u001b[0m\u001b[1;33m(\u001b[0m\u001b[0mnum\u001b[0m\u001b[1;33m/\u001b[0m\u001b[0mi1\u001b[0m\u001b[1;33m,\u001b[0m\u001b[0mi\u001b[0m\u001b[1;33m)\u001b[0m\u001b[1;33m\u001b[0m\u001b[0m\n\u001b[0;32m     36\u001b[0m     \u001b[1;32melse\u001b[0m\u001b[1;33m:\u001b[0m\u001b[1;33m\u001b[0m\u001b[0m\n\u001b[1;32m---> 37\u001b[1;33m         \u001b[1;32mreturn\u001b[0m \u001b[0mis_dev\u001b[0m\u001b[1;33m(\u001b[0m\u001b[0mnum\u001b[0m\u001b[1;33m,\u001b[0m\u001b[0mil\u001b[0m\u001b[1;33m)\u001b[0m \u001b[1;32mif\u001b[0m \u001b[0mnum\u001b[0m\u001b[1;33m>\u001b[0m\u001b[1;36m1\u001b[0m \u001b[1;32melse\u001b[0m \u001b[1;36m0\u001b[0m\u001b[1;33m\u001b[0m\u001b[0m\n\u001b[0m\u001b[0;32m     38\u001b[0m \u001b[1;33m\u001b[0m\u001b[0m\n\u001b[0;32m     39\u001b[0m \u001b[1;33m\u001b[0m\u001b[0m\n",
      "\u001b[1;32m<ipython-input-104-34b3236344d2>\u001b[0m in \u001b[0;36mis_dev\u001b[1;34m(num, i)\u001b[0m\n\u001b[0;32m     35\u001b[0m         \u001b[1;32mreturn\u001b[0m \u001b[1;36m1\u001b[0m\u001b[1;33m+\u001b[0m\u001b[0mis_dev\u001b[0m\u001b[1;33m(\u001b[0m\u001b[0mnum\u001b[0m\u001b[1;33m/\u001b[0m\u001b[0mi1\u001b[0m\u001b[1;33m,\u001b[0m\u001b[0mi\u001b[0m\u001b[1;33m)\u001b[0m\u001b[1;33m\u001b[0m\u001b[0m\n\u001b[0;32m     36\u001b[0m     \u001b[1;32melse\u001b[0m\u001b[1;33m:\u001b[0m\u001b[1;33m\u001b[0m\u001b[0m\n\u001b[1;32m---> 37\u001b[1;33m         \u001b[1;32mreturn\u001b[0m \u001b[0mis_dev\u001b[0m\u001b[1;33m(\u001b[0m\u001b[0mnum\u001b[0m\u001b[1;33m,\u001b[0m\u001b[0mil\u001b[0m\u001b[1;33m)\u001b[0m \u001b[1;32mif\u001b[0m \u001b[0mnum\u001b[0m\u001b[1;33m>\u001b[0m\u001b[1;36m1\u001b[0m \u001b[1;32melse\u001b[0m \u001b[1;36m0\u001b[0m\u001b[1;33m\u001b[0m\u001b[0m\n\u001b[0m\u001b[0;32m     38\u001b[0m \u001b[1;33m\u001b[0m\u001b[0m\n\u001b[0;32m     39\u001b[0m \u001b[1;33m\u001b[0m\u001b[0m\n",
      "\u001b[1;32m<ipython-input-104-34b3236344d2>\u001b[0m in \u001b[0;36mis_dev\u001b[1;34m(num, i)\u001b[0m\n\u001b[0;32m     35\u001b[0m         \u001b[1;32mreturn\u001b[0m \u001b[1;36m1\u001b[0m\u001b[1;33m+\u001b[0m\u001b[0mis_dev\u001b[0m\u001b[1;33m(\u001b[0m\u001b[0mnum\u001b[0m\u001b[1;33m/\u001b[0m\u001b[0mi1\u001b[0m\u001b[1;33m,\u001b[0m\u001b[0mi\u001b[0m\u001b[1;33m)\u001b[0m\u001b[1;33m\u001b[0m\u001b[0m\n\u001b[0;32m     36\u001b[0m     \u001b[1;32melse\u001b[0m\u001b[1;33m:\u001b[0m\u001b[1;33m\u001b[0m\u001b[0m\n\u001b[1;32m---> 37\u001b[1;33m         \u001b[1;32mreturn\u001b[0m \u001b[0mis_dev\u001b[0m\u001b[1;33m(\u001b[0m\u001b[0mnum\u001b[0m\u001b[1;33m,\u001b[0m\u001b[0mil\u001b[0m\u001b[1;33m)\u001b[0m \u001b[1;32mif\u001b[0m \u001b[0mnum\u001b[0m\u001b[1;33m>\u001b[0m\u001b[1;36m1\u001b[0m \u001b[1;32melse\u001b[0m \u001b[1;36m0\u001b[0m\u001b[1;33m\u001b[0m\u001b[0m\n\u001b[0m\u001b[0;32m     38\u001b[0m \u001b[1;33m\u001b[0m\u001b[0m\n\u001b[0;32m     39\u001b[0m \u001b[1;33m\u001b[0m\u001b[0m\n",
      "\u001b[1;32m<ipython-input-104-34b3236344d2>\u001b[0m in \u001b[0;36mis_dev\u001b[1;34m(num, i)\u001b[0m\n\u001b[0;32m     35\u001b[0m         \u001b[1;32mreturn\u001b[0m \u001b[1;36m1\u001b[0m\u001b[1;33m+\u001b[0m\u001b[0mis_dev\u001b[0m\u001b[1;33m(\u001b[0m\u001b[0mnum\u001b[0m\u001b[1;33m/\u001b[0m\u001b[0mi1\u001b[0m\u001b[1;33m,\u001b[0m\u001b[0mi\u001b[0m\u001b[1;33m)\u001b[0m\u001b[1;33m\u001b[0m\u001b[0m\n\u001b[0;32m     36\u001b[0m     \u001b[1;32melse\u001b[0m\u001b[1;33m:\u001b[0m\u001b[1;33m\u001b[0m\u001b[0m\n\u001b[1;32m---> 37\u001b[1;33m         \u001b[1;32mreturn\u001b[0m \u001b[0mis_dev\u001b[0m\u001b[1;33m(\u001b[0m\u001b[0mnum\u001b[0m\u001b[1;33m,\u001b[0m\u001b[0mil\u001b[0m\u001b[1;33m)\u001b[0m \u001b[1;32mif\u001b[0m \u001b[0mnum\u001b[0m\u001b[1;33m>\u001b[0m\u001b[1;36m1\u001b[0m \u001b[1;32melse\u001b[0m \u001b[1;36m0\u001b[0m\u001b[1;33m\u001b[0m\u001b[0m\n\u001b[0m\u001b[0;32m     38\u001b[0m \u001b[1;33m\u001b[0m\u001b[0m\n\u001b[0;32m     39\u001b[0m \u001b[1;33m\u001b[0m\u001b[0m\n",
      "\u001b[1;32m<ipython-input-104-34b3236344d2>\u001b[0m in \u001b[0;36mis_dev\u001b[1;34m(num, i)\u001b[0m\n\u001b[0;32m     35\u001b[0m         \u001b[1;32mreturn\u001b[0m \u001b[1;36m1\u001b[0m\u001b[1;33m+\u001b[0m\u001b[0mis_dev\u001b[0m\u001b[1;33m(\u001b[0m\u001b[0mnum\u001b[0m\u001b[1;33m/\u001b[0m\u001b[0mi1\u001b[0m\u001b[1;33m,\u001b[0m\u001b[0mi\u001b[0m\u001b[1;33m)\u001b[0m\u001b[1;33m\u001b[0m\u001b[0m\n\u001b[0;32m     36\u001b[0m     \u001b[1;32melse\u001b[0m\u001b[1;33m:\u001b[0m\u001b[1;33m\u001b[0m\u001b[0m\n\u001b[1;32m---> 37\u001b[1;33m         \u001b[1;32mreturn\u001b[0m \u001b[0mis_dev\u001b[0m\u001b[1;33m(\u001b[0m\u001b[0mnum\u001b[0m\u001b[1;33m,\u001b[0m\u001b[0mil\u001b[0m\u001b[1;33m)\u001b[0m \u001b[1;32mif\u001b[0m \u001b[0mnum\u001b[0m\u001b[1;33m>\u001b[0m\u001b[1;36m1\u001b[0m \u001b[1;32melse\u001b[0m \u001b[1;36m0\u001b[0m\u001b[1;33m\u001b[0m\u001b[0m\n\u001b[0m\u001b[0;32m     38\u001b[0m \u001b[1;33m\u001b[0m\u001b[0m\n\u001b[0;32m     39\u001b[0m \u001b[1;33m\u001b[0m\u001b[0m\n",
      "\u001b[1;32m<ipython-input-104-34b3236344d2>\u001b[0m in \u001b[0;36mis_dev\u001b[1;34m(num, i)\u001b[0m\n\u001b[0;32m     35\u001b[0m         \u001b[1;32mreturn\u001b[0m \u001b[1;36m1\u001b[0m\u001b[1;33m+\u001b[0m\u001b[0mis_dev\u001b[0m\u001b[1;33m(\u001b[0m\u001b[0mnum\u001b[0m\u001b[1;33m/\u001b[0m\u001b[0mi1\u001b[0m\u001b[1;33m,\u001b[0m\u001b[0mi\u001b[0m\u001b[1;33m)\u001b[0m\u001b[1;33m\u001b[0m\u001b[0m\n\u001b[0;32m     36\u001b[0m     \u001b[1;32melse\u001b[0m\u001b[1;33m:\u001b[0m\u001b[1;33m\u001b[0m\u001b[0m\n\u001b[1;32m---> 37\u001b[1;33m         \u001b[1;32mreturn\u001b[0m \u001b[0mis_dev\u001b[0m\u001b[1;33m(\u001b[0m\u001b[0mnum\u001b[0m\u001b[1;33m,\u001b[0m\u001b[0mil\u001b[0m\u001b[1;33m)\u001b[0m \u001b[1;32mif\u001b[0m \u001b[0mnum\u001b[0m\u001b[1;33m>\u001b[0m\u001b[1;36m1\u001b[0m \u001b[1;32melse\u001b[0m \u001b[1;36m0\u001b[0m\u001b[1;33m\u001b[0m\u001b[0m\n\u001b[0m\u001b[0;32m     38\u001b[0m \u001b[1;33m\u001b[0m\u001b[0m\n\u001b[0;32m     39\u001b[0m \u001b[1;33m\u001b[0m\u001b[0m\n",
      "\u001b[1;32m<ipython-input-104-34b3236344d2>\u001b[0m in \u001b[0;36mis_dev\u001b[1;34m(num, i)\u001b[0m\n\u001b[0;32m     35\u001b[0m         \u001b[1;32mreturn\u001b[0m \u001b[1;36m1\u001b[0m\u001b[1;33m+\u001b[0m\u001b[0mis_dev\u001b[0m\u001b[1;33m(\u001b[0m\u001b[0mnum\u001b[0m\u001b[1;33m/\u001b[0m\u001b[0mi1\u001b[0m\u001b[1;33m,\u001b[0m\u001b[0mi\u001b[0m\u001b[1;33m)\u001b[0m\u001b[1;33m\u001b[0m\u001b[0m\n\u001b[0;32m     36\u001b[0m     \u001b[1;32melse\u001b[0m\u001b[1;33m:\u001b[0m\u001b[1;33m\u001b[0m\u001b[0m\n\u001b[1;32m---> 37\u001b[1;33m         \u001b[1;32mreturn\u001b[0m \u001b[0mis_dev\u001b[0m\u001b[1;33m(\u001b[0m\u001b[0mnum\u001b[0m\u001b[1;33m,\u001b[0m\u001b[0mil\u001b[0m\u001b[1;33m)\u001b[0m \u001b[1;32mif\u001b[0m \u001b[0mnum\u001b[0m\u001b[1;33m>\u001b[0m\u001b[1;36m1\u001b[0m \u001b[1;32melse\u001b[0m \u001b[1;36m0\u001b[0m\u001b[1;33m\u001b[0m\u001b[0m\n\u001b[0m\u001b[0;32m     38\u001b[0m \u001b[1;33m\u001b[0m\u001b[0m\n\u001b[0;32m     39\u001b[0m \u001b[1;33m\u001b[0m\u001b[0m\n",
      "\u001b[1;32m<ipython-input-104-34b3236344d2>\u001b[0m in \u001b[0;36mis_dev\u001b[1;34m(num, i)\u001b[0m\n\u001b[0;32m     35\u001b[0m         \u001b[1;32mreturn\u001b[0m \u001b[1;36m1\u001b[0m\u001b[1;33m+\u001b[0m\u001b[0mis_dev\u001b[0m\u001b[1;33m(\u001b[0m\u001b[0mnum\u001b[0m\u001b[1;33m/\u001b[0m\u001b[0mi1\u001b[0m\u001b[1;33m,\u001b[0m\u001b[0mi\u001b[0m\u001b[1;33m)\u001b[0m\u001b[1;33m\u001b[0m\u001b[0m\n\u001b[0;32m     36\u001b[0m     \u001b[1;32melse\u001b[0m\u001b[1;33m:\u001b[0m\u001b[1;33m\u001b[0m\u001b[0m\n\u001b[1;32m---> 37\u001b[1;33m         \u001b[1;32mreturn\u001b[0m \u001b[0mis_dev\u001b[0m\u001b[1;33m(\u001b[0m\u001b[0mnum\u001b[0m\u001b[1;33m,\u001b[0m\u001b[0mil\u001b[0m\u001b[1;33m)\u001b[0m \u001b[1;32mif\u001b[0m \u001b[0mnum\u001b[0m\u001b[1;33m>\u001b[0m\u001b[1;36m1\u001b[0m \u001b[1;32melse\u001b[0m \u001b[1;36m0\u001b[0m\u001b[1;33m\u001b[0m\u001b[0m\n\u001b[0m\u001b[0;32m     38\u001b[0m \u001b[1;33m\u001b[0m\u001b[0m\n\u001b[0;32m     39\u001b[0m \u001b[1;33m\u001b[0m\u001b[0m\n",
      "\u001b[1;32m<ipython-input-104-34b3236344d2>\u001b[0m in \u001b[0;36mis_dev\u001b[1;34m(num, i)\u001b[0m\n\u001b[0;32m     35\u001b[0m         \u001b[1;32mreturn\u001b[0m \u001b[1;36m1\u001b[0m\u001b[1;33m+\u001b[0m\u001b[0mis_dev\u001b[0m\u001b[1;33m(\u001b[0m\u001b[0mnum\u001b[0m\u001b[1;33m/\u001b[0m\u001b[0mi1\u001b[0m\u001b[1;33m,\u001b[0m\u001b[0mi\u001b[0m\u001b[1;33m)\u001b[0m\u001b[1;33m\u001b[0m\u001b[0m\n\u001b[0;32m     36\u001b[0m     \u001b[1;32melse\u001b[0m\u001b[1;33m:\u001b[0m\u001b[1;33m\u001b[0m\u001b[0m\n\u001b[1;32m---> 37\u001b[1;33m         \u001b[1;32mreturn\u001b[0m \u001b[0mis_dev\u001b[0m\u001b[1;33m(\u001b[0m\u001b[0mnum\u001b[0m\u001b[1;33m,\u001b[0m\u001b[0mil\u001b[0m\u001b[1;33m)\u001b[0m \u001b[1;32mif\u001b[0m \u001b[0mnum\u001b[0m\u001b[1;33m>\u001b[0m\u001b[1;36m1\u001b[0m \u001b[1;32melse\u001b[0m \u001b[1;36m0\u001b[0m\u001b[1;33m\u001b[0m\u001b[0m\n\u001b[0m\u001b[0;32m     38\u001b[0m \u001b[1;33m\u001b[0m\u001b[0m\n\u001b[0;32m     39\u001b[0m \u001b[1;33m\u001b[0m\u001b[0m\n",
      "\u001b[1;32m<ipython-input-104-34b3236344d2>\u001b[0m in \u001b[0;36mis_dev\u001b[1;34m(num, i)\u001b[0m\n\u001b[0;32m     35\u001b[0m         \u001b[1;32mreturn\u001b[0m \u001b[1;36m1\u001b[0m\u001b[1;33m+\u001b[0m\u001b[0mis_dev\u001b[0m\u001b[1;33m(\u001b[0m\u001b[0mnum\u001b[0m\u001b[1;33m/\u001b[0m\u001b[0mi1\u001b[0m\u001b[1;33m,\u001b[0m\u001b[0mi\u001b[0m\u001b[1;33m)\u001b[0m\u001b[1;33m\u001b[0m\u001b[0m\n\u001b[0;32m     36\u001b[0m     \u001b[1;32melse\u001b[0m\u001b[1;33m:\u001b[0m\u001b[1;33m\u001b[0m\u001b[0m\n\u001b[1;32m---> 37\u001b[1;33m         \u001b[1;32mreturn\u001b[0m \u001b[0mis_dev\u001b[0m\u001b[1;33m(\u001b[0m\u001b[0mnum\u001b[0m\u001b[1;33m,\u001b[0m\u001b[0mil\u001b[0m\u001b[1;33m)\u001b[0m \u001b[1;32mif\u001b[0m \u001b[0mnum\u001b[0m\u001b[1;33m>\u001b[0m\u001b[1;36m1\u001b[0m \u001b[1;32melse\u001b[0m \u001b[1;36m0\u001b[0m\u001b[1;33m\u001b[0m\u001b[0m\n\u001b[0m\u001b[0;32m     38\u001b[0m \u001b[1;33m\u001b[0m\u001b[0m\n\u001b[0;32m     39\u001b[0m \u001b[1;33m\u001b[0m\u001b[0m\n",
      "\u001b[1;32m<ipython-input-104-34b3236344d2>\u001b[0m in \u001b[0;36mis_dev\u001b[1;34m(num, i)\u001b[0m\n\u001b[0;32m     35\u001b[0m         \u001b[1;32mreturn\u001b[0m \u001b[1;36m1\u001b[0m\u001b[1;33m+\u001b[0m\u001b[0mis_dev\u001b[0m\u001b[1;33m(\u001b[0m\u001b[0mnum\u001b[0m\u001b[1;33m/\u001b[0m\u001b[0mi1\u001b[0m\u001b[1;33m,\u001b[0m\u001b[0mi\u001b[0m\u001b[1;33m)\u001b[0m\u001b[1;33m\u001b[0m\u001b[0m\n\u001b[0;32m     36\u001b[0m     \u001b[1;32melse\u001b[0m\u001b[1;33m:\u001b[0m\u001b[1;33m\u001b[0m\u001b[0m\n\u001b[1;32m---> 37\u001b[1;33m         \u001b[1;32mreturn\u001b[0m \u001b[0mis_dev\u001b[0m\u001b[1;33m(\u001b[0m\u001b[0mnum\u001b[0m\u001b[1;33m,\u001b[0m\u001b[0mil\u001b[0m\u001b[1;33m)\u001b[0m \u001b[1;32mif\u001b[0m \u001b[0mnum\u001b[0m\u001b[1;33m>\u001b[0m\u001b[1;36m1\u001b[0m \u001b[1;32melse\u001b[0m \u001b[1;36m0\u001b[0m\u001b[1;33m\u001b[0m\u001b[0m\n\u001b[0m\u001b[0;32m     38\u001b[0m \u001b[1;33m\u001b[0m\u001b[0m\n\u001b[0;32m     39\u001b[0m \u001b[1;33m\u001b[0m\u001b[0m\n",
      "\u001b[1;32m<ipython-input-104-34b3236344d2>\u001b[0m in \u001b[0;36mis_dev\u001b[1;34m(num, i)\u001b[0m\n\u001b[0;32m     35\u001b[0m         \u001b[1;32mreturn\u001b[0m \u001b[1;36m1\u001b[0m\u001b[1;33m+\u001b[0m\u001b[0mis_dev\u001b[0m\u001b[1;33m(\u001b[0m\u001b[0mnum\u001b[0m\u001b[1;33m/\u001b[0m\u001b[0mi1\u001b[0m\u001b[1;33m,\u001b[0m\u001b[0mi\u001b[0m\u001b[1;33m)\u001b[0m\u001b[1;33m\u001b[0m\u001b[0m\n\u001b[0;32m     36\u001b[0m     \u001b[1;32melse\u001b[0m\u001b[1;33m:\u001b[0m\u001b[1;33m\u001b[0m\u001b[0m\n\u001b[1;32m---> 37\u001b[1;33m         \u001b[1;32mreturn\u001b[0m \u001b[0mis_dev\u001b[0m\u001b[1;33m(\u001b[0m\u001b[0mnum\u001b[0m\u001b[1;33m,\u001b[0m\u001b[0mil\u001b[0m\u001b[1;33m)\u001b[0m \u001b[1;32mif\u001b[0m \u001b[0mnum\u001b[0m\u001b[1;33m>\u001b[0m\u001b[1;36m1\u001b[0m \u001b[1;32melse\u001b[0m \u001b[1;36m0\u001b[0m\u001b[1;33m\u001b[0m\u001b[0m\n\u001b[0m\u001b[0;32m     38\u001b[0m \u001b[1;33m\u001b[0m\u001b[0m\n\u001b[0;32m     39\u001b[0m \u001b[1;33m\u001b[0m\u001b[0m\n",
      "\u001b[1;32m<ipython-input-104-34b3236344d2>\u001b[0m in \u001b[0;36mis_dev\u001b[1;34m(num, i)\u001b[0m\n\u001b[0;32m     35\u001b[0m         \u001b[1;32mreturn\u001b[0m \u001b[1;36m1\u001b[0m\u001b[1;33m+\u001b[0m\u001b[0mis_dev\u001b[0m\u001b[1;33m(\u001b[0m\u001b[0mnum\u001b[0m\u001b[1;33m/\u001b[0m\u001b[0mi1\u001b[0m\u001b[1;33m,\u001b[0m\u001b[0mi\u001b[0m\u001b[1;33m)\u001b[0m\u001b[1;33m\u001b[0m\u001b[0m\n\u001b[0;32m     36\u001b[0m     \u001b[1;32melse\u001b[0m\u001b[1;33m:\u001b[0m\u001b[1;33m\u001b[0m\u001b[0m\n\u001b[1;32m---> 37\u001b[1;33m         \u001b[1;32mreturn\u001b[0m \u001b[0mis_dev\u001b[0m\u001b[1;33m(\u001b[0m\u001b[0mnum\u001b[0m\u001b[1;33m,\u001b[0m\u001b[0mil\u001b[0m\u001b[1;33m)\u001b[0m \u001b[1;32mif\u001b[0m \u001b[0mnum\u001b[0m\u001b[1;33m>\u001b[0m\u001b[1;36m1\u001b[0m \u001b[1;32melse\u001b[0m \u001b[1;36m0\u001b[0m\u001b[1;33m\u001b[0m\u001b[0m\n\u001b[0m\u001b[0;32m     38\u001b[0m \u001b[1;33m\u001b[0m\u001b[0m\n\u001b[0;32m     39\u001b[0m \u001b[1;33m\u001b[0m\u001b[0m\n",
      "\u001b[1;32m<ipython-input-104-34b3236344d2>\u001b[0m in \u001b[0;36mis_dev\u001b[1;34m(num, i)\u001b[0m\n\u001b[0;32m     35\u001b[0m         \u001b[1;32mreturn\u001b[0m \u001b[1;36m1\u001b[0m\u001b[1;33m+\u001b[0m\u001b[0mis_dev\u001b[0m\u001b[1;33m(\u001b[0m\u001b[0mnum\u001b[0m\u001b[1;33m/\u001b[0m\u001b[0mi1\u001b[0m\u001b[1;33m,\u001b[0m\u001b[0mi\u001b[0m\u001b[1;33m)\u001b[0m\u001b[1;33m\u001b[0m\u001b[0m\n\u001b[0;32m     36\u001b[0m     \u001b[1;32melse\u001b[0m\u001b[1;33m:\u001b[0m\u001b[1;33m\u001b[0m\u001b[0m\n\u001b[1;32m---> 37\u001b[1;33m         \u001b[1;32mreturn\u001b[0m \u001b[0mis_dev\u001b[0m\u001b[1;33m(\u001b[0m\u001b[0mnum\u001b[0m\u001b[1;33m,\u001b[0m\u001b[0mil\u001b[0m\u001b[1;33m)\u001b[0m \u001b[1;32mif\u001b[0m \u001b[0mnum\u001b[0m\u001b[1;33m>\u001b[0m\u001b[1;36m1\u001b[0m \u001b[1;32melse\u001b[0m \u001b[1;36m0\u001b[0m\u001b[1;33m\u001b[0m\u001b[0m\n\u001b[0m\u001b[0;32m     38\u001b[0m \u001b[1;33m\u001b[0m\u001b[0m\n\u001b[0;32m     39\u001b[0m \u001b[1;33m\u001b[0m\u001b[0m\n",
      "\u001b[1;32m<ipython-input-104-34b3236344d2>\u001b[0m in \u001b[0;36mis_dev\u001b[1;34m(num, i)\u001b[0m\n\u001b[0;32m     35\u001b[0m         \u001b[1;32mreturn\u001b[0m \u001b[1;36m1\u001b[0m\u001b[1;33m+\u001b[0m\u001b[0mis_dev\u001b[0m\u001b[1;33m(\u001b[0m\u001b[0mnum\u001b[0m\u001b[1;33m/\u001b[0m\u001b[0mi1\u001b[0m\u001b[1;33m,\u001b[0m\u001b[0mi\u001b[0m\u001b[1;33m)\u001b[0m\u001b[1;33m\u001b[0m\u001b[0m\n\u001b[0;32m     36\u001b[0m     \u001b[1;32melse\u001b[0m\u001b[1;33m:\u001b[0m\u001b[1;33m\u001b[0m\u001b[0m\n\u001b[1;32m---> 37\u001b[1;33m         \u001b[1;32mreturn\u001b[0m \u001b[0mis_dev\u001b[0m\u001b[1;33m(\u001b[0m\u001b[0mnum\u001b[0m\u001b[1;33m,\u001b[0m\u001b[0mil\u001b[0m\u001b[1;33m)\u001b[0m \u001b[1;32mif\u001b[0m \u001b[0mnum\u001b[0m\u001b[1;33m>\u001b[0m\u001b[1;36m1\u001b[0m \u001b[1;32melse\u001b[0m \u001b[1;36m0\u001b[0m\u001b[1;33m\u001b[0m\u001b[0m\n\u001b[0m\u001b[0;32m     38\u001b[0m \u001b[1;33m\u001b[0m\u001b[0m\n\u001b[0;32m     39\u001b[0m \u001b[1;33m\u001b[0m\u001b[0m\n",
      "\u001b[1;32m<ipython-input-104-34b3236344d2>\u001b[0m in \u001b[0;36mis_dev\u001b[1;34m(num, i)\u001b[0m\n\u001b[0;32m     35\u001b[0m         \u001b[1;32mreturn\u001b[0m \u001b[1;36m1\u001b[0m\u001b[1;33m+\u001b[0m\u001b[0mis_dev\u001b[0m\u001b[1;33m(\u001b[0m\u001b[0mnum\u001b[0m\u001b[1;33m/\u001b[0m\u001b[0mi1\u001b[0m\u001b[1;33m,\u001b[0m\u001b[0mi\u001b[0m\u001b[1;33m)\u001b[0m\u001b[1;33m\u001b[0m\u001b[0m\n\u001b[0;32m     36\u001b[0m     \u001b[1;32melse\u001b[0m\u001b[1;33m:\u001b[0m\u001b[1;33m\u001b[0m\u001b[0m\n\u001b[1;32m---> 37\u001b[1;33m         \u001b[1;32mreturn\u001b[0m \u001b[0mis_dev\u001b[0m\u001b[1;33m(\u001b[0m\u001b[0mnum\u001b[0m\u001b[1;33m,\u001b[0m\u001b[0mil\u001b[0m\u001b[1;33m)\u001b[0m \u001b[1;32mif\u001b[0m \u001b[0mnum\u001b[0m\u001b[1;33m>\u001b[0m\u001b[1;36m1\u001b[0m \u001b[1;32melse\u001b[0m \u001b[1;36m0\u001b[0m\u001b[1;33m\u001b[0m\u001b[0m\n\u001b[0m\u001b[0;32m     38\u001b[0m \u001b[1;33m\u001b[0m\u001b[0m\n\u001b[0;32m     39\u001b[0m \u001b[1;33m\u001b[0m\u001b[0m\n",
      "\u001b[1;32m<ipython-input-104-34b3236344d2>\u001b[0m in \u001b[0;36mis_dev\u001b[1;34m(num, i)\u001b[0m\n\u001b[0;32m     35\u001b[0m         \u001b[1;32mreturn\u001b[0m \u001b[1;36m1\u001b[0m\u001b[1;33m+\u001b[0m\u001b[0mis_dev\u001b[0m\u001b[1;33m(\u001b[0m\u001b[0mnum\u001b[0m\u001b[1;33m/\u001b[0m\u001b[0mi1\u001b[0m\u001b[1;33m,\u001b[0m\u001b[0mi\u001b[0m\u001b[1;33m)\u001b[0m\u001b[1;33m\u001b[0m\u001b[0m\n\u001b[0;32m     36\u001b[0m     \u001b[1;32melse\u001b[0m\u001b[1;33m:\u001b[0m\u001b[1;33m\u001b[0m\u001b[0m\n\u001b[1;32m---> 37\u001b[1;33m         \u001b[1;32mreturn\u001b[0m \u001b[0mis_dev\u001b[0m\u001b[1;33m(\u001b[0m\u001b[0mnum\u001b[0m\u001b[1;33m,\u001b[0m\u001b[0mil\u001b[0m\u001b[1;33m)\u001b[0m \u001b[1;32mif\u001b[0m \u001b[0mnum\u001b[0m\u001b[1;33m>\u001b[0m\u001b[1;36m1\u001b[0m \u001b[1;32melse\u001b[0m \u001b[1;36m0\u001b[0m\u001b[1;33m\u001b[0m\u001b[0m\n\u001b[0m\u001b[0;32m     38\u001b[0m \u001b[1;33m\u001b[0m\u001b[0m\n\u001b[0;32m     39\u001b[0m \u001b[1;33m\u001b[0m\u001b[0m\n",
      "\u001b[1;32m<ipython-input-104-34b3236344d2>\u001b[0m in \u001b[0;36mis_dev\u001b[1;34m(num, i)\u001b[0m\n\u001b[0;32m     35\u001b[0m         \u001b[1;32mreturn\u001b[0m \u001b[1;36m1\u001b[0m\u001b[1;33m+\u001b[0m\u001b[0mis_dev\u001b[0m\u001b[1;33m(\u001b[0m\u001b[0mnum\u001b[0m\u001b[1;33m/\u001b[0m\u001b[0mi1\u001b[0m\u001b[1;33m,\u001b[0m\u001b[0mi\u001b[0m\u001b[1;33m)\u001b[0m\u001b[1;33m\u001b[0m\u001b[0m\n\u001b[0;32m     36\u001b[0m     \u001b[1;32melse\u001b[0m\u001b[1;33m:\u001b[0m\u001b[1;33m\u001b[0m\u001b[0m\n\u001b[1;32m---> 37\u001b[1;33m         \u001b[1;32mreturn\u001b[0m \u001b[0mis_dev\u001b[0m\u001b[1;33m(\u001b[0m\u001b[0mnum\u001b[0m\u001b[1;33m,\u001b[0m\u001b[0mil\u001b[0m\u001b[1;33m)\u001b[0m \u001b[1;32mif\u001b[0m \u001b[0mnum\u001b[0m\u001b[1;33m>\u001b[0m\u001b[1;36m1\u001b[0m \u001b[1;32melse\u001b[0m \u001b[1;36m0\u001b[0m\u001b[1;33m\u001b[0m\u001b[0m\n\u001b[0m\u001b[0;32m     38\u001b[0m \u001b[1;33m\u001b[0m\u001b[0m\n\u001b[0;32m     39\u001b[0m \u001b[1;33m\u001b[0m\u001b[0m\n",
      "\u001b[1;32m<ipython-input-104-34b3236344d2>\u001b[0m in \u001b[0;36mis_dev\u001b[1;34m(num, i)\u001b[0m\n\u001b[0;32m     35\u001b[0m         \u001b[1;32mreturn\u001b[0m \u001b[1;36m1\u001b[0m\u001b[1;33m+\u001b[0m\u001b[0mis_dev\u001b[0m\u001b[1;33m(\u001b[0m\u001b[0mnum\u001b[0m\u001b[1;33m/\u001b[0m\u001b[0mi1\u001b[0m\u001b[1;33m,\u001b[0m\u001b[0mi\u001b[0m\u001b[1;33m)\u001b[0m\u001b[1;33m\u001b[0m\u001b[0m\n\u001b[0;32m     36\u001b[0m     \u001b[1;32melse\u001b[0m\u001b[1;33m:\u001b[0m\u001b[1;33m\u001b[0m\u001b[0m\n\u001b[1;32m---> 37\u001b[1;33m         \u001b[1;32mreturn\u001b[0m \u001b[0mis_dev\u001b[0m\u001b[1;33m(\u001b[0m\u001b[0mnum\u001b[0m\u001b[1;33m,\u001b[0m\u001b[0mil\u001b[0m\u001b[1;33m)\u001b[0m \u001b[1;32mif\u001b[0m \u001b[0mnum\u001b[0m\u001b[1;33m>\u001b[0m\u001b[1;36m1\u001b[0m \u001b[1;32melse\u001b[0m \u001b[1;36m0\u001b[0m\u001b[1;33m\u001b[0m\u001b[0m\n\u001b[0m\u001b[0;32m     38\u001b[0m \u001b[1;33m\u001b[0m\u001b[0m\n\u001b[0;32m     39\u001b[0m \u001b[1;33m\u001b[0m\u001b[0m\n",
      "\u001b[1;32m<ipython-input-104-34b3236344d2>\u001b[0m in \u001b[0;36mis_dev\u001b[1;34m(num, i)\u001b[0m\n\u001b[0;32m     35\u001b[0m         \u001b[1;32mreturn\u001b[0m \u001b[1;36m1\u001b[0m\u001b[1;33m+\u001b[0m\u001b[0mis_dev\u001b[0m\u001b[1;33m(\u001b[0m\u001b[0mnum\u001b[0m\u001b[1;33m/\u001b[0m\u001b[0mi1\u001b[0m\u001b[1;33m,\u001b[0m\u001b[0mi\u001b[0m\u001b[1;33m)\u001b[0m\u001b[1;33m\u001b[0m\u001b[0m\n\u001b[0;32m     36\u001b[0m     \u001b[1;32melse\u001b[0m\u001b[1;33m:\u001b[0m\u001b[1;33m\u001b[0m\u001b[0m\n\u001b[1;32m---> 37\u001b[1;33m         \u001b[1;32mreturn\u001b[0m \u001b[0mis_dev\u001b[0m\u001b[1;33m(\u001b[0m\u001b[0mnum\u001b[0m\u001b[1;33m,\u001b[0m\u001b[0mil\u001b[0m\u001b[1;33m)\u001b[0m \u001b[1;32mif\u001b[0m \u001b[0mnum\u001b[0m\u001b[1;33m>\u001b[0m\u001b[1;36m1\u001b[0m \u001b[1;32melse\u001b[0m \u001b[1;36m0\u001b[0m\u001b[1;33m\u001b[0m\u001b[0m\n\u001b[0m\u001b[0;32m     38\u001b[0m \u001b[1;33m\u001b[0m\u001b[0m\n\u001b[0;32m     39\u001b[0m \u001b[1;33m\u001b[0m\u001b[0m\n",
      "\u001b[1;32m<ipython-input-104-34b3236344d2>\u001b[0m in \u001b[0;36mis_dev\u001b[1;34m(num, i)\u001b[0m\n\u001b[0;32m     35\u001b[0m         \u001b[1;32mreturn\u001b[0m \u001b[1;36m1\u001b[0m\u001b[1;33m+\u001b[0m\u001b[0mis_dev\u001b[0m\u001b[1;33m(\u001b[0m\u001b[0mnum\u001b[0m\u001b[1;33m/\u001b[0m\u001b[0mi1\u001b[0m\u001b[1;33m,\u001b[0m\u001b[0mi\u001b[0m\u001b[1;33m)\u001b[0m\u001b[1;33m\u001b[0m\u001b[0m\n\u001b[0;32m     36\u001b[0m     \u001b[1;32melse\u001b[0m\u001b[1;33m:\u001b[0m\u001b[1;33m\u001b[0m\u001b[0m\n\u001b[1;32m---> 37\u001b[1;33m         \u001b[1;32mreturn\u001b[0m \u001b[0mis_dev\u001b[0m\u001b[1;33m(\u001b[0m\u001b[0mnum\u001b[0m\u001b[1;33m,\u001b[0m\u001b[0mil\u001b[0m\u001b[1;33m)\u001b[0m \u001b[1;32mif\u001b[0m \u001b[0mnum\u001b[0m\u001b[1;33m>\u001b[0m\u001b[1;36m1\u001b[0m \u001b[1;32melse\u001b[0m \u001b[1;36m0\u001b[0m\u001b[1;33m\u001b[0m\u001b[0m\n\u001b[0m\u001b[0;32m     38\u001b[0m \u001b[1;33m\u001b[0m\u001b[0m\n\u001b[0;32m     39\u001b[0m \u001b[1;33m\u001b[0m\u001b[0m\n",
      "\u001b[1;32m<ipython-input-104-34b3236344d2>\u001b[0m in \u001b[0;36mis_dev\u001b[1;34m(num, i)\u001b[0m\n\u001b[0;32m     35\u001b[0m         \u001b[1;32mreturn\u001b[0m \u001b[1;36m1\u001b[0m\u001b[1;33m+\u001b[0m\u001b[0mis_dev\u001b[0m\u001b[1;33m(\u001b[0m\u001b[0mnum\u001b[0m\u001b[1;33m/\u001b[0m\u001b[0mi1\u001b[0m\u001b[1;33m,\u001b[0m\u001b[0mi\u001b[0m\u001b[1;33m)\u001b[0m\u001b[1;33m\u001b[0m\u001b[0m\n\u001b[0;32m     36\u001b[0m     \u001b[1;32melse\u001b[0m\u001b[1;33m:\u001b[0m\u001b[1;33m\u001b[0m\u001b[0m\n\u001b[1;32m---> 37\u001b[1;33m         \u001b[1;32mreturn\u001b[0m \u001b[0mis_dev\u001b[0m\u001b[1;33m(\u001b[0m\u001b[0mnum\u001b[0m\u001b[1;33m,\u001b[0m\u001b[0mil\u001b[0m\u001b[1;33m)\u001b[0m \u001b[1;32mif\u001b[0m \u001b[0mnum\u001b[0m\u001b[1;33m>\u001b[0m\u001b[1;36m1\u001b[0m \u001b[1;32melse\u001b[0m \u001b[1;36m0\u001b[0m\u001b[1;33m\u001b[0m\u001b[0m\n\u001b[0m\u001b[0;32m     38\u001b[0m \u001b[1;33m\u001b[0m\u001b[0m\n\u001b[0;32m     39\u001b[0m \u001b[1;33m\u001b[0m\u001b[0m\n",
      "\u001b[1;32m<ipython-input-104-34b3236344d2>\u001b[0m in \u001b[0;36mis_dev\u001b[1;34m(num, i)\u001b[0m\n\u001b[0;32m     35\u001b[0m         \u001b[1;32mreturn\u001b[0m \u001b[1;36m1\u001b[0m\u001b[1;33m+\u001b[0m\u001b[0mis_dev\u001b[0m\u001b[1;33m(\u001b[0m\u001b[0mnum\u001b[0m\u001b[1;33m/\u001b[0m\u001b[0mi1\u001b[0m\u001b[1;33m,\u001b[0m\u001b[0mi\u001b[0m\u001b[1;33m)\u001b[0m\u001b[1;33m\u001b[0m\u001b[0m\n\u001b[0;32m     36\u001b[0m     \u001b[1;32melse\u001b[0m\u001b[1;33m:\u001b[0m\u001b[1;33m\u001b[0m\u001b[0m\n\u001b[1;32m---> 37\u001b[1;33m         \u001b[1;32mreturn\u001b[0m \u001b[0mis_dev\u001b[0m\u001b[1;33m(\u001b[0m\u001b[0mnum\u001b[0m\u001b[1;33m,\u001b[0m\u001b[0mil\u001b[0m\u001b[1;33m)\u001b[0m \u001b[1;32mif\u001b[0m \u001b[0mnum\u001b[0m\u001b[1;33m>\u001b[0m\u001b[1;36m1\u001b[0m \u001b[1;32melse\u001b[0m \u001b[1;36m0\u001b[0m\u001b[1;33m\u001b[0m\u001b[0m\n\u001b[0m\u001b[0;32m     38\u001b[0m \u001b[1;33m\u001b[0m\u001b[0m\n\u001b[0;32m     39\u001b[0m \u001b[1;33m\u001b[0m\u001b[0m\n",
      "\u001b[1;32m<ipython-input-104-34b3236344d2>\u001b[0m in \u001b[0;36mis_dev\u001b[1;34m(num, i)\u001b[0m\n\u001b[0;32m     35\u001b[0m         \u001b[1;32mreturn\u001b[0m \u001b[1;36m1\u001b[0m\u001b[1;33m+\u001b[0m\u001b[0mis_dev\u001b[0m\u001b[1;33m(\u001b[0m\u001b[0mnum\u001b[0m\u001b[1;33m/\u001b[0m\u001b[0mi1\u001b[0m\u001b[1;33m,\u001b[0m\u001b[0mi\u001b[0m\u001b[1;33m)\u001b[0m\u001b[1;33m\u001b[0m\u001b[0m\n\u001b[0;32m     36\u001b[0m     \u001b[1;32melse\u001b[0m\u001b[1;33m:\u001b[0m\u001b[1;33m\u001b[0m\u001b[0m\n\u001b[1;32m---> 37\u001b[1;33m         \u001b[1;32mreturn\u001b[0m \u001b[0mis_dev\u001b[0m\u001b[1;33m(\u001b[0m\u001b[0mnum\u001b[0m\u001b[1;33m,\u001b[0m\u001b[0mil\u001b[0m\u001b[1;33m)\u001b[0m \u001b[1;32mif\u001b[0m \u001b[0mnum\u001b[0m\u001b[1;33m>\u001b[0m\u001b[1;36m1\u001b[0m \u001b[1;32melse\u001b[0m \u001b[1;36m0\u001b[0m\u001b[1;33m\u001b[0m\u001b[0m\n\u001b[0m\u001b[0;32m     38\u001b[0m \u001b[1;33m\u001b[0m\u001b[0m\n\u001b[0;32m     39\u001b[0m \u001b[1;33m\u001b[0m\u001b[0m\n",
      "\u001b[1;32m<ipython-input-104-34b3236344d2>\u001b[0m in \u001b[0;36mis_dev\u001b[1;34m(num, i)\u001b[0m\n\u001b[0;32m     35\u001b[0m         \u001b[1;32mreturn\u001b[0m \u001b[1;36m1\u001b[0m\u001b[1;33m+\u001b[0m\u001b[0mis_dev\u001b[0m\u001b[1;33m(\u001b[0m\u001b[0mnum\u001b[0m\u001b[1;33m/\u001b[0m\u001b[0mi1\u001b[0m\u001b[1;33m,\u001b[0m\u001b[0mi\u001b[0m\u001b[1;33m)\u001b[0m\u001b[1;33m\u001b[0m\u001b[0m\n\u001b[0;32m     36\u001b[0m     \u001b[1;32melse\u001b[0m\u001b[1;33m:\u001b[0m\u001b[1;33m\u001b[0m\u001b[0m\n\u001b[1;32m---> 37\u001b[1;33m         \u001b[1;32mreturn\u001b[0m \u001b[0mis_dev\u001b[0m\u001b[1;33m(\u001b[0m\u001b[0mnum\u001b[0m\u001b[1;33m,\u001b[0m\u001b[0mil\u001b[0m\u001b[1;33m)\u001b[0m \u001b[1;32mif\u001b[0m \u001b[0mnum\u001b[0m\u001b[1;33m>\u001b[0m\u001b[1;36m1\u001b[0m \u001b[1;32melse\u001b[0m \u001b[1;36m0\u001b[0m\u001b[1;33m\u001b[0m\u001b[0m\n\u001b[0m\u001b[0;32m     38\u001b[0m \u001b[1;33m\u001b[0m\u001b[0m\n\u001b[0;32m     39\u001b[0m \u001b[1;33m\u001b[0m\u001b[0m\n",
      "\u001b[1;32m<ipython-input-104-34b3236344d2>\u001b[0m in \u001b[0;36mis_dev\u001b[1;34m(num, i)\u001b[0m\n\u001b[0;32m     35\u001b[0m         \u001b[1;32mreturn\u001b[0m \u001b[1;36m1\u001b[0m\u001b[1;33m+\u001b[0m\u001b[0mis_dev\u001b[0m\u001b[1;33m(\u001b[0m\u001b[0mnum\u001b[0m\u001b[1;33m/\u001b[0m\u001b[0mi1\u001b[0m\u001b[1;33m,\u001b[0m\u001b[0mi\u001b[0m\u001b[1;33m)\u001b[0m\u001b[1;33m\u001b[0m\u001b[0m\n\u001b[0;32m     36\u001b[0m     \u001b[1;32melse\u001b[0m\u001b[1;33m:\u001b[0m\u001b[1;33m\u001b[0m\u001b[0m\n\u001b[1;32m---> 37\u001b[1;33m         \u001b[1;32mreturn\u001b[0m \u001b[0mis_dev\u001b[0m\u001b[1;33m(\u001b[0m\u001b[0mnum\u001b[0m\u001b[1;33m,\u001b[0m\u001b[0mil\u001b[0m\u001b[1;33m)\u001b[0m \u001b[1;32mif\u001b[0m \u001b[0mnum\u001b[0m\u001b[1;33m>\u001b[0m\u001b[1;36m1\u001b[0m \u001b[1;32melse\u001b[0m \u001b[1;36m0\u001b[0m\u001b[1;33m\u001b[0m\u001b[0m\n\u001b[0m\u001b[0;32m     38\u001b[0m \u001b[1;33m\u001b[0m\u001b[0m\n\u001b[0;32m     39\u001b[0m \u001b[1;33m\u001b[0m\u001b[0m\n",
      "\u001b[1;32m<ipython-input-104-34b3236344d2>\u001b[0m in \u001b[0;36mis_dev\u001b[1;34m(num, i)\u001b[0m\n\u001b[0;32m     35\u001b[0m         \u001b[1;32mreturn\u001b[0m \u001b[1;36m1\u001b[0m\u001b[1;33m+\u001b[0m\u001b[0mis_dev\u001b[0m\u001b[1;33m(\u001b[0m\u001b[0mnum\u001b[0m\u001b[1;33m/\u001b[0m\u001b[0mi1\u001b[0m\u001b[1;33m,\u001b[0m\u001b[0mi\u001b[0m\u001b[1;33m)\u001b[0m\u001b[1;33m\u001b[0m\u001b[0m\n\u001b[0;32m     36\u001b[0m     \u001b[1;32melse\u001b[0m\u001b[1;33m:\u001b[0m\u001b[1;33m\u001b[0m\u001b[0m\n\u001b[1;32m---> 37\u001b[1;33m         \u001b[1;32mreturn\u001b[0m \u001b[0mis_dev\u001b[0m\u001b[1;33m(\u001b[0m\u001b[0mnum\u001b[0m\u001b[1;33m,\u001b[0m\u001b[0mil\u001b[0m\u001b[1;33m)\u001b[0m \u001b[1;32mif\u001b[0m \u001b[0mnum\u001b[0m\u001b[1;33m>\u001b[0m\u001b[1;36m1\u001b[0m \u001b[1;32melse\u001b[0m \u001b[1;36m0\u001b[0m\u001b[1;33m\u001b[0m\u001b[0m\n\u001b[0m\u001b[0;32m     38\u001b[0m \u001b[1;33m\u001b[0m\u001b[0m\n\u001b[0;32m     39\u001b[0m \u001b[1;33m\u001b[0m\u001b[0m\n",
      "\u001b[1;32m<ipython-input-104-34b3236344d2>\u001b[0m in \u001b[0;36mis_dev\u001b[1;34m(num, i)\u001b[0m\n\u001b[0;32m     35\u001b[0m         \u001b[1;32mreturn\u001b[0m \u001b[1;36m1\u001b[0m\u001b[1;33m+\u001b[0m\u001b[0mis_dev\u001b[0m\u001b[1;33m(\u001b[0m\u001b[0mnum\u001b[0m\u001b[1;33m/\u001b[0m\u001b[0mi1\u001b[0m\u001b[1;33m,\u001b[0m\u001b[0mi\u001b[0m\u001b[1;33m)\u001b[0m\u001b[1;33m\u001b[0m\u001b[0m\n\u001b[0;32m     36\u001b[0m     \u001b[1;32melse\u001b[0m\u001b[1;33m:\u001b[0m\u001b[1;33m\u001b[0m\u001b[0m\n\u001b[1;32m---> 37\u001b[1;33m         \u001b[1;32mreturn\u001b[0m \u001b[0mis_dev\u001b[0m\u001b[1;33m(\u001b[0m\u001b[0mnum\u001b[0m\u001b[1;33m,\u001b[0m\u001b[0mil\u001b[0m\u001b[1;33m)\u001b[0m \u001b[1;32mif\u001b[0m \u001b[0mnum\u001b[0m\u001b[1;33m>\u001b[0m\u001b[1;36m1\u001b[0m \u001b[1;32melse\u001b[0m \u001b[1;36m0\u001b[0m\u001b[1;33m\u001b[0m\u001b[0m\n\u001b[0m\u001b[0;32m     38\u001b[0m \u001b[1;33m\u001b[0m\u001b[0m\n\u001b[0;32m     39\u001b[0m \u001b[1;33m\u001b[0m\u001b[0m\n",
      "\u001b[1;32m<ipython-input-104-34b3236344d2>\u001b[0m in \u001b[0;36mis_dev\u001b[1;34m(num, i)\u001b[0m\n\u001b[0;32m     35\u001b[0m         \u001b[1;32mreturn\u001b[0m \u001b[1;36m1\u001b[0m\u001b[1;33m+\u001b[0m\u001b[0mis_dev\u001b[0m\u001b[1;33m(\u001b[0m\u001b[0mnum\u001b[0m\u001b[1;33m/\u001b[0m\u001b[0mi1\u001b[0m\u001b[1;33m,\u001b[0m\u001b[0mi\u001b[0m\u001b[1;33m)\u001b[0m\u001b[1;33m\u001b[0m\u001b[0m\n\u001b[0;32m     36\u001b[0m     \u001b[1;32melse\u001b[0m\u001b[1;33m:\u001b[0m\u001b[1;33m\u001b[0m\u001b[0m\n\u001b[1;32m---> 37\u001b[1;33m         \u001b[1;32mreturn\u001b[0m \u001b[0mis_dev\u001b[0m\u001b[1;33m(\u001b[0m\u001b[0mnum\u001b[0m\u001b[1;33m,\u001b[0m\u001b[0mil\u001b[0m\u001b[1;33m)\u001b[0m \u001b[1;32mif\u001b[0m \u001b[0mnum\u001b[0m\u001b[1;33m>\u001b[0m\u001b[1;36m1\u001b[0m \u001b[1;32melse\u001b[0m \u001b[1;36m0\u001b[0m\u001b[1;33m\u001b[0m\u001b[0m\n\u001b[0m\u001b[0;32m     38\u001b[0m \u001b[1;33m\u001b[0m\u001b[0m\n\u001b[0;32m     39\u001b[0m \u001b[1;33m\u001b[0m\u001b[0m\n",
      "\u001b[1;32m<ipython-input-104-34b3236344d2>\u001b[0m in \u001b[0;36mis_dev\u001b[1;34m(num, i)\u001b[0m\n\u001b[0;32m     35\u001b[0m         \u001b[1;32mreturn\u001b[0m \u001b[1;36m1\u001b[0m\u001b[1;33m+\u001b[0m\u001b[0mis_dev\u001b[0m\u001b[1;33m(\u001b[0m\u001b[0mnum\u001b[0m\u001b[1;33m/\u001b[0m\u001b[0mi1\u001b[0m\u001b[1;33m,\u001b[0m\u001b[0mi\u001b[0m\u001b[1;33m)\u001b[0m\u001b[1;33m\u001b[0m\u001b[0m\n\u001b[0;32m     36\u001b[0m     \u001b[1;32melse\u001b[0m\u001b[1;33m:\u001b[0m\u001b[1;33m\u001b[0m\u001b[0m\n\u001b[1;32m---> 37\u001b[1;33m         \u001b[1;32mreturn\u001b[0m \u001b[0mis_dev\u001b[0m\u001b[1;33m(\u001b[0m\u001b[0mnum\u001b[0m\u001b[1;33m,\u001b[0m\u001b[0mil\u001b[0m\u001b[1;33m)\u001b[0m \u001b[1;32mif\u001b[0m \u001b[0mnum\u001b[0m\u001b[1;33m>\u001b[0m\u001b[1;36m1\u001b[0m \u001b[1;32melse\u001b[0m \u001b[1;36m0\u001b[0m\u001b[1;33m\u001b[0m\u001b[0m\n\u001b[0m\u001b[0;32m     38\u001b[0m \u001b[1;33m\u001b[0m\u001b[0m\n\u001b[0;32m     39\u001b[0m \u001b[1;33m\u001b[0m\u001b[0m\n",
      "\u001b[1;32m<ipython-input-104-34b3236344d2>\u001b[0m in \u001b[0;36mis_dev\u001b[1;34m(num, i)\u001b[0m\n\u001b[0;32m     35\u001b[0m         \u001b[1;32mreturn\u001b[0m \u001b[1;36m1\u001b[0m\u001b[1;33m+\u001b[0m\u001b[0mis_dev\u001b[0m\u001b[1;33m(\u001b[0m\u001b[0mnum\u001b[0m\u001b[1;33m/\u001b[0m\u001b[0mi1\u001b[0m\u001b[1;33m,\u001b[0m\u001b[0mi\u001b[0m\u001b[1;33m)\u001b[0m\u001b[1;33m\u001b[0m\u001b[0m\n\u001b[0;32m     36\u001b[0m     \u001b[1;32melse\u001b[0m\u001b[1;33m:\u001b[0m\u001b[1;33m\u001b[0m\u001b[0m\n\u001b[1;32m---> 37\u001b[1;33m         \u001b[1;32mreturn\u001b[0m \u001b[0mis_dev\u001b[0m\u001b[1;33m(\u001b[0m\u001b[0mnum\u001b[0m\u001b[1;33m,\u001b[0m\u001b[0mil\u001b[0m\u001b[1;33m)\u001b[0m \u001b[1;32mif\u001b[0m \u001b[0mnum\u001b[0m\u001b[1;33m>\u001b[0m\u001b[1;36m1\u001b[0m \u001b[1;32melse\u001b[0m \u001b[1;36m0\u001b[0m\u001b[1;33m\u001b[0m\u001b[0m\n\u001b[0m\u001b[0;32m     38\u001b[0m \u001b[1;33m\u001b[0m\u001b[0m\n\u001b[0;32m     39\u001b[0m \u001b[1;33m\u001b[0m\u001b[0m\n",
      "\u001b[1;32m<ipython-input-104-34b3236344d2>\u001b[0m in \u001b[0;36mis_dev\u001b[1;34m(num, i)\u001b[0m\n\u001b[0;32m     35\u001b[0m         \u001b[1;32mreturn\u001b[0m \u001b[1;36m1\u001b[0m\u001b[1;33m+\u001b[0m\u001b[0mis_dev\u001b[0m\u001b[1;33m(\u001b[0m\u001b[0mnum\u001b[0m\u001b[1;33m/\u001b[0m\u001b[0mi1\u001b[0m\u001b[1;33m,\u001b[0m\u001b[0mi\u001b[0m\u001b[1;33m)\u001b[0m\u001b[1;33m\u001b[0m\u001b[0m\n\u001b[0;32m     36\u001b[0m     \u001b[1;32melse\u001b[0m\u001b[1;33m:\u001b[0m\u001b[1;33m\u001b[0m\u001b[0m\n\u001b[1;32m---> 37\u001b[1;33m         \u001b[1;32mreturn\u001b[0m \u001b[0mis_dev\u001b[0m\u001b[1;33m(\u001b[0m\u001b[0mnum\u001b[0m\u001b[1;33m,\u001b[0m\u001b[0mil\u001b[0m\u001b[1;33m)\u001b[0m \u001b[1;32mif\u001b[0m \u001b[0mnum\u001b[0m\u001b[1;33m>\u001b[0m\u001b[1;36m1\u001b[0m \u001b[1;32melse\u001b[0m \u001b[1;36m0\u001b[0m\u001b[1;33m\u001b[0m\u001b[0m\n\u001b[0m\u001b[0;32m     38\u001b[0m \u001b[1;33m\u001b[0m\u001b[0m\n\u001b[0;32m     39\u001b[0m \u001b[1;33m\u001b[0m\u001b[0m\n",
      "\u001b[1;32m<ipython-input-104-34b3236344d2>\u001b[0m in \u001b[0;36mis_dev\u001b[1;34m(num, i)\u001b[0m\n\u001b[0;32m     35\u001b[0m         \u001b[1;32mreturn\u001b[0m \u001b[1;36m1\u001b[0m\u001b[1;33m+\u001b[0m\u001b[0mis_dev\u001b[0m\u001b[1;33m(\u001b[0m\u001b[0mnum\u001b[0m\u001b[1;33m/\u001b[0m\u001b[0mi1\u001b[0m\u001b[1;33m,\u001b[0m\u001b[0mi\u001b[0m\u001b[1;33m)\u001b[0m\u001b[1;33m\u001b[0m\u001b[0m\n\u001b[0;32m     36\u001b[0m     \u001b[1;32melse\u001b[0m\u001b[1;33m:\u001b[0m\u001b[1;33m\u001b[0m\u001b[0m\n\u001b[1;32m---> 37\u001b[1;33m         \u001b[1;32mreturn\u001b[0m \u001b[0mis_dev\u001b[0m\u001b[1;33m(\u001b[0m\u001b[0mnum\u001b[0m\u001b[1;33m,\u001b[0m\u001b[0mil\u001b[0m\u001b[1;33m)\u001b[0m \u001b[1;32mif\u001b[0m \u001b[0mnum\u001b[0m\u001b[1;33m>\u001b[0m\u001b[1;36m1\u001b[0m \u001b[1;32melse\u001b[0m \u001b[1;36m0\u001b[0m\u001b[1;33m\u001b[0m\u001b[0m\n\u001b[0m\u001b[0;32m     38\u001b[0m \u001b[1;33m\u001b[0m\u001b[0m\n\u001b[0;32m     39\u001b[0m \u001b[1;33m\u001b[0m\u001b[0m\n",
      "\u001b[1;32m<ipython-input-104-34b3236344d2>\u001b[0m in \u001b[0;36mis_dev\u001b[1;34m(num, i)\u001b[0m\n\u001b[0;32m     35\u001b[0m         \u001b[1;32mreturn\u001b[0m \u001b[1;36m1\u001b[0m\u001b[1;33m+\u001b[0m\u001b[0mis_dev\u001b[0m\u001b[1;33m(\u001b[0m\u001b[0mnum\u001b[0m\u001b[1;33m/\u001b[0m\u001b[0mi1\u001b[0m\u001b[1;33m,\u001b[0m\u001b[0mi\u001b[0m\u001b[1;33m)\u001b[0m\u001b[1;33m\u001b[0m\u001b[0m\n\u001b[0;32m     36\u001b[0m     \u001b[1;32melse\u001b[0m\u001b[1;33m:\u001b[0m\u001b[1;33m\u001b[0m\u001b[0m\n\u001b[1;32m---> 37\u001b[1;33m         \u001b[1;32mreturn\u001b[0m \u001b[0mis_dev\u001b[0m\u001b[1;33m(\u001b[0m\u001b[0mnum\u001b[0m\u001b[1;33m,\u001b[0m\u001b[0mil\u001b[0m\u001b[1;33m)\u001b[0m \u001b[1;32mif\u001b[0m \u001b[0mnum\u001b[0m\u001b[1;33m>\u001b[0m\u001b[1;36m1\u001b[0m \u001b[1;32melse\u001b[0m \u001b[1;36m0\u001b[0m\u001b[1;33m\u001b[0m\u001b[0m\n\u001b[0m\u001b[0;32m     38\u001b[0m \u001b[1;33m\u001b[0m\u001b[0m\n\u001b[0;32m     39\u001b[0m \u001b[1;33m\u001b[0m\u001b[0m\n",
      "\u001b[1;32m<ipython-input-104-34b3236344d2>\u001b[0m in \u001b[0;36mis_dev\u001b[1;34m(num, i)\u001b[0m\n\u001b[0;32m     35\u001b[0m         \u001b[1;32mreturn\u001b[0m \u001b[1;36m1\u001b[0m\u001b[1;33m+\u001b[0m\u001b[0mis_dev\u001b[0m\u001b[1;33m(\u001b[0m\u001b[0mnum\u001b[0m\u001b[1;33m/\u001b[0m\u001b[0mi1\u001b[0m\u001b[1;33m,\u001b[0m\u001b[0mi\u001b[0m\u001b[1;33m)\u001b[0m\u001b[1;33m\u001b[0m\u001b[0m\n\u001b[0;32m     36\u001b[0m     \u001b[1;32melse\u001b[0m\u001b[1;33m:\u001b[0m\u001b[1;33m\u001b[0m\u001b[0m\n\u001b[1;32m---> 37\u001b[1;33m         \u001b[1;32mreturn\u001b[0m \u001b[0mis_dev\u001b[0m\u001b[1;33m(\u001b[0m\u001b[0mnum\u001b[0m\u001b[1;33m,\u001b[0m\u001b[0mil\u001b[0m\u001b[1;33m)\u001b[0m \u001b[1;32mif\u001b[0m \u001b[0mnum\u001b[0m\u001b[1;33m>\u001b[0m\u001b[1;36m1\u001b[0m \u001b[1;32melse\u001b[0m \u001b[1;36m0\u001b[0m\u001b[1;33m\u001b[0m\u001b[0m\n\u001b[0m\u001b[0;32m     38\u001b[0m \u001b[1;33m\u001b[0m\u001b[0m\n\u001b[0;32m     39\u001b[0m \u001b[1;33m\u001b[0m\u001b[0m\n",
      "\u001b[1;32m<ipython-input-104-34b3236344d2>\u001b[0m in \u001b[0;36mis_dev\u001b[1;34m(num, i)\u001b[0m\n\u001b[0;32m     35\u001b[0m         \u001b[1;32mreturn\u001b[0m \u001b[1;36m1\u001b[0m\u001b[1;33m+\u001b[0m\u001b[0mis_dev\u001b[0m\u001b[1;33m(\u001b[0m\u001b[0mnum\u001b[0m\u001b[1;33m/\u001b[0m\u001b[0mi1\u001b[0m\u001b[1;33m,\u001b[0m\u001b[0mi\u001b[0m\u001b[1;33m)\u001b[0m\u001b[1;33m\u001b[0m\u001b[0m\n\u001b[0;32m     36\u001b[0m     \u001b[1;32melse\u001b[0m\u001b[1;33m:\u001b[0m\u001b[1;33m\u001b[0m\u001b[0m\n\u001b[1;32m---> 37\u001b[1;33m         \u001b[1;32mreturn\u001b[0m \u001b[0mis_dev\u001b[0m\u001b[1;33m(\u001b[0m\u001b[0mnum\u001b[0m\u001b[1;33m,\u001b[0m\u001b[0mil\u001b[0m\u001b[1;33m)\u001b[0m \u001b[1;32mif\u001b[0m \u001b[0mnum\u001b[0m\u001b[1;33m>\u001b[0m\u001b[1;36m1\u001b[0m \u001b[1;32melse\u001b[0m \u001b[1;36m0\u001b[0m\u001b[1;33m\u001b[0m\u001b[0m\n\u001b[0m\u001b[0;32m     38\u001b[0m \u001b[1;33m\u001b[0m\u001b[0m\n\u001b[0;32m     39\u001b[0m \u001b[1;33m\u001b[0m\u001b[0m\n",
      "\u001b[1;32m<ipython-input-104-34b3236344d2>\u001b[0m in \u001b[0;36mis_dev\u001b[1;34m(num, i)\u001b[0m\n\u001b[0;32m     35\u001b[0m         \u001b[1;32mreturn\u001b[0m \u001b[1;36m1\u001b[0m\u001b[1;33m+\u001b[0m\u001b[0mis_dev\u001b[0m\u001b[1;33m(\u001b[0m\u001b[0mnum\u001b[0m\u001b[1;33m/\u001b[0m\u001b[0mi1\u001b[0m\u001b[1;33m,\u001b[0m\u001b[0mi\u001b[0m\u001b[1;33m)\u001b[0m\u001b[1;33m\u001b[0m\u001b[0m\n\u001b[0;32m     36\u001b[0m     \u001b[1;32melse\u001b[0m\u001b[1;33m:\u001b[0m\u001b[1;33m\u001b[0m\u001b[0m\n\u001b[1;32m---> 37\u001b[1;33m         \u001b[1;32mreturn\u001b[0m \u001b[0mis_dev\u001b[0m\u001b[1;33m(\u001b[0m\u001b[0mnum\u001b[0m\u001b[1;33m,\u001b[0m\u001b[0mil\u001b[0m\u001b[1;33m)\u001b[0m \u001b[1;32mif\u001b[0m \u001b[0mnum\u001b[0m\u001b[1;33m>\u001b[0m\u001b[1;36m1\u001b[0m \u001b[1;32melse\u001b[0m \u001b[1;36m0\u001b[0m\u001b[1;33m\u001b[0m\u001b[0m\n\u001b[0m\u001b[0;32m     38\u001b[0m \u001b[1;33m\u001b[0m\u001b[0m\n\u001b[0;32m     39\u001b[0m \u001b[1;33m\u001b[0m\u001b[0m\n",
      "\u001b[1;32m<ipython-input-104-34b3236344d2>\u001b[0m in \u001b[0;36mis_dev\u001b[1;34m(num, i)\u001b[0m\n\u001b[0;32m     35\u001b[0m         \u001b[1;32mreturn\u001b[0m \u001b[1;36m1\u001b[0m\u001b[1;33m+\u001b[0m\u001b[0mis_dev\u001b[0m\u001b[1;33m(\u001b[0m\u001b[0mnum\u001b[0m\u001b[1;33m/\u001b[0m\u001b[0mi1\u001b[0m\u001b[1;33m,\u001b[0m\u001b[0mi\u001b[0m\u001b[1;33m)\u001b[0m\u001b[1;33m\u001b[0m\u001b[0m\n\u001b[0;32m     36\u001b[0m     \u001b[1;32melse\u001b[0m\u001b[1;33m:\u001b[0m\u001b[1;33m\u001b[0m\u001b[0m\n\u001b[1;32m---> 37\u001b[1;33m         \u001b[1;32mreturn\u001b[0m \u001b[0mis_dev\u001b[0m\u001b[1;33m(\u001b[0m\u001b[0mnum\u001b[0m\u001b[1;33m,\u001b[0m\u001b[0mil\u001b[0m\u001b[1;33m)\u001b[0m \u001b[1;32mif\u001b[0m \u001b[0mnum\u001b[0m\u001b[1;33m>\u001b[0m\u001b[1;36m1\u001b[0m \u001b[1;32melse\u001b[0m \u001b[1;36m0\u001b[0m\u001b[1;33m\u001b[0m\u001b[0m\n\u001b[0m\u001b[0;32m     38\u001b[0m \u001b[1;33m\u001b[0m\u001b[0m\n\u001b[0;32m     39\u001b[0m \u001b[1;33m\u001b[0m\u001b[0m\n",
      "\u001b[1;32m<ipython-input-104-34b3236344d2>\u001b[0m in \u001b[0;36mis_dev\u001b[1;34m(num, i)\u001b[0m\n\u001b[0;32m     35\u001b[0m         \u001b[1;32mreturn\u001b[0m \u001b[1;36m1\u001b[0m\u001b[1;33m+\u001b[0m\u001b[0mis_dev\u001b[0m\u001b[1;33m(\u001b[0m\u001b[0mnum\u001b[0m\u001b[1;33m/\u001b[0m\u001b[0mi1\u001b[0m\u001b[1;33m,\u001b[0m\u001b[0mi\u001b[0m\u001b[1;33m)\u001b[0m\u001b[1;33m\u001b[0m\u001b[0m\n\u001b[0;32m     36\u001b[0m     \u001b[1;32melse\u001b[0m\u001b[1;33m:\u001b[0m\u001b[1;33m\u001b[0m\u001b[0m\n\u001b[1;32m---> 37\u001b[1;33m         \u001b[1;32mreturn\u001b[0m \u001b[0mis_dev\u001b[0m\u001b[1;33m(\u001b[0m\u001b[0mnum\u001b[0m\u001b[1;33m,\u001b[0m\u001b[0mil\u001b[0m\u001b[1;33m)\u001b[0m \u001b[1;32mif\u001b[0m \u001b[0mnum\u001b[0m\u001b[1;33m>\u001b[0m\u001b[1;36m1\u001b[0m \u001b[1;32melse\u001b[0m \u001b[1;36m0\u001b[0m\u001b[1;33m\u001b[0m\u001b[0m\n\u001b[0m\u001b[0;32m     38\u001b[0m \u001b[1;33m\u001b[0m\u001b[0m\n\u001b[0;32m     39\u001b[0m \u001b[1;33m\u001b[0m\u001b[0m\n",
      "\u001b[1;32m<ipython-input-104-34b3236344d2>\u001b[0m in \u001b[0;36mis_dev\u001b[1;34m(num, i)\u001b[0m\n\u001b[0;32m     35\u001b[0m         \u001b[1;32mreturn\u001b[0m \u001b[1;36m1\u001b[0m\u001b[1;33m+\u001b[0m\u001b[0mis_dev\u001b[0m\u001b[1;33m(\u001b[0m\u001b[0mnum\u001b[0m\u001b[1;33m/\u001b[0m\u001b[0mi1\u001b[0m\u001b[1;33m,\u001b[0m\u001b[0mi\u001b[0m\u001b[1;33m)\u001b[0m\u001b[1;33m\u001b[0m\u001b[0m\n\u001b[0;32m     36\u001b[0m     \u001b[1;32melse\u001b[0m\u001b[1;33m:\u001b[0m\u001b[1;33m\u001b[0m\u001b[0m\n\u001b[1;32m---> 37\u001b[1;33m         \u001b[1;32mreturn\u001b[0m \u001b[0mis_dev\u001b[0m\u001b[1;33m(\u001b[0m\u001b[0mnum\u001b[0m\u001b[1;33m,\u001b[0m\u001b[0mil\u001b[0m\u001b[1;33m)\u001b[0m \u001b[1;32mif\u001b[0m \u001b[0mnum\u001b[0m\u001b[1;33m>\u001b[0m\u001b[1;36m1\u001b[0m \u001b[1;32melse\u001b[0m \u001b[1;36m0\u001b[0m\u001b[1;33m\u001b[0m\u001b[0m\n\u001b[0m\u001b[0;32m     38\u001b[0m \u001b[1;33m\u001b[0m\u001b[0m\n\u001b[0;32m     39\u001b[0m \u001b[1;33m\u001b[0m\u001b[0m\n",
      "\u001b[1;32m<ipython-input-104-34b3236344d2>\u001b[0m in \u001b[0;36mis_dev\u001b[1;34m(num, i)\u001b[0m\n\u001b[0;32m     35\u001b[0m         \u001b[1;32mreturn\u001b[0m \u001b[1;36m1\u001b[0m\u001b[1;33m+\u001b[0m\u001b[0mis_dev\u001b[0m\u001b[1;33m(\u001b[0m\u001b[0mnum\u001b[0m\u001b[1;33m/\u001b[0m\u001b[0mi1\u001b[0m\u001b[1;33m,\u001b[0m\u001b[0mi\u001b[0m\u001b[1;33m)\u001b[0m\u001b[1;33m\u001b[0m\u001b[0m\n\u001b[0;32m     36\u001b[0m     \u001b[1;32melse\u001b[0m\u001b[1;33m:\u001b[0m\u001b[1;33m\u001b[0m\u001b[0m\n\u001b[1;32m---> 37\u001b[1;33m         \u001b[1;32mreturn\u001b[0m \u001b[0mis_dev\u001b[0m\u001b[1;33m(\u001b[0m\u001b[0mnum\u001b[0m\u001b[1;33m,\u001b[0m\u001b[0mil\u001b[0m\u001b[1;33m)\u001b[0m \u001b[1;32mif\u001b[0m \u001b[0mnum\u001b[0m\u001b[1;33m>\u001b[0m\u001b[1;36m1\u001b[0m \u001b[1;32melse\u001b[0m \u001b[1;36m0\u001b[0m\u001b[1;33m\u001b[0m\u001b[0m\n\u001b[0m\u001b[0;32m     38\u001b[0m \u001b[1;33m\u001b[0m\u001b[0m\n\u001b[0;32m     39\u001b[0m \u001b[1;33m\u001b[0m\u001b[0m\n",
      "\u001b[1;32m<ipython-input-104-34b3236344d2>\u001b[0m in \u001b[0;36mis_dev\u001b[1;34m(num, i)\u001b[0m\n\u001b[0;32m     35\u001b[0m         \u001b[1;32mreturn\u001b[0m \u001b[1;36m1\u001b[0m\u001b[1;33m+\u001b[0m\u001b[0mis_dev\u001b[0m\u001b[1;33m(\u001b[0m\u001b[0mnum\u001b[0m\u001b[1;33m/\u001b[0m\u001b[0mi1\u001b[0m\u001b[1;33m,\u001b[0m\u001b[0mi\u001b[0m\u001b[1;33m)\u001b[0m\u001b[1;33m\u001b[0m\u001b[0m\n\u001b[0;32m     36\u001b[0m     \u001b[1;32melse\u001b[0m\u001b[1;33m:\u001b[0m\u001b[1;33m\u001b[0m\u001b[0m\n\u001b[1;32m---> 37\u001b[1;33m         \u001b[1;32mreturn\u001b[0m \u001b[0mis_dev\u001b[0m\u001b[1;33m(\u001b[0m\u001b[0mnum\u001b[0m\u001b[1;33m,\u001b[0m\u001b[0mil\u001b[0m\u001b[1;33m)\u001b[0m \u001b[1;32mif\u001b[0m \u001b[0mnum\u001b[0m\u001b[1;33m>\u001b[0m\u001b[1;36m1\u001b[0m \u001b[1;32melse\u001b[0m \u001b[1;36m0\u001b[0m\u001b[1;33m\u001b[0m\u001b[0m\n\u001b[0m\u001b[0;32m     38\u001b[0m \u001b[1;33m\u001b[0m\u001b[0m\n\u001b[0;32m     39\u001b[0m \u001b[1;33m\u001b[0m\u001b[0m\n",
      "\u001b[1;32m<ipython-input-104-34b3236344d2>\u001b[0m in \u001b[0;36mis_dev\u001b[1;34m(num, i)\u001b[0m\n\u001b[0;32m     35\u001b[0m         \u001b[1;32mreturn\u001b[0m \u001b[1;36m1\u001b[0m\u001b[1;33m+\u001b[0m\u001b[0mis_dev\u001b[0m\u001b[1;33m(\u001b[0m\u001b[0mnum\u001b[0m\u001b[1;33m/\u001b[0m\u001b[0mi1\u001b[0m\u001b[1;33m,\u001b[0m\u001b[0mi\u001b[0m\u001b[1;33m)\u001b[0m\u001b[1;33m\u001b[0m\u001b[0m\n\u001b[0;32m     36\u001b[0m     \u001b[1;32melse\u001b[0m\u001b[1;33m:\u001b[0m\u001b[1;33m\u001b[0m\u001b[0m\n\u001b[1;32m---> 37\u001b[1;33m         \u001b[1;32mreturn\u001b[0m \u001b[0mis_dev\u001b[0m\u001b[1;33m(\u001b[0m\u001b[0mnum\u001b[0m\u001b[1;33m,\u001b[0m\u001b[0mil\u001b[0m\u001b[1;33m)\u001b[0m \u001b[1;32mif\u001b[0m \u001b[0mnum\u001b[0m\u001b[1;33m>\u001b[0m\u001b[1;36m1\u001b[0m \u001b[1;32melse\u001b[0m \u001b[1;36m0\u001b[0m\u001b[1;33m\u001b[0m\u001b[0m\n\u001b[0m\u001b[0;32m     38\u001b[0m \u001b[1;33m\u001b[0m\u001b[0m\n\u001b[0;32m     39\u001b[0m \u001b[1;33m\u001b[0m\u001b[0m\n",
      "\u001b[1;32m<ipython-input-104-34b3236344d2>\u001b[0m in \u001b[0;36mis_dev\u001b[1;34m(num, i)\u001b[0m\n\u001b[0;32m     35\u001b[0m         \u001b[1;32mreturn\u001b[0m \u001b[1;36m1\u001b[0m\u001b[1;33m+\u001b[0m\u001b[0mis_dev\u001b[0m\u001b[1;33m(\u001b[0m\u001b[0mnum\u001b[0m\u001b[1;33m/\u001b[0m\u001b[0mi1\u001b[0m\u001b[1;33m,\u001b[0m\u001b[0mi\u001b[0m\u001b[1;33m)\u001b[0m\u001b[1;33m\u001b[0m\u001b[0m\n\u001b[0;32m     36\u001b[0m     \u001b[1;32melse\u001b[0m\u001b[1;33m:\u001b[0m\u001b[1;33m\u001b[0m\u001b[0m\n\u001b[1;32m---> 37\u001b[1;33m         \u001b[1;32mreturn\u001b[0m \u001b[0mis_dev\u001b[0m\u001b[1;33m(\u001b[0m\u001b[0mnum\u001b[0m\u001b[1;33m,\u001b[0m\u001b[0mil\u001b[0m\u001b[1;33m)\u001b[0m \u001b[1;32mif\u001b[0m \u001b[0mnum\u001b[0m\u001b[1;33m>\u001b[0m\u001b[1;36m1\u001b[0m \u001b[1;32melse\u001b[0m \u001b[1;36m0\u001b[0m\u001b[1;33m\u001b[0m\u001b[0m\n\u001b[0m\u001b[0;32m     38\u001b[0m \u001b[1;33m\u001b[0m\u001b[0m\n\u001b[0;32m     39\u001b[0m \u001b[1;33m\u001b[0m\u001b[0m\n",
      "\u001b[1;32m<ipython-input-104-34b3236344d2>\u001b[0m in \u001b[0;36mis_dev\u001b[1;34m(num, i)\u001b[0m\n\u001b[0;32m     35\u001b[0m         \u001b[1;32mreturn\u001b[0m \u001b[1;36m1\u001b[0m\u001b[1;33m+\u001b[0m\u001b[0mis_dev\u001b[0m\u001b[1;33m(\u001b[0m\u001b[0mnum\u001b[0m\u001b[1;33m/\u001b[0m\u001b[0mi1\u001b[0m\u001b[1;33m,\u001b[0m\u001b[0mi\u001b[0m\u001b[1;33m)\u001b[0m\u001b[1;33m\u001b[0m\u001b[0m\n\u001b[0;32m     36\u001b[0m     \u001b[1;32melse\u001b[0m\u001b[1;33m:\u001b[0m\u001b[1;33m\u001b[0m\u001b[0m\n\u001b[1;32m---> 37\u001b[1;33m         \u001b[1;32mreturn\u001b[0m \u001b[0mis_dev\u001b[0m\u001b[1;33m(\u001b[0m\u001b[0mnum\u001b[0m\u001b[1;33m,\u001b[0m\u001b[0mil\u001b[0m\u001b[1;33m)\u001b[0m \u001b[1;32mif\u001b[0m \u001b[0mnum\u001b[0m\u001b[1;33m>\u001b[0m\u001b[1;36m1\u001b[0m \u001b[1;32melse\u001b[0m \u001b[1;36m0\u001b[0m\u001b[1;33m\u001b[0m\u001b[0m\n\u001b[0m\u001b[0;32m     38\u001b[0m \u001b[1;33m\u001b[0m\u001b[0m\n\u001b[0;32m     39\u001b[0m \u001b[1;33m\u001b[0m\u001b[0m\n",
      "\u001b[1;32m<ipython-input-104-34b3236344d2>\u001b[0m in \u001b[0;36mis_dev\u001b[1;34m(num, i)\u001b[0m\n\u001b[0;32m     35\u001b[0m         \u001b[1;32mreturn\u001b[0m \u001b[1;36m1\u001b[0m\u001b[1;33m+\u001b[0m\u001b[0mis_dev\u001b[0m\u001b[1;33m(\u001b[0m\u001b[0mnum\u001b[0m\u001b[1;33m/\u001b[0m\u001b[0mi1\u001b[0m\u001b[1;33m,\u001b[0m\u001b[0mi\u001b[0m\u001b[1;33m)\u001b[0m\u001b[1;33m\u001b[0m\u001b[0m\n\u001b[0;32m     36\u001b[0m     \u001b[1;32melse\u001b[0m\u001b[1;33m:\u001b[0m\u001b[1;33m\u001b[0m\u001b[0m\n\u001b[1;32m---> 37\u001b[1;33m         \u001b[1;32mreturn\u001b[0m \u001b[0mis_dev\u001b[0m\u001b[1;33m(\u001b[0m\u001b[0mnum\u001b[0m\u001b[1;33m,\u001b[0m\u001b[0mil\u001b[0m\u001b[1;33m)\u001b[0m \u001b[1;32mif\u001b[0m \u001b[0mnum\u001b[0m\u001b[1;33m>\u001b[0m\u001b[1;36m1\u001b[0m \u001b[1;32melse\u001b[0m \u001b[1;36m0\u001b[0m\u001b[1;33m\u001b[0m\u001b[0m\n\u001b[0m\u001b[0;32m     38\u001b[0m \u001b[1;33m\u001b[0m\u001b[0m\n\u001b[0;32m     39\u001b[0m \u001b[1;33m\u001b[0m\u001b[0m\n",
      "\u001b[1;32m<ipython-input-104-34b3236344d2>\u001b[0m in \u001b[0;36mis_dev\u001b[1;34m(num, i)\u001b[0m\n\u001b[0;32m     35\u001b[0m         \u001b[1;32mreturn\u001b[0m \u001b[1;36m1\u001b[0m\u001b[1;33m+\u001b[0m\u001b[0mis_dev\u001b[0m\u001b[1;33m(\u001b[0m\u001b[0mnum\u001b[0m\u001b[1;33m/\u001b[0m\u001b[0mi1\u001b[0m\u001b[1;33m,\u001b[0m\u001b[0mi\u001b[0m\u001b[1;33m)\u001b[0m\u001b[1;33m\u001b[0m\u001b[0m\n\u001b[0;32m     36\u001b[0m     \u001b[1;32melse\u001b[0m\u001b[1;33m:\u001b[0m\u001b[1;33m\u001b[0m\u001b[0m\n\u001b[1;32m---> 37\u001b[1;33m         \u001b[1;32mreturn\u001b[0m \u001b[0mis_dev\u001b[0m\u001b[1;33m(\u001b[0m\u001b[0mnum\u001b[0m\u001b[1;33m,\u001b[0m\u001b[0mil\u001b[0m\u001b[1;33m)\u001b[0m \u001b[1;32mif\u001b[0m \u001b[0mnum\u001b[0m\u001b[1;33m>\u001b[0m\u001b[1;36m1\u001b[0m \u001b[1;32melse\u001b[0m \u001b[1;36m0\u001b[0m\u001b[1;33m\u001b[0m\u001b[0m\n\u001b[0m\u001b[0;32m     38\u001b[0m \u001b[1;33m\u001b[0m\u001b[0m\n\u001b[0;32m     39\u001b[0m \u001b[1;33m\u001b[0m\u001b[0m\n",
      "\u001b[1;32m<ipython-input-104-34b3236344d2>\u001b[0m in \u001b[0;36mis_dev\u001b[1;34m(num, i)\u001b[0m\n\u001b[0;32m     35\u001b[0m         \u001b[1;32mreturn\u001b[0m \u001b[1;36m1\u001b[0m\u001b[1;33m+\u001b[0m\u001b[0mis_dev\u001b[0m\u001b[1;33m(\u001b[0m\u001b[0mnum\u001b[0m\u001b[1;33m/\u001b[0m\u001b[0mi1\u001b[0m\u001b[1;33m,\u001b[0m\u001b[0mi\u001b[0m\u001b[1;33m)\u001b[0m\u001b[1;33m\u001b[0m\u001b[0m\n\u001b[0;32m     36\u001b[0m     \u001b[1;32melse\u001b[0m\u001b[1;33m:\u001b[0m\u001b[1;33m\u001b[0m\u001b[0m\n\u001b[1;32m---> 37\u001b[1;33m         \u001b[1;32mreturn\u001b[0m \u001b[0mis_dev\u001b[0m\u001b[1;33m(\u001b[0m\u001b[0mnum\u001b[0m\u001b[1;33m,\u001b[0m\u001b[0mil\u001b[0m\u001b[1;33m)\u001b[0m \u001b[1;32mif\u001b[0m \u001b[0mnum\u001b[0m\u001b[1;33m>\u001b[0m\u001b[1;36m1\u001b[0m \u001b[1;32melse\u001b[0m \u001b[1;36m0\u001b[0m\u001b[1;33m\u001b[0m\u001b[0m\n\u001b[0m\u001b[0;32m     38\u001b[0m \u001b[1;33m\u001b[0m\u001b[0m\n\u001b[0;32m     39\u001b[0m \u001b[1;33m\u001b[0m\u001b[0m\n",
      "\u001b[1;32m<ipython-input-104-34b3236344d2>\u001b[0m in \u001b[0;36mis_dev\u001b[1;34m(num, i)\u001b[0m\n\u001b[0;32m     35\u001b[0m         \u001b[1;32mreturn\u001b[0m \u001b[1;36m1\u001b[0m\u001b[1;33m+\u001b[0m\u001b[0mis_dev\u001b[0m\u001b[1;33m(\u001b[0m\u001b[0mnum\u001b[0m\u001b[1;33m/\u001b[0m\u001b[0mi1\u001b[0m\u001b[1;33m,\u001b[0m\u001b[0mi\u001b[0m\u001b[1;33m)\u001b[0m\u001b[1;33m\u001b[0m\u001b[0m\n\u001b[0;32m     36\u001b[0m     \u001b[1;32melse\u001b[0m\u001b[1;33m:\u001b[0m\u001b[1;33m\u001b[0m\u001b[0m\n\u001b[1;32m---> 37\u001b[1;33m         \u001b[1;32mreturn\u001b[0m \u001b[0mis_dev\u001b[0m\u001b[1;33m(\u001b[0m\u001b[0mnum\u001b[0m\u001b[1;33m,\u001b[0m\u001b[0mil\u001b[0m\u001b[1;33m)\u001b[0m \u001b[1;32mif\u001b[0m \u001b[0mnum\u001b[0m\u001b[1;33m>\u001b[0m\u001b[1;36m1\u001b[0m \u001b[1;32melse\u001b[0m \u001b[1;36m0\u001b[0m\u001b[1;33m\u001b[0m\u001b[0m\n\u001b[0m\u001b[0;32m     38\u001b[0m \u001b[1;33m\u001b[0m\u001b[0m\n\u001b[0;32m     39\u001b[0m \u001b[1;33m\u001b[0m\u001b[0m\n",
      "\u001b[1;32m<ipython-input-104-34b3236344d2>\u001b[0m in \u001b[0;36mis_dev\u001b[1;34m(num, i)\u001b[0m\n\u001b[0;32m     35\u001b[0m         \u001b[1;32mreturn\u001b[0m \u001b[1;36m1\u001b[0m\u001b[1;33m+\u001b[0m\u001b[0mis_dev\u001b[0m\u001b[1;33m(\u001b[0m\u001b[0mnum\u001b[0m\u001b[1;33m/\u001b[0m\u001b[0mi1\u001b[0m\u001b[1;33m,\u001b[0m\u001b[0mi\u001b[0m\u001b[1;33m)\u001b[0m\u001b[1;33m\u001b[0m\u001b[0m\n\u001b[0;32m     36\u001b[0m     \u001b[1;32melse\u001b[0m\u001b[1;33m:\u001b[0m\u001b[1;33m\u001b[0m\u001b[0m\n\u001b[1;32m---> 37\u001b[1;33m         \u001b[1;32mreturn\u001b[0m \u001b[0mis_dev\u001b[0m\u001b[1;33m(\u001b[0m\u001b[0mnum\u001b[0m\u001b[1;33m,\u001b[0m\u001b[0mil\u001b[0m\u001b[1;33m)\u001b[0m \u001b[1;32mif\u001b[0m \u001b[0mnum\u001b[0m\u001b[1;33m>\u001b[0m\u001b[1;36m1\u001b[0m \u001b[1;32melse\u001b[0m \u001b[1;36m0\u001b[0m\u001b[1;33m\u001b[0m\u001b[0m\n\u001b[0m\u001b[0;32m     38\u001b[0m \u001b[1;33m\u001b[0m\u001b[0m\n\u001b[0;32m     39\u001b[0m \u001b[1;33m\u001b[0m\u001b[0m\n",
      "\u001b[1;32m<ipython-input-104-34b3236344d2>\u001b[0m in \u001b[0;36mis_dev\u001b[1;34m(num, i)\u001b[0m\n\u001b[0;32m     35\u001b[0m         \u001b[1;32mreturn\u001b[0m \u001b[1;36m1\u001b[0m\u001b[1;33m+\u001b[0m\u001b[0mis_dev\u001b[0m\u001b[1;33m(\u001b[0m\u001b[0mnum\u001b[0m\u001b[1;33m/\u001b[0m\u001b[0mi1\u001b[0m\u001b[1;33m,\u001b[0m\u001b[0mi\u001b[0m\u001b[1;33m)\u001b[0m\u001b[1;33m\u001b[0m\u001b[0m\n\u001b[0;32m     36\u001b[0m     \u001b[1;32melse\u001b[0m\u001b[1;33m:\u001b[0m\u001b[1;33m\u001b[0m\u001b[0m\n\u001b[1;32m---> 37\u001b[1;33m         \u001b[1;32mreturn\u001b[0m \u001b[0mis_dev\u001b[0m\u001b[1;33m(\u001b[0m\u001b[0mnum\u001b[0m\u001b[1;33m,\u001b[0m\u001b[0mil\u001b[0m\u001b[1;33m)\u001b[0m \u001b[1;32mif\u001b[0m \u001b[0mnum\u001b[0m\u001b[1;33m>\u001b[0m\u001b[1;36m1\u001b[0m \u001b[1;32melse\u001b[0m \u001b[1;36m0\u001b[0m\u001b[1;33m\u001b[0m\u001b[0m\n\u001b[0m\u001b[0;32m     38\u001b[0m \u001b[1;33m\u001b[0m\u001b[0m\n\u001b[0;32m     39\u001b[0m \u001b[1;33m\u001b[0m\u001b[0m\n",
      "\u001b[1;32m<ipython-input-104-34b3236344d2>\u001b[0m in \u001b[0;36mis_dev\u001b[1;34m(num, i)\u001b[0m\n\u001b[0;32m     31\u001b[0m \u001b[1;33m\u001b[0m\u001b[0m\n\u001b[0;32m     32\u001b[0m \u001b[1;32mdef\u001b[0m \u001b[0mis_dev\u001b[0m\u001b[1;33m(\u001b[0m\u001b[0mnum\u001b[0m\u001b[1;33m,\u001b[0m\u001b[0mi\u001b[0m\u001b[1;33m)\u001b[0m\u001b[1;33m:\u001b[0m\u001b[1;33m\u001b[0m\u001b[0m\n\u001b[1;32m---> 33\u001b[1;33m     \u001b[0mi1\u001b[0m\u001b[1;33m,\u001b[0m\u001b[1;33m*\u001b[0m\u001b[0mil\u001b[0m\u001b[1;33m=\u001b[0m\u001b[0mi\u001b[0m\u001b[1;33m\u001b[0m\u001b[0m\n\u001b[0m\u001b[0;32m     34\u001b[0m     \u001b[1;32mif\u001b[0m \u001b[0mnum\u001b[0m\u001b[1;33m%\u001b[0m\u001b[0mi1\u001b[0m\u001b[1;33m==\u001b[0m\u001b[1;36m0\u001b[0m\u001b[1;33m:\u001b[0m\u001b[1;33m\u001b[0m\u001b[0m\n\u001b[0;32m     35\u001b[0m         \u001b[1;32mreturn\u001b[0m \u001b[1;36m1\u001b[0m\u001b[1;33m+\u001b[0m\u001b[0mis_dev\u001b[0m\u001b[1;33m(\u001b[0m\u001b[0mnum\u001b[0m\u001b[1;33m/\u001b[0m\u001b[0mi1\u001b[0m\u001b[1;33m,\u001b[0m\u001b[0mi\u001b[0m\u001b[1;33m)\u001b[0m\u001b[1;33m\u001b[0m\u001b[0m\n",
      "\u001b[1;31mValueError\u001b[0m: not enough values to unpack (expected at least 1, got 0)"
     ]
    }
   ],
   "source": [
    "%prun count_Kprimes(5, 500, 1000)"
   ]
  },
  {
   "cell_type": "code",
   "execution_count": null,
   "metadata": {},
   "outputs": [],
   "source": []
  },
  {
   "cell_type": "code",
   "execution_count": 107,
   "metadata": {},
   "outputs": [],
   "source": [
    "import numpy as np\n",
    "k_primes1=[]\n",
    "def count_Kprimes1(k, start, nd):\n",
    "    if start == 0:\n",
    "        start =1\n",
    "    k_numbers = []\n",
    "    max_nd_prime = n_primes1(int(nd/4)+1)\n",
    "    for i in range(nd+1-start):\n",
    "        if is_k_prime1(start+i,k,max_nd_prime):\n",
    "            k_numbers.append(start+i)\n",
    "    return k_numbers\n",
    "    \n",
    "def is_k_prime1(num,k,nd):\n",
    "    global k_primes1\n",
    "    k_primes1 = []\n",
    "    devide1(num,nd) \n",
    "    if len(k_primes1)==k:\n",
    "        return True\n",
    "    \n",
    "        \n",
    "def devide1 (num,rng):\n",
    "    global k_primes1\n",
    "    for i in rng:\n",
    "        if num%i == 0 :\n",
    "            k_primes1.append(i)\n",
    "            return devide1(num/i,rng) if num/i!= 1 else 1\n",
    "    \n",
    "        \n",
    "def n_primes1 (n):\n",
    "    k_prime = np.ones((n),dtype = bool)\n",
    "    for i in range(2,n):\n",
    "        if k_prime[i] == True:\n",
    "            for j in range(i*2,n,i):\n",
    "                k_prime[j]=False\n",
    "    return k_prime.nonzero()[0][2:].astype(np.int32)"
   ]
  },
  {
   "cell_type": "code",
   "execution_count": 108,
   "metadata": {},
   "outputs": [
    {
     "name": "stdout",
     "output_type": "stream",
     "text": [
      " "
     ]
    }
   ],
   "source": [
    "%prun count_Kprimes1(5, 500, 1000)"
   ]
  },
  {
   "cell_type": "code",
   "execution_count": 109,
   "metadata": {},
   "outputs": [],
   "source": [
    "from typing import List"
   ]
  },
  {
   "cell_type": "code",
   "execution_count": null,
   "metadata": {},
   "outputs": [],
   "source": []
  },
  {
   "cell_type": "code",
   "execution_count": 110,
   "metadata": {},
   "outputs": [],
   "source": [
    "def checkio(game_result: List[str]) -> str:\n",
    "    print(game_result)\n",
    "    o_cord = [(i,j) for i,row in enumerate(game_result) for j,lit in enumerate(row) if lit == 'O']\n",
    "    x_cord = [(i,j) for i,row in enumerate(game_result) for j,lit in enumerate(row) if lit == 'X']\n",
    "    \n",
    "    if is_win_d(o_cord) :#or is_win_v_h(o_cord):\n",
    "        return \"O\"\n",
    "    elif is_win_d(x_cord) :#or is_win_v_h(x_cord):\n",
    "        return \"X\"\n",
    "    else:\n",
    "        return \"D\"\n",
    "    \n",
    "    \n",
    "def is_win_v_h (cords):\n",
    "#     print(cords)\n",
    "    x = map(lambda x: x[0],cords)\n",
    "    y = map(lambda x: x[1],cords)\n",
    "    len_x = [len(list(j)) for _,j in groupby(sorted(x))]\n",
    "    len_y = [len(list(j)) for _,j in groupby(sorted(y))]\n",
    "#     print(len_x,len_y)\n",
    "    if 3 in len_x or 3 in len_y:\n",
    "        return True\n",
    "    else:\n",
    "        return False\n",
    "    \n",
    "def is_win_d(cords):\n",
    "    if (0,2)in cords and (1,1) in cords and (2,0) in cords:\n",
    "        print(cords)\n",
    "        return True\n",
    "    \n",
    "    cords = ([(i,j) for i,j in cords if i==j])\n",
    "    if len(cords)==3:\n",
    "        x = sorted(map(lambda x: x[0],cords))\n",
    "        y = sorted(map(lambda x: x[1],cords))\n",
    "        \n",
    "        if x == y:\n",
    "            return True   \n",
    "    return False\n",
    "    \n",
    "    "
   ]
  },
  {
   "cell_type": "code",
   "execution_count": 111,
   "metadata": {},
   "outputs": [],
   "source": [
    "def checkio1(result):\n",
    "    rows = result\n",
    "    \n",
    "    \n",
    "    cols = map(''.join, zip(*rows))\n",
    "    \n",
    "    diags = map(''.join, zip(*[(r[i], r[2 - i]) for i, r in enumerate(rows)]))\n",
    "    \n",
    "    lines = rows + list(cols) + list(diags)\n",
    "    print(lines)\n",
    "\n",
    "    return 'X' if ('XXX' in lines) else 'O' if ('OOO' in lines) else 'D'"
   ]
  },
  {
   "cell_type": "code",
   "execution_count": 112,
   "metadata": {},
   "outputs": [
    {
     "name": "stdout",
     "output_type": "stream",
     "text": [
      "['OOX', 'XXO', 'OXX', 'OXO', 'OXX', 'XOX', 'OXX', 'XXO']\n"
     ]
    },
    {
     "data": {
      "text/plain": [
       "'D'"
      ]
     },
     "execution_count": 112,
     "metadata": {},
     "output_type": "execute_result"
    }
   ],
   "source": [
    "game =[\n",
    "        \"OOX\",\n",
    "        \"XXO\",\n",
    "        \"OXX\"]\n",
    "checkio1(game)"
   ]
  },
  {
   "cell_type": "code",
   "execution_count": 113,
   "metadata": {},
   "outputs": [
    {
     "data": {
      "text/plain": [
       "[0]"
      ]
     },
     "execution_count": 113,
     "metadata": {},
     "output_type": "execute_result"
    }
   ],
   "source": [
    "[0for globals()['checkio'],checkio.__name__,checkio.__doc__ in[((lambda t,n=range(9),d='.',l=len,s=set:[[*(r[i]for i in n[:9:3]if(l(s(r[i:i+3]))==1)&(r[i]!=d)),*(r[c]for c in n[:3]if(l(s(r[c:9:3]))==1)&(r[c]!=d)),r[0]if(l(s(r[::4]))==1)&(r[0]!=d)else r[4]if(l(s(r[2:7:2]))==1)&(r[4]!=d)else'D'][0]for r in[''.join(t)]][0]),'checkio','Return the result of a game of tic-tac-toe')]]"
   ]
  },
  {
   "cell_type": "code",
   "execution_count": null,
   "metadata": {},
   "outputs": [],
   "source": []
  },
  {
   "cell_type": "code",
   "execution_count": 114,
   "metadata": {},
   "outputs": [],
   "source": [
    "def checkio(first, second):\n",
    "    first = first.split(',')\n",
    "    second = second.split(',')\n",
    "    return ', '.join(i for i in first for j in second if i==j)"
   ]
  },
  {
   "cell_type": "code",
   "execution_count": 115,
   "metadata": {},
   "outputs": [
    {
     "name": "stdout",
     "output_type": "stream",
     "text": [
      "hello\n",
      "XD\n"
     ]
    }
   ],
   "source": [
    "list_of_funcs = ['print(\"hello\")', 'str(5)', 'print(\"XD\")']\n",
    " \n",
    "for func in list_of_funcs:\n",
    "    eval(func)"
   ]
  },
  {
   "cell_type": "code",
   "execution_count": 116,
   "metadata": {},
   "outputs": [],
   "source": [
    "import numpy as np"
   ]
  },
  {
   "cell_type": "code",
   "execution_count": 117,
   "metadata": {},
   "outputs": [],
   "source": [
    "A = np.array ([2,5,9,8,8,3,2,1,2,1,8])"
   ]
  },
  {
   "cell_type": "code",
   "execution_count": 118,
   "metadata": {},
   "outputs": [
    {
     "name": "stdout",
     "output_type": "stream",
     "text": [
      "[1 2 3 5 8 9]\n",
      "[2 5 9 8 8 3 2 1 2 1 8]\n"
     ]
    }
   ],
   "source": [
    "set_=np.unique(A)\n",
    "print(set_)\n",
    "print(np.where(A==A[0],A,A))"
   ]
  },
  {
   "cell_type": "code",
   "execution_count": 119,
   "metadata": {},
   "outputs": [
    {
     "name": "stdout",
     "output_type": "stream",
     "text": [
      "[8.0, 4.666666666666667, 5.0, 1.0, 5.666666666666667, 2.0]\n"
     ]
    }
   ],
   "source": [
    "A = np.array ([2,5,9,8,8,3,2,1,2,1,8])\n",
    "set_ = np.unique(A)\n",
    "indeces = [np.where(A==i) for i in set_]\n",
    "mean_ = [np.mean(i) for i in indeces]\n",
    "print(mean_)"
   ]
  },
  {
   "cell_type": "code",
   "execution_count": 120,
   "metadata": {
    "scrolled": false
   },
   "outputs": [
    {
     "data": {
      "text/plain": [
       "[<function numpy.core.fromnumeric.mean(a, axis=None, dtype=None, out=None, keepdims=<class 'numpy._globals._NoValue'>)>,\n",
       " <function numpy.core.fromnumeric.mean(a, axis=None, dtype=None, out=None, keepdims=<class 'numpy._globals._NoValue'>)>,\n",
       " <function numpy.core.fromnumeric.mean(a, axis=None, dtype=None, out=None, keepdims=<class 'numpy._globals._NoValue'>)>,\n",
       " <function numpy.core.fromnumeric.mean(a, axis=None, dtype=None, out=None, keepdims=<class 'numpy._globals._NoValue'>)>,\n",
       " <function numpy.core.fromnumeric.mean(a, axis=None, dtype=None, out=None, keepdims=<class 'numpy._globals._NoValue'>)>,\n",
       " <function numpy.core.fromnumeric.mean(a, axis=None, dtype=None, out=None, keepdims=<class 'numpy._globals._NoValue'>)>]"
      ]
     },
     "execution_count": 120,
     "metadata": {},
     "output_type": "execute_result"
    }
   ],
   "source": [
    "A = np.array ([2,5,9,8,8,3,2,1,2,1,8])\n",
    "set_ = np.unique(A)\n",
    "indeces = map(np.where,[A==i for i in set_])\n",
    "[np.mean for i in indeces]"
   ]
  },
  {
   "cell_type": "code",
   "execution_count": 121,
   "metadata": {},
   "outputs": [
    {
     "name": "stdout",
     "output_type": "stream",
     "text": [
      "['__bytes__', '__class__', '__delattr__', '__dict__', '__dir__', '__doc__', '__eq__', '__format__', '__ge__', '__getattr__', '__getattribute__', '__getitem__', '__gt__', '__hash__', '__init__', '__init_subclass__', '__iter__', '__le__', '__len__', '__lt__', '__module__', '__ne__', '__new__', '__reduce__', '__reduce_ex__', '__repr__', '__setattr__', '__sizeof__', '__str__', '__subclasshook__', '__unicode__', '__weakref__', '_accessors', '_add_numeric_operations', '_agg_doc', '_aggregate', '_aggregate_multiple_funcs', '_aggregate_named', '_apply_filter', '_apply_to_column_groupbys', '_apply_whitelist', '_assure_grouper', '_bool_agg', '_builtin_table', '_concat_objects', '_constructor', '_cumcount_array', '_cython_agg_general', '_cython_table', '_cython_transform', '_def_str', '_deprecations', '_dir_additions', '_dir_deletions', '_fill', '_get_cythonized_result', '_get_index', '_get_indices', '_gotitem', '_group_selection', '_internal_names', '_internal_names_set', '_is_builtin_func', '_is_cython_func', '_iterate_slices', '_make_wrapper', '_obj_with_exclusions', '_python_agg_general', '_python_apply_general', '_reset_cache', '_reset_group_selection', '_selected_obj', '_selection', '_selection_list', '_selection_name', '_set_group_selection', '_set_result_index_ordered', '_shallow_copy', '_transform_fast', '_transform_should_cast', '_try_aggregate_string_function', '_try_cast', '_wrap_aggregated_output', '_wrap_applied_output', '_wrap_output', '_wrap_transformed_output', 'agg', 'aggregate', 'all', 'any', 'apply', 'backfill', 'bfill', 'corr', 'count', 'cov', 'cumcount', 'cummax', 'cummin', 'cumprod', 'cumsum', 'describe', 'diff', 'dtype', 'expanding', 'ffill', 'fillna', 'filter', 'first', 'get_group', 'groups', 'head', 'hist', 'idxmax', 'idxmin', 'indices', 'is_monotonic_decreasing', 'is_monotonic_increasing', 'last', 'mad', 'max', 'mean', 'median', 'min', 'ndim', 'ngroup', 'ngroups', 'nlargest', 'nsmallest', 'nth', 'nunique', 'ohlc', 'pad', 'pct_change', 'pipe', 'plot', 'prod', 'quantile', 'rank', 'resample', 'rolling', 'sem', 'shift', 'size', 'skew', 'std', 'sum', 'tail', 'take', 'transform', 'tshift', 'unique', 'value_counts', 'var']\n",
      "[8.         4.66666667 5.         1.         5.66666667 2.        ]\n"
     ]
    }
   ],
   "source": [
    "import numpy as np\n",
    "import pandas as pd\n",
    "A = np.array([2,5,9,8,8,3,2,1,2,1,8])\n",
    "S = pd.Series(np.arange(len(A)))\n",
    "G=S.groupby(A)\n",
    "print(dir(G))\n",
    "print(S.groupby(A).mean().values)"
   ]
  },
  {
   "cell_type": "code",
   "execution_count": 122,
   "metadata": {},
   "outputs": [
    {
     "name": "stdout",
     "output_type": "stream",
     "text": [
      "8\n"
     ]
    }
   ],
   "source": [
    "import numpy as np\n",
    "import pandas as pd\n",
    "a=[8,5,9,8,8,3,2,1,2,1,2]\n",
    "b=[9,3,8,5,3,3,8]\n",
    "c=[1,2,3,4,5,6,7,8,9,]\n",
    "\n",
    "A = np.array(a)\n",
    "\n",
    "\n",
    "is_more = np.bincount(A)\n",
    "\n",
    "if (any(is_more[is_more>1])):\n",
    "    S = pd.DataFrame({'col 1':A,'col 2':np.arange(len(A))})\n",
    "    gb_S = S.groupby(S['col 1'])\n",
    "    largest = gb_S.size().nlargest()\n",
    "    lrg_val = largest[largest==largest.max()].index.values\n",
    "    if len(lrg_val)==1:\n",
    "        print(A[largest.loc[lrg_val[0]]])\n",
    "    else:\n",
    "        x=[np.mean(S[S['col 1']==i].index.values) for i in lrg_val]\n",
    "        print(A_[np.where(np.argmin(x))][0])\n",
    "    \n",
    "    \n",
    "    \n",
    "else: \n",
    "    print(A[0])\n",
    "    \n",
    "\n",
    "# [print(j,i) for j,i in gb_S]\n",
    "\n",
    "\n",
    "\n",
    "# G = S.groupby(A)\n",
    "# size_ = G.size()\n",
    "# largest = size_.nlargest()\n",
    "# closest_labels = largest[largest==largest.max()]\n",
    "# print (closest_labels.index.values)\n",
    "# for key,_ in G:\n",
    "#     print(key)\n",
    "#     print(G.get_group(key))\n"
   ]
  },
  {
   "cell_type": "code",
   "execution_count": 29,
   "metadata": {},
   "outputs": [
    {
     "name": "stdout",
     "output_type": "stream",
     "text": [
      "[2 8]\n",
      "1\n",
      "[8]\n",
      "   col 1  col 2\n",
      "7      1      7\n",
      "9      1      9\n",
      "    col 1  col 2\n",
      "6       2      6\n",
      "8       2      8\n",
      "10      2     10\n",
      "   col 1  col 2\n",
      "5      3      5\n",
      "   col 1  col 2\n",
      "1      5      1\n",
      "   col 1  col 2\n",
      "0      8      0\n",
      "3      8      3\n",
      "4      8      4\n",
      "   col 1  col 2\n",
      "2      9      2\n"
     ]
    },
    {
     "data": {
      "text/plain": [
       "[None, None, None, None, None, None]"
      ]
     },
     "execution_count": 29,
     "metadata": {},
     "output_type": "execute_result"
    }
   ],
   "source": [
    "a=[8,5,9,8,8,3,2,1,2,1,2]\n",
    "b=[9,7,8,3,4,3,8]\n",
    "\n",
    "A_ = np.array(a)\n",
    "A = pd.DataFrame({'col 1':A_,'col 2':np.arange(len(A_))})\n",
    "gb_A = A.groupby(A['col 1'])\n",
    "largest = gb_A.size().nlargest()\n",
    "large_val = largest[largest==largest.max()].index.values\n",
    "print(large_val)\n",
    "x=[np.mean(A[A['col 1']==i].index.values) for i in large_val]\n",
    "print(np.argmin(x))\n",
    "print(A_[np.where(np.argmin(x))])\n",
    "[print(i) for _,i in gb_A]\n"
   ]
  },
  {
   "cell_type": "code",
   "execution_count": 30,
   "metadata": {},
   "outputs": [],
   "source": [
    "def cache(func):\n",
    "    prev = {}\n",
    "    def sub(arg):\n",
    "        if arg in prev:\n",
    "            return prev[arg]\n",
    "        res = func(arg)\n",
    "        prev[arg]= res\n",
    "        return res\n",
    "    return sub\n",
    "    "
   ]
  },
  {
   "cell_type": "code",
   "execution_count": 31,
   "metadata": {},
   "outputs": [
    {
     "name": "stdout",
     "output_type": "stream",
     "text": [
      "[1, 1, 2, 3, 5, 8, 13, 21, 34, 55, 89, 144, 233, 377, 610, 987]\n"
     ]
    }
   ],
   "source": [
    "@cache\n",
    "def feb(num):\n",
    "    if num < 2:\n",
    "        return 1\n",
    "    return feb(num-1)+feb(num-2)\n",
    "\n",
    "X = [feb(i) for i in range(16)]\n",
    "print(X)"
   ]
  },
  {
   "cell_type": "code",
   "execution_count": 32,
   "metadata": {},
   "outputs": [
    {
     "name": "stdout",
     "output_type": "stream",
     "text": [
      "5.04 µs ± 40.7 ns per loop (mean ± std. dev. of 7 runs, 100000 loops each)\n"
     ]
    }
   ],
   "source": [
    "%timeit X = [feb(i) for i in range(30)]"
   ]
  },
  {
   "cell_type": "code",
   "execution_count": null,
   "metadata": {},
   "outputs": [],
   "source": []
  },
  {
   "cell_type": "code",
   "execution_count": 33,
   "metadata": {},
   "outputs": [],
   "source": [
    "let = ('a','b','c')\n",
    "A = (f'{i}{j}{k}' for i in let for j in let for k in let)"
   ]
  },
  {
   "cell_type": "code",
   "execution_count": 34,
   "metadata": {},
   "outputs": [
    {
     "name": "stdout",
     "output_type": "stream",
     "text": [
      "aaa\n"
     ]
    }
   ],
   "source": [
    "print(A.__next__())"
   ]
  },
  {
   "cell_type": "code",
   "execution_count": 35,
   "metadata": {},
   "outputs": [],
   "source": [
    "import sys"
   ]
  },
  {
   "cell_type": "code",
   "execution_count": 36,
   "metadata": {},
   "outputs": [
    {
     "data": {
      "text/plain": [
       "{'__name__': '__main__',\n",
       " '__doc__': 'Automatically created module for IPython interactive environment',\n",
       " '__package__': None,\n",
       " '__loader__': None,\n",
       " '__spec__': None,\n",
       " '__builtin__': <module 'builtins' (built-in)>,\n",
       " '__builtins__': <module 'builtins' (built-in)>,\n",
       " '_ih': ['',\n",
       "  '\\n# Python 3 program to count \\n# all those numbers in \\n# given range whose count \\n# of prime factors  \\n# is k \\n  \\ndef printKPFNums(A, B, K) : \\n  \\n    # Count prime factors \\n    # of all numbers \\n    # till B. \\n    prime = [ True]*(B+1) \\n    p_factors= [ 0 ]*(B+1) \\n    for p in range(2,B+1) : \\n        if (p_factors[p] == 0)  : \\n            for i in range(p,B+1,p) : \\n                p_factors[i] = p_factors[i] + 1\\n   \\n    # Print all numbers with \\n    # k prime factors \\n    for i in range(A,B+1) : \\n        if (p_factors[i] == K) : \\n            print( i ,end=\" \") \\n  \\n  \\n# Driver code \\nA = 0\\nB = 100\\nK = 2\\nprintKPFNums(A, B, K) \\n  \\n  \\n# This code is contributed \\n# by Nikita Tiwari. ',\n",
       "  'import numpy as np\\nimport pandas as pd',\n",
       "  '\\n# Python 3 program to count \\n# all those numbers in \\n# given range whose count \\n# of prime factors  \\n# is k \\n  \\ndef printKPFNums(A, B, K) : \\n  \\n    # Count prime factors \\n    # of all numbers \\n    # till B. \\n    prime = [ True]*(B+1) \\n    p_factors= [ 0 ]*(B+1) \\n    for p in range(2,B+1) : \\n        if (p_factors[p] == 0)  : \\n            for i in range(p,B+1,p) : \\n                p_factors[i] = p_factors[i] + 1\\n   \\n    # Print all numbers with \\n    # k prime factors \\n    for i in range(A,B+1) : \\n        if (p_factors[i] == K) : \\n            print( i ,end=\" \") \\n  \\n  \\n# Driver code \\nA = 0\\nB = 100\\nK = 2\\nprintKPFNums(A, B, K) \\n  \\n  \\n# This code is contributed \\n# by Nikita Tiwari. ',\n",
       "  'def prime():\\n    primes=[]\\n    \\n    [primes.append(i) for i in range(300) for j in primes if not i%j and len(primes)\\nprint(prime())',\n",
       "  'def two_loop (A,B,R):\\n    for i in range(A.shape[0]):\\n        for j in range(B.shape[0]):\\n            ranges = A[i]-B[j]\\n            R[i,j] =  np.sum(np.abs(ranges))\\n            ',\n",
       "  'def one_loop (A,B,R):\\n    for i in range(A.shape[0]):\\n        R[i]=np.sum(np.abs(B-A[i]),axis = 1)\\n        pp(np.sum(np.abs(B-A[i]),axis = 1))\\n       ',\n",
       "  'def no_loop (A,B,R):\\n    R[:]=np.sum(np.abs(B-A[:,None]),axis = 2)[:]\\n#     pp(np.abs(B-A[:,None]))\\n    pp(A[:,None])',\n",
       "  \"import numpy as np\\nnp.random.seed(42)\\nA = np.random.randint(10,size=(3,5))\\nB = np.random.randint(10,size=(3,5))\\nR = np.zeros ((A.shape[0],B.shape[0]),np.float32)\\n#two_loop (A,B,R)\\n#one_loop(A,B,R)\\nno_loop(A,B,R)\\n#pp(A,B)\\npp(A,'-',B, '=',R)\",\n",
       "  'test_A=np.arange(15).reshape(3,5)',\n",
       "  'pp(test_A[0].T,test_A[0:1].T,test_A[0].T-test_A[0:1].T)',\n",
       "  'pp (B - test_A[:,None] )',\n",
       "  'print ( test_A[:,None] -B )',\n",
       "  \"from datetime import datetime,timedelta\\ndelta = [timedelta (hours = i) for i in range(0,4)]\\ntime = datetime.today().replace(second = 0,microsecond = 0)\\ntimes = [time+delt for delt in delta]\\nprint(time , times)\\nif time in times:\\n    print ('it is')\",\n",
       "  'import numpy as np\\n\\nactu = np.array([True,True,False,True,False,False])\\npred = np.array([False,True,True,False,False,True])\\n\\nTP = actu[pred == False]\\nprint(TP[TP])',\n",
       "  'bools = np.array([np.mean(i) for i in bols])>0.5\\nprint(bools)',\n",
       "  'for i in bols:\\n    bools = me(i)',\n",
       "  '\\nimport numpy as np\\nk_primes=[]\\n\\ndef count_Kprimes(k, start, nd):\\n    if start == 0:\\n        start =1\\n    k_numbers = []\\n    max_nd_prime = n_primes(int(nd/2)+1)\\n    for i in range(nd+1-start):\\n        if is_dev(i+start,max_nd_prime) == k:\\n            k_numbers.append(i+start)            \\n    return k_numbers\\n    \\ndef is_k_prime(num,k,nd):\\n    global k_primes\\n    k_primes = []\\n    devide(num,nd) \\n    if len(k_primes)==k:\\n        return True\\n    \\n        \\ndef devide (num,rng):\\n    global k_primes\\n    for i in rng:\\n        if num%i == 0 :\\n            k_primes.append(i)\\n            return devide(num/i,rng) if num/i!= 1 else 1\\n        else:\\n            return 1\\n        \\ndef is_dev(num,i):\\n    i1,*il=i    \\n    if num%i1==0:\\n        return 1+is_dev(num/i1,i) \\n    else:\\n        return is_dev(num,il) if num>1 else 0\\n    \\n        \\ndef n_primes (n):\\n    k_prime = np.ones((n),dtype = bool)\\n    for i in range(2,n):\\n        if k_prime[i] == True:\\n            for j in range(i*2,n,i):\\n                k_prime[j]=False\\n            \\n    return k_prime.nonzero()[0][2:].astype(np.int32)',\n",
       "  'is_dev(12,n_primes (100))',\n",
       "  \"get_ipython().run_line_magic('prun', 'count_Kprimes(5, 500, 1000)')\",\n",
       "  \"def checkio(first, second):\\n    first = first.split(',')\\n    second = second.split(',')\\n    return ', '.join(i for i in first for j in second if i==j)\",\n",
       "  'list_of_funcs = [\\'print(\"hello\")\\', \\'str(5)\\', \\'print(\"XD\")\\']\\n \\nfor func in list_of_funcs:\\n    eval(func)',\n",
       "  'import numpy as np',\n",
       "  'A = np.array ([2,5,9,8,8,3,2,1,2,1,8])',\n",
       "  'set_=np.unique(A)\\nprint(set_)\\nprint(np.where(A==A[0],A,A))',\n",
       "  'A = np.array ([2,5,9,8,8,3,2,1,2,1,8])\\nset_ = np.unique(A)\\nindeces = [np.where(A==i) for i in set_]\\nmean_ = [np.mean(i) for i in indeces]\\nprint(mean_)',\n",
       "  'A = np.array ([2,5,9,8,8,3,2,1,2,1,8])\\nset_ = np.unique(A)\\nindeces = map(np.where,[A==i for i in set_])\\n[np.mean for i in indeces]',\n",
       "  'import numpy as np\\nimport pandas as pd\\nA = np.array([2,5,9,8,8,3,2,1,2,1,8])\\nS = pd.Series(np.arange(len(A)))\\nG=S.groupby(A)\\nprint(dir(G))\\nprint(S.groupby(A).mean().values)',\n",
       "  \"import numpy as np\\nimport pandas as pd\\na=[8,5,9,8,8,3,2,1,2,1,2]\\nb=[9,3,8,5,3,3,8]\\nc=[1,2,3,4,5,6,7,8,9,]\\n\\nA = np.array(a)\\n\\n\\nis_more = np.bincount(A)\\n\\nif (any(is_more[is_more>1])):\\n    S = pd.DataFrame({'col 1':A,'col 2':np.arange(len(A))})\\n    gb_S = S.groupby(S['col 1'])\\n    largest = gb_S.size().nlargest()\\n    lrg_val = largest[largest==largest.max()].index.values\\n    if len(lrg_val)==1:\\n        print(A[largest.loc[lrg_val[0]]])\\n    else:\\n        x=[np.mean(S[S['col 1']==i].index.values) for i in lrg_val]\\n        print(A_[np.where(np.argmin(x))][0])\\n    \\n    \\n    \\nelse: \\n    print(A[0])\\n    \\n\\n# [print(j,i) for j,i in gb_S]\\n\\n\\n\\n# G = S.groupby(A)\\n# size_ = G.size()\\n# largest = size_.nlargest()\\n# closest_labels = largest[largest==largest.max()]\\n# print (closest_labels.index.values)\\n# for key,_ in G:\\n#     print(key)\\n#     print(G.get_group(key))\",\n",
       "  \"a=[8,5,9,8,8,3,2,1,2,1,2]\\nb=[9,7,8,3,4,3,8]\\n\\nA_ = np.array(a)\\nA = pd.DataFrame({'col 1':A_,'col 2':np.arange(len(A_))})\\ngb_A = A.groupby(A['col 1'])\\nlargest = gb_A.size().nlargest()\\nlarge_val = largest[largest==largest.max()].index.values\\nprint(large_val)\\nx=[np.mean(A[A['col 1']==i].index.values) for i in large_val]\\nprint(np.argmin(x))\\nprint(A_[np.where(np.argmin(x))])\\n[print(i) for _,i in gb_A]\",\n",
       "  'def cache(func):\\n    prev = {}\\n    def sub(arg):\\n        if arg in prev:\\n            return prev[arg]\\n        res = func(arg)\\n        prev[arg]= res\\n        return res\\n    return sub\\n    ',\n",
       "  '@cache\\ndef feb(num):\\n    if num < 2:\\n        return 1\\n    return feb(num-1)+feb(num-2)\\n\\nX = [feb(i) for i in range(16)]\\nprint(X)',\n",
       "  \"get_ipython().run_line_magic('timeit', 'X = [feb(i) for i in range(30)]')\",\n",
       "  \"let = ('a','b','c')\\nA = (f'{i}{j}{k}' for i in let for j in let for k in let)\",\n",
       "  'print(A.__next__())',\n",
       "  'import sys',\n",
       "  'globals()'],\n",
       " '_oh': {18: 3,\n",
       "  26: [<function numpy.core.fromnumeric.mean(a, axis=None, dtype=None, out=None, keepdims=<class 'numpy._globals._NoValue'>)>,\n",
       "   <function numpy.core.fromnumeric.mean(a, axis=None, dtype=None, out=None, keepdims=<class 'numpy._globals._NoValue'>)>,\n",
       "   <function numpy.core.fromnumeric.mean(a, axis=None, dtype=None, out=None, keepdims=<class 'numpy._globals._NoValue'>)>,\n",
       "   <function numpy.core.fromnumeric.mean(a, axis=None, dtype=None, out=None, keepdims=<class 'numpy._globals._NoValue'>)>,\n",
       "   <function numpy.core.fromnumeric.mean(a, axis=None, dtype=None, out=None, keepdims=<class 'numpy._globals._NoValue'>)>,\n",
       "   <function numpy.core.fromnumeric.mean(a, axis=None, dtype=None, out=None, keepdims=<class 'numpy._globals._NoValue'>)>],\n",
       "  29: [None, None, None, None, None, None]},\n",
       " '_dh': ['C:\\\\Users\\\\Сергей\\\\jupyter-repo'],\n",
       " 'In': ['',\n",
       "  '\\n# Python 3 program to count \\n# all those numbers in \\n# given range whose count \\n# of prime factors  \\n# is k \\n  \\ndef printKPFNums(A, B, K) : \\n  \\n    # Count prime factors \\n    # of all numbers \\n    # till B. \\n    prime = [ True]*(B+1) \\n    p_factors= [ 0 ]*(B+1) \\n    for p in range(2,B+1) : \\n        if (p_factors[p] == 0)  : \\n            for i in range(p,B+1,p) : \\n                p_factors[i] = p_factors[i] + 1\\n   \\n    # Print all numbers with \\n    # k prime factors \\n    for i in range(A,B+1) : \\n        if (p_factors[i] == K) : \\n            print( i ,end=\" \") \\n  \\n  \\n# Driver code \\nA = 0\\nB = 100\\nK = 2\\nprintKPFNums(A, B, K) \\n  \\n  \\n# This code is contributed \\n# by Nikita Tiwari. ',\n",
       "  'import numpy as np\\nimport pandas as pd',\n",
       "  '\\n# Python 3 program to count \\n# all those numbers in \\n# given range whose count \\n# of prime factors  \\n# is k \\n  \\ndef printKPFNums(A, B, K) : \\n  \\n    # Count prime factors \\n    # of all numbers \\n    # till B. \\n    prime = [ True]*(B+1) \\n    p_factors= [ 0 ]*(B+1) \\n    for p in range(2,B+1) : \\n        if (p_factors[p] == 0)  : \\n            for i in range(p,B+1,p) : \\n                p_factors[i] = p_factors[i] + 1\\n   \\n    # Print all numbers with \\n    # k prime factors \\n    for i in range(A,B+1) : \\n        if (p_factors[i] == K) : \\n            print( i ,end=\" \") \\n  \\n  \\n# Driver code \\nA = 0\\nB = 100\\nK = 2\\nprintKPFNums(A, B, K) \\n  \\n  \\n# This code is contributed \\n# by Nikita Tiwari. ',\n",
       "  'def prime():\\n    primes=[]\\n    \\n    [primes.append(i) for i in range(300) for j in primes if not i%j and len(primes)\\nprint(prime())',\n",
       "  'def two_loop (A,B,R):\\n    for i in range(A.shape[0]):\\n        for j in range(B.shape[0]):\\n            ranges = A[i]-B[j]\\n            R[i,j] =  np.sum(np.abs(ranges))\\n            ',\n",
       "  'def one_loop (A,B,R):\\n    for i in range(A.shape[0]):\\n        R[i]=np.sum(np.abs(B-A[i]),axis = 1)\\n        pp(np.sum(np.abs(B-A[i]),axis = 1))\\n       ',\n",
       "  'def no_loop (A,B,R):\\n    R[:]=np.sum(np.abs(B-A[:,None]),axis = 2)[:]\\n#     pp(np.abs(B-A[:,None]))\\n    pp(A[:,None])',\n",
       "  \"import numpy as np\\nnp.random.seed(42)\\nA = np.random.randint(10,size=(3,5))\\nB = np.random.randint(10,size=(3,5))\\nR = np.zeros ((A.shape[0],B.shape[0]),np.float32)\\n#two_loop (A,B,R)\\n#one_loop(A,B,R)\\nno_loop(A,B,R)\\n#pp(A,B)\\npp(A,'-',B, '=',R)\",\n",
       "  'test_A=np.arange(15).reshape(3,5)',\n",
       "  'pp(test_A[0].T,test_A[0:1].T,test_A[0].T-test_A[0:1].T)',\n",
       "  'pp (B - test_A[:,None] )',\n",
       "  'print ( test_A[:,None] -B )',\n",
       "  \"from datetime import datetime,timedelta\\ndelta = [timedelta (hours = i) for i in range(0,4)]\\ntime = datetime.today().replace(second = 0,microsecond = 0)\\ntimes = [time+delt for delt in delta]\\nprint(time , times)\\nif time in times:\\n    print ('it is')\",\n",
       "  'import numpy as np\\n\\nactu = np.array([True,True,False,True,False,False])\\npred = np.array([False,True,True,False,False,True])\\n\\nTP = actu[pred == False]\\nprint(TP[TP])',\n",
       "  'bools = np.array([np.mean(i) for i in bols])>0.5\\nprint(bools)',\n",
       "  'for i in bols:\\n    bools = me(i)',\n",
       "  '\\nimport numpy as np\\nk_primes=[]\\n\\ndef count_Kprimes(k, start, nd):\\n    if start == 0:\\n        start =1\\n    k_numbers = []\\n    max_nd_prime = n_primes(int(nd/2)+1)\\n    for i in range(nd+1-start):\\n        if is_dev(i+start,max_nd_prime) == k:\\n            k_numbers.append(i+start)            \\n    return k_numbers\\n    \\ndef is_k_prime(num,k,nd):\\n    global k_primes\\n    k_primes = []\\n    devide(num,nd) \\n    if len(k_primes)==k:\\n        return True\\n    \\n        \\ndef devide (num,rng):\\n    global k_primes\\n    for i in rng:\\n        if num%i == 0 :\\n            k_primes.append(i)\\n            return devide(num/i,rng) if num/i!= 1 else 1\\n        else:\\n            return 1\\n        \\ndef is_dev(num,i):\\n    i1,*il=i    \\n    if num%i1==0:\\n        return 1+is_dev(num/i1,i) \\n    else:\\n        return is_dev(num,il) if num>1 else 0\\n    \\n        \\ndef n_primes (n):\\n    k_prime = np.ones((n),dtype = bool)\\n    for i in range(2,n):\\n        if k_prime[i] == True:\\n            for j in range(i*2,n,i):\\n                k_prime[j]=False\\n            \\n    return k_prime.nonzero()[0][2:].astype(np.int32)',\n",
       "  'is_dev(12,n_primes (100))',\n",
       "  \"get_ipython().run_line_magic('prun', 'count_Kprimes(5, 500, 1000)')\",\n",
       "  \"def checkio(first, second):\\n    first = first.split(',')\\n    second = second.split(',')\\n    return ', '.join(i for i in first for j in second if i==j)\",\n",
       "  'list_of_funcs = [\\'print(\"hello\")\\', \\'str(5)\\', \\'print(\"XD\")\\']\\n \\nfor func in list_of_funcs:\\n    eval(func)',\n",
       "  'import numpy as np',\n",
       "  'A = np.array ([2,5,9,8,8,3,2,1,2,1,8])',\n",
       "  'set_=np.unique(A)\\nprint(set_)\\nprint(np.where(A==A[0],A,A))',\n",
       "  'A = np.array ([2,5,9,8,8,3,2,1,2,1,8])\\nset_ = np.unique(A)\\nindeces = [np.where(A==i) for i in set_]\\nmean_ = [np.mean(i) for i in indeces]\\nprint(mean_)',\n",
       "  'A = np.array ([2,5,9,8,8,3,2,1,2,1,8])\\nset_ = np.unique(A)\\nindeces = map(np.where,[A==i for i in set_])\\n[np.mean for i in indeces]',\n",
       "  'import numpy as np\\nimport pandas as pd\\nA = np.array([2,5,9,8,8,3,2,1,2,1,8])\\nS = pd.Series(np.arange(len(A)))\\nG=S.groupby(A)\\nprint(dir(G))\\nprint(S.groupby(A).mean().values)',\n",
       "  \"import numpy as np\\nimport pandas as pd\\na=[8,5,9,8,8,3,2,1,2,1,2]\\nb=[9,3,8,5,3,3,8]\\nc=[1,2,3,4,5,6,7,8,9,]\\n\\nA = np.array(a)\\n\\n\\nis_more = np.bincount(A)\\n\\nif (any(is_more[is_more>1])):\\n    S = pd.DataFrame({'col 1':A,'col 2':np.arange(len(A))})\\n    gb_S = S.groupby(S['col 1'])\\n    largest = gb_S.size().nlargest()\\n    lrg_val = largest[largest==largest.max()].index.values\\n    if len(lrg_val)==1:\\n        print(A[largest.loc[lrg_val[0]]])\\n    else:\\n        x=[np.mean(S[S['col 1']==i].index.values) for i in lrg_val]\\n        print(A_[np.where(np.argmin(x))][0])\\n    \\n    \\n    \\nelse: \\n    print(A[0])\\n    \\n\\n# [print(j,i) for j,i in gb_S]\\n\\n\\n\\n# G = S.groupby(A)\\n# size_ = G.size()\\n# largest = size_.nlargest()\\n# closest_labels = largest[largest==largest.max()]\\n# print (closest_labels.index.values)\\n# for key,_ in G:\\n#     print(key)\\n#     print(G.get_group(key))\",\n",
       "  \"a=[8,5,9,8,8,3,2,1,2,1,2]\\nb=[9,7,8,3,4,3,8]\\n\\nA_ = np.array(a)\\nA = pd.DataFrame({'col 1':A_,'col 2':np.arange(len(A_))})\\ngb_A = A.groupby(A['col 1'])\\nlargest = gb_A.size().nlargest()\\nlarge_val = largest[largest==largest.max()].index.values\\nprint(large_val)\\nx=[np.mean(A[A['col 1']==i].index.values) for i in large_val]\\nprint(np.argmin(x))\\nprint(A_[np.where(np.argmin(x))])\\n[print(i) for _,i in gb_A]\",\n",
       "  'def cache(func):\\n    prev = {}\\n    def sub(arg):\\n        if arg in prev:\\n            return prev[arg]\\n        res = func(arg)\\n        prev[arg]= res\\n        return res\\n    return sub\\n    ',\n",
       "  '@cache\\ndef feb(num):\\n    if num < 2:\\n        return 1\\n    return feb(num-1)+feb(num-2)\\n\\nX = [feb(i) for i in range(16)]\\nprint(X)',\n",
       "  \"get_ipython().run_line_magic('timeit', 'X = [feb(i) for i in range(30)]')\",\n",
       "  \"let = ('a','b','c')\\nA = (f'{i}{j}{k}' for i in let for j in let for k in let)\",\n",
       "  'print(A.__next__())',\n",
       "  'import sys',\n",
       "  'globals()'],\n",
       " 'Out': {18: 3,\n",
       "  26: [<function numpy.core.fromnumeric.mean(a, axis=None, dtype=None, out=None, keepdims=<class 'numpy._globals._NoValue'>)>,\n",
       "   <function numpy.core.fromnumeric.mean(a, axis=None, dtype=None, out=None, keepdims=<class 'numpy._globals._NoValue'>)>,\n",
       "   <function numpy.core.fromnumeric.mean(a, axis=None, dtype=None, out=None, keepdims=<class 'numpy._globals._NoValue'>)>,\n",
       "   <function numpy.core.fromnumeric.mean(a, axis=None, dtype=None, out=None, keepdims=<class 'numpy._globals._NoValue'>)>,\n",
       "   <function numpy.core.fromnumeric.mean(a, axis=None, dtype=None, out=None, keepdims=<class 'numpy._globals._NoValue'>)>,\n",
       "   <function numpy.core.fromnumeric.mean(a, axis=None, dtype=None, out=None, keepdims=<class 'numpy._globals._NoValue'>)>],\n",
       "  29: [None, None, None, None, None, None]},\n",
       " 'get_ipython': <bound method InteractiveShell.get_ipython of <ipykernel.zmqshell.ZMQInteractiveShell object at 0x0000000004C3ADD8>>,\n",
       " 'exit': <IPython.core.autocall.ZMQExitAutocall at 0x4c9b240>,\n",
       " 'quit': <IPython.core.autocall.ZMQExitAutocall at 0x4c9b240>,\n",
       " '_': [None, None, None, None, None, None],\n",
       " '__': [<function numpy.core.fromnumeric.mean(a, axis=None, dtype=None, out=None, keepdims=<class 'numpy._globals._NoValue'>)>,\n",
       "  <function numpy.core.fromnumeric.mean(a, axis=None, dtype=None, out=None, keepdims=<class 'numpy._globals._NoValue'>)>,\n",
       "  <function numpy.core.fromnumeric.mean(a, axis=None, dtype=None, out=None, keepdims=<class 'numpy._globals._NoValue'>)>,\n",
       "  <function numpy.core.fromnumeric.mean(a, axis=None, dtype=None, out=None, keepdims=<class 'numpy._globals._NoValue'>)>,\n",
       "  <function numpy.core.fromnumeric.mean(a, axis=None, dtype=None, out=None, keepdims=<class 'numpy._globals._NoValue'>)>,\n",
       "  <function numpy.core.fromnumeric.mean(a, axis=None, dtype=None, out=None, keepdims=<class 'numpy._globals._NoValue'>)>],\n",
       " '___': 3,\n",
       " '_i': 'import sys',\n",
       " '_ii': 'print(A.__next__())',\n",
       " '_iii': \"let = ('a','b','c')\\nA = (f'{i}{j}{k}' for i in let for j in let for k in let)\",\n",
       " '_i1': '\\n# Python 3 program to count \\n# all those numbers in \\n# given range whose count \\n# of prime factors  \\n# is k \\n  \\ndef printKPFNums(A, B, K) : \\n  \\n    # Count prime factors \\n    # of all numbers \\n    # till B. \\n    prime = [ True]*(B+1) \\n    p_factors= [ 0 ]*(B+1) \\n    for p in range(2,B+1) : \\n        if (p_factors[p] == 0)  : \\n            for i in range(p,B+1,p) : \\n                p_factors[i] = p_factors[i] + 1\\n   \\n    # Print all numbers with \\n    # k prime factors \\n    for i in range(A,B+1) : \\n        if (p_factors[i] == K) : \\n            print( i ,end=\" \") \\n  \\n  \\n# Driver code \\nA = 0\\nB = 100\\nK = 2\\nprintKPFNums(A, B, K) \\n  \\n  \\n# This code is contributed \\n# by Nikita Tiwari. ',\n",
       " 'printKPFNums': <function __main__.printKPFNums(A, B, K)>,\n",
       " 'A': <generator object <genexpr> at 0x0000000008256EB8>,\n",
       " 'B': array([[4, 1, 7, 5, 1],\n",
       "        [4, 0, 9, 5, 8],\n",
       "        [0, 9, 2, 6, 3]]),\n",
       " 'K': 2,\n",
       " '_i2': 'import numpy as np\\nimport pandas as pd',\n",
       " 'np': <module 'numpy' from 'C:\\\\Anaconda3\\\\lib\\\\site-packages\\\\numpy\\\\__init__.py'>,\n",
       " 'pd': <module 'pandas' from 'C:\\\\Anaconda3\\\\lib\\\\site-packages\\\\pandas\\\\__init__.py'>,\n",
       " '_i3': '\\n# Python 3 program to count \\n# all those numbers in \\n# given range whose count \\n# of prime factors  \\n# is k \\n  \\ndef printKPFNums(A, B, K) : \\n  \\n    # Count prime factors \\n    # of all numbers \\n    # till B. \\n    prime = [ True]*(B+1) \\n    p_factors= [ 0 ]*(B+1) \\n    for p in range(2,B+1) : \\n        if (p_factors[p] == 0)  : \\n            for i in range(p,B+1,p) : \\n                p_factors[i] = p_factors[i] + 1\\n   \\n    # Print all numbers with \\n    # k prime factors \\n    for i in range(A,B+1) : \\n        if (p_factors[i] == K) : \\n            print( i ,end=\" \") \\n  \\n  \\n# Driver code \\nA = 0\\nB = 100\\nK = 2\\nprintKPFNums(A, B, K) \\n  \\n  \\n# This code is contributed \\n# by Nikita Tiwari. ',\n",
       " '_i4': 'def prime():\\n    primes=[]\\n    \\n    [primes.append(i) for i in range(300) for j in primes if not i%j and len(primes)\\nprint(prime())',\n",
       " '_i5': 'def two_loop (A,B,R):\\n    for i in range(A.shape[0]):\\n        for j in range(B.shape[0]):\\n            ranges = A[i]-B[j]\\n            R[i,j] =  np.sum(np.abs(ranges))\\n            ',\n",
       " 'two_loop': <function __main__.two_loop(A, B, R)>,\n",
       " '_i6': 'def one_loop (A,B,R):\\n    for i in range(A.shape[0]):\\n        R[i]=np.sum(np.abs(B-A[i]),axis = 1)\\n        pp(np.sum(np.abs(B-A[i]),axis = 1))\\n       ',\n",
       " 'one_loop': <function __main__.one_loop(A, B, R)>,\n",
       " '_i7': 'def no_loop (A,B,R):\\n    R[:]=np.sum(np.abs(B-A[:,None]),axis = 2)[:]\\n#     pp(np.abs(B-A[:,None]))\\n    pp(A[:,None])',\n",
       " 'no_loop': <function __main__.no_loop(A, B, R)>,\n",
       " '_i8': \"import numpy as np\\nnp.random.seed(42)\\nA = np.random.randint(10,size=(3,5))\\nB = np.random.randint(10,size=(3,5))\\nR = np.zeros ((A.shape[0],B.shape[0]),np.float32)\\n#two_loop (A,B,R)\\n#one_loop(A,B,R)\\nno_loop(A,B,R)\\n#pp(A,B)\\npp(A,'-',B, '=',R)\",\n",
       " 'R': array([[10., 10., 22.],\n",
       "        [12., 16., 22.],\n",
       "        [14., 16., 16.]], dtype=float32),\n",
       " '_i9': 'test_A=np.arange(15).reshape(3,5)',\n",
       " 'test_A': array([[ 0,  1,  2,  3,  4],\n",
       "        [ 5,  6,  7,  8,  9],\n",
       "        [10, 11, 12, 13, 14]]),\n",
       " '_i10': 'pp(test_A[0].T,test_A[0:1].T,test_A[0].T-test_A[0:1].T)',\n",
       " '_i11': 'pp (B - test_A[:,None] )',\n",
       " '_i12': 'print ( test_A[:,None] -B )',\n",
       " '_i13': \"from datetime import datetime,timedelta\\ndelta = [timedelta (hours = i) for i in range(0,4)]\\ntime = datetime.today().replace(second = 0,microsecond = 0)\\ntimes = [time+delt for delt in delta]\\nprint(time , times)\\nif time in times:\\n    print ('it is')\",\n",
       " 'datetime': datetime.datetime,\n",
       " 'timedelta': datetime.timedelta,\n",
       " 'delta': [datetime.timedelta(0),\n",
       "  datetime.timedelta(0, 3600),\n",
       "  datetime.timedelta(0, 7200),\n",
       "  datetime.timedelta(0, 10800)],\n",
       " 'time': datetime.datetime(2019, 8, 4, 13, 58),\n",
       " 'times': [datetime.datetime(2019, 8, 4, 13, 58),\n",
       "  datetime.datetime(2019, 8, 4, 14, 58),\n",
       "  datetime.datetime(2019, 8, 4, 15, 58),\n",
       "  datetime.datetime(2019, 8, 4, 16, 58)],\n",
       " '_i14': 'import numpy as np\\n\\nactu = np.array([True,True,False,True,False,False])\\npred = np.array([False,True,True,False,False,True])\\n\\nTP = actu[pred == False]\\nprint(TP[TP])',\n",
       " 'actu': array([ True,  True, False,  True, False, False]),\n",
       " 'pred': array([False,  True,  True, False, False,  True]),\n",
       " 'TP': array([ True,  True, False]),\n",
       " '_i15': 'bools = np.array([np.mean(i) for i in bols])>0.5\\nprint(bools)',\n",
       " '_i16': 'for i in bols:\\n    bools = me(i)',\n",
       " '_i17': '\\nimport numpy as np\\nk_primes=[]\\n\\ndef count_Kprimes(k, start, nd):\\n    if start == 0:\\n        start =1\\n    k_numbers = []\\n    max_nd_prime = n_primes(int(nd/2)+1)\\n    for i in range(nd+1-start):\\n        if is_dev(i+start,max_nd_prime) == k:\\n            k_numbers.append(i+start)            \\n    return k_numbers\\n    \\ndef is_k_prime(num,k,nd):\\n    global k_primes\\n    k_primes = []\\n    devide(num,nd) \\n    if len(k_primes)==k:\\n        return True\\n    \\n        \\ndef devide (num,rng):\\n    global k_primes\\n    for i in rng:\\n        if num%i == 0 :\\n            k_primes.append(i)\\n            return devide(num/i,rng) if num/i!= 1 else 1\\n        else:\\n            return 1\\n        \\ndef is_dev(num,i):\\n    i1,*il=i    \\n    if num%i1==0:\\n        return 1+is_dev(num/i1,i) \\n    else:\\n        return is_dev(num,il) if num>1 else 0\\n    \\n        \\ndef n_primes (n):\\n    k_prime = np.ones((n),dtype = bool)\\n    for i in range(2,n):\\n        if k_prime[i] == True:\\n            for j in range(i*2,n,i):\\n                k_prime[j]=False\\n            \\n    return k_prime.nonzero()[0][2:].astype(np.int32)',\n",
       " 'k_primes': [],\n",
       " 'count_Kprimes': <function __main__.count_Kprimes(k, start, nd)>,\n",
       " 'is_k_prime': <function __main__.is_k_prime(num, k, nd)>,\n",
       " 'devide': <function __main__.devide(num, rng)>,\n",
       " 'is_dev': <function __main__.is_dev(num, i)>,\n",
       " 'n_primes': <function __main__.n_primes(n)>,\n",
       " '_i18': 'is_dev(12,n_primes (100))',\n",
       " '_18': 3,\n",
       " '_i19': '%prun count_Kprimes(5, 500, 1000)',\n",
       " '_i20': \"def checkio(first, second):\\n    first = first.split(',')\\n    second = second.split(',')\\n    return ', '.join(i for i in first for j in second if i==j)\",\n",
       " 'checkio': <function __main__.checkio(first, second)>,\n",
       " '_i21': 'list_of_funcs = [\\'print(\"hello\")\\', \\'str(5)\\', \\'print(\"XD\")\\']\\n \\nfor func in list_of_funcs:\\n    eval(func)',\n",
       " 'list_of_funcs': ['print(\"hello\")', 'str(5)', 'print(\"XD\")'],\n",
       " 'func': 'print(\"XD\")',\n",
       " '_i22': 'import numpy as np',\n",
       " '_i23': 'A = np.array ([2,5,9,8,8,3,2,1,2,1,8])',\n",
       " '_i24': 'set_=np.unique(A)\\nprint(set_)\\nprint(np.where(A==A[0],A,A))',\n",
       " 'set_': array([1, 2, 3, 5, 8, 9]),\n",
       " '_i25': 'A = np.array ([2,5,9,8,8,3,2,1,2,1,8])\\nset_ = np.unique(A)\\nindeces = [np.where(A==i) for i in set_]\\nmean_ = [np.mean(i) for i in indeces]\\nprint(mean_)',\n",
       " 'indeces': <map at 0x82764e0>,\n",
       " 'mean_': [8.0, 4.666666666666667, 5.0, 1.0, 5.666666666666667, 2.0],\n",
       " '_i26': 'A = np.array ([2,5,9,8,8,3,2,1,2,1,8])\\nset_ = np.unique(A)\\nindeces = map(np.where,[A==i for i in set_])\\n[np.mean for i in indeces]',\n",
       " '_26': [<function numpy.core.fromnumeric.mean(a, axis=None, dtype=None, out=None, keepdims=<class 'numpy._globals._NoValue'>)>,\n",
       "  <function numpy.core.fromnumeric.mean(a, axis=None, dtype=None, out=None, keepdims=<class 'numpy._globals._NoValue'>)>,\n",
       "  <function numpy.core.fromnumeric.mean(a, axis=None, dtype=None, out=None, keepdims=<class 'numpy._globals._NoValue'>)>,\n",
       "  <function numpy.core.fromnumeric.mean(a, axis=None, dtype=None, out=None, keepdims=<class 'numpy._globals._NoValue'>)>,\n",
       "  <function numpy.core.fromnumeric.mean(a, axis=None, dtype=None, out=None, keepdims=<class 'numpy._globals._NoValue'>)>,\n",
       "  <function numpy.core.fromnumeric.mean(a, axis=None, dtype=None, out=None, keepdims=<class 'numpy._globals._NoValue'>)>],\n",
       " '_i27': 'import numpy as np\\nimport pandas as pd\\nA = np.array([2,5,9,8,8,3,2,1,2,1,8])\\nS = pd.Series(np.arange(len(A)))\\nG=S.groupby(A)\\nprint(dir(G))\\nprint(S.groupby(A).mean().values)',\n",
       " 'S':     col 1  col 2\n",
       " 0       8      0\n",
       " 1       5      1\n",
       " 2       9      2\n",
       " 3       8      3\n",
       " 4       8      4\n",
       " 5       3      5\n",
       " 6       2      6\n",
       " 7       1      7\n",
       " 8       2      8\n",
       " 9       1      9\n",
       " 10      2     10,\n",
       " 'G': <pandas.core.groupby.groupby.SeriesGroupBy object at 0x00000000082767F0>,\n",
       " '_i28': \"import numpy as np\\nimport pandas as pd\\na=[8,5,9,8,8,3,2,1,2,1,2]\\nb=[9,3,8,5,3,3,8]\\nc=[1,2,3,4,5,6,7,8,9,]\\n\\nA = np.array(a)\\n\\n\\nis_more = np.bincount(A)\\n\\nif (any(is_more[is_more>1])):\\n    S = pd.DataFrame({'col 1':A,'col 2':np.arange(len(A))})\\n    gb_S = S.groupby(S['col 1'])\\n    largest = gb_S.size().nlargest()\\n    lrg_val = largest[largest==largest.max()].index.values\\n    if len(lrg_val)==1:\\n        print(A[largest.loc[lrg_val[0]]])\\n    else:\\n        x=[np.mean(S[S['col 1']==i].index.values) for i in lrg_val]\\n        print(A_[np.where(np.argmin(x))][0])\\n    \\n    \\n    \\nelse: \\n    print(A[0])\\n    \\n\\n# [print(j,i) for j,i in gb_S]\\n\\n\\n\\n# G = S.groupby(A)\\n# size_ = G.size()\\n# largest = size_.nlargest()\\n# closest_labels = largest[largest==largest.max()]\\n# print (closest_labels.index.values)\\n# for key,_ in G:\\n#     print(key)\\n#     print(G.get_group(key))\",\n",
       " 'a': [8, 5, 9, 8, 8, 3, 2, 1, 2, 1, 2],\n",
       " 'b': [9, 7, 8, 3, 4, 3, 8],\n",
       " 'c': [1, 2, 3, 4, 5, 6, 7, 8, 9],\n",
       " 'is_more': array([0, 2, 3, 1, 0, 1, 0, 0, 3, 1], dtype=int64),\n",
       " 'gb_S': <pandas.core.groupby.groupby.DataFrameGroupBy object at 0x000000000829A5F8>,\n",
       " 'largest': col 1\n",
       " 2    3\n",
       " 8    3\n",
       " 1    2\n",
       " 3    1\n",
       " 5    1\n",
       " dtype: int64,\n",
       " 'lrg_val': array([2, 8], dtype=int64),\n",
       " 'x': [8.0, 2.3333333333333335],\n",
       " '_i29': \"a=[8,5,9,8,8,3,2,1,2,1,2]\\nb=[9,7,8,3,4,3,8]\\n\\nA_ = np.array(a)\\nA = pd.DataFrame({'col 1':A_,'col 2':np.arange(len(A_))})\\ngb_A = A.groupby(A['col 1'])\\nlargest = gb_A.size().nlargest()\\nlarge_val = largest[largest==largest.max()].index.values\\nprint(large_val)\\nx=[np.mean(A[A['col 1']==i].index.values) for i in large_val]\\nprint(np.argmin(x))\\nprint(A_[np.where(np.argmin(x))])\\n[print(i) for _,i in gb_A]\",\n",
       " 'A_': array([8, 5, 9, 8, 8, 3, 2, 1, 2, 1, 2]),\n",
       " 'gb_A': <pandas.core.groupby.groupby.DataFrameGroupBy object at 0x000000000817A080>,\n",
       " 'large_val': array([2, 8], dtype=int64),\n",
       " '_29': [None, None, None, None, None, None],\n",
       " '_i30': 'def cache(func):\\n    prev = {}\\n    def sub(arg):\\n        if arg in prev:\\n            return prev[arg]\\n        res = func(arg)\\n        prev[arg]= res\\n        return res\\n    return sub\\n    ',\n",
       " 'cache': <function __main__.cache(func)>,\n",
       " '_i31': '@cache\\ndef feb(num):\\n    if num < 2:\\n        return 1\\n    return feb(num-1)+feb(num-2)\\n\\nX = [feb(i) for i in range(16)]\\nprint(X)',\n",
       " 'feb': <function __main__.cache.<locals>.sub(arg)>,\n",
       " 'X': [1, 1, 2, 3, 5, 8, 13, 21, 34, 55, 89, 144, 233, 377, 610, 987],\n",
       " '_i32': '%timeit X = [feb(i) for i in range(30)]',\n",
       " '_i33': \"let = ('a','b','c')\\nA = (f'{i}{j}{k}' for i in let for j in let for k in let)\",\n",
       " 'let': ('a', 'b', 'c'),\n",
       " '_i34': 'print(A.__next__())',\n",
       " '_i35': 'import sys',\n",
       " 'sys': <module 'sys' (built-in)>,\n",
       " '_i36': 'globals()'}"
      ]
     },
     "execution_count": 36,
     "metadata": {},
     "output_type": "execute_result"
    }
   ],
   "source": [
    "globals()"
   ]
  },
  {
   "cell_type": "code",
   "execution_count": 37,
   "metadata": {},
   "outputs": [
    {
     "data": {
      "text/plain": [
       "{'__name__': '__main__',\n",
       " '__doc__': 'Automatically created module for IPython interactive environment',\n",
       " '__package__': None,\n",
       " '__loader__': None,\n",
       " '__spec__': None,\n",
       " '__builtin__': <module 'builtins' (built-in)>,\n",
       " '__builtins__': <module 'builtins' (built-in)>,\n",
       " '_ih': ['',\n",
       "  '\\n# Python 3 program to count \\n# all those numbers in \\n# given range whose count \\n# of prime factors  \\n# is k \\n  \\ndef printKPFNums(A, B, K) : \\n  \\n    # Count prime factors \\n    # of all numbers \\n    # till B. \\n    prime = [ True]*(B+1) \\n    p_factors= [ 0 ]*(B+1) \\n    for p in range(2,B+1) : \\n        if (p_factors[p] == 0)  : \\n            for i in range(p,B+1,p) : \\n                p_factors[i] = p_factors[i] + 1\\n   \\n    # Print all numbers with \\n    # k prime factors \\n    for i in range(A,B+1) : \\n        if (p_factors[i] == K) : \\n            print( i ,end=\" \") \\n  \\n  \\n# Driver code \\nA = 0\\nB = 100\\nK = 2\\nprintKPFNums(A, B, K) \\n  \\n  \\n# This code is contributed \\n# by Nikita Tiwari. ',\n",
       "  'import numpy as np\\nimport pandas as pd',\n",
       "  '\\n# Python 3 program to count \\n# all those numbers in \\n# given range whose count \\n# of prime factors  \\n# is k \\n  \\ndef printKPFNums(A, B, K) : \\n  \\n    # Count prime factors \\n    # of all numbers \\n    # till B. \\n    prime = [ True]*(B+1) \\n    p_factors= [ 0 ]*(B+1) \\n    for p in range(2,B+1) : \\n        if (p_factors[p] == 0)  : \\n            for i in range(p,B+1,p) : \\n                p_factors[i] = p_factors[i] + 1\\n   \\n    # Print all numbers with \\n    # k prime factors \\n    for i in range(A,B+1) : \\n        if (p_factors[i] == K) : \\n            print( i ,end=\" \") \\n  \\n  \\n# Driver code \\nA = 0\\nB = 100\\nK = 2\\nprintKPFNums(A, B, K) \\n  \\n  \\n# This code is contributed \\n# by Nikita Tiwari. ',\n",
       "  'def prime():\\n    primes=[]\\n    \\n    [primes.append(i) for i in range(300) for j in primes if not i%j and len(primes)\\nprint(prime())',\n",
       "  'def two_loop (A,B,R):\\n    for i in range(A.shape[0]):\\n        for j in range(B.shape[0]):\\n            ranges = A[i]-B[j]\\n            R[i,j] =  np.sum(np.abs(ranges))\\n            ',\n",
       "  'def one_loop (A,B,R):\\n    for i in range(A.shape[0]):\\n        R[i]=np.sum(np.abs(B-A[i]),axis = 1)\\n        pp(np.sum(np.abs(B-A[i]),axis = 1))\\n       ',\n",
       "  'def no_loop (A,B,R):\\n    R[:]=np.sum(np.abs(B-A[:,None]),axis = 2)[:]\\n#     pp(np.abs(B-A[:,None]))\\n    pp(A[:,None])',\n",
       "  \"import numpy as np\\nnp.random.seed(42)\\nA = np.random.randint(10,size=(3,5))\\nB = np.random.randint(10,size=(3,5))\\nR = np.zeros ((A.shape[0],B.shape[0]),np.float32)\\n#two_loop (A,B,R)\\n#one_loop(A,B,R)\\nno_loop(A,B,R)\\n#pp(A,B)\\npp(A,'-',B, '=',R)\",\n",
       "  'test_A=np.arange(15).reshape(3,5)',\n",
       "  'pp(test_A[0].T,test_A[0:1].T,test_A[0].T-test_A[0:1].T)',\n",
       "  'pp (B - test_A[:,None] )',\n",
       "  'print ( test_A[:,None] -B )',\n",
       "  \"from datetime import datetime,timedelta\\ndelta = [timedelta (hours = i) for i in range(0,4)]\\ntime = datetime.today().replace(second = 0,microsecond = 0)\\ntimes = [time+delt for delt in delta]\\nprint(time , times)\\nif time in times:\\n    print ('it is')\",\n",
       "  'import numpy as np\\n\\nactu = np.array([True,True,False,True,False,False])\\npred = np.array([False,True,True,False,False,True])\\n\\nTP = actu[pred == False]\\nprint(TP[TP])',\n",
       "  'bools = np.array([np.mean(i) for i in bols])>0.5\\nprint(bools)',\n",
       "  'for i in bols:\\n    bools = me(i)',\n",
       "  '\\nimport numpy as np\\nk_primes=[]\\n\\ndef count_Kprimes(k, start, nd):\\n    if start == 0:\\n        start =1\\n    k_numbers = []\\n    max_nd_prime = n_primes(int(nd/2)+1)\\n    for i in range(nd+1-start):\\n        if is_dev(i+start,max_nd_prime) == k:\\n            k_numbers.append(i+start)            \\n    return k_numbers\\n    \\ndef is_k_prime(num,k,nd):\\n    global k_primes\\n    k_primes = []\\n    devide(num,nd) \\n    if len(k_primes)==k:\\n        return True\\n    \\n        \\ndef devide (num,rng):\\n    global k_primes\\n    for i in rng:\\n        if num%i == 0 :\\n            k_primes.append(i)\\n            return devide(num/i,rng) if num/i!= 1 else 1\\n        else:\\n            return 1\\n        \\ndef is_dev(num,i):\\n    i1,*il=i    \\n    if num%i1==0:\\n        return 1+is_dev(num/i1,i) \\n    else:\\n        return is_dev(num,il) if num>1 else 0\\n    \\n        \\ndef n_primes (n):\\n    k_prime = np.ones((n),dtype = bool)\\n    for i in range(2,n):\\n        if k_prime[i] == True:\\n            for j in range(i*2,n,i):\\n                k_prime[j]=False\\n            \\n    return k_prime.nonzero()[0][2:].astype(np.int32)',\n",
       "  'is_dev(12,n_primes (100))',\n",
       "  \"get_ipython().run_line_magic('prun', 'count_Kprimes(5, 500, 1000)')\",\n",
       "  \"def checkio(first, second):\\n    first = first.split(',')\\n    second = second.split(',')\\n    return ', '.join(i for i in first for j in second if i==j)\",\n",
       "  'list_of_funcs = [\\'print(\"hello\")\\', \\'str(5)\\', \\'print(\"XD\")\\']\\n \\nfor func in list_of_funcs:\\n    eval(func)',\n",
       "  'import numpy as np',\n",
       "  'A = np.array ([2,5,9,8,8,3,2,1,2,1,8])',\n",
       "  'set_=np.unique(A)\\nprint(set_)\\nprint(np.where(A==A[0],A,A))',\n",
       "  'A = np.array ([2,5,9,8,8,3,2,1,2,1,8])\\nset_ = np.unique(A)\\nindeces = [np.where(A==i) for i in set_]\\nmean_ = [np.mean(i) for i in indeces]\\nprint(mean_)',\n",
       "  'A = np.array ([2,5,9,8,8,3,2,1,2,1,8])\\nset_ = np.unique(A)\\nindeces = map(np.where,[A==i for i in set_])\\n[np.mean for i in indeces]',\n",
       "  'import numpy as np\\nimport pandas as pd\\nA = np.array([2,5,9,8,8,3,2,1,2,1,8])\\nS = pd.Series(np.arange(len(A)))\\nG=S.groupby(A)\\nprint(dir(G))\\nprint(S.groupby(A).mean().values)',\n",
       "  \"import numpy as np\\nimport pandas as pd\\na=[8,5,9,8,8,3,2,1,2,1,2]\\nb=[9,3,8,5,3,3,8]\\nc=[1,2,3,4,5,6,7,8,9,]\\n\\nA = np.array(a)\\n\\n\\nis_more = np.bincount(A)\\n\\nif (any(is_more[is_more>1])):\\n    S = pd.DataFrame({'col 1':A,'col 2':np.arange(len(A))})\\n    gb_S = S.groupby(S['col 1'])\\n    largest = gb_S.size().nlargest()\\n    lrg_val = largest[largest==largest.max()].index.values\\n    if len(lrg_val)==1:\\n        print(A[largest.loc[lrg_val[0]]])\\n    else:\\n        x=[np.mean(S[S['col 1']==i].index.values) for i in lrg_val]\\n        print(A_[np.where(np.argmin(x))][0])\\n    \\n    \\n    \\nelse: \\n    print(A[0])\\n    \\n\\n# [print(j,i) for j,i in gb_S]\\n\\n\\n\\n# G = S.groupby(A)\\n# size_ = G.size()\\n# largest = size_.nlargest()\\n# closest_labels = largest[largest==largest.max()]\\n# print (closest_labels.index.values)\\n# for key,_ in G:\\n#     print(key)\\n#     print(G.get_group(key))\",\n",
       "  \"a=[8,5,9,8,8,3,2,1,2,1,2]\\nb=[9,7,8,3,4,3,8]\\n\\nA_ = np.array(a)\\nA = pd.DataFrame({'col 1':A_,'col 2':np.arange(len(A_))})\\ngb_A = A.groupby(A['col 1'])\\nlargest = gb_A.size().nlargest()\\nlarge_val = largest[largest==largest.max()].index.values\\nprint(large_val)\\nx=[np.mean(A[A['col 1']==i].index.values) for i in large_val]\\nprint(np.argmin(x))\\nprint(A_[np.where(np.argmin(x))])\\n[print(i) for _,i in gb_A]\",\n",
       "  'def cache(func):\\n    prev = {}\\n    def sub(arg):\\n        if arg in prev:\\n            return prev[arg]\\n        res = func(arg)\\n        prev[arg]= res\\n        return res\\n    return sub\\n    ',\n",
       "  '@cache\\ndef feb(num):\\n    if num < 2:\\n        return 1\\n    return feb(num-1)+feb(num-2)\\n\\nX = [feb(i) for i in range(16)]\\nprint(X)',\n",
       "  \"get_ipython().run_line_magic('timeit', 'X = [feb(i) for i in range(30)]')\",\n",
       "  \"let = ('a','b','c')\\nA = (f'{i}{j}{k}' for i in let for j in let for k in let)\",\n",
       "  'print(A.__next__())',\n",
       "  'import sys',\n",
       "  'globals()',\n",
       "  'locals()'],\n",
       " '_oh': {18: 3,\n",
       "  26: [<function numpy.core.fromnumeric.mean(a, axis=None, dtype=None, out=None, keepdims=<class 'numpy._globals._NoValue'>)>,\n",
       "   <function numpy.core.fromnumeric.mean(a, axis=None, dtype=None, out=None, keepdims=<class 'numpy._globals._NoValue'>)>,\n",
       "   <function numpy.core.fromnumeric.mean(a, axis=None, dtype=None, out=None, keepdims=<class 'numpy._globals._NoValue'>)>,\n",
       "   <function numpy.core.fromnumeric.mean(a, axis=None, dtype=None, out=None, keepdims=<class 'numpy._globals._NoValue'>)>,\n",
       "   <function numpy.core.fromnumeric.mean(a, axis=None, dtype=None, out=None, keepdims=<class 'numpy._globals._NoValue'>)>,\n",
       "   <function numpy.core.fromnumeric.mean(a, axis=None, dtype=None, out=None, keepdims=<class 'numpy._globals._NoValue'>)>],\n",
       "  29: [None, None, None, None, None, None],\n",
       "  36: {...}},\n",
       " '_dh': ['C:\\\\Users\\\\Сергей\\\\jupyter-repo'],\n",
       " 'In': ['',\n",
       "  '\\n# Python 3 program to count \\n# all those numbers in \\n# given range whose count \\n# of prime factors  \\n# is k \\n  \\ndef printKPFNums(A, B, K) : \\n  \\n    # Count prime factors \\n    # of all numbers \\n    # till B. \\n    prime = [ True]*(B+1) \\n    p_factors= [ 0 ]*(B+1) \\n    for p in range(2,B+1) : \\n        if (p_factors[p] == 0)  : \\n            for i in range(p,B+1,p) : \\n                p_factors[i] = p_factors[i] + 1\\n   \\n    # Print all numbers with \\n    # k prime factors \\n    for i in range(A,B+1) : \\n        if (p_factors[i] == K) : \\n            print( i ,end=\" \") \\n  \\n  \\n# Driver code \\nA = 0\\nB = 100\\nK = 2\\nprintKPFNums(A, B, K) \\n  \\n  \\n# This code is contributed \\n# by Nikita Tiwari. ',\n",
       "  'import numpy as np\\nimport pandas as pd',\n",
       "  '\\n# Python 3 program to count \\n# all those numbers in \\n# given range whose count \\n# of prime factors  \\n# is k \\n  \\ndef printKPFNums(A, B, K) : \\n  \\n    # Count prime factors \\n    # of all numbers \\n    # till B. \\n    prime = [ True]*(B+1) \\n    p_factors= [ 0 ]*(B+1) \\n    for p in range(2,B+1) : \\n        if (p_factors[p] == 0)  : \\n            for i in range(p,B+1,p) : \\n                p_factors[i] = p_factors[i] + 1\\n   \\n    # Print all numbers with \\n    # k prime factors \\n    for i in range(A,B+1) : \\n        if (p_factors[i] == K) : \\n            print( i ,end=\" \") \\n  \\n  \\n# Driver code \\nA = 0\\nB = 100\\nK = 2\\nprintKPFNums(A, B, K) \\n  \\n  \\n# This code is contributed \\n# by Nikita Tiwari. ',\n",
       "  'def prime():\\n    primes=[]\\n    \\n    [primes.append(i) for i in range(300) for j in primes if not i%j and len(primes)\\nprint(prime())',\n",
       "  'def two_loop (A,B,R):\\n    for i in range(A.shape[0]):\\n        for j in range(B.shape[0]):\\n            ranges = A[i]-B[j]\\n            R[i,j] =  np.sum(np.abs(ranges))\\n            ',\n",
       "  'def one_loop (A,B,R):\\n    for i in range(A.shape[0]):\\n        R[i]=np.sum(np.abs(B-A[i]),axis = 1)\\n        pp(np.sum(np.abs(B-A[i]),axis = 1))\\n       ',\n",
       "  'def no_loop (A,B,R):\\n    R[:]=np.sum(np.abs(B-A[:,None]),axis = 2)[:]\\n#     pp(np.abs(B-A[:,None]))\\n    pp(A[:,None])',\n",
       "  \"import numpy as np\\nnp.random.seed(42)\\nA = np.random.randint(10,size=(3,5))\\nB = np.random.randint(10,size=(3,5))\\nR = np.zeros ((A.shape[0],B.shape[0]),np.float32)\\n#two_loop (A,B,R)\\n#one_loop(A,B,R)\\nno_loop(A,B,R)\\n#pp(A,B)\\npp(A,'-',B, '=',R)\",\n",
       "  'test_A=np.arange(15).reshape(3,5)',\n",
       "  'pp(test_A[0].T,test_A[0:1].T,test_A[0].T-test_A[0:1].T)',\n",
       "  'pp (B - test_A[:,None] )',\n",
       "  'print ( test_A[:,None] -B )',\n",
       "  \"from datetime import datetime,timedelta\\ndelta = [timedelta (hours = i) for i in range(0,4)]\\ntime = datetime.today().replace(second = 0,microsecond = 0)\\ntimes = [time+delt for delt in delta]\\nprint(time , times)\\nif time in times:\\n    print ('it is')\",\n",
       "  'import numpy as np\\n\\nactu = np.array([True,True,False,True,False,False])\\npred = np.array([False,True,True,False,False,True])\\n\\nTP = actu[pred == False]\\nprint(TP[TP])',\n",
       "  'bools = np.array([np.mean(i) for i in bols])>0.5\\nprint(bools)',\n",
       "  'for i in bols:\\n    bools = me(i)',\n",
       "  '\\nimport numpy as np\\nk_primes=[]\\n\\ndef count_Kprimes(k, start, nd):\\n    if start == 0:\\n        start =1\\n    k_numbers = []\\n    max_nd_prime = n_primes(int(nd/2)+1)\\n    for i in range(nd+1-start):\\n        if is_dev(i+start,max_nd_prime) == k:\\n            k_numbers.append(i+start)            \\n    return k_numbers\\n    \\ndef is_k_prime(num,k,nd):\\n    global k_primes\\n    k_primes = []\\n    devide(num,nd) \\n    if len(k_primes)==k:\\n        return True\\n    \\n        \\ndef devide (num,rng):\\n    global k_primes\\n    for i in rng:\\n        if num%i == 0 :\\n            k_primes.append(i)\\n            return devide(num/i,rng) if num/i!= 1 else 1\\n        else:\\n            return 1\\n        \\ndef is_dev(num,i):\\n    i1,*il=i    \\n    if num%i1==0:\\n        return 1+is_dev(num/i1,i) \\n    else:\\n        return is_dev(num,il) if num>1 else 0\\n    \\n        \\ndef n_primes (n):\\n    k_prime = np.ones((n),dtype = bool)\\n    for i in range(2,n):\\n        if k_prime[i] == True:\\n            for j in range(i*2,n,i):\\n                k_prime[j]=False\\n            \\n    return k_prime.nonzero()[0][2:].astype(np.int32)',\n",
       "  'is_dev(12,n_primes (100))',\n",
       "  \"get_ipython().run_line_magic('prun', 'count_Kprimes(5, 500, 1000)')\",\n",
       "  \"def checkio(first, second):\\n    first = first.split(',')\\n    second = second.split(',')\\n    return ', '.join(i for i in first for j in second if i==j)\",\n",
       "  'list_of_funcs = [\\'print(\"hello\")\\', \\'str(5)\\', \\'print(\"XD\")\\']\\n \\nfor func in list_of_funcs:\\n    eval(func)',\n",
       "  'import numpy as np',\n",
       "  'A = np.array ([2,5,9,8,8,3,2,1,2,1,8])',\n",
       "  'set_=np.unique(A)\\nprint(set_)\\nprint(np.where(A==A[0],A,A))',\n",
       "  'A = np.array ([2,5,9,8,8,3,2,1,2,1,8])\\nset_ = np.unique(A)\\nindeces = [np.where(A==i) for i in set_]\\nmean_ = [np.mean(i) for i in indeces]\\nprint(mean_)',\n",
       "  'A = np.array ([2,5,9,8,8,3,2,1,2,1,8])\\nset_ = np.unique(A)\\nindeces = map(np.where,[A==i for i in set_])\\n[np.mean for i in indeces]',\n",
       "  'import numpy as np\\nimport pandas as pd\\nA = np.array([2,5,9,8,8,3,2,1,2,1,8])\\nS = pd.Series(np.arange(len(A)))\\nG=S.groupby(A)\\nprint(dir(G))\\nprint(S.groupby(A).mean().values)',\n",
       "  \"import numpy as np\\nimport pandas as pd\\na=[8,5,9,8,8,3,2,1,2,1,2]\\nb=[9,3,8,5,3,3,8]\\nc=[1,2,3,4,5,6,7,8,9,]\\n\\nA = np.array(a)\\n\\n\\nis_more = np.bincount(A)\\n\\nif (any(is_more[is_more>1])):\\n    S = pd.DataFrame({'col 1':A,'col 2':np.arange(len(A))})\\n    gb_S = S.groupby(S['col 1'])\\n    largest = gb_S.size().nlargest()\\n    lrg_val = largest[largest==largest.max()].index.values\\n    if len(lrg_val)==1:\\n        print(A[largest.loc[lrg_val[0]]])\\n    else:\\n        x=[np.mean(S[S['col 1']==i].index.values) for i in lrg_val]\\n        print(A_[np.where(np.argmin(x))][0])\\n    \\n    \\n    \\nelse: \\n    print(A[0])\\n    \\n\\n# [print(j,i) for j,i in gb_S]\\n\\n\\n\\n# G = S.groupby(A)\\n# size_ = G.size()\\n# largest = size_.nlargest()\\n# closest_labels = largest[largest==largest.max()]\\n# print (closest_labels.index.values)\\n# for key,_ in G:\\n#     print(key)\\n#     print(G.get_group(key))\",\n",
       "  \"a=[8,5,9,8,8,3,2,1,2,1,2]\\nb=[9,7,8,3,4,3,8]\\n\\nA_ = np.array(a)\\nA = pd.DataFrame({'col 1':A_,'col 2':np.arange(len(A_))})\\ngb_A = A.groupby(A['col 1'])\\nlargest = gb_A.size().nlargest()\\nlarge_val = largest[largest==largest.max()].index.values\\nprint(large_val)\\nx=[np.mean(A[A['col 1']==i].index.values) for i in large_val]\\nprint(np.argmin(x))\\nprint(A_[np.where(np.argmin(x))])\\n[print(i) for _,i in gb_A]\",\n",
       "  'def cache(func):\\n    prev = {}\\n    def sub(arg):\\n        if arg in prev:\\n            return prev[arg]\\n        res = func(arg)\\n        prev[arg]= res\\n        return res\\n    return sub\\n    ',\n",
       "  '@cache\\ndef feb(num):\\n    if num < 2:\\n        return 1\\n    return feb(num-1)+feb(num-2)\\n\\nX = [feb(i) for i in range(16)]\\nprint(X)',\n",
       "  \"get_ipython().run_line_magic('timeit', 'X = [feb(i) for i in range(30)]')\",\n",
       "  \"let = ('a','b','c')\\nA = (f'{i}{j}{k}' for i in let for j in let for k in let)\",\n",
       "  'print(A.__next__())',\n",
       "  'import sys',\n",
       "  'globals()',\n",
       "  'locals()'],\n",
       " 'Out': {18: 3,\n",
       "  26: [<function numpy.core.fromnumeric.mean(a, axis=None, dtype=None, out=None, keepdims=<class 'numpy._globals._NoValue'>)>,\n",
       "   <function numpy.core.fromnumeric.mean(a, axis=None, dtype=None, out=None, keepdims=<class 'numpy._globals._NoValue'>)>,\n",
       "   <function numpy.core.fromnumeric.mean(a, axis=None, dtype=None, out=None, keepdims=<class 'numpy._globals._NoValue'>)>,\n",
       "   <function numpy.core.fromnumeric.mean(a, axis=None, dtype=None, out=None, keepdims=<class 'numpy._globals._NoValue'>)>,\n",
       "   <function numpy.core.fromnumeric.mean(a, axis=None, dtype=None, out=None, keepdims=<class 'numpy._globals._NoValue'>)>,\n",
       "   <function numpy.core.fromnumeric.mean(a, axis=None, dtype=None, out=None, keepdims=<class 'numpy._globals._NoValue'>)>],\n",
       "  29: [None, None, None, None, None, None],\n",
       "  36: {...}},\n",
       " 'get_ipython': <bound method InteractiveShell.get_ipython of <ipykernel.zmqshell.ZMQInteractiveShell object at 0x0000000004C3ADD8>>,\n",
       " 'exit': <IPython.core.autocall.ZMQExitAutocall at 0x4c9b240>,\n",
       " 'quit': <IPython.core.autocall.ZMQExitAutocall at 0x4c9b240>,\n",
       " '_': {...},\n",
       " '__': [None, None, None, None, None, None],\n",
       " '___': [<function numpy.core.fromnumeric.mean(a, axis=None, dtype=None, out=None, keepdims=<class 'numpy._globals._NoValue'>)>,\n",
       "  <function numpy.core.fromnumeric.mean(a, axis=None, dtype=None, out=None, keepdims=<class 'numpy._globals._NoValue'>)>,\n",
       "  <function numpy.core.fromnumeric.mean(a, axis=None, dtype=None, out=None, keepdims=<class 'numpy._globals._NoValue'>)>,\n",
       "  <function numpy.core.fromnumeric.mean(a, axis=None, dtype=None, out=None, keepdims=<class 'numpy._globals._NoValue'>)>,\n",
       "  <function numpy.core.fromnumeric.mean(a, axis=None, dtype=None, out=None, keepdims=<class 'numpy._globals._NoValue'>)>,\n",
       "  <function numpy.core.fromnumeric.mean(a, axis=None, dtype=None, out=None, keepdims=<class 'numpy._globals._NoValue'>)>],\n",
       " '_i': 'globals()',\n",
       " '_ii': 'import sys',\n",
       " '_iii': 'print(A.__next__())',\n",
       " '_i1': '\\n# Python 3 program to count \\n# all those numbers in \\n# given range whose count \\n# of prime factors  \\n# is k \\n  \\ndef printKPFNums(A, B, K) : \\n  \\n    # Count prime factors \\n    # of all numbers \\n    # till B. \\n    prime = [ True]*(B+1) \\n    p_factors= [ 0 ]*(B+1) \\n    for p in range(2,B+1) : \\n        if (p_factors[p] == 0)  : \\n            for i in range(p,B+1,p) : \\n                p_factors[i] = p_factors[i] + 1\\n   \\n    # Print all numbers with \\n    # k prime factors \\n    for i in range(A,B+1) : \\n        if (p_factors[i] == K) : \\n            print( i ,end=\" \") \\n  \\n  \\n# Driver code \\nA = 0\\nB = 100\\nK = 2\\nprintKPFNums(A, B, K) \\n  \\n  \\n# This code is contributed \\n# by Nikita Tiwari. ',\n",
       " 'printKPFNums': <function __main__.printKPFNums(A, B, K)>,\n",
       " 'A': <generator object <genexpr> at 0x0000000008256EB8>,\n",
       " 'B': array([[4, 1, 7, 5, 1],\n",
       "        [4, 0, 9, 5, 8],\n",
       "        [0, 9, 2, 6, 3]]),\n",
       " 'K': 2,\n",
       " '_i2': 'import numpy as np\\nimport pandas as pd',\n",
       " 'np': <module 'numpy' from 'C:\\\\Anaconda3\\\\lib\\\\site-packages\\\\numpy\\\\__init__.py'>,\n",
       " 'pd': <module 'pandas' from 'C:\\\\Anaconda3\\\\lib\\\\site-packages\\\\pandas\\\\__init__.py'>,\n",
       " '_i3': '\\n# Python 3 program to count \\n# all those numbers in \\n# given range whose count \\n# of prime factors  \\n# is k \\n  \\ndef printKPFNums(A, B, K) : \\n  \\n    # Count prime factors \\n    # of all numbers \\n    # till B. \\n    prime = [ True]*(B+1) \\n    p_factors= [ 0 ]*(B+1) \\n    for p in range(2,B+1) : \\n        if (p_factors[p] == 0)  : \\n            for i in range(p,B+1,p) : \\n                p_factors[i] = p_factors[i] + 1\\n   \\n    # Print all numbers with \\n    # k prime factors \\n    for i in range(A,B+1) : \\n        if (p_factors[i] == K) : \\n            print( i ,end=\" \") \\n  \\n  \\n# Driver code \\nA = 0\\nB = 100\\nK = 2\\nprintKPFNums(A, B, K) \\n  \\n  \\n# This code is contributed \\n# by Nikita Tiwari. ',\n",
       " '_i4': 'def prime():\\n    primes=[]\\n    \\n    [primes.append(i) for i in range(300) for j in primes if not i%j and len(primes)\\nprint(prime())',\n",
       " '_i5': 'def two_loop (A,B,R):\\n    for i in range(A.shape[0]):\\n        for j in range(B.shape[0]):\\n            ranges = A[i]-B[j]\\n            R[i,j] =  np.sum(np.abs(ranges))\\n            ',\n",
       " 'two_loop': <function __main__.two_loop(A, B, R)>,\n",
       " '_i6': 'def one_loop (A,B,R):\\n    for i in range(A.shape[0]):\\n        R[i]=np.sum(np.abs(B-A[i]),axis = 1)\\n        pp(np.sum(np.abs(B-A[i]),axis = 1))\\n       ',\n",
       " 'one_loop': <function __main__.one_loop(A, B, R)>,\n",
       " '_i7': 'def no_loop (A,B,R):\\n    R[:]=np.sum(np.abs(B-A[:,None]),axis = 2)[:]\\n#     pp(np.abs(B-A[:,None]))\\n    pp(A[:,None])',\n",
       " 'no_loop': <function __main__.no_loop(A, B, R)>,\n",
       " '_i8': \"import numpy as np\\nnp.random.seed(42)\\nA = np.random.randint(10,size=(3,5))\\nB = np.random.randint(10,size=(3,5))\\nR = np.zeros ((A.shape[0],B.shape[0]),np.float32)\\n#two_loop (A,B,R)\\n#one_loop(A,B,R)\\nno_loop(A,B,R)\\n#pp(A,B)\\npp(A,'-',B, '=',R)\",\n",
       " 'R': array([[10., 10., 22.],\n",
       "        [12., 16., 22.],\n",
       "        [14., 16., 16.]], dtype=float32),\n",
       " '_i9': 'test_A=np.arange(15).reshape(3,5)',\n",
       " 'test_A': array([[ 0,  1,  2,  3,  4],\n",
       "        [ 5,  6,  7,  8,  9],\n",
       "        [10, 11, 12, 13, 14]]),\n",
       " '_i10': 'pp(test_A[0].T,test_A[0:1].T,test_A[0].T-test_A[0:1].T)',\n",
       " '_i11': 'pp (B - test_A[:,None] )',\n",
       " '_i12': 'print ( test_A[:,None] -B )',\n",
       " '_i13': \"from datetime import datetime,timedelta\\ndelta = [timedelta (hours = i) for i in range(0,4)]\\ntime = datetime.today().replace(second = 0,microsecond = 0)\\ntimes = [time+delt for delt in delta]\\nprint(time , times)\\nif time in times:\\n    print ('it is')\",\n",
       " 'datetime': datetime.datetime,\n",
       " 'timedelta': datetime.timedelta,\n",
       " 'delta': [datetime.timedelta(0),\n",
       "  datetime.timedelta(0, 3600),\n",
       "  datetime.timedelta(0, 7200),\n",
       "  datetime.timedelta(0, 10800)],\n",
       " 'time': datetime.datetime(2019, 8, 4, 13, 58),\n",
       " 'times': [datetime.datetime(2019, 8, 4, 13, 58),\n",
       "  datetime.datetime(2019, 8, 4, 14, 58),\n",
       "  datetime.datetime(2019, 8, 4, 15, 58),\n",
       "  datetime.datetime(2019, 8, 4, 16, 58)],\n",
       " '_i14': 'import numpy as np\\n\\nactu = np.array([True,True,False,True,False,False])\\npred = np.array([False,True,True,False,False,True])\\n\\nTP = actu[pred == False]\\nprint(TP[TP])',\n",
       " 'actu': array([ True,  True, False,  True, False, False]),\n",
       " 'pred': array([False,  True,  True, False, False,  True]),\n",
       " 'TP': array([ True,  True, False]),\n",
       " '_i15': 'bools = np.array([np.mean(i) for i in bols])>0.5\\nprint(bools)',\n",
       " '_i16': 'for i in bols:\\n    bools = me(i)',\n",
       " '_i17': '\\nimport numpy as np\\nk_primes=[]\\n\\ndef count_Kprimes(k, start, nd):\\n    if start == 0:\\n        start =1\\n    k_numbers = []\\n    max_nd_prime = n_primes(int(nd/2)+1)\\n    for i in range(nd+1-start):\\n        if is_dev(i+start,max_nd_prime) == k:\\n            k_numbers.append(i+start)            \\n    return k_numbers\\n    \\ndef is_k_prime(num,k,nd):\\n    global k_primes\\n    k_primes = []\\n    devide(num,nd) \\n    if len(k_primes)==k:\\n        return True\\n    \\n        \\ndef devide (num,rng):\\n    global k_primes\\n    for i in rng:\\n        if num%i == 0 :\\n            k_primes.append(i)\\n            return devide(num/i,rng) if num/i!= 1 else 1\\n        else:\\n            return 1\\n        \\ndef is_dev(num,i):\\n    i1,*il=i    \\n    if num%i1==0:\\n        return 1+is_dev(num/i1,i) \\n    else:\\n        return is_dev(num,il) if num>1 else 0\\n    \\n        \\ndef n_primes (n):\\n    k_prime = np.ones((n),dtype = bool)\\n    for i in range(2,n):\\n        if k_prime[i] == True:\\n            for j in range(i*2,n,i):\\n                k_prime[j]=False\\n            \\n    return k_prime.nonzero()[0][2:].astype(np.int32)',\n",
       " 'k_primes': [],\n",
       " 'count_Kprimes': <function __main__.count_Kprimes(k, start, nd)>,\n",
       " 'is_k_prime': <function __main__.is_k_prime(num, k, nd)>,\n",
       " 'devide': <function __main__.devide(num, rng)>,\n",
       " 'is_dev': <function __main__.is_dev(num, i)>,\n",
       " 'n_primes': <function __main__.n_primes(n)>,\n",
       " '_i18': 'is_dev(12,n_primes (100))',\n",
       " '_18': 3,\n",
       " '_i19': '%prun count_Kprimes(5, 500, 1000)',\n",
       " '_i20': \"def checkio(first, second):\\n    first = first.split(',')\\n    second = second.split(',')\\n    return ', '.join(i for i in first for j in second if i==j)\",\n",
       " 'checkio': <function __main__.checkio(first, second)>,\n",
       " '_i21': 'list_of_funcs = [\\'print(\"hello\")\\', \\'str(5)\\', \\'print(\"XD\")\\']\\n \\nfor func in list_of_funcs:\\n    eval(func)',\n",
       " 'list_of_funcs': ['print(\"hello\")', 'str(5)', 'print(\"XD\")'],\n",
       " 'func': 'print(\"XD\")',\n",
       " '_i22': 'import numpy as np',\n",
       " '_i23': 'A = np.array ([2,5,9,8,8,3,2,1,2,1,8])',\n",
       " '_i24': 'set_=np.unique(A)\\nprint(set_)\\nprint(np.where(A==A[0],A,A))',\n",
       " 'set_': array([1, 2, 3, 5, 8, 9]),\n",
       " '_i25': 'A = np.array ([2,5,9,8,8,3,2,1,2,1,8])\\nset_ = np.unique(A)\\nindeces = [np.where(A==i) for i in set_]\\nmean_ = [np.mean(i) for i in indeces]\\nprint(mean_)',\n",
       " 'indeces': <map at 0x82764e0>,\n",
       " 'mean_': [8.0, 4.666666666666667, 5.0, 1.0, 5.666666666666667, 2.0],\n",
       " '_i26': 'A = np.array ([2,5,9,8,8,3,2,1,2,1,8])\\nset_ = np.unique(A)\\nindeces = map(np.where,[A==i for i in set_])\\n[np.mean for i in indeces]',\n",
       " '_26': [<function numpy.core.fromnumeric.mean(a, axis=None, dtype=None, out=None, keepdims=<class 'numpy._globals._NoValue'>)>,\n",
       "  <function numpy.core.fromnumeric.mean(a, axis=None, dtype=None, out=None, keepdims=<class 'numpy._globals._NoValue'>)>,\n",
       "  <function numpy.core.fromnumeric.mean(a, axis=None, dtype=None, out=None, keepdims=<class 'numpy._globals._NoValue'>)>,\n",
       "  <function numpy.core.fromnumeric.mean(a, axis=None, dtype=None, out=None, keepdims=<class 'numpy._globals._NoValue'>)>,\n",
       "  <function numpy.core.fromnumeric.mean(a, axis=None, dtype=None, out=None, keepdims=<class 'numpy._globals._NoValue'>)>,\n",
       "  <function numpy.core.fromnumeric.mean(a, axis=None, dtype=None, out=None, keepdims=<class 'numpy._globals._NoValue'>)>],\n",
       " '_i27': 'import numpy as np\\nimport pandas as pd\\nA = np.array([2,5,9,8,8,3,2,1,2,1,8])\\nS = pd.Series(np.arange(len(A)))\\nG=S.groupby(A)\\nprint(dir(G))\\nprint(S.groupby(A).mean().values)',\n",
       " 'S':     col 1  col 2\n",
       " 0       8      0\n",
       " 1       5      1\n",
       " 2       9      2\n",
       " 3       8      3\n",
       " 4       8      4\n",
       " 5       3      5\n",
       " 6       2      6\n",
       " 7       1      7\n",
       " 8       2      8\n",
       " 9       1      9\n",
       " 10      2     10,\n",
       " 'G': <pandas.core.groupby.groupby.SeriesGroupBy object at 0x00000000082767F0>,\n",
       " '_i28': \"import numpy as np\\nimport pandas as pd\\na=[8,5,9,8,8,3,2,1,2,1,2]\\nb=[9,3,8,5,3,3,8]\\nc=[1,2,3,4,5,6,7,8,9,]\\n\\nA = np.array(a)\\n\\n\\nis_more = np.bincount(A)\\n\\nif (any(is_more[is_more>1])):\\n    S = pd.DataFrame({'col 1':A,'col 2':np.arange(len(A))})\\n    gb_S = S.groupby(S['col 1'])\\n    largest = gb_S.size().nlargest()\\n    lrg_val = largest[largest==largest.max()].index.values\\n    if len(lrg_val)==1:\\n        print(A[largest.loc[lrg_val[0]]])\\n    else:\\n        x=[np.mean(S[S['col 1']==i].index.values) for i in lrg_val]\\n        print(A_[np.where(np.argmin(x))][0])\\n    \\n    \\n    \\nelse: \\n    print(A[0])\\n    \\n\\n# [print(j,i) for j,i in gb_S]\\n\\n\\n\\n# G = S.groupby(A)\\n# size_ = G.size()\\n# largest = size_.nlargest()\\n# closest_labels = largest[largest==largest.max()]\\n# print (closest_labels.index.values)\\n# for key,_ in G:\\n#     print(key)\\n#     print(G.get_group(key))\",\n",
       " 'a': [8, 5, 9, 8, 8, 3, 2, 1, 2, 1, 2],\n",
       " 'b': [9, 7, 8, 3, 4, 3, 8],\n",
       " 'c': [1, 2, 3, 4, 5, 6, 7, 8, 9],\n",
       " 'is_more': array([0, 2, 3, 1, 0, 1, 0, 0, 3, 1], dtype=int64),\n",
       " 'gb_S': <pandas.core.groupby.groupby.DataFrameGroupBy object at 0x000000000829A5F8>,\n",
       " 'largest': col 1\n",
       " 2    3\n",
       " 8    3\n",
       " 1    2\n",
       " 3    1\n",
       " 5    1\n",
       " dtype: int64,\n",
       " 'lrg_val': array([2, 8], dtype=int64),\n",
       " 'x': [8.0, 2.3333333333333335],\n",
       " '_i29': \"a=[8,5,9,8,8,3,2,1,2,1,2]\\nb=[9,7,8,3,4,3,8]\\n\\nA_ = np.array(a)\\nA = pd.DataFrame({'col 1':A_,'col 2':np.arange(len(A_))})\\ngb_A = A.groupby(A['col 1'])\\nlargest = gb_A.size().nlargest()\\nlarge_val = largest[largest==largest.max()].index.values\\nprint(large_val)\\nx=[np.mean(A[A['col 1']==i].index.values) for i in large_val]\\nprint(np.argmin(x))\\nprint(A_[np.where(np.argmin(x))])\\n[print(i) for _,i in gb_A]\",\n",
       " 'A_': array([8, 5, 9, 8, 8, 3, 2, 1, 2, 1, 2]),\n",
       " 'gb_A': <pandas.core.groupby.groupby.DataFrameGroupBy object at 0x000000000817A080>,\n",
       " 'large_val': array([2, 8], dtype=int64),\n",
       " '_29': [None, None, None, None, None, None],\n",
       " '_i30': 'def cache(func):\\n    prev = {}\\n    def sub(arg):\\n        if arg in prev:\\n            return prev[arg]\\n        res = func(arg)\\n        prev[arg]= res\\n        return res\\n    return sub\\n    ',\n",
       " 'cache': <function __main__.cache(func)>,\n",
       " '_i31': '@cache\\ndef feb(num):\\n    if num < 2:\\n        return 1\\n    return feb(num-1)+feb(num-2)\\n\\nX = [feb(i) for i in range(16)]\\nprint(X)',\n",
       " 'feb': <function __main__.cache.<locals>.sub(arg)>,\n",
       " 'X': [1, 1, 2, 3, 5, 8, 13, 21, 34, 55, 89, 144, 233, 377, 610, 987],\n",
       " '_i32': '%timeit X = [feb(i) for i in range(30)]',\n",
       " '_i33': \"let = ('a','b','c')\\nA = (f'{i}{j}{k}' for i in let for j in let for k in let)\",\n",
       " 'let': ('a', 'b', 'c'),\n",
       " '_i34': 'print(A.__next__())',\n",
       " '_i35': 'import sys',\n",
       " 'sys': <module 'sys' (built-in)>,\n",
       " '_i36': 'globals()',\n",
       " '_36': {...},\n",
       " '_i37': 'locals()'}"
      ]
     },
     "execution_count": 37,
     "metadata": {},
     "output_type": "execute_result"
    }
   ],
   "source": [
    "locals()"
   ]
  },
  {
   "cell_type": "code",
   "execution_count": null,
   "metadata": {},
   "outputs": [],
   "source": []
  },
  {
   "cell_type": "code",
   "execution_count": 38,
   "metadata": {},
   "outputs": [
    {
     "name": "stdout",
     "output_type": "stream",
     "text": [
      "['__add__', '__class__', '__contains__', '__delattr__', '__dir__', '__doc__', '__eq__', '__format__', '__ge__', '__getattribute__', '__getitem__', '__getnewargs__', '__gt__', '__hash__', '__init__', '__init_subclass__', '__iter__', '__le__', '__len__', '__lt__', '__mod__', '__mul__', '__ne__', '__new__', '__reduce__', '__reduce_ex__', '__repr__', '__rmod__', '__rmul__', '__setattr__', '__sizeof__', '__str__', '__subclasshook__', 'capitalize', 'casefold', 'center', 'count', 'encode', 'endswith', 'expandtabs', 'find', 'format', 'format_map', 'index', 'isalnum', 'isalpha', 'isdecimal', 'isdigit', 'isidentifier', 'islower', 'isnumeric', 'isprintable', 'isspace', 'istitle', 'isupper', 'join', 'ljust', 'lower', 'lstrip', 'maketrans', 'partition', 'replace', 'rfind', 'rindex', 'rjust', 'rpartition', 'rsplit', 'rstrip', 'split', 'splitlines', 'startswith', 'strip', 'swapcase', 'title', 'translate', 'upper', 'zfill']\n"
     ]
    },
    {
     "ename": "AssertionError",
     "evalue": "",
     "output_type": "error",
     "traceback": [
      "\u001b[1;31m---------------------------------------------------------------------------\u001b[0m",
      "\u001b[1;31mAssertionError\u001b[0m                            Traceback (most recent call last)",
      "\u001b[1;32m<ipython-input-38-87db2de94969>\u001b[0m in \u001b[0;36m<module>\u001b[1;34m()\u001b[0m\n\u001b[0;32m      1\u001b[0m \u001b[0mx\u001b[0m \u001b[1;33m=\u001b[0m \u001b[1;34m'onfe'\u001b[0m\u001b[1;33m\u001b[0m\u001b[0m\n\u001b[0;32m      2\u001b[0m \u001b[0mprint\u001b[0m\u001b[1;33m(\u001b[0m\u001b[0mdir\u001b[0m\u001b[1;33m(\u001b[0m\u001b[0m__name__\u001b[0m\u001b[1;33m)\u001b[0m\u001b[1;33m)\u001b[0m\u001b[1;33m\u001b[0m\u001b[0m\n\u001b[1;32m----> 3\u001b[1;33m \u001b[1;32massert\u001b[0m \u001b[0mx\u001b[0m\u001b[1;33m==\u001b[0m\u001b[1;34m'one'\u001b[0m\u001b[1;33m\u001b[0m\u001b[0m\n\u001b[0m",
      "\u001b[1;31mAssertionError\u001b[0m: "
     ]
    }
   ],
   "source": [
    "x = 'onfe'\n",
    "print(dir(__name__))\n",
    "assert x=='one' "
   ]
  },
  {
   "cell_type": "code",
   "execution_count": 39,
   "metadata": {},
   "outputs": [],
   "source": [
    "def array_sum(x):\n",
    "    #assert x.shape == (2,), x.shape\n",
    "    return np.sum(x), np.ones_like(x)"
   ]
  },
  {
   "cell_type": "code",
   "execution_count": 40,
   "metadata": {},
   "outputs": [
    {
     "name": "stdout",
     "output_type": "stream",
     "text": [
      "(6.0, array([[1., 1.],\n",
      "       [1., 1.]]))\n"
     ]
    }
   ],
   "source": [
    "print(array_sum(np.array([[3.0, 2.0], [1.0, 0.0]])))"
   ]
  },
  {
   "cell_type": "code",
   "execution_count": 41,
   "metadata": {},
   "outputs": [
    {
     "name": "stdout",
     "output_type": "stream",
     "text": [
      "[[ 0  1  2  3]\n",
      " [ 4  5  6  7]\n",
      " [ 8  9 10 11]]\n"
     ]
    }
   ],
   "source": [
    "X = np.arange(12).reshape(3,4)\n",
    "it = np.nditer(X, flags=['multi_index'])\n",
    "print(X)"
   ]
  },
  {
   "cell_type": "code",
   "execution_count": 42,
   "metadata": {},
   "outputs": [
    {
     "name": "stdout",
     "output_type": "stream",
     "text": [
      "(0, 0)\n",
      "(0, 1)\n",
      "(0, 2)\n",
      "(0, 3)\n",
      "(1, 0)\n",
      "(1, 1)\n",
      "(1, 2)\n",
      "(1, 3)\n",
      "(2, 0)\n",
      "(2, 1)\n",
      "(2, 2)\n",
      "(2, 3)\n"
     ]
    }
   ],
   "source": [
    "while not it.finished:\n",
    "    print(it.multi_index)\n",
    "    it.iternext()"
   ]
  },
  {
   "cell_type": "code",
   "execution_count": 43,
   "metadata": {},
   "outputs": [
    {
     "data": {
      "text/plain": [
       "array([[1., 1., 1., 1.],\n",
       "       [1., 1., 1., 1.],\n",
       "       [1., 1., 1., 1.]])"
      ]
     },
     "execution_count": 43,
     "metadata": {},
     "output_type": "execute_result"
    }
   ],
   "source": [
    "(X+5 - X)/5"
   ]
  },
  {
   "cell_type": "code",
   "execution_count": 3,
   "metadata": {},
   "outputs": [
    {
     "name": "stdout",
     "output_type": "stream",
     "text": [
      "[[0 1 2]\n",
      " [3 4 5]\n",
      " [6 7 8]]\n"
     ]
    }
   ],
   "source": [
    "x = np.arange(9).reshape(3,3)\n",
    "print(x)"
   ]
  },
  {
   "cell_type": "code",
   "execution_count": 9,
   "metadata": {},
   "outputs": [
    {
     "name": "stdout",
     "output_type": "stream",
     "text": [
      "[[0 0 0]\n",
      " [0 0 0]\n",
      " [0 0 0]]\n"
     ]
    }
   ],
   "source": [
    "print(np.zeros_like(x))"
   ]
  },
  {
   "cell_type": "code",
   "execution_count": 9,
   "metadata": {},
   "outputs": [],
   "source": [
    "def d(x,y,ix):\n",
    "    in_x = np.zeros_like(x)\n",
    "    in_x[ix] = x[ix]+y\n",
    "    return in_x"
   ]
  },
  {
   "cell_type": "code",
   "execution_count": 16,
   "metadata": {},
   "outputs": [
    {
     "name": "stdout",
     "output_type": "stream",
     "text": [
      "[[0 0 0]\n",
      " [0 2 0]\n",
      " [0 0 0]]\n"
     ]
    }
   ],
   "source": [
    "x = np.arange(9).reshape(3,3)\n",
    "# print(x)\n",
    "print(d(x,-2,(1,1)))"
   ]
  },
  {
   "cell_type": "code",
   "execution_count": 3,
   "metadata": {},
   "outputs": [
    {
     "name": "stdout",
     "output_type": "stream",
     "text": [
      "int32\n"
     ]
    },
    {
     "ename": "TypeError",
     "evalue": "'int' object is not subscriptable",
     "output_type": "error",
     "traceback": [
      "\u001b[1;31m---------------------------------------------------------------------------\u001b[0m",
      "\u001b[1;31mTypeError\u001b[0m                                 Traceback (most recent call last)",
      "\u001b[1;32m<ipython-input-3-38388e62c1b0>\u001b[0m in \u001b[0;36m<module>\u001b[1;34m()\u001b[0m\n\u001b[0;32m      2\u001b[0m \u001b[0my\u001b[0m \u001b[1;33m=\u001b[0m \u001b[0mnp\u001b[0m\u001b[1;33m.\u001b[0m\u001b[0mzeros_like\u001b[0m\u001b[1;33m(\u001b[0m\u001b[0mx\u001b[0m\u001b[1;33m)\u001b[0m\u001b[1;33m\u001b[0m\u001b[0m\n\u001b[0;32m      3\u001b[0m \u001b[0mprint\u001b[0m\u001b[1;33m(\u001b[0m\u001b[0my\u001b[0m\u001b[1;33m.\u001b[0m\u001b[0mdtype\u001b[0m\u001b[1;33m)\u001b[0m\u001b[1;33m\u001b[0m\u001b[0m\n\u001b[1;32m----> 4\u001b[1;33m \u001b[0my\u001b[0m\u001b[1;33m[\u001b[0m\u001b[1;36m0\u001b[0m\u001b[1;33m]\u001b[0m\u001b[1;33m=\u001b[0m\u001b[0mx\u001b[0m\u001b[1;33m[\u001b[0m\u001b[1;36m0\u001b[0m\u001b[1;33m]\u001b[0m\u001b[1;33m+\u001b[0m\u001b[1;36m1\u001b[0m\u001b[1;33m\u001b[0m\u001b[0m\n\u001b[0m\u001b[0;32m      5\u001b[0m \u001b[0mprint\u001b[0m\u001b[1;33m(\u001b[0m\u001b[0my\u001b[0m\u001b[1;33m)\u001b[0m\u001b[1;33m\u001b[0m\u001b[0m\n",
      "\u001b[1;31mTypeError\u001b[0m: 'int' object is not subscriptable"
     ]
    }
   ],
   "source": [
    "x = 5\n",
    "y = np.zeros_like(x)\n",
    "print(y.dtype)\n",
    "y[0]=x[0]+1\n",
    "print(y)"
   ]
  },
  {
   "cell_type": "code",
   "execution_count": 6,
   "metadata": {},
   "outputs": [
    {
     "name": "stdout",
     "output_type": "stream",
     "text": [
      "[    0 -1000 -1000]\n",
      "[1000, 0, 0] [1. 0. 0.]\n"
     ]
    }
   ],
   "source": [
    "x = [1000, 0, 0]\n",
    "y = x - np.max(x)\n",
    "print(y)\n",
    "print(x,np.exp(y)/np.sum(np.exp(y)))"
   ]
  },
  {
   "cell_type": "code",
   "execution_count": 38,
   "metadata": {},
   "outputs": [
    {
     "name": "stdout",
     "output_type": "stream",
     "text": [
      "[-10   0  10]\n"
     ]
    }
   ],
   "source": [
    "x=np.array([-10, 0, 10])\n",
    "y = x +15\n",
    "print(x)"
   ]
  },
  {
   "cell_type": "code",
   "execution_count": 24,
   "metadata": {},
   "outputs": [
    {
     "name": "stdout",
     "output_type": "stream",
     "text": [
      "['123', '123', '123', '123', '123', '852', '852', '753']\n"
     ]
    }
   ],
   "source": [
    "import numpy as np\n",
    "\n",
    "chan ={y:('123',5),\n",
    "z:('852',2),\n",
    "t:('753',1)}\n",
    "x = [i[0] for i in chan.values() for j in range(i[1]) ]\n",
    "print(x)"
   ]
  },
  {
   "cell_type": "code",
   "execution_count": 13,
   "metadata": {},
   "outputs": [
    {
     "ename": "AttributeError",
     "evalue": "'str' object has no attribute 'keys'",
     "output_type": "error",
     "traceback": [
      "\u001b[0;31m---------------------------------------------------------------------------\u001b[0m",
      "\u001b[0;31mAttributeError\u001b[0m                            Traceback (most recent call last)",
      "\u001b[0;32m<ipython-input-13-622197852b21>\u001b[0m in \u001b[0;36m<module>\u001b[0;34m\u001b[0m\n\u001b[1;32m      1\u001b[0m \u001b[0my\u001b[0m \u001b[0;34m=\u001b[0m \u001b[0;34m{\u001b[0m\u001b[0;34m'i1'\u001b[0m\u001b[0;34m:\u001b[0m\u001b[0;34m{\u001b[0m\u001b[0;34m'c1'\u001b[0m\u001b[0;34m:\u001b[0m\u001b[0;34m(\u001b[0m\u001b[0;36m1\u001b[0m\u001b[0;34m,\u001b[0m\u001b[0;36m2\u001b[0m\u001b[0;34m,\u001b[0m\u001b[0;36m3\u001b[0m\u001b[0;34m)\u001b[0m\u001b[0;34m}\u001b[0m\u001b[0;34m,\u001b[0m\u001b[0;34m'i2'\u001b[0m\u001b[0;34m:\u001b[0m\u001b[0;34m{\u001b[0m\u001b[0;34m'c2'\u001b[0m\u001b[0;34m:\u001b[0m\u001b[0;34m(\u001b[0m\u001b[0;36m4\u001b[0m\u001b[0;34m,\u001b[0m\u001b[0;36m5\u001b[0m\u001b[0;34m,\u001b[0m\u001b[0;36m6\u001b[0m\u001b[0;34m)\u001b[0m\u001b[0;34m}\u001b[0m\u001b[0;34m,\u001b[0m\u001b[0;34m'i2'\u001b[0m\u001b[0;34m:\u001b[0m\u001b[0;34m{\u001b[0m\u001b[0;34m'c2'\u001b[0m\u001b[0;34m:\u001b[0m\u001b[0;34m(\u001b[0m\u001b[0;36m7\u001b[0m\u001b[0;34m,\u001b[0m\u001b[0;36m8\u001b[0m\u001b[0;34m,\u001b[0m\u001b[0;36m9\u001b[0m\u001b[0;34m)\u001b[0m\u001b[0;34m}\u001b[0m\u001b[0;34m}\u001b[0m\u001b[0;34m\u001b[0m\u001b[0;34m\u001b[0m\u001b[0m\n\u001b[1;32m      2\u001b[0m \u001b[0;34m\u001b[0m\u001b[0m\n\u001b[0;32m----> 3\u001b[0;31m \u001b[0mx\u001b[0m \u001b[0;34m=\u001b[0m \u001b[0;34m[\u001b[0m\u001b[0;34m{\u001b[0m\u001b[0mi\u001b[0m\u001b[0;34m:\u001b[0m\u001b[0;34m{\u001b[0m\u001b[0mc\u001b[0m\u001b[0;34m:\u001b[0m\u001b[0;34m(\u001b[0m\u001b[0md\u001b[0m\u001b[0;34m,\u001b[0m\u001b[0me\u001b[0m\u001b[0;34m,\u001b[0m\u001b[0mf\u001b[0m\u001b[0;34m)\u001b[0m\u001b[0;34m}\u001b[0m\u001b[0;34m}\u001b[0m \u001b[0;32mfor\u001b[0m \u001b[0mi\u001b[0m \u001b[0;32min\u001b[0m \u001b[0my\u001b[0m \u001b[0;32mfor\u001b[0m \u001b[0mc\u001b[0m \u001b[0;32min\u001b[0m \u001b[0mi\u001b[0m \u001b[0;32mfor\u001b[0m \u001b[0md\u001b[0m\u001b[0;34m,\u001b[0m\u001b[0me\u001b[0m\u001b[0;34m,\u001b[0m\u001b[0mf\u001b[0m \u001b[0;32min\u001b[0m \u001b[0;34m(\u001b[0m\u001b[0mz\u001b[0m \u001b[0;32mfor\u001b[0m \u001b[0mz\u001b[0m \u001b[0;32min\u001b[0m \u001b[0mc\u001b[0m\u001b[0;34m.\u001b[0m\u001b[0mkeys\u001b[0m\u001b[0;34m(\u001b[0m\u001b[0;34m)\u001b[0m\u001b[0;34m)\u001b[0m\u001b[0;34m]\u001b[0m\u001b[0;34m\u001b[0m\u001b[0;34m\u001b[0m\u001b[0m\n\u001b[0m",
      "\u001b[0;32m<ipython-input-13-622197852b21>\u001b[0m in \u001b[0;36m<listcomp>\u001b[0;34m(.0)\u001b[0m\n\u001b[1;32m      1\u001b[0m \u001b[0my\u001b[0m \u001b[0;34m=\u001b[0m \u001b[0;34m{\u001b[0m\u001b[0;34m'i1'\u001b[0m\u001b[0;34m:\u001b[0m\u001b[0;34m{\u001b[0m\u001b[0;34m'c1'\u001b[0m\u001b[0;34m:\u001b[0m\u001b[0;34m(\u001b[0m\u001b[0;36m1\u001b[0m\u001b[0;34m,\u001b[0m\u001b[0;36m2\u001b[0m\u001b[0;34m,\u001b[0m\u001b[0;36m3\u001b[0m\u001b[0;34m)\u001b[0m\u001b[0;34m}\u001b[0m\u001b[0;34m,\u001b[0m\u001b[0;34m'i2'\u001b[0m\u001b[0;34m:\u001b[0m\u001b[0;34m{\u001b[0m\u001b[0;34m'c2'\u001b[0m\u001b[0;34m:\u001b[0m\u001b[0;34m(\u001b[0m\u001b[0;36m4\u001b[0m\u001b[0;34m,\u001b[0m\u001b[0;36m5\u001b[0m\u001b[0;34m,\u001b[0m\u001b[0;36m6\u001b[0m\u001b[0;34m)\u001b[0m\u001b[0;34m}\u001b[0m\u001b[0;34m,\u001b[0m\u001b[0;34m'i2'\u001b[0m\u001b[0;34m:\u001b[0m\u001b[0;34m{\u001b[0m\u001b[0;34m'c2'\u001b[0m\u001b[0;34m:\u001b[0m\u001b[0;34m(\u001b[0m\u001b[0;36m7\u001b[0m\u001b[0;34m,\u001b[0m\u001b[0;36m8\u001b[0m\u001b[0;34m,\u001b[0m\u001b[0;36m9\u001b[0m\u001b[0;34m)\u001b[0m\u001b[0;34m}\u001b[0m\u001b[0;34m}\u001b[0m\u001b[0;34m\u001b[0m\u001b[0;34m\u001b[0m\u001b[0m\n\u001b[1;32m      2\u001b[0m \u001b[0;34m\u001b[0m\u001b[0m\n\u001b[0;32m----> 3\u001b[0;31m \u001b[0mx\u001b[0m \u001b[0;34m=\u001b[0m \u001b[0;34m[\u001b[0m\u001b[0;34m{\u001b[0m\u001b[0mi\u001b[0m\u001b[0;34m:\u001b[0m\u001b[0;34m{\u001b[0m\u001b[0mc\u001b[0m\u001b[0;34m:\u001b[0m\u001b[0;34m(\u001b[0m\u001b[0md\u001b[0m\u001b[0;34m,\u001b[0m\u001b[0me\u001b[0m\u001b[0;34m,\u001b[0m\u001b[0mf\u001b[0m\u001b[0;34m)\u001b[0m\u001b[0;34m}\u001b[0m\u001b[0;34m}\u001b[0m \u001b[0;32mfor\u001b[0m \u001b[0mi\u001b[0m \u001b[0;32min\u001b[0m \u001b[0my\u001b[0m \u001b[0;32mfor\u001b[0m \u001b[0mc\u001b[0m \u001b[0;32min\u001b[0m \u001b[0mi\u001b[0m \u001b[0;32mfor\u001b[0m \u001b[0md\u001b[0m\u001b[0;34m,\u001b[0m\u001b[0me\u001b[0m\u001b[0;34m,\u001b[0m\u001b[0mf\u001b[0m \u001b[0;32min\u001b[0m \u001b[0;34m(\u001b[0m\u001b[0mz\u001b[0m \u001b[0;32mfor\u001b[0m \u001b[0mz\u001b[0m \u001b[0;32min\u001b[0m \u001b[0mc\u001b[0m\u001b[0;34m.\u001b[0m\u001b[0mkeys\u001b[0m\u001b[0;34m(\u001b[0m\u001b[0;34m)\u001b[0m\u001b[0;34m)\u001b[0m\u001b[0;34m]\u001b[0m\u001b[0;34m\u001b[0m\u001b[0;34m\u001b[0m\u001b[0m\n\u001b[0m",
      "\u001b[0;31mAttributeError\u001b[0m: 'str' object has no attribute 'keys'"
     ]
    }
   ],
   "source": [
    "y = {'i1':{'c1':(1,2,3)},'i2':{'c2':(4,5,6)},'i2':{'c2':(7,8,9)}}\n",
    "\n",
    "x = [{i:{c:(d,e,f)}} for i in y for c in i for d,e,f in (z for z in c.keys())]"
   ]
  },
  {
   "cell_type": "code",
   "execution_count": 51,
   "metadata": {},
   "outputs": [
    {
     "name": "stdout",
     "output_type": "stream",
     "text": [
      "dict_keys([1, 2, 3])\n",
      "[('c', 1), ('z', 1)]\n"
     ]
    }
   ],
   "source": [
    "\n",
    "y = {'c':{1:'some 1',2:'some 2',3:'some 3'},'z':{1:'somz 1',2:'somz 2',3:'somz 3'}}\n",
    "\n",
    "# x =[(i,k,j) for i in y \n",
    "#             for  k,j,u in ( z for z in y[i])]\n",
    "# print(x)\n",
    "print(y['c'].keys())\n",
    "print([(i,j) for i in y for j in y[i].keys() if j==1])\n",
    "# [(k) for k in *[i for i in y['c'].values()]]"
   ]
  },
  {
   "cell_type": "code",
   "execution_count": 9,
   "metadata": {},
   "outputs": [],
   "source": [
    "X = np.zeros((3,4),dtype =int)"
   ]
  },
  {
   "cell_type": "code",
   "execution_count": 23,
   "metadata": {},
   "outputs": [],
   "source": [
    "np.fill_diagonal(X,2)"
   ]
  },
  {
   "cell_type": "code",
   "execution_count": 24,
   "metadata": {},
   "outputs": [
    {
     "name": "stdout",
     "output_type": "stream",
     "text": [
      "[[2 0 0 0]\n",
      " [0 2 0 0]\n",
      " [0 0 2 0]]\n"
     ]
    }
   ],
   "source": [
    "print(X)"
   ]
  },
  {
   "cell_type": "code",
   "execution_count": 4,
   "metadata": {},
   "outputs": [
    {
     "name": "stdout",
     "output_type": "stream",
     "text": [
      "[[0 1 0 0]\n",
      " [0 0 1 0]\n",
      " [0 0 0 1]]\n"
     ]
    }
   ],
   "source": [
    "a = np.eye(3, 4, 0,dtype = int)\n",
    "b = np.eye(3, 4, 1,dtype = int)\n",
    "c = 2*a + b\n",
    "print(b)"
   ]
  },
  {
   "cell_type": "code",
   "execution_count": 2,
   "metadata": {},
   "outputs": [
    {
     "name": "stdout",
     "output_type": "stream",
     "text": [
      "2 3\n",
      " 4 5 6 7 8 9 \n",
      "   4 3 \n",
      "1 5 7 8 9 6 3 25 4 75 5 \n"
     ]
    },
    {
     "ename": "ValueError",
     "evalue": "cannot reshape array of size 11 into shape (4,3)",
     "output_type": "error",
     "traceback": [
      "\u001b[1;31m---------------------------------------------------------------------------\u001b[0m",
      "\u001b[1;31mValueError\u001b[0m                                Traceback (most recent call last)",
      "\u001b[1;32m<ipython-input-2-4b76cffecfc8>\u001b[0m in \u001b[0;36m<module>\u001b[1;34m\u001b[0m\n\u001b[0;32m      2\u001b[0m \u001b[0mX\u001b[0m \u001b[1;33m=\u001b[0m \u001b[0mnp\u001b[0m\u001b[1;33m.\u001b[0m\u001b[0mfromiter\u001b[0m\u001b[1;33m(\u001b[0m\u001b[0mmap\u001b[0m\u001b[1;33m(\u001b[0m\u001b[0mint\u001b[0m\u001b[1;33m,\u001b[0m \u001b[0minput\u001b[0m\u001b[1;33m(\u001b[0m\u001b[1;33m)\u001b[0m\u001b[1;33m.\u001b[0m\u001b[0msplit\u001b[0m\u001b[1;33m(\u001b[0m\u001b[1;33m)\u001b[0m\u001b[1;33m)\u001b[0m\u001b[1;33m,\u001b[0m \u001b[0mnp\u001b[0m\u001b[1;33m.\u001b[0m\u001b[0mint\u001b[0m\u001b[1;33m)\u001b[0m\u001b[1;33m.\u001b[0m\u001b[0mreshape\u001b[0m\u001b[1;33m(\u001b[0m\u001b[0mx_shape\u001b[0m\u001b[1;33m)\u001b[0m\u001b[1;33m\u001b[0m\u001b[1;33m\u001b[0m\u001b[0m\n\u001b[0;32m      3\u001b[0m \u001b[0my_shape\u001b[0m \u001b[1;33m=\u001b[0m \u001b[0mtuple\u001b[0m\u001b[1;33m(\u001b[0m\u001b[0mmap\u001b[0m\u001b[1;33m(\u001b[0m\u001b[0mint\u001b[0m\u001b[1;33m,\u001b[0m \u001b[0minput\u001b[0m\u001b[1;33m(\u001b[0m\u001b[1;33m)\u001b[0m\u001b[1;33m.\u001b[0m\u001b[0msplit\u001b[0m\u001b[1;33m(\u001b[0m\u001b[1;33m)\u001b[0m\u001b[1;33m)\u001b[0m\u001b[1;33m)\u001b[0m\u001b[1;33m\u001b[0m\u001b[1;33m\u001b[0m\u001b[0m\n\u001b[1;32m----> 4\u001b[1;33m \u001b[0mY\u001b[0m \u001b[1;33m=\u001b[0m \u001b[0mnp\u001b[0m\u001b[1;33m.\u001b[0m\u001b[0mfromiter\u001b[0m\u001b[1;33m(\u001b[0m\u001b[0mmap\u001b[0m\u001b[1;33m(\u001b[0m\u001b[0mint\u001b[0m\u001b[1;33m,\u001b[0m \u001b[0minput\u001b[0m\u001b[1;33m(\u001b[0m\u001b[1;33m)\u001b[0m\u001b[1;33m.\u001b[0m\u001b[0msplit\u001b[0m\u001b[1;33m(\u001b[0m\u001b[1;33m)\u001b[0m\u001b[1;33m)\u001b[0m\u001b[1;33m,\u001b[0m \u001b[0mnp\u001b[0m\u001b[1;33m.\u001b[0m\u001b[0mint\u001b[0m\u001b[1;33m)\u001b[0m\u001b[1;33m.\u001b[0m\u001b[0mreshape\u001b[0m\u001b[1;33m(\u001b[0m\u001b[0my_shape\u001b[0m\u001b[1;33m)\u001b[0m\u001b[1;33m\u001b[0m\u001b[1;33m\u001b[0m\u001b[0m\n\u001b[0m\u001b[0;32m      5\u001b[0m \u001b[0mprint\u001b[0m\u001b[1;33m(\u001b[0m\u001b[0mx_shape\u001b[0m\u001b[1;33m,\u001b[0m\u001b[0mX\u001b[0m\u001b[1;33m,\u001b[0m\u001b[0my_shape\u001b[0m\u001b[1;33m,\u001b[0m\u001b[0mY\u001b[0m\u001b[1;33m)\u001b[0m\u001b[1;33m\u001b[0m\u001b[1;33m\u001b[0m\u001b[0m\n",
      "\u001b[1;31mValueError\u001b[0m: cannot reshape array of size 11 into shape (4,3)"
     ]
    }
   ],
   "source": [
    "x_shape = tuple(map(int, input().split()))\n",
    "X = np.fromiter(map(int, input().split()), np.int).reshape(x_shape)\n",
    "y_shape = tuple(map(int, input().split()))\n",
    "Y = np.fromiter(map(int, input().split()), np.int).reshape(y_shape)\n",
    "print(x_shape,X,y_shape,Y)"
   ]
  },
  {
   "cell_type": "code",
   "execution_count": 10,
   "metadata": {},
   "outputs": [
    {
     "name": "stdout",
     "output_type": "stream",
     "text": [
      "[[33 74 20 30]\n",
      " [32 76 16 17]]\n"
     ]
    }
   ],
   "source": [
    "X=np.random.randint(0,10,6).reshape(2,3)\n",
    "Y=np.random.randint(0,10,12).reshape(4,3)\n",
    "print(X@(Y.T))"
   ]
  },
  {
   "cell_type": "code",
   "execution_count": 13,
   "metadata": {},
   "outputs": [],
   "source": [
    "def softmax(q):\n",
    "    return np.exp(q)/np.sum(np.exp(q))\n",
    "\n",
    "def softmax_derivative(q):\n",
    "    x =softmax(q)\n",
    "    s = x.reshape(-1,1)\n",
    "    return (np.diagflat(s) - np.dot(s, s.T))"
   ]
  },
  {
   "cell_type": "code",
   "execution_count": 34,
   "metadata": {},
   "outputs": [
    {
     "name": "stdout",
     "output_type": "stream",
     "text": [
      "[[61 41 73 58  5 60 89 52 58 59]  [6 2 3]\n",
      " [21 76 16 17 21 15 54 36 39 57]         \n",
      " [53 47 41 61  8 37 22 17 80 39]]        \n",
      "[89 16 61]\n"
     ]
    }
   ],
   "source": [
    "x = np.random.randint(100,size=(3,10))\n",
    "y = np.random.randint(10,size=(3,1))\n",
    "pp(x,y.flatten())\n",
    "pp(x[np.arange(x.shape[0]),y.flatten()])"
   ]
  },
  {
   "cell_type": "code",
   "execution_count": 29,
   "metadata": {},
   "outputs": [
    {
     "name": "stdout",
     "output_type": "stream",
     "text": [
      "[0.09003057 0.24472847 0.66524096] (-1, 0, 1)\n",
      "[[ 0.08192507 -0.02203304 -0.05989202] \n",
      " [-0.02203304  0.18483645 -0.1628034 ] \n",
      " [-0.05989202 -0.1628034   0.22269543]]\n"
     ]
    }
   ],
   "source": [
    "x=np.arange(144).reshape(12,12)\n",
    "y=np.random.randint(10,size=(3,4))\n",
    "soft = softmax(z)\n",
    "pp(soft,z)\n",
    "pp(softmax_derivative(z))"
   ]
  },
  {
   "cell_type": "code",
   "execution_count": 14,
   "metadata": {},
   "outputs": [],
   "source": [
    "import urllib\n",
    "from urllib import request"
   ]
  },
  {
   "cell_type": "code",
   "execution_count": 18,
   "metadata": {},
   "outputs": [],
   "source": [
    "path = 'https://stepic.org/media/attachments/lesson/16462/boston_houses.csv'\n",
    "file = urllib.request.urlopen(path).read()"
   ]
  },
  {
   "cell_type": "code",
   "execution_count": 41,
   "metadata": {},
   "outputs": [],
   "source": [
    "with open('boston_houses.csv','r') as f:\n",
    "    X = np.loadtxt(f,delimiter =',',skiprows=1)"
   ]
  },
  {
   "cell_type": "code",
   "execution_count": 42,
   "metadata": {},
   "outputs": [
    {
     "data": {
      "text/plain": [
       "array([24. , 21.6, 34.7, 33.4, 36.2, 28.7, 22.9, 27.1, 16.5, 18.9, 15. ,\n",
       "       18.9, 21.7, 20.4, 18.2, 19.9, 23.1, 17.5, 20.2, 18.2, 13.6, 19.6,\n",
       "       15.2, 14.5, 15.6, 13.9, 16.6, 14.8, 18.4, 21. , 12.7, 14.5, 13.2,\n",
       "       13.1, 13.5, 18.9, 20. , 21. , 24.7, 30.8, 34.9, 26.6, 25.3, 24.7,\n",
       "       21.2, 19.3, 20. , 16.6, 14.4, 19.4, 19.7, 20.5, 25. , 23.4, 18.9,\n",
       "       35.4, 24.7, 31.6, 23.3, 19.6, 18.7, 16. , 22.2, 25. , 33. , 23.5,\n",
       "       19.4, 22. , 17.4, 20.9, 24.2, 21.7, 22.8, 23.4, 24.1, 21.4, 20. ,\n",
       "       20.8, 21.2, 20.3, 28. , 23.9, 24.8, 22.9, 23.9, 26.6, 22.5, 22.2,\n",
       "       23.6, 28.7, 22.6, 22. , 22.9, 25. , 20.6, 28.4, 21.4, 38.7, 43.8,\n",
       "       33.2, 27.5, 26.5, 18.6, 19.3, 20.1, 19.5, 19.5, 20.4, 19.8, 19.4,\n",
       "       21.7, 22.8, 18.8, 18.7, 18.5, 18.3, 21.2, 19.2, 20.4, 19.3, 22. ,\n",
       "       20.3, 20.5, 17.3, 18.8, 21.4, 15.7, 16.2, 18. , 14.3, 19.2, 19.6,\n",
       "       23. , 18.4, 15.6, 18.1, 17.4, 17.1, 13.3, 17.8, 14. , 14.4, 13.4,\n",
       "       15.6, 11.8, 13.8, 15.6, 14.6, 17.8, 15.4, 21.5, 19.6, 15.3, 19.4,\n",
       "       17. , 15.6, 13.1, 41.3, 24.3, 23.3, 27. , 50. , 50. , 50. , 22.7,\n",
       "       25. , 50. , 23.8, 23.8, 22.3, 17.4, 19.1, 23.1, 23.6, 22.6, 29.4,\n",
       "       23.2, 24.6, 29.9, 37.2, 39.8, 36.2, 37.9, 32.5, 26.4, 29.6, 50. ,\n",
       "       32. , 29.8, 34.9, 37. , 30.5, 36.4, 31.1, 29.1, 50. , 33.3, 30.3,\n",
       "       34.6, 34.9, 32.9, 24.1, 42.3, 48.5, 50. , 22.6, 24.4, 22.5, 24.4,\n",
       "       20. , 21.7, 19.3, 22.4, 28.1, 23.7, 25. , 23.3, 28.7, 21.5, 23. ,\n",
       "       26.7, 21.7, 27.5, 30.1, 44.8, 50. , 37.6, 31.6, 46.7, 31.5, 24.3,\n",
       "       31.7, 41.7, 48.3, 29. , 24. , 25.1, 31.5, 23.7, 23.3, 22. , 20.1,\n",
       "       22.2, 23.7, 17.6, 18.5, 24.3, 20.5, 24.5, 26.2, 24.4, 24.8, 29.6,\n",
       "       42.8, 21.9, 20.9, 44. , 50. , 36. , 30.1, 33.8, 43.1, 48.8, 31. ,\n",
       "       36.5, 22.8, 30.7, 50. , 43.5, 20.7, 21.1, 25.2, 24.4, 35.2, 32.4,\n",
       "       32. , 33.2, 33.1, 29.1, 35.1, 45.4, 35.4, 46. , 50. , 32.2, 22. ,\n",
       "       20.1, 23.2, 22.3, 24.8, 28.5, 37.3, 27.9, 23.9, 21.7, 28.6, 27.1,\n",
       "       20.3, 22.5, 29. , 24.8, 22. , 26.4, 33.1, 36.1, 28.4, 33.4, 28.2,\n",
       "       22.8, 20.3, 16.1, 22.1, 19.4, 21.6, 23.8, 16.2, 17.8, 19.8, 23.1,\n",
       "       21. , 23.8, 23.1, 20.4, 18.5, 25. , 24.6, 23. , 22.2, 19.3, 22.6,\n",
       "       19.8, 17.1, 19.4, 22.2, 20.7, 21.1, 19.5, 18.5, 20.6, 19. , 18.7,\n",
       "       32.7, 16.5, 23.9, 31.2, 17.5, 17.2, 23.1, 24.5, 26.6, 22.9, 24.1,\n",
       "       18.6, 30.1, 18.2, 20.6, 17.8, 21.7, 22.7, 22.6, 25. , 19.9, 20.8,\n",
       "       16.8, 21.9, 27.5, 21.9, 23.1, 50. , 50. , 50. , 50. , 50. , 13.8,\n",
       "       13.8, 15. , 13.9, 13.3, 13.1, 10.2, 10.4, 10.9, 11.3, 12.3,  8.8,\n",
       "        7.2, 10.5,  7.4, 10.2, 11.5, 15.1, 23.2,  9.7, 13.8, 12.7, 13.1,\n",
       "       12.5,  8.5,  5. ,  6.3,  5.6,  7.2, 12.1,  8.3,  8.5,  5. , 11.9,\n",
       "       27.9, 17.2, 27.5, 15. , 17.2, 17.9, 16.3,  7. ,  7.2,  7.5, 10.4,\n",
       "        8.8,  8.4, 16.7, 14.2, 20.8, 13.4, 11.7,  8.3, 10.2, 10.9, 11. ,\n",
       "        9.5, 14.5, 14.1, 16.1, 14.3, 11.7, 13.4,  9.6,  8.7,  8.4, 12.8,\n",
       "       10.5, 17.1, 18.4, 15.4, 10.8, 11.8, 14.9, 12.6, 14.1, 13. , 13.4,\n",
       "       15.2, 16.1, 17.8, 14.9, 14.1, 12.7, 13.5, 14.9, 20. , 16.4, 17.7,\n",
       "       19.5, 20.2, 21.4, 19.9, 19. , 19.1, 19.1, 20.1, 19.9, 19.6, 23.2,\n",
       "       29.8, 13.8, 13.3, 16.7, 12. , 14.6, 21.4, 23. , 23.7, 25. , 21.8,\n",
       "       20.6, 21.2, 19.1, 20.6, 15.2,  7. ,  8.1, 13.6, 20.1, 21.8, 24.5,\n",
       "       23.1, 19.7, 18.3, 21.2, 17.5, 16.8, 22.4, 20.6, 23.9, 22. , 11.9])"
      ]
     },
     "execution_count": 42,
     "metadata": {},
     "output_type": "execute_result"
    }
   ],
   "source": [
    "y = X[:,0].copy()\n",
    "y"
   ]
  },
  {
   "cell_type": "code",
   "execution_count": 43,
   "metadata": {},
   "outputs": [],
   "source": [
    "X[:,0] = 1"
   ]
  },
  {
   "cell_type": "code",
   "execution_count": 47,
   "metadata": {},
   "outputs": [
    {
     "data": {
      "text/plain": [
       "array([24. , 21.6, 34.7, 33.4, 36.2, 28.7, 22.9, 27.1, 16.5, 18.9, 15. ,\n",
       "       18.9, 21.7, 20.4, 18.2, 19.9, 23.1, 17.5, 20.2, 18.2, 13.6, 19.6,\n",
       "       15.2, 14.5, 15.6, 13.9, 16.6, 14.8, 18.4, 21. , 12.7, 14.5, 13.2,\n",
       "       13.1, 13.5, 18.9, 20. , 21. , 24.7, 30.8, 34.9, 26.6, 25.3, 24.7,\n",
       "       21.2, 19.3, 20. , 16.6, 14.4, 19.4, 19.7, 20.5, 25. , 23.4, 18.9,\n",
       "       35.4, 24.7, 31.6, 23.3, 19.6, 18.7, 16. , 22.2, 25. , 33. , 23.5,\n",
       "       19.4, 22. , 17.4, 20.9, 24.2, 21.7, 22.8, 23.4, 24.1, 21.4, 20. ,\n",
       "       20.8, 21.2, 20.3, 28. , 23.9, 24.8, 22.9, 23.9, 26.6, 22.5, 22.2,\n",
       "       23.6, 28.7, 22.6, 22. , 22.9, 25. , 20.6, 28.4, 21.4, 38.7, 43.8,\n",
       "       33.2, 27.5, 26.5, 18.6, 19.3, 20.1, 19.5, 19.5, 20.4, 19.8, 19.4,\n",
       "       21.7, 22.8, 18.8, 18.7, 18.5, 18.3, 21.2, 19.2, 20.4, 19.3, 22. ,\n",
       "       20.3, 20.5, 17.3, 18.8, 21.4, 15.7, 16.2, 18. , 14.3, 19.2, 19.6,\n",
       "       23. , 18.4, 15.6, 18.1, 17.4, 17.1, 13.3, 17.8, 14. , 14.4, 13.4,\n",
       "       15.6, 11.8, 13.8, 15.6, 14.6, 17.8, 15.4, 21.5, 19.6, 15.3, 19.4,\n",
       "       17. , 15.6, 13.1, 41.3, 24.3, 23.3, 27. , 50. , 50. , 50. , 22.7,\n",
       "       25. , 50. , 23.8, 23.8, 22.3, 17.4, 19.1, 23.1, 23.6, 22.6, 29.4,\n",
       "       23.2, 24.6, 29.9, 37.2, 39.8, 36.2, 37.9, 32.5, 26.4, 29.6, 50. ,\n",
       "       32. , 29.8, 34.9, 37. , 30.5, 36.4, 31.1, 29.1, 50. , 33.3, 30.3,\n",
       "       34.6, 34.9, 32.9, 24.1, 42.3, 48.5, 50. , 22.6, 24.4, 22.5, 24.4,\n",
       "       20. , 21.7, 19.3, 22.4, 28.1, 23.7, 25. , 23.3, 28.7, 21.5, 23. ,\n",
       "       26.7, 21.7, 27.5, 30.1, 44.8, 50. , 37.6, 31.6, 46.7, 31.5, 24.3,\n",
       "       31.7, 41.7, 48.3, 29. , 24. , 25.1, 31.5, 23.7, 23.3, 22. , 20.1,\n",
       "       22.2, 23.7, 17.6, 18.5, 24.3, 20.5, 24.5, 26.2, 24.4, 24.8, 29.6,\n",
       "       42.8, 21.9, 20.9, 44. , 50. , 36. , 30.1, 33.8, 43.1, 48.8, 31. ,\n",
       "       36.5, 22.8, 30.7, 50. , 43.5, 20.7, 21.1, 25.2, 24.4, 35.2, 32.4,\n",
       "       32. , 33.2, 33.1, 29.1, 35.1, 45.4, 35.4, 46. , 50. , 32.2, 22. ,\n",
       "       20.1, 23.2, 22.3, 24.8, 28.5, 37.3, 27.9, 23.9, 21.7, 28.6, 27.1,\n",
       "       20.3, 22.5, 29. , 24.8, 22. , 26.4, 33.1, 36.1, 28.4, 33.4, 28.2,\n",
       "       22.8, 20.3, 16.1, 22.1, 19.4, 21.6, 23.8, 16.2, 17.8, 19.8, 23.1,\n",
       "       21. , 23.8, 23.1, 20.4, 18.5, 25. , 24.6, 23. , 22.2, 19.3, 22.6,\n",
       "       19.8, 17.1, 19.4, 22.2, 20.7, 21.1, 19.5, 18.5, 20.6, 19. , 18.7,\n",
       "       32.7, 16.5, 23.9, 31.2, 17.5, 17.2, 23.1, 24.5, 26.6, 22.9, 24.1,\n",
       "       18.6, 30.1, 18.2, 20.6, 17.8, 21.7, 22.7, 22.6, 25. , 19.9, 20.8,\n",
       "       16.8, 21.9, 27.5, 21.9, 23.1, 50. , 50. , 50. , 50. , 50. , 13.8,\n",
       "       13.8, 15. , 13.9, 13.3, 13.1, 10.2, 10.4, 10.9, 11.3, 12.3,  8.8,\n",
       "        7.2, 10.5,  7.4, 10.2, 11.5, 15.1, 23.2,  9.7, 13.8, 12.7, 13.1,\n",
       "       12.5,  8.5,  5. ,  6.3,  5.6,  7.2, 12.1,  8.3,  8.5,  5. , 11.9,\n",
       "       27.9, 17.2, 27.5, 15. , 17.2, 17.9, 16.3,  7. ,  7.2,  7.5, 10.4,\n",
       "        8.8,  8.4, 16.7, 14.2, 20.8, 13.4, 11.7,  8.3, 10.2, 10.9, 11. ,\n",
       "        9.5, 14.5, 14.1, 16.1, 14.3, 11.7, 13.4,  9.6,  8.7,  8.4, 12.8,\n",
       "       10.5, 17.1, 18.4, 15.4, 10.8, 11.8, 14.9, 12.6, 14.1, 13. , 13.4,\n",
       "       15.2, 16.1, 17.8, 14.9, 14.1, 12.7, 13.5, 14.9, 20. , 16.4, 17.7,\n",
       "       19.5, 20.2, 21.4, 19.9, 19. , 19.1, 19.1, 20.1, 19.9, 19.6, 23.2,\n",
       "       29.8, 13.8, 13.3, 16.7, 12. , 14.6, 21.4, 23. , 23.7, 25. , 21.8,\n",
       "       20.6, 21.2, 19.1, 20.6, 15.2,  7. ,  8.1, 13.6, 20.1, 21.8, 24.5,\n",
       "       23.1, 19.7, 18.3, 21.2, 17.5, 16.8, 22.4, 20.6, 23.9, 22. , 11.9])"
      ]
     },
     "execution_count": 47,
     "metadata": {},
     "output_type": "execute_result"
    }
   ],
   "source": [
    "y"
   ]
  },
  {
   "cell_type": "code",
   "execution_count": 48,
   "metadata": {},
   "outputs": [
    {
     "data": {
      "text/plain": [
       "array([[1.0000e+00, 6.3200e-03, 1.8000e+01, ..., 5.3800e-01, 6.5750e+00,\n",
       "        4.0900e+00],\n",
       "       [1.0000e+00, 2.7310e-02, 0.0000e+00, ..., 4.6900e-01, 6.4210e+00,\n",
       "        4.9671e+00],\n",
       "       [1.0000e+00, 2.7290e-02, 0.0000e+00, ..., 4.6900e-01, 7.1850e+00,\n",
       "        4.9671e+00],\n",
       "       ...,\n",
       "       [1.0000e+00, 6.0760e-02, 0.0000e+00, ..., 5.7300e-01, 6.9760e+00,\n",
       "        2.1675e+00],\n",
       "       [1.0000e+00, 1.0959e-01, 0.0000e+00, ..., 5.7300e-01, 6.7940e+00,\n",
       "        2.3889e+00],\n",
       "       [1.0000e+00, 4.7410e-02, 0.0000e+00, ..., 5.7300e-01, 6.0300e+00,\n",
       "        2.5050e+00]])"
      ]
     },
     "execution_count": 48,
     "metadata": {},
     "output_type": "execute_result"
    }
   ],
   "source": [
    "X"
   ]
  },
  {
   "cell_type": "code",
   "execution_count": 51,
   "metadata": {},
   "outputs": [
    {
     "data": {
      "text/plain": [
       "array([ -3.65580429,  -0.2163955 ,   0.0737306 ,   4.41245058,\n",
       "       -25.46844878,   7.14320155,  -1.30108768])"
      ]
     },
     "execution_count": 51,
     "metadata": {},
     "output_type": "execute_result"
    }
   ],
   "source": [
    "b = linalg.inv(X.T@X)@X.T@y\n",
    "b"
   ]
  },
  {
   "cell_type": "code",
   "execution_count": 52,
   "metadata": {},
   "outputs": [],
   "source": [
    "y_=X[:,0]*b[0]+X[:,1]*b[1]+X[:,2]*b[2]+X[:,3]*b[3]+X[:,4]*b[4]+X[:,5]*b[5]+X[:,6]*b[6]"
   ]
  },
  {
   "cell_type": "code",
   "execution_count": 55,
   "metadata": {},
   "outputs": [
    {
     "name": "stdout",
     "output_type": "stream",
     "text": [
      "24.0 25.61305501124629\n",
      "21.6 23.797448027714776\n",
      "34.7 29.25485834039525\n",
      "33.4 26.773312182085327\n",
      "36.2 27.829711826119684\n",
      "28.7 22.716519017927205\n",
      "22.9 19.611485161876196\n",
      "27.1 20.234798804749296\n",
      "16.5 16.18467221136377\n",
      "18.9 18.194447168888914\n",
      "15.0 21.166278970107513\n",
      "18.9 18.716956525615117\n",
      "21.7 18.874282569296682\n",
      "20.4 18.87592882037501\n",
      "18.2 20.243752138845917\n",
      "19.9 18.326770715240613\n",
      "23.1 18.955932734285504\n",
      "17.5 19.720348982440697\n",
      "20.2 16.50219572806035\n",
      "18.2 18.454646326399903\n",
      "13.6 17.217520289892832\n",
      "19.6 19.846635806421876\n",
      "15.2 21.074717643726522\n",
      "14.5 18.623494819663165\n",
      "15.6 19.07187801951897\n",
      "13.9 16.659241507301736\n",
      "16.6 17.92851007482865\n",
      "14.8 19.836021853511408\n",
      "18.4 23.074037504187988\n",
      "21.0 24.583661081866893\n",
      "12.7 17.699074390981167\n",
      "14.5 20.290493716067378\n",
      "13.2 19.652524868877517\n",
      "13.1 18.18885602911356\n",
      "13.5 20.94629047788366\n",
      "18.9 21.63012354965646\n",
      "20.0 20.942850385497334\n",
      "21.0 20.287087766568938\n",
      "24.7 21.208225568513384\n",
      "30.8 31.04962506219337\n",
      "34.9 34.11276881026956\n",
      "26.6 25.822835220327413\n",
      "25.3 21.526728567565375\n",
      "24.7 21.822878209024424\n",
      "21.2 20.816478811890278\n",
      "19.3 18.848839762902042\n",
      "20.0 19.588066984369554\n",
      "16.6 20.555814780614597\n",
      "14.4 15.808154838151786\n",
      "19.4 16.982357052159976\n",
      "19.7 20.421077137701165\n",
      "20.5 21.516659473402118\n",
      "25.0 24.343153561508558\n",
      "23.4 20.679511304929505\n",
      "18.9 23.96458285449026\n",
      "35.4 33.17935668961867\n",
      "24.7 25.805967982042752\n",
      "31.6 31.103391369619423\n",
      "23.3 20.344064630829223\n",
      "19.6 19.946519852451154\n",
      "18.7 18.226182390461005\n",
      "16.0 20.357970220116307\n",
      "22.2 23.34189163484461\n",
      "25.0 24.541357578673626\n",
      "33.0 25.77834004200458\n",
      "23.5 28.42704191151526\n",
      "19.4 24.832291187245865\n",
      "22.0 20.36997648972352\n",
      "17.4 18.324504138552513\n",
      "20.9 20.40477278862727\n",
      "24.2 24.765310773168668\n",
      "21.7 21.49275498311118\n",
      "22.8 22.250172410507844\n",
      "23.4 23.513497656271444\n",
      "24.1 24.475126073723597\n",
      "21.4 24.237787626707373\n",
      "20.0 24.772408010695038\n",
      "20.8 23.732800416051564\n",
      "21.2 23.194914245971223\n",
      "20.3 21.297223037201412\n",
      "28.0 28.354533751475152\n",
      "23.9 27.58231276369124\n",
      "24.8 25.31965552798858\n",
      "22.9 24.355557025780342\n",
      "23.9 24.317411023572387\n",
      "26.6 26.482041423158947\n",
      "22.5 22.103817573463033\n",
      "22.2 23.74096827986089\n",
      "23.6 29.478357833544614\n",
      "28.7 30.00281087237593\n",
      "22.6 25.694559219724784\n",
      "22.0 25.610728312829167\n",
      "22.9 27.829044197476325\n",
      "25.0 26.181838371525313\n",
      "20.6 26.51643474106739\n",
      "28.4 27.76047572167746\n",
      "21.4 24.4618313737491\n",
      "38.7 38.075520599513474\n",
      "43.8 36.30529418214986\n",
      "33.2 33.42231232396466\n",
      "27.5 27.506588472718583\n",
      "26.5 27.797877212850338\n",
      "18.6 25.27124292609804\n",
      "19.3 23.36057609336357\n",
      "20.1 23.97258423093706\n",
      "19.5 22.12551462105719\n",
      "19.5 21.874574832071335\n",
      "20.4 24.077185163538136\n",
      "19.8 26.15257002356969\n",
      "19.4 24.227158212128277\n",
      "21.7 23.715219036532865\n",
      "22.8 26.874069063930463\n",
      "18.8 21.562045857529487\n",
      "18.7 22.566100905543514\n",
      "18.5 24.11983713984321\n",
      "18.3 21.51606675866376\n",
      "21.2 22.94879421849086\n",
      "19.2 21.814891088555843\n",
      "20.4 21.10613208994037\n",
      "19.3 19.7293557842678\n",
      "22.0 20.525225298717718\n",
      "20.3 21.560294281443685\n",
      "20.5 21.39228892312124\n",
      "17.3 20.81523881647685\n",
      "18.8 20.910223887515482\n",
      "21.4 21.676718653543773\n",
      "15.7 19.271725210704886\n",
      "16.2 18.735316113677253\n",
      "18.0 23.961169842432145\n",
      "14.3 17.95138878577407\n",
      "19.2 23.752737588742075\n",
      "19.6 22.426859717141472\n",
      "23.0 22.81252832787974\n",
      "18.4 18.754675082485637\n",
      "15.6 18.311704511991522\n",
      "18.1 22.837158653110095\n",
      "17.4 20.267860090139656\n",
      "17.1 24.07111186870928\n",
      "13.3 20.064564660961437\n",
      "17.8 22.10075972565495\n",
      "14.0 22.39383736872344\n",
      "14.4 14.078396282666231\n",
      "13.4 14.730167621656095\n",
      "15.6 10.496668388753674\n",
      "11.8 6.831636888190594\n",
      "13.8 15.587750332101415\n",
      "15.6 11.923542452282211\n",
      "14.6 6.935400068629908\n",
      "17.8 8.711260602355937\n",
      "15.4 11.564987622110923\n",
      "21.5 15.42821606599334\n",
      "19.6 10.368429938366909\n",
      "15.3 12.036555349628662\n",
      "19.4 12.364716073054216\n",
      "17.0 19.772236141118345\n",
      "15.6 19.482594534923052\n",
      "13.1 9.031476208313263\n",
      "41.3 27.823723461347797\n",
      "24.3 21.689458895048322\n",
      "23.3 18.057460270597396\n",
      "27.0 27.377797373701455\n",
      "50.0 31.55024238786945\n",
      "50.0 38.02754407223345\n",
      "50.0 42.03088710988314\n",
      "22.7 19.11561510466571\n",
      "25.0 20.912812809587383\n",
      "50.0 34.47733794181379\n",
      "23.8 19.3704986220774\n",
      "23.8 22.843594463008348\n",
      "22.3 23.192782382834057\n",
      "17.4 19.484504456510468\n",
      "19.1 19.329183630411343\n",
      "23.1 19.749342885658553\n",
      "23.6 25.72313888406294\n",
      "22.6 21.6736169965421\n",
      "29.4 26.024866657252186\n",
      "23.2 21.71692829308653\n",
      "24.6 24.136506801403485\n",
      "29.9 28.550215577246963\n",
      "37.2 30.081854832398232\n",
      "39.8 35.80201528970831\n",
      "36.2 24.408422036112462\n",
      "37.9 31.4917839390453\n",
      "32.5 27.07057100569904\n",
      "26.4 20.040596188292557\n",
      "29.6 23.58744915762306\n",
      "50.0 35.67944187781221\n",
      "32.0 32.03121150998947\n",
      "29.8 29.394292393110657\n",
      "34.9 33.896474255225\n",
      "37.0 29.734343815633586\n",
      "30.5 28.224652737861405\n",
      "36.4 31.35672480548265\n",
      "31.1 31.031976698572855\n",
      "29.1 29.633527832984235\n",
      "50.0 40.395618333891214\n",
      "33.3 34.48757050094983\n",
      "30.3 33.20037683127492\n",
      "34.6 34.39523472186088\n",
      "34.9 32.94408760762629\n",
      "32.9 34.08996880203826\n",
      "24.1 27.708697210794135\n",
      "42.3 38.05479695124532\n",
      "48.5 42.18018056421273\n",
      "50.0 43.47634814138845\n",
      "22.6 20.807892597127527\n",
      "24.4 23.362206659199106\n",
      "22.5 19.478622597440854\n",
      "24.4 26.073976500152483\n",
      "20.0 21.33984348838429\n",
      "21.7 25.79385668451508\n",
      "19.3 22.054632576192336\n",
      "22.4 24.983794451066803\n",
      "28.1 24.26431492612918\n",
      "23.7 17.81882169087265\n",
      "25.0 22.87323428544886\n",
      "23.3 24.749187594868097\n",
      "28.7 25.315366713151686\n",
      "21.5 25.475006443896103\n",
      "23.0 27.871951571117165\n",
      "26.7 33.69572506497592\n",
      "21.7 27.820895265364765\n",
      "27.5 32.590001656401114\n",
      "30.1 26.315092738894485\n",
      "44.8 38.71969737826949\n",
      "50.0 41.952637601760884\n",
      "37.6 36.672836973458864\n",
      "31.6 30.401705413462427\n",
      "46.7 33.95491665110121\n",
      "31.5 25.82345386236933\n",
      "24.3 21.33843820950227\n",
      "31.7 31.576381551616116\n",
      "41.7 37.865978399523726\n",
      "48.3 37.518504663225706\n",
      "29.0 31.040948589156955\n",
      "24.0 22.082266835474634\n",
      "25.1 29.701149383797226\n",
      "31.5 30.48369979492301\n",
      "23.7 25.87926456989728\n",
      "23.3 26.76998349707673\n",
      "22.0 28.653941595287527\n",
      "20.1 22.92664550734071\n",
      "22.2 23.89602358695703\n",
      "23.7 24.140697164189717\n",
      "17.6 16.546676570114847\n",
      "18.5 16.635586822383758\n",
      "24.3 20.065593049936012\n",
      "20.5 20.939491652593517\n",
      "24.5 22.723047059045918\n",
      "26.2 24.75315964347631\n",
      "24.4 23.67320039429182\n",
      "24.8 23.307215694185416\n",
      "29.6 25.078433144625475\n",
      "42.8 34.3168344813033\n",
      "21.9 23.88283990407917\n",
      "20.9 22.228367531141068\n",
      "44.0 37.943655291878535\n",
      "50.0 41.03955419986477\n",
      "36.0 31.113196992905063\n",
      "30.1 27.45631322525967\n",
      "33.8 29.928297426411703\n",
      "43.1 32.15794839838671\n",
      "48.8 38.23923283139897\n",
      "31.0 30.79567546086944\n",
      "36.5 30.184369689192454\n",
      "22.8 18.307500123117897\n",
      "30.7 28.498025138198663\n",
      "50.0 39.165728799095646\n",
      "43.5 32.680479632424735\n",
      "20.7 27.585023970473816\n",
      "21.1 22.004781520996872\n",
      "25.2 24.77742792008327\n",
      "24.4 27.58188927964075\n",
      "35.2 39.62304796780584\n",
      "32.4 35.27770121578323\n",
      "32.0 31.295612393398343\n",
      "33.2 37.97989790606428\n",
      "33.1 34.740779686467626\n",
      "29.1 28.807098142450535\n",
      "35.1 29.817425150127598\n",
      "45.4 36.282708887470385\n",
      "35.4 29.480828121239334\n",
      "46.0 38.766656396857016\n",
      "50.0 46.11498897232609\n",
      "32.2 33.91418409864301\n",
      "22.0 27.07742196294764\n",
      "20.1 25.109338156936346\n",
      "23.2 24.72377336538173\n",
      "22.3 25.479396846098844\n",
      "24.8 27.265831272607443\n",
      "28.5 34.11976346765988\n",
      "37.3 36.16037553390031\n",
      "27.9 32.46943938251973\n",
      "23.9 21.803499245636505\n",
      "21.7 20.960744283679972\n",
      "28.6 25.13379629194243\n",
      "27.1 24.228682791875222\n",
      "20.3 18.320228194664114\n",
      "22.5 26.442925656780645\n",
      "29.0 31.416552315396757\n",
      "24.8 30.204683616316927\n",
      "22.0 27.7440588405411\n",
      "26.4 27.053057394889443\n",
      "33.1 30.53020820711567\n",
      "36.1 33.19949519837191\n",
      "28.4 29.619097305116952\n",
      "33.4 35.710186050056635\n",
      "28.2 31.528340671862523\n",
      "22.8 25.461464840228675\n",
      "20.3 21.036326129008337\n",
      "16.1 14.164234574593515\n",
      "22.1 22.61373650572986\n",
      "19.4 21.76895149905795\n",
      "21.6 22.945178998300303\n",
      "23.8 24.631962799466745\n",
      "16.2 18.053664291486818\n",
      "17.8 19.462852163112576\n",
      "19.8 18.492691247731905\n",
      "23.1 23.394184332090756\n",
      "21.0 20.8460383094025\n",
      "23.8 23.746737251675604\n",
      "23.1 23.38654980106013\n",
      "20.4 20.721780880782156\n",
      "18.5 18.357640870052776\n",
      "25.0 23.395513035560207\n",
      "24.6 22.638101242760218\n",
      "23.0 21.76390835620196\n",
      "22.2 20.1416269362489\n",
      "19.3 19.74604527976859\n",
      "22.6 23.06740245767824\n",
      "19.8 20.864638006968125\n",
      "17.1 19.88023849003065\n",
      "19.4 22.205148271995192\n",
      "22.2 19.93046154492432\n",
      "20.7 19.8905128551267\n",
      "21.1 18.5554808500983\n",
      "19.5 18.33785886803833\n",
      "18.5 18.024929835547464\n",
      "20.6 20.240354629405203\n",
      "19.0 19.707016489193045\n",
      "18.7 19.584166836244854\n",
      "32.7 30.231894445447963\n",
      "16.5 21.708885459945293\n",
      "23.9 28.440059372203113\n",
      "31.2 28.756366692974066\n",
      "17.5 17.613222872955014\n",
      "17.2 16.778013594201163\n",
      "23.1 27.12121308520398\n",
      "24.5 27.69948695829882\n",
      "26.6 26.488564397933544\n",
      "22.9 23.27409988260984\n",
      "24.1 23.343379361197282\n",
      "18.6 18.3803820356751\n",
      "30.1 24.816007660523507\n",
      "18.2 18.3938936031713\n",
      "20.6 20.330229200484503\n",
      "17.8 20.814468349859453\n",
      "21.7 22.7341720295979\n",
      "22.7 20.24422557722093\n",
      "22.6 16.20605061915087\n",
      "25.0 18.176443622878\n",
      "19.9 17.568721361541094\n",
      "20.8 11.50241856285395\n",
      "16.8 19.206051422206126\n",
      "21.9 41.957609414829314\n",
      "27.5 0.410005791197094\n",
      "21.9 10.429659494277807\n",
      "23.1 2.9762258147084495\n",
      "50.0 12.98166413129558\n",
      "50.0 29.431927249929814\n",
      "50.0 31.823371110441414\n",
      "50.0 21.156815571145728\n",
      "50.0 22.45132725707072\n",
      "13.8 10.444338704155996\n",
      "13.8 3.40757597273301\n",
      "15.0 25.53715676581698\n",
      "13.9 21.6919264338277\n",
      "13.3 23.893141796759892\n",
      "13.1 17.90769072545132\n",
      "10.2 18.03729867893122\n",
      "10.4 7.931654793119322\n",
      "10.9 20.59535956774658\n",
      "11.3 14.016776577065546\n",
      "12.3 14.222519882806417\n",
      "8.8 3.4985882022157244\n",
      "7.2 10.717477105529314\n",
      "10.5 4.55879073379855\n",
      "7.4 7.3668069834693695\n",
      "10.2 8.205278057775999\n",
      "11.5 13.005728436360503\n",
      "15.1 15.312268667669422\n",
      "23.2 17.773904068209408\n",
      "9.7 9.681113899305686\n",
      "13.8 18.731212480061064\n",
      "12.7 15.536919253908653\n",
      "13.1 20.786665441839084\n",
      "12.5 20.9944176125163\n",
      "8.5 15.96115278493561\n",
      "5.0 7.409181531387648\n",
      "6.3 16.398527411958735\n",
      "5.6 13.973876897736506\n",
      "7.2 18.8751963797238\n",
      "12.1 20.230672248828846\n",
      "8.3 9.321077373887181\n",
      "8.5 7.125508054691166\n",
      "5.0 2.737049107411643\n",
      "11.9 3.1033520839837916\n",
      "27.9 15.361240091120807\n",
      "17.2 17.768034160658015\n",
      "27.5 25.053621643091077\n",
      "15.0 9.358949099908944\n",
      "17.2 23.663904801399525\n",
      "17.9 8.105892630316898\n",
      "16.3 9.693800793280234\n",
      "7.0 -1.0820253626293832\n",
      "7.2 18.709946103706436\n",
      "7.5 22.784510726443663\n",
      "10.4 9.181688898006737\n",
      "8.8 3.3453814698357744\n",
      "8.4 21.912776983908028\n",
      "16.7 19.03505925283763\n",
      "14.2 17.00124215023122\n",
      "20.8 15.905511951840838\n",
      "13.4 20.14530898121893\n",
      "11.7 16.635168607805895\n",
      "8.3 15.250780718268494\n",
      "10.2 17.916197335240508\n",
      "10.9 12.779593002892355\n",
      "11.0 19.176371415987838\n",
      "9.5 20.043050324024712\n",
      "14.5 22.307263655714834\n",
      "14.1 25.385750069315485\n",
      "16.1 23.108314825625744\n",
      "14.3 19.9380596221692\n",
      "11.7 16.628112738971538\n",
      "13.4 19.67034534125822\n",
      "9.6 17.923614390249412\n",
      "8.7 15.667699703780855\n",
      "8.4 14.563805271498332\n",
      "12.8 13.295912116514943\n",
      "10.5 11.856841550623463\n",
      "17.1 18.465747769442185\n",
      "18.4 18.08651649988328\n",
      "15.4 19.090419379649155\n",
      "10.8 14.077143551039072\n",
      "11.8 18.73972071439122\n",
      "14.9 18.73602091331347\n",
      "12.6 17.142212891256506\n",
      "14.1 17.404580314270817\n",
      "13.0 19.551644792563682\n",
      "13.4 21.91776727589936\n",
      "15.2 21.48143812992986\n",
      "16.1 18.98320616441962\n",
      "17.8 26.018853470435072\n",
      "14.9 20.93830006991037\n",
      "14.1 20.59700099168108\n",
      "12.7 16.505063524865523\n",
      "13.5 15.196684634562406\n",
      "14.9 17.895899882129303\n",
      "20.0 16.615551999102\n",
      "16.4 21.630886791915074\n",
      "17.7 19.59105024838405\n",
      "19.5 18.311007025547415\n",
      "20.2 19.80406551556606\n",
      "21.4 18.462463376356837\n",
      "19.9 16.125685317292632\n",
      "19.0 17.625735431489833\n",
      "19.1 20.08914600440263\n",
      "19.1 16.748512981955063\n",
      "20.1 15.878331771167135\n",
      "19.9 20.736841425481884\n",
      "19.6 22.383628621333123\n",
      "23.2 23.0124370426068\n",
      "29.8 26.265023910986642\n",
      "13.8 15.33215687773951\n",
      "13.3 21.233387749720205\n",
      "16.7 22.96953837905729\n",
      "12.0 12.609918111926845\n",
      "14.6 19.84888377278381\n",
      "21.4 19.561140132159984\n",
      "23.0 21.66737104599438\n",
      "23.7 25.44153313499561\n",
      "25.0 27.55544023086687\n",
      "21.8 18.011975911918576\n",
      "20.6 18.073864016601952\n",
      "21.2 20.59546091405634\n",
      "19.1 19.3244284582833\n",
      "20.6 18.528859305768037\n",
      "15.2 17.39113568547047\n",
      "7.0 17.183593848544593\n",
      "8.1 14.797980091164842\n",
      "13.6 21.118241732497303\n",
      "20.1 20.802431245138575\n",
      "21.8 19.07510039997401\n",
      "24.5 20.616467353505783\n",
      "23.1 18.267149363331086\n",
      "19.7 16.24311742260497\n",
      "18.3 19.01113041120013\n",
      "21.2 21.253888493428462\n",
      "17.5 18.064680682567055\n",
      "16.8 21.19829686346084\n",
      "22.4 25.607473617582734\n",
      "20.6 22.481133765199413\n",
      "23.9 28.74849284762471\n",
      "22.0 27.149802761176666\n",
      "11.9 21.554795969368506\n"
     ]
    }
   ],
   "source": [
    "for i,x in enumerate(y):\n",
    "    print(x,y_[i])\n"
   ]
  },
  {
   "cell_type": "code",
   "execution_count": 56,
   "metadata": {},
   "outputs": [],
   "source": [
    "example = [\n",
    "  [ 1, 1, 0.3, 1 ],\n",
    "  [ 1, 0.4, 0.5, 1 ],\n",
    "  [ 1, 0.7, 0.8, 0 ]\n",
    "]\n",
    "X = np.array(example)"
   ]
  },
  {
   "cell_type": "code",
   "execution_count": 57,
   "metadata": {},
   "outputs": [
    {
     "data": {
      "text/plain": [
       "array([[1. , 1. , 0.3, 1. ],\n",
       "       [1. , 0.4, 0.5, 1. ],\n",
       "       [1. , 0.7, 0.8, 0. ]])"
      ]
     },
     "execution_count": 57,
     "metadata": {},
     "output_type": "execute_result"
    }
   ],
   "source": [
    "X"
   ]
  },
  {
   "cell_type": "code",
   "execution_count": 58,
   "metadata": {},
   "outputs": [],
   "source": [
    "y = X[:,-1].copy()"
   ]
  },
  {
   "cell_type": "code",
   "execution_count": 61,
   "metadata": {},
   "outputs": [],
   "source": [
    "X=np.delete(X,-1,axis =1)"
   ]
  },
  {
   "cell_type": "code",
   "execution_count": 63,
   "metadata": {},
   "outputs": [],
   "source": [
    "w=np.zeros(3)"
   ]
  },
  {
   "cell_type": "code",
   "execution_count": 64,
   "metadata": {},
   "outputs": [
    {
     "data": {
      "text/plain": [
       "array([0., 0., 0.])"
      ]
     },
     "execution_count": 64,
     "metadata": {},
     "output_type": "execute_result"
    }
   ],
   "source": [
    "perfect = False\n",
    "while not perfect:\n",
    "    "
   ]
  },
  {
   "cell_type": "code",
   "execution_count": 3,
   "metadata": {},
   "outputs": [
    {
     "data": {
      "text/plain": [
       "0.5854693885254392"
      ]
     },
     "execution_count": 3,
     "metadata": {},
     "output_type": "execute_result"
    }
   ],
   "source": [
    "x = 9.901862178629138\n",
    "y = 9.901859836751584\n",
    "(x-y)/0.000004"
   ]
  },
  {
   "cell_type": "code",
   "execution_count": 2,
   "metadata": {},
   "outputs": [
    {
     "data": {
      "text/plain": [
       "array([ 100,  200,  300,  400,  500,  600,  700,  800,  900, 1000, 1100,\n",
       "       1200, 1300, 1400, 1500, 1600, 1700, 1800, 1900, 2000, 2100, 2200,\n",
       "       2300, 2400, 2500, 2600, 2700, 2800, 2900, 3000, 3100, 3200, 3300,\n",
       "       3400, 3500, 3600, 3700, 3800, 3900, 4000, 4100, 4200, 4300, 4400,\n",
       "       4500, 4600, 4700, 4800, 4900, 5000, 5100, 5200, 5300, 5400, 5500,\n",
       "       5600, 5700, 5800, 5900, 6000, 6100, 6200, 6300, 6400, 6500, 6600,\n",
       "       6700, 6800, 6900, 7000, 7100, 7200, 7300, 7400, 7500, 7600, 7700,\n",
       "       7800, 7900, 8000, 8100, 8200, 8300, 8400, 8500, 8600, 8700, 8800,\n",
       "       8900])"
      ]
     },
     "execution_count": 2,
     "metadata": {},
     "output_type": "execute_result"
    }
   ],
   "source": [
    "np.arange(100,9000,100)"
   ]
  },
  {
   "cell_type": "code",
   "execution_count": 15,
   "metadata": {},
   "outputs": [
    {
     "data": {
      "text/plain": [
       "-1"
      ]
     },
     "execution_count": 15,
     "metadata": {},
     "output_type": "execute_result"
    }
   ],
   "source": [
    "False - True"
   ]
  },
  {
   "cell_type": "code",
   "execution_count": 3,
   "metadata": {},
   "outputs": [],
   "source": [
    "w = np.array([1,2,3,8,6]).reshape(5,1)\n",
    "x = np.array([4,5,6,3,4])"
   ]
  },
  {
   "cell_type": "code",
   "execution_count": 4,
   "metadata": {},
   "outputs": [
    {
     "name": "stdout",
     "output_type": "stream",
     "text": [
      "[4 5 6 3 4] [[1] \n",
      "             [2] \n",
      "             [3] \n",
      "             [8] \n",
      "             [6]]\n"
     ]
    },
    {
     "data": {
      "text/plain": [
       "array([80])"
      ]
     },
     "execution_count": 4,
     "metadata": {},
     "output_type": "execute_result"
    }
   ],
   "source": [
    "pp(x,w)\n",
    "x.dot(w)"
   ]
  },
  {
   "cell_type": "code",
   "execution_count": null,
   "metadata": {},
   "outputs": [],
   "source": []
  },
  {
   "cell_type": "code",
   "execution_count": 5,
   "metadata": {},
   "outputs": [
    {
     "data": {
      "text/plain": [
       "array([1, 2, 3, 8, 6])"
      ]
     },
     "execution_count": 5,
     "metadata": {},
     "output_type": "execute_result"
    }
   ],
   "source": [
    "w[:,-1]"
   ]
  },
  {
   "cell_type": "code",
   "execution_count": 8,
   "metadata": {},
   "outputs": [
    {
     "data": {
      "text/plain": [
       "array([80])"
      ]
     },
     "execution_count": 8,
     "metadata": {},
     "output_type": "execute_result"
    }
   ],
   "source": [
    "np.dot(x,w)"
   ]
  },
  {
   "cell_type": "code",
   "execution_count": 15,
   "metadata": {},
   "outputs": [
    {
     "data": {
      "text/plain": [
       "array([4, 5, 6, 3, 4])"
      ]
     },
     "execution_count": 15,
     "metadata": {},
     "output_type": "execute_result"
    }
   ],
   "source": [
    "x"
   ]
  },
  {
   "cell_type": "code",
   "execution_count": 14,
   "metadata": {},
   "outputs": [
    {
     "data": {
      "text/plain": [
       "array([100,   5,   6,   3, 100])"
      ]
     },
     "execution_count": 14,
     "metadata": {},
     "output_type": "execute_result"
    }
   ],
   "source": [
    "np.where(x==4,100,x)"
   ]
  },
  {
   "cell_type": "code",
   "execution_count": null,
   "metadata": {},
   "outputs": [],
   "source": []
  }
 ],
 "metadata": {
  "kernelspec": {
   "display_name": "Python 3",
   "language": "python",
   "name": "python3"
  },
  "language_info": {
   "codemirror_mode": {
    "name": "ipython",
    "version": 3
   },
   "file_extension": ".py",
   "mimetype": "text/x-python",
   "name": "python",
   "nbconvert_exporter": "python",
   "pygments_lexer": "ipython3",
   "version": "3.7.3"
  }
 },
 "nbformat": 4,
 "nbformat_minor": 2
}
