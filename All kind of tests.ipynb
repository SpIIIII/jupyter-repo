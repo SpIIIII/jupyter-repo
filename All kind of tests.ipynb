{
 "cells": [
  {
   "cell_type": "code",
   "execution_count": 42,
   "metadata": {},
   "outputs": [
    {
     "name": "stderr",
     "output_type": "stream",
     "text": [
      "20:36:26: Main    : before creating thread\n",
      "20:36:26: Main    : before running thread\n",
      "20:36:26: Thread 1: starting\n",
      "20:36:26: Main    : wait for the thread to finish\n",
      "20:36:26: Main    : all done\n"
     ]
    }
   ],
   "source": [
    "import logging\n",
    "import threading\n",
    "import time\n",
    "\n",
    "def thread_function(name):\n",
    "    logging.info(\"Thread %s: starting\", name)\n",
    "    time.sleep(2)\n",
    "    logging.info(\"Thread %s: finishing\", name)\n",
    "\n",
    "if __name__ == \"__main__\":\n",
    "    format = \"%(asctime)s: %(message)s\"\n",
    "    logging.basicConfig(format=format, level=logging.INFO,\n",
    "                        datefmt=\"%H:%M:%S\")\n",
    "\n",
    "    logging.info(\"Main    : before creating thread\")\n",
    "    x = threading.Thread(target=thread_function, args=(1,))\n",
    "    logging.info(\"Main    : before running thread\")\n",
    "    x.start()\n",
    "    logging.info(\"Main    : wait for the thread to finish\")\n",
    "    # x.join()\n",
    "    logging.info(\"Main    : all done\")\n"
   ]
  },
  {
   "cell_type": "code",
   "execution_count": 43,
   "metadata": {},
   "outputs": [
    {
     "data": {
      "text/plain": [
       "'CPython'"
      ]
     },
     "execution_count": 43,
     "metadata": {},
     "output_type": "execute_result"
    }
   ],
   "source": [
    "import platform\n",
    "platform.python_implementation()\n"
   ]
  },
  {
   "cell_type": "code",
   "execution_count": 44,
   "metadata": {},
   "outputs": [
    {
     "ename": "NameError",
     "evalue": "name 'make_bricks' is not defined",
     "output_type": "error",
     "traceback": [
      "\u001b[1;31m---------------------------------------------------------------------------\u001b[0m",
      "\u001b[1;31mNameError\u001b[0m                                 Traceback (most recent call last)",
      "\u001b[1;32m<ipython-input-44-785443fdd71e>\u001b[0m in \u001b[0;36m<module>\u001b[1;34m()\u001b[0m\n\u001b[1;32m----> 1\u001b[1;33m \u001b[0md\u001b[0m \u001b[1;33m=\u001b[0m \u001b[0mmake_bricks\u001b[0m\u001b[1;33m(\u001b[0m\u001b[1;36m7\u001b[0m\u001b[1;33m,\u001b[0m \u001b[1;36m1\u001b[0m\u001b[1;33m,\u001b[0m \u001b[1;36m13\u001b[0m\u001b[1;33m)\u001b[0m\u001b[1;33m\u001b[0m\u001b[0m\n\u001b[0m\u001b[0;32m      2\u001b[0m \u001b[0mprint\u001b[0m \u001b[1;33m(\u001b[0m\u001b[0md\u001b[0m\u001b[1;33m)\u001b[0m\u001b[1;33m\u001b[0m\u001b[0m\n",
      "\u001b[1;31mNameError\u001b[0m: name 'make_bricks' is not defined"
     ]
    }
   ],
   "source": [
    "d = make_bricks(7, 1, 13)\n",
    "print (d)"
   ]
  },
  {
   "cell_type": "code",
   "execution_count": 45,
   "metadata": {},
   "outputs": [
    {
     "ename": "SyntaxError",
     "evalue": "invalid syntax (<ipython-input-45-1da95d27bc73>, line 2)",
     "output_type": "error",
     "traceback": [
      "\u001b[1;36m  File \u001b[1;32m\"<ipython-input-45-1da95d27bc73>\"\u001b[1;36m, line \u001b[1;32m2\u001b[0m\n\u001b[1;33m    s=\u001b[0m\n\u001b[1;37m      ^\u001b[0m\n\u001b[1;31mSyntaxError\u001b[0m\u001b[1;31m:\u001b[0m invalid syntax\n"
     ]
    }
   ],
   "source": [
    "def make_bricks(small, big, goal):\n",
    "    s="
   ]
  },
  {
   "cell_type": "code",
   "execution_count": 46,
   "metadata": {},
   "outputs": [
    {
     "name": "stdout",
     "output_type": "stream",
     "text": [
      "Example:\n",
      "\n",
      "0000000\n",
      "##00##0\n",
      "######0\n",
      "##00##0\n",
      "#0000#0\n",
      "    \n",
      "24\n"
     ]
    }
   ],
   "source": [
    "from operator import itemgetter\n",
    "def house(plan):\n",
    "    print(plan) \n",
    "    x=0\n",
    "    y=[]\n",
    "    for i in plan.split('\\n'):\n",
    "        x+=1\n",
    "        if i.find('#')!=-1:\n",
    "            \n",
    "            y.append([x,i.find('#'),len(i)-(i[::-1].find('#'))-1])\n",
    "    if y ==[]:\n",
    "        return 0\n",
    "    return (max(y,key=lambda x:x[2])[2]+1-min(y,key=lambda x:x[1])[1])*(max(y,key=lambda x:x[0])[0]+1-min(y,key=lambda x:x[0])[0])\n",
    "\n",
    "if __name__ == '__main__':\n",
    "    print(\"Example:\")\n",
    "    print(house('''\n",
    "0000000\n",
    "##00##0\n",
    "######0\n",
    "##00##0\n",
    "#0000#0\n",
    "    '''))"
   ]
  },
  {
   "cell_type": "code",
   "execution_count": 47,
   "metadata": {},
   "outputs": [
    {
     "ename": "SyntaxError",
     "evalue": "invalid syntax (<ipython-input-47-674e86e4948f>, line 11)",
     "output_type": "error",
     "traceback": [
      "\u001b[1;36m  File \u001b[1;32m\"<ipython-input-47-674e86e4948f>\"\u001b[1;36m, line \u001b[1;32m11\u001b[0m\n\u001b[1;33m    return FIRST_TEN[number//100-1]+HUNDRED+\u001b[0m\n\u001b[1;37m                                            ^\u001b[0m\n\u001b[1;31mSyntaxError\u001b[0m\u001b[1;31m:\u001b[0m invalid syntax\n"
     ]
    }
   ],
   "source": [
    "FIRST_TEN = [\"one \", \"two \", \"three \", \"four \", \"five \", \"six \", \"seven \",\n",
    "             \"eigh t\", \"nine \"]\n",
    "SECOND_TEN = [\"ten \", \"eleven \", \"twelve \", \"thirteen \", \"fourteen \", \"fifteen \",\n",
    "              \"sixteen \", \"seventeen \", \"eighteen \", \"nineteen \"]\n",
    "OTHER_TENS = [\"twenty \", \"thirty \", \"forty \", \"fifty \", \"sixty \", \"seventy \",\n",
    "              \"eighty \", \"ninety \"]\n",
    "HUNDRED = \"hundred \"\n",
    "\n",
    "def checkio(number):\n",
    "    if number > 100:\n",
    "        return FIRST_TEN[number//100-1]+HUNDRED+\n",
    "        \n",
    "checkio(218)"
   ]
  },
  {
   "cell_type": "code",
   "execution_count": 48,
   "metadata": {},
   "outputs": [
    {
     "name": "stdout",
     "output_type": "stream",
     "text": [
      "{1: ['q', 's'], 2: ['w'], 3: ['q']}\n"
     ]
    }
   ],
   "source": [
    "lis = [[1,'q','z'],[2,'w','x'],[1,'s','x'],[3,'q','z']]\n",
    "a={}\n",
    "for i in lis:\n",
    "    a.setdefault(i[0], []).append(i[1])\n",
    "print(a)\n",
    "        \n"
   ]
  },
  {
   "cell_type": "code",
   "execution_count": 49,
   "metadata": {},
   "outputs": [
    {
     "name": "stdout",
     "output_type": "stream",
     "text": [
      "['Hi my friend', 'ONLY ADMIN Can See this', 'General chat', 'MLP Core .Net', 'VK Management', 'WEB Site Python', 'Discord Bot', 'Web Server', 'test them all', 'Only Curators Can See This']\n"
     ]
    },
    {
     "name": "stderr",
     "output_type": "stream",
     "text": [
      "20:36:28: Thread 1: finishing\n"
     ]
    }
   ],
   "source": [
    "categories={'1':['11','12','13'],'11':['21','22','23'],'12':['31','32','33']}\n",
    "test = {}\n",
    "test1 = ['4','5','6']\n",
    "_list=['11','12','13']\n",
    "MLP={'Only Curators Can See This': ['curator voice chat', 'curator-chat'], 'None': ['Hi my friend', 'ONLY ADMIN Can See this', 'General chat', 'MLP Core .Net', 'VK Management', 'WEB Site Python', 'Discord Bot', 'Web Server', 'test them all', 'Only Curators Can See This'], 'Hi my friend': ['here-you-are', 'read-me-first', 'tell-about-your-goal'], 'ONLY ADMIN Can See this': ['log-discord-changes', 'log-user', 'passwords', 'amdin-chat'], 'General chat': ['start-info', 'discussion', 'suggestions', 'discussion-of-suggestions', 'book-of-complaints', 'daily-motivation', 'off-topic'], 'MLP Core .Net': ['info', 'classroom', 'tasks-core', 'step-by-step', 'questions', 'discussion', 'git-activity', 'git-activity-net'], 'VK Management': ['info', 'questions', 'discussion', 'think', 'git'], 'WEB Site Python': ['info', 'request-for-participation', 'step-by-step', 'questions', 'git-activity', 'discussion', 'tasks-backend'], 'Discord Bot': ['info', 'step-by-step', 'participation', 'discussion', 'task', 'git-activity'], 'Web Server': ['info', 'classroom', 'discussion', 'questions', 'requirements'], 'test them all': ['info', 'discussion', 'git-activity', 'questions', 'github-learning-lab', 'cool-links', 'noisy-tests', 'automaton']}\n",
    "# d={}\n",
    "# for indx,i in enumerate(categories['1']):\n",
    "#     print(categories[i])\n",
    "#     categories['string_'+str(indx)]=('\\t'.join(map(str,categories[i])).title()  )\n",
    "\n",
    "\n",
    "# test.setdefault('one',[]).append()\n",
    "# print(test)\n",
    "\n",
    "# def create_tree(name,obj):\n",
    "#     for i in obj[name]:\n",
    "#         yield name,list(create_tree(i,obj)) if i in obj else ''\n",
    "print(MLP['None'])"
   ]
  },
  {
   "cell_type": "code",
   "execution_count": 50,
   "metadata": {},
   "outputs": [
    {
     "name": "stdout",
     "output_type": "stream",
     "text": [
      "None\n"
     ]
    }
   ],
   "source": [
    "x = [1,2,3]\n",
    "print(x.__hash__)"
   ]
  },
  {
   "cell_type": "code",
   "execution_count": 51,
   "metadata": {},
   "outputs": [
    {
     "name": "stdout",
     "output_type": "stream",
     "text": [
      "two\n",
      "one\n",
      "not\n"
     ]
    }
   ],
   "source": [
    "received=['___no','one','two']\n",
    "for i in range(len(received)):\n",
    "    print(received.pop() if received[-1]!='___no' else 'not')"
   ]
  },
  {
   "cell_type": "code",
   "execution_count": 52,
   "metadata": {},
   "outputs": [
    {
     "data": {
      "text/plain": [
       "<matplotlib.figure.Figure at 0x71b5630>"
      ]
     },
     "metadata": {},
     "output_type": "display_data"
    }
   ],
   "source": [
    "import matplotlib.pyplot as plt\n",
    "import numpy as np\n",
    "\n",
    "# Fixing random state for reproducibility\n",
    "np.random.seed(19680801)\n",
    "\n",
    "\n",
    "x = np.arange(0.0, 50.0, 5.0)\n",
    "y = x ** 1.3 + np.random.rand(*x.shape) * 30.0\n",
    "s = np.random.rand(*x.shape) * 800 + 500\n",
    "\n",
    "plt.scatter(x, y, s, c=\"r\", alpha=0.2, marker=r'$\\clubsuit$',\n",
    "            label=\"Luck\")\n",
    "plt.xlabel(\"Leprechauns\")\n",
    "plt.ylabel(\"Gold\")\n",
    "plt.legend(loc='upper left')\n",
    "plt.show()\n"
   ]
  },
  {
   "cell_type": "code",
   "execution_count": 53,
   "metadata": {},
   "outputs": [
    {
     "name": "stdout",
     "output_type": "stream",
     "text": [
      "None\n"
     ]
    }
   ],
   "source": [
    "\n",
    "def some_funct(a,arg=[]):\n",
    "    return arg.append(a)\n",
    "a='foo'\n",
    "print( some_funct(a))"
   ]
  },
  {
   "cell_type": "code",
   "execution_count": 54,
   "metadata": {},
   "outputs": [
    {
     "name": "stdout",
     "output_type": "stream",
     "text": [
      "['car']\n",
      "['car', 'ran']\n"
     ]
    }
   ],
   "source": [
    "def foo(a,arg=[]):\n",
    "    arg.append(a)\n",
    "    return arg\n",
    "print(foo('car'))\n",
    "print(foo('ran'))"
   ]
  },
  {
   "cell_type": "code",
   "execution_count": 55,
   "metadata": {},
   "outputs": [
    {
     "data": {
      "text/plain": [
       "True"
      ]
     },
     "execution_count": 55,
     "metadata": {},
     "output_type": "execute_result"
    }
   ],
   "source": [
    "a=1\n",
    "b=1\n",
    "a is b"
   ]
  },
  {
   "cell_type": "code",
   "execution_count": 56,
   "metadata": {},
   "outputs": [
    {
     "data": {
      "text/plain": [
       "False"
      ]
     },
     "execution_count": 56,
     "metadata": {},
     "output_type": "execute_result"
    }
   ],
   "source": [
    "b=300\n",
    "c=300\n",
    "b is c"
   ]
  },
  {
   "cell_type": "code",
   "execution_count": 58,
   "metadata": {},
   "outputs": [
    {
     "ename": "NameError",
     "evalue": "name 'Generic' is not defined",
     "output_type": "error",
     "traceback": [
      "\u001b[1;31m---------------------------------------------------------------------------\u001b[0m",
      "\u001b[1;31mNameError\u001b[0m                                 Traceback (most recent call last)",
      "\u001b[1;32m<ipython-input-58-8ed217471c90>\u001b[0m in \u001b[0;36m<module>\u001b[1;34m()\u001b[0m\n\u001b[1;32m----> 1\u001b[1;33m \u001b[1;32mclass\u001b[0m \u001b[0mMapping\u001b[0m\u001b[1;33m(\u001b[0m\u001b[0mGeneric\u001b[0m\u001b[1;33m[\u001b[0m\u001b[0mKT\u001b[0m\u001b[1;33m,\u001b[0m \u001b[0mVT\u001b[0m\u001b[1;33m]\u001b[0m\u001b[1;33m)\u001b[0m\u001b[1;33m:\u001b[0m\u001b[1;33m\u001b[0m\u001b[0m\n\u001b[0m\u001b[0;32m      2\u001b[0m     \u001b[1;32mdef\u001b[0m \u001b[0m__getitem__\u001b[0m\u001b[1;33m(\u001b[0m\u001b[0mself\u001b[0m\u001b[1;33m,\u001b[0m \u001b[0mkey\u001b[0m\u001b[1;33m:\u001b[0m \u001b[0mKT\u001b[0m\u001b[1;33m)\u001b[0m \u001b[1;33m->\u001b[0m \u001b[0mVT\u001b[0m\u001b[1;33m:\u001b[0m\u001b[1;33m\u001b[0m\u001b[0m\n\u001b[0;32m      3\u001b[0m         \u001b[1;32mpass\u001b[0m\u001b[1;33m\u001b[0m\u001b[0m\n\u001b[0;32m      4\u001b[0m \u001b[1;33m\u001b[0m\u001b[0m\n\u001b[0;32m      5\u001b[0m \u001b[0mX\u001b[0m \u001b[1;33m=\u001b[0m \u001b[0mTypeVar\u001b[0m\u001b[1;33m(\u001b[0m\u001b[1;34m'X'\u001b[0m\u001b[1;33m)\u001b[0m\u001b[1;33m\u001b[0m\u001b[0m\n",
      "\u001b[1;31mNameError\u001b[0m: name 'Generic' is not defined"
     ]
    }
   ],
   "source": [
    "class Mapping(Generic[KT, VT]):\n",
    "    def __getitem__(self, key: KT) -> VT:\n",
    "        pass\n",
    "\n",
    "X = TypeVar('X')\n",
    "Y = TypeVar('Y')\n",
    "\n",
    "def lookup_name(mapping: Mapping[X, Y], key: X, default: Y) -> Y:\n",
    "    try:\n",
    "        return mapping[key]\n",
    "    except KeyError:\n",
    "        return default"
   ]
  },
  {
   "cell_type": "code",
   "execution_count": 59,
   "metadata": {},
   "outputs": [
    {
     "ename": "AttributeError",
     "evalue": "type object 'DiscordNode' has no attribute '__init'",
     "output_type": "error",
     "traceback": [
      "\u001b[1;31m---------------------------------------------------------------------------\u001b[0m",
      "\u001b[1;31mAttributeError\u001b[0m                            Traceback (most recent call last)",
      "\u001b[1;32m<ipython-input-59-bb4a39d0d95d>\u001b[0m in \u001b[0;36m<module>\u001b[1;34m()\u001b[0m\n\u001b[0;32m      8\u001b[0m         \u001b[0mself\u001b[0m\u001b[1;33m.\u001b[0m\u001b[0mNodeDescr\u001b[0m \u001b[1;33m=\u001b[0m \u001b[0maNodeDescr\u001b[0m\u001b[1;33m\u001b[0m\u001b[0m\n\u001b[0;32m      9\u001b[0m \u001b[0mdn\u001b[0m \u001b[1;33m=\u001b[0m \u001b[0mDiscordNode\u001b[0m\u001b[1;33m(\u001b[0m\u001b[1;34m\"MLP Discord\"\u001b[0m\u001b[1;33m,\u001b[0m\u001b[1;34m\"root\"\u001b[0m\u001b[1;33m,\u001b[0m\u001b[1;34m\"Discord\"\u001b[0m \u001b[1;33m)\u001b[0m\u001b[1;33m\u001b[0m\u001b[0m\n\u001b[1;32m---> 10\u001b[1;33m \u001b[0mprint\u001b[0m\u001b[1;33m(\u001b[0m\u001b[0mDiscordNode\u001b[0m\u001b[1;33m.\u001b[0m\u001b[0m__init\u001b[0m\u001b[1;33m.\u001b[0m\u001b[0m__dict__\u001b[0m\u001b[1;33m)\u001b[0m\u001b[1;33m\u001b[0m\u001b[0m\n\u001b[0m",
      "\u001b[1;31mAttributeError\u001b[0m: type object 'DiscordNode' has no attribute '__init'"
     ]
    }
   ],
   "source": [
    "class DiscordNode:\n",
    "    def __init__(self, \n",
    "                aNodeName:str =None, \n",
    "                aNodeKind:str =None,\n",
    "                aNodeDescr:str =None):\n",
    "        self.NodeName = aNodeName\n",
    "        self.NodeKind = aNodeKind\n",
    "        self.NodeDescr = aNodeDescr\n",
    "dn = DiscordNode(\"MLP Discord\",\"root\",\"Discord\" )\n",
    "print(DiscordNode.__init.__dict__)"
   ]
  },
  {
   "cell_type": "code",
   "execution_count": 60,
   "metadata": {},
   "outputs": [],
   "source": [
    "def squre(n,p):\n",
    "    res=0\n",
    "    for i in str(n):\n",
    "        res+=int(i)**p\n",
    "        print(f'{i}**{p} = ',int(i)**p)\n",
    "        p+=1\n",
    "    return res"
   ]
  },
  {
   "cell_type": "code",
   "execution_count": 61,
   "metadata": {},
   "outputs": [
    {
     "name": "stdout",
     "output_type": "stream",
     "text": [
      "4**3 =  64\n",
      "6**4 =  1296\n",
      "2**5 =  32\n",
      "8**6 =  262144\n",
      "8**7 =  2097152\n"
     ]
    },
    {
     "data": {
      "text/plain": [
       "2360688"
      ]
     },
     "execution_count": 61,
     "metadata": {},
     "output_type": "execute_result"
    }
   ],
   "source": [
    "squre(46288,3)"
   ]
  },
  {
   "cell_type": "code",
   "execution_count": 62,
   "metadata": {},
   "outputs": [
    {
     "name": "stdout",
     "output_type": "stream",
     "text": [
      "Hello\n",
      "Hello\n",
      "Hello\n",
      "Hello\n",
      "Hello\n",
      "Hello\n",
      "Hello\n",
      "Hello\n",
      "Not Hello\n"
     ]
    }
   ],
   "source": [
    "for x in range(0, 9):\n",
    "    globals()['string%s' % x] = 'Hello'\n",
    "    if x==8:\n",
    "        globals()['string%s' % x]='Not Hello'\n",
    "    print(globals()['string%s' % x])\n"
   ]
  },
  {
   "cell_type": "code",
   "execution_count": 63,
   "metadata": {},
   "outputs": [
    {
     "name": "stdout",
     "output_type": "stream",
     "text": [
      "True\n",
      "True\n"
     ]
    }
   ],
   "source": [
    "print(300==300)\n",
    "print(200==200)"
   ]
  },
  {
   "cell_type": "code",
   "execution_count": 64,
   "metadata": {},
   "outputs": [
    {
     "name": "stdout",
     "output_type": "stream",
     "text": [
      "853\n"
     ]
    }
   ],
   "source": [
    "arr=[2,6,4,8,4,2,443,5,7,8,9,7,6,54,6,3,234,45,678,]\n",
    "def summ(arr):\n",
    "    i,*els = arr\n",
    "    return i+ summ(els) if els else 0\n",
    "print(summ(arr))"
   ]
  },
  {
   "cell_type": "code",
   "execution_count": 65,
   "metadata": {},
   "outputs": [],
   "source": [
    "\n",
    "\n",
    "def convert_base(num, to_base=10, from_base=10):\n",
    "    # first convert to decimal number\n",
    "    if isinstance(num, str):\n",
    "        n = int(num, from_base)\n",
    "    else:\n",
    "        n = int(num)\n",
    "    # now convert decimal to 'to_base' base\n",
    "    alphabet = \"0123456789ABCDEFGHIJKLMNOPQRSTUVWXYZ\"\n",
    "    if n < to_base:\n",
    "        return alphabet[n]\n",
    "    else:\n",
    "        return convert_base(n // to_base, to_base) + alphabet[n % to_base]"
   ]
  },
  {
   "cell_type": "code",
   "execution_count": 66,
   "metadata": {},
   "outputs": [
    {
     "data": {
      "text/plain": [
       "'2'"
      ]
     },
     "execution_count": 66,
     "metadata": {},
     "output_type": "execute_result"
    }
   ],
   "source": [
    "convert_base ('10',to_base=16,from_base=2)"
   ]
  },
  {
   "cell_type": "code",
   "execution_count": 67,
   "metadata": {},
   "outputs": [
    {
     "name": "stdout",
     "output_type": "stream",
     "text": [
      "10\n"
     ]
    }
   ],
   "source": [
    "n = int('1010', 2)\n",
    "print(n)"
   ]
  },
  {
   "cell_type": "code",
   "execution_count": 68,
   "metadata": {},
   "outputs": [
    {
     "name": "stdout",
     "output_type": "stream",
     "text": [
      "4\n"
     ]
    }
   ],
   "source": [
    "medals ={':unranked:':'1' ,':bronze:':'10' ,':silver:':'100', \n",
    "        ':gold:':'1000', ':platinum:':'10000' ,':diamond:':'100000' ,\n",
    "        ':master:' :'1000000',':devops:':'10000000' ,':scientist:':'100000000' }\n",
    "print(int(medals[':bronze:'],4))\n"
   ]
  },
  {
   "cell_type": "code",
   "execution_count": 69,
   "metadata": {},
   "outputs": [
    {
     "name": "stdout",
     "output_type": "stream",
     "text": [
      "[]\n"
     ]
    }
   ],
   "source": [
    "from itertools import repeat\n",
    "x='str'\n",
    "l = []\n",
    "l.extend(repeat(x, 0))\n",
    "print(l)"
   ]
  },
  {
   "cell_type": "code",
   "execution_count": 70,
   "metadata": {},
   "outputs": [],
   "source": [
    "def fmt_item(lines, max_lines=0):\n",
    "    max_width = max([len(line) for line in lines])\n",
    "    empty = ' '*max_width\n",
    "    lines = [line.ljust(max_width) for line in lines]\n",
    "    lines += [empty] * (max_lines - len(lines))\n",
    "    return lines\n",
    "def pp(*lst):\n",
    "    lines = [str(item).split('\\n') for item in lst]\n",
    "    max_lines = max([len(item) for item in lines])\n",
    "    lines = [fmt_item(item, max_lines=max_lines) for item in lines]\n",
    "    lines_t = np.array(lines).T\n",
    "    print('\\n'.join([' '.join(line) for line in lines_t]))"
   ]
  },
  {
   "cell_type": "code",
   "execution_count": 71,
   "metadata": {},
   "outputs": [
    {
     "name": "stdout",
     "output_type": "stream",
     "text": [
      "6\n"
     ]
    }
   ],
   "source": [
    "from math import *\n",
    "import numpy as np\n",
    "x = (1,1)\n",
    "y = (5,3)\n",
    "\n",
    "ranges =np.fromiter([ i-j for i,j in zip(x,y)],np.int8)\n",
    "\n",
    "dist=np.sum(np.abs(ranges))\n",
    "\n",
    "print(dist)"
   ]
  },
  {
   "cell_type": "code",
   "execution_count": null,
   "metadata": {},
   "outputs": [],
   "source": []
  },
  {
   "cell_type": "code",
   "execution_count": null,
   "metadata": {},
   "outputs": [],
   "source": []
  },
  {
   "cell_type": "code",
   "execution_count": 72,
   "metadata": {},
   "outputs": [],
   "source": [
    "def two_loop (A,B,R):\n",
    "    for i in range(A.shape[0]):\n",
    "        for j in range(B.shape[0]):\n",
    "            ranges = A[i]-B[j]\n",
    "            R[i,j] =  np.sum(np.abs(ranges))\n",
    "            "
   ]
  },
  {
   "cell_type": "code",
   "execution_count": 73,
   "metadata": {},
   "outputs": [],
   "source": [
    "def one_loop (A,B,R):\n",
    "    for i in range(A.shape[0]):\n",
    "        R[i]=np.sum(np.abs(B-A[i]),axis = 1)\n",
    "        pp(np.sum(np.abs(B-A[i]),axis = 1))\n",
    "       "
   ]
  },
  {
   "cell_type": "code",
   "execution_count": 74,
   "metadata": {},
   "outputs": [],
   "source": [
    "def no_loop (A,B,R):\n",
    "    R[:]=np.sum(np.abs(B-A[:,None]),axis = 2)[:]\n",
    "#     pp(np.abs(B-A[:,None]))\n",
    "    pp(A[:,None])"
   ]
  },
  {
   "cell_type": "code",
   "execution_count": 75,
   "metadata": {},
   "outputs": [
    {
     "name": "stdout",
     "output_type": "stream",
     "text": [
      "[[[6 3 7 4 6]] \n",
      "               \n",
      " [[9 2 6 7 4]] \n",
      "               \n",
      " [[3 7 7 2 5]]]\n",
      "[[6 3 7 4 6]  - [[4 1 7 5 1]  = [[10. 10. 22.] \n",
      " [9 2 6 7 4]     [4 0 9 5 8]     [12. 16. 22.] \n",
      " [3 7 7 2 5]]    [0 9 2 6 3]]    [14. 16. 16.]]\n"
     ]
    }
   ],
   "source": [
    "import numpy as np\n",
    "np.random.seed(42)\n",
    "A = np.random.randint(10,size=(3,5))\n",
    "B = np.random.randint(10,size=(3,5))\n",
    "R = np.zeros ((A.shape[0],B.shape[0]),np.float32)\n",
    "#two_loop (A,B,R)\n",
    "#one_loop(A,B,R)\n",
    "no_loop(A,B,R)\n",
    "#pp(A,B)\n",
    "pp(A,'-',B, '=',R)"
   ]
  },
  {
   "cell_type": "code",
   "execution_count": 76,
   "metadata": {},
   "outputs": [],
   "source": [
    "test_A=np.arange(15).reshape(3,5)"
   ]
  },
  {
   "cell_type": "code",
   "execution_count": 77,
   "metadata": {},
   "outputs": [
    {
     "name": "stdout",
     "output_type": "stream",
     "text": [
      "[0 1 2 3 4] [[0]  [[ 0  1  2  3  4] \n",
      "             [1]   [-1  0  1  2  3] \n",
      "             [2]   [-2 -1  0  1  2] \n",
      "             [3]   [-3 -2 -1  0  1] \n",
      "             [4]]  [-4 -3 -2 -1  0]]\n"
     ]
    }
   ],
   "source": [
    "pp(test_A[0].T,test_A[0:1].T,test_A[0].T-test_A[0:1].T)"
   ]
  },
  {
   "cell_type": "code",
   "execution_count": 78,
   "metadata": {},
   "outputs": [
    {
     "name": "stdout",
     "output_type": "stream",
     "text": [
      "[[[  4   0   5   2  -3]  \n",
      "  [  4  -1   7   2   4]  \n",
      "  [  0   8   0   3  -1]] \n",
      "                         \n",
      " [[ -1  -5   0  -3  -8]  \n",
      "  [ -1  -6   2  -3  -1]  \n",
      "  [ -5   3  -5  -2  -6]] \n",
      "                         \n",
      " [[ -6 -10  -5  -8 -13]  \n",
      "  [ -6 -11  -3  -8  -6]  \n",
      "  [-10  -2 -10  -7 -11]]]\n"
     ]
    }
   ],
   "source": [
    "pp (B - test_A[:,None] )"
   ]
  },
  {
   "cell_type": "code",
   "execution_count": 79,
   "metadata": {},
   "outputs": [
    {
     "name": "stdout",
     "output_type": "stream",
     "text": [
      "[[[-4  0 -5 -2  3]\n",
      "  [-4  1 -7 -2 -4]\n",
      "  [ 0 -8  0 -3  1]]\n",
      "\n",
      " [[ 1  5  0  3  8]\n",
      "  [ 1  6 -2  3  1]\n",
      "  [ 5 -3  5  2  6]]\n",
      "\n",
      " [[ 6 10  5  8 13]\n",
      "  [ 6 11  3  8  6]\n",
      "  [10  2 10  7 11]]]\n"
     ]
    }
   ],
   "source": [
    "print ( test_A[:,None] -B )"
   ]
  },
  {
   "cell_type": "code",
   "execution_count": 80,
   "metadata": {},
   "outputs": [
    {
     "name": "stdout",
     "output_type": "stream",
     "text": [
      "2019-07-27 20:37:00 [datetime.datetime(2019, 7, 27, 20, 37), datetime.datetime(2019, 7, 27, 21, 37), datetime.datetime(2019, 7, 27, 22, 37), datetime.datetime(2019, 7, 27, 23, 37)]\n",
      "it is\n"
     ]
    }
   ],
   "source": [
    "from datetime import datetime,timedelta\n",
    "delta = [timedelta (hours = i) for i in range(0,4)]\n",
    "time = datetime.today().replace(second = 0,microsecond = 0)\n",
    "times = [time+delt for delt in delta]\n",
    "print(time , times)\n",
    "if time in times:\n",
    "    print ('it is')"
   ]
  },
  {
   "cell_type": "code",
   "execution_count": 81,
   "metadata": {},
   "outputs": [
    {
     "name": "stdout",
     "output_type": "stream",
     "text": [
      "[ True  True]\n"
     ]
    }
   ],
   "source": [
    "import numpy as np\n",
    "\n",
    "actu = np.array([True,True,False,True,False,False])\n",
    "pred = np.array([False,True,True,False,False,True])\n",
    "\n",
    "TP = actu[pred == False]\n",
    "print(TP[TP])"
   ]
  },
  {
   "cell_type": "code",
   "execution_count": 82,
   "metadata": {},
   "outputs": [
    {
     "ename": "NameError",
     "evalue": "name 'bols' is not defined",
     "output_type": "error",
     "traceback": [
      "\u001b[1;31m---------------------------------------------------------------------------\u001b[0m",
      "\u001b[1;31mNameError\u001b[0m                                 Traceback (most recent call last)",
      "\u001b[1;32m<ipython-input-82-56b61cc564b5>\u001b[0m in \u001b[0;36m<module>\u001b[1;34m()\u001b[0m\n\u001b[1;32m----> 1\u001b[1;33m \u001b[0mbools\u001b[0m \u001b[1;33m=\u001b[0m \u001b[0mnp\u001b[0m\u001b[1;33m.\u001b[0m\u001b[0marray\u001b[0m\u001b[1;33m(\u001b[0m\u001b[1;33m[\u001b[0m\u001b[0mnp\u001b[0m\u001b[1;33m.\u001b[0m\u001b[0mmean\u001b[0m\u001b[1;33m(\u001b[0m\u001b[0mi\u001b[0m\u001b[1;33m)\u001b[0m \u001b[1;32mfor\u001b[0m \u001b[0mi\u001b[0m \u001b[1;32min\u001b[0m \u001b[0mbols\u001b[0m\u001b[1;33m]\u001b[0m\u001b[1;33m)\u001b[0m\u001b[1;33m>\u001b[0m\u001b[1;36m0.5\u001b[0m\u001b[1;33m\u001b[0m\u001b[0m\n\u001b[0m\u001b[0;32m      2\u001b[0m \u001b[0mprint\u001b[0m\u001b[1;33m(\u001b[0m\u001b[0mbools\u001b[0m\u001b[1;33m)\u001b[0m\u001b[1;33m\u001b[0m\u001b[0m\n",
      "\u001b[1;31mNameError\u001b[0m: name 'bols' is not defined"
     ]
    }
   ],
   "source": [
    "bools = np.array([np.mean(i) for i in bols])>0.5\n",
    "print(bools)\n"
   ]
  },
  {
   "cell_type": "code",
   "execution_count": 83,
   "metadata": {},
   "outputs": [
    {
     "ename": "NameError",
     "evalue": "name 'bols' is not defined",
     "output_type": "error",
     "traceback": [
      "\u001b[1;31m---------------------------------------------------------------------------\u001b[0m",
      "\u001b[1;31mNameError\u001b[0m                                 Traceback (most recent call last)",
      "\u001b[1;32m<ipython-input-83-5a708830ccd9>\u001b[0m in \u001b[0;36m<module>\u001b[1;34m()\u001b[0m\n\u001b[1;32m----> 1\u001b[1;33m \u001b[1;32mfor\u001b[0m \u001b[0mi\u001b[0m \u001b[1;32min\u001b[0m \u001b[0mbols\u001b[0m\u001b[1;33m:\u001b[0m\u001b[1;33m\u001b[0m\u001b[0m\n\u001b[0m\u001b[0;32m      2\u001b[0m     \u001b[0mbools\u001b[0m \u001b[1;33m=\u001b[0m \u001b[0mme\u001b[0m\u001b[1;33m(\u001b[0m\u001b[0mi\u001b[0m\u001b[1;33m)\u001b[0m\u001b[1;33m\u001b[0m\u001b[0m\n",
      "\u001b[1;31mNameError\u001b[0m: name 'bols' is not defined"
     ]
    }
   ],
   "source": [
    "for i in bols:\n",
    "    bools = me(i)"
   ]
  },
  {
   "cell_type": "code",
   "execution_count": 84,
   "metadata": {},
   "outputs": [],
   "source": [
    "from datetime import datetime"
   ]
  },
  {
   "cell_type": "code",
   "execution_count": 85,
   "metadata": {},
   "outputs": [
    {
     "name": "stdout",
     "output_type": "stream",
     "text": [
      "37\n"
     ]
    }
   ],
   "source": [
    "t = datetime.today().minute\n",
    "print(t)"
   ]
  },
  {
   "cell_type": "code",
   "execution_count": 86,
   "metadata": {},
   "outputs": [
    {
     "name": "stdout",
     "output_type": "stream",
     "text": [
      "[array([False,  True,  True,  True,  True,  True,  True,  True,  True,\n",
      "       False, False,  True, False, False, False, False,  True, False,\n",
      "        True, False]), array([False, False,  True, False,  True, False,  True, False,  True,\n",
      "        True, False,  True, False, False, False, False, False, False,\n",
      "       False, False]), array([False, False, False,  True,  True, False, False, False, False,\n",
      "       False, False, False, False,  True, False,  True, False, False,\n",
      "        True, False]), array([ True, False, False,  True, False,  True, False,  True,  True,\n",
      "       False, False,  True, False, False, False,  True,  True,  True,\n",
      "        True,  True]), array([ True,  True,  True,  True, False,  True, False, False, False,\n",
      "        True,  True,  True,  True, False,  True,  True,  True,  True,\n",
      "        True, False])]\n"
     ]
    }
   ],
   "source": [
    "lists_ = [np.random.choice(a = [True,False], size = 20) for i in range(5)]\n",
    "print(lists_)"
   ]
  },
  {
   "cell_type": "code",
   "execution_count": 87,
   "metadata": {},
   "outputs": [
    {
     "ename": "NameError",
     "evalue": "name 'x_splitplit' is not defined",
     "output_type": "error",
     "traceback": [
      "\u001b[1;31m---------------------------------------------------------------------------\u001b[0m",
      "\u001b[1;31mNameError\u001b[0m                                 Traceback (most recent call last)",
      "\u001b[1;32m<ipython-input-87-4f291dd2daae>\u001b[0m in \u001b[0;36m<module>\u001b[1;34m()\u001b[0m\n\u001b[0;32m      2\u001b[0m \u001b[0mx\u001b[0m \u001b[1;33m=\u001b[0m \u001b[0mnp\u001b[0m\u001b[1;33m.\u001b[0m\u001b[0marange\u001b[0m\u001b[1;33m(\u001b[0m\u001b[1;36m20\u001b[0m\u001b[1;33m)\u001b[0m\u001b[1;33m\u001b[0m\u001b[0m\n\u001b[0;32m      3\u001b[0m \u001b[0mx_split\u001b[0m \u001b[1;33m=\u001b[0m \u001b[0mnp\u001b[0m\u001b[1;33m.\u001b[0m\u001b[0msplit\u001b[0m\u001b[1;33m(\u001b[0m\u001b[0mx\u001b[0m\u001b[1;33m,\u001b[0m\u001b[1;36m5\u001b[0m\u001b[1;33m)\u001b[0m\u001b[1;33m\u001b[0m\u001b[0m\n\u001b[1;32m----> 4\u001b[1;33m \u001b[0mprint\u001b[0m\u001b[1;33m(\u001b[0m\u001b[0mlen\u001b[0m\u001b[1;33m(\u001b[0m\u001b[0mx_splitplit\u001b[0m\u001b[1;33m)\u001b[0m\u001b[1;33m)\u001b[0m\u001b[1;33m\u001b[0m\u001b[0m\n\u001b[0m",
      "\u001b[1;31mNameError\u001b[0m: name 'x_splitplit' is not defined"
     ]
    }
   ],
   "source": [
    "import numpy as np# x is your dataset\n",
    "x = np.arange(20)\n",
    "x_split = np.split(x,5)\n",
    "print(len(x_splitplit))"
   ]
  },
  {
   "cell_type": "code",
   "execution_count": 88,
   "metadata": {},
   "outputs": [],
   "source": [
    "def pred_func (list_):\n",
    "    in_list = np.copy(list_)\n",
    "    indxes = np.random.randint(0,20,2)\n",
    "    indxes = [0,1]\n",
    "    in_list[indxes] = ~in_list[indxes]\n",
    "    return  in_list\n",
    "    "
   ]
  },
  {
   "cell_type": "code",
   "execution_count": 89,
   "metadata": {},
   "outputs": [],
   "source": [
    "def acurecy (gr_t,pred):\n",
    "    return len(pred[gr_t == pred])/len(gr_t)"
   ]
  },
  {
   "cell_type": "code",
   "execution_count": 90,
   "metadata": {},
   "outputs": [
    {
     "data": {
      "text/plain": [
       "[0.9, 0.9, 0.9, 0.9, 0.9]"
      ]
     },
     "execution_count": 90,
     "metadata": {},
     "output_type": "execute_result"
    }
   ],
   "source": [
    "[acurecy(pred_func(list_),list_) for list_ in lists_ ]"
   ]
  },
  {
   "cell_type": "code",
   "execution_count": 91,
   "metadata": {},
   "outputs": [
    {
     "ename": "NameError",
     "evalue": "name 'list_' is not defined",
     "output_type": "error",
     "traceback": [
      "\u001b[1;31m---------------------------------------------------------------------------\u001b[0m",
      "\u001b[1;31mNameError\u001b[0m                                 Traceback (most recent call last)",
      "\u001b[1;32m<ipython-input-91-afad3d4f2646>\u001b[0m in \u001b[0;36m<module>\u001b[1;34m()\u001b[0m\n\u001b[1;32m----> 1\u001b[1;33m \u001b[0mprint\u001b[0m\u001b[1;33m(\u001b[0m\u001b[0mpred_func\u001b[0m\u001b[1;33m(\u001b[0m\u001b[0mlist_\u001b[0m\u001b[1;33m)\u001b[0m\u001b[1;33m.\u001b[0m\u001b[0mshape\u001b[0m\u001b[1;33m)\u001b[0m\u001b[1;33m\u001b[0m\u001b[0m\n\u001b[0m",
      "\u001b[1;31mNameError\u001b[0m: name 'list_' is not defined"
     ]
    }
   ],
   "source": [
    "print(pred_func(list_).shape)"
   ]
  },
  {
   "cell_type": "code",
   "execution_count": null,
   "metadata": {},
   "outputs": [],
   "source": [
    "\n",
    "import numpy as np\n",
    "k_primes=[]\n",
    "\n",
    "def count_Kprimes(k, start, nd):\n",
    "    if start == 0:\n",
    "        start =1\n",
    "    k_numbers = []\n",
    "    max_nd_prime = n_primes(int(nd/2)+1)\n",
    "    for i in range(nd+1-start):\n",
    "        if is_dev(i+start,max_nd_prime) == k:\n",
    "            k_numbers.append(i+start)            \n",
    "    return k_numbers\n",
    "    \n",
    "def is_k_prime(num,k,nd):\n",
    "    global k_primes\n",
    "    k_primes = []\n",
    "    devide(num,nd) \n",
    "    if len(k_primes)==k:\n",
    "        return True\n",
    "    \n",
    "        \n",
    "def devide (num,rng):\n",
    "    global k_primes\n",
    "    for i in rng:\n",
    "        if num%i == 0 :\n",
    "            k_primes.append(i)\n",
    "            return devide(num/i,rng) if num/i!= 1 else 1\n",
    "        else:\n",
    "            return 1\n",
    "        \n",
    "def is_dev(num,i):\n",
    "    i1,*il=i    \n",
    "    if num%i1==0:\n",
    "        return 1+is_dev(num/i1,i) \n",
    "    else:\n",
    "        return is_dev(num,il) if num>1 else 0\n",
    "    \n",
    "        \n",
    "def n_primes (n):\n",
    "    k_prime = np.ones((n),dtype = bool)\n",
    "    for i in range(2,n):\n",
    "        if k_prime[i] == True:\n",
    "            for j in range(i*2,n,i):\n",
    "                k_prime[j]=False\n",
    "            \n",
    "    return k_prime.nonzero()[0][2:].astype(np.int32)\n",
    "\n"
   ]
  },
  {
   "cell_type": "code",
   "execution_count": null,
   "metadata": {},
   "outputs": [],
   "source": [
    "is_dev(12,n_primes (100))"
   ]
  },
  {
   "cell_type": "code",
   "execution_count": 92,
   "metadata": {},
   "outputs": [
    {
     "ename": "NameError",
     "evalue": "name 'count_Kprimes' is not defined",
     "output_type": "error",
     "traceback": [
      "\u001b[1;31m---------------------------------------------------------------------------\u001b[0m",
      "\u001b[1;31mNameError\u001b[0m                                 Traceback (most recent call last)",
      "\u001b[1;32m<ipython-input-92-1fe71b1058c5>\u001b[0m in \u001b[0;36m<module>\u001b[1;34m()\u001b[0m\n\u001b[1;32m----> 1\u001b[1;33m \u001b[0mget_ipython\u001b[0m\u001b[1;33m(\u001b[0m\u001b[1;33m)\u001b[0m\u001b[1;33m.\u001b[0m\u001b[0mrun_line_magic\u001b[0m\u001b[1;33m(\u001b[0m\u001b[1;34m'prun'\u001b[0m\u001b[1;33m,\u001b[0m \u001b[1;34m'count_Kprimes(5, 500, 1000)'\u001b[0m\u001b[1;33m)\u001b[0m\u001b[1;33m\u001b[0m\u001b[0m\n\u001b[0m",
      "\u001b[1;32mD:\\Install\\Anaconda\\lib\\site-packages\\IPython\\core\\interactiveshell.py\u001b[0m in \u001b[0;36mrun_line_magic\u001b[1;34m(self, magic_name, line, _stack_depth)\u001b[0m\n\u001b[0;32m   2093\u001b[0m                 \u001b[0mkwargs\u001b[0m\u001b[1;33m[\u001b[0m\u001b[1;34m'local_ns'\u001b[0m\u001b[1;33m]\u001b[0m \u001b[1;33m=\u001b[0m \u001b[0msys\u001b[0m\u001b[1;33m.\u001b[0m\u001b[0m_getframe\u001b[0m\u001b[1;33m(\u001b[0m\u001b[0mstack_depth\u001b[0m\u001b[1;33m)\u001b[0m\u001b[1;33m.\u001b[0m\u001b[0mf_locals\u001b[0m\u001b[1;33m\u001b[0m\u001b[0m\n\u001b[0;32m   2094\u001b[0m             \u001b[1;32mwith\u001b[0m \u001b[0mself\u001b[0m\u001b[1;33m.\u001b[0m\u001b[0mbuiltin_trap\u001b[0m\u001b[1;33m:\u001b[0m\u001b[1;33m\u001b[0m\u001b[0m\n\u001b[1;32m-> 2095\u001b[1;33m                 \u001b[0mresult\u001b[0m \u001b[1;33m=\u001b[0m \u001b[0mfn\u001b[0m\u001b[1;33m(\u001b[0m\u001b[1;33m*\u001b[0m\u001b[0margs\u001b[0m\u001b[1;33m,\u001b[0m\u001b[1;33m**\u001b[0m\u001b[0mkwargs\u001b[0m\u001b[1;33m)\u001b[0m\u001b[1;33m\u001b[0m\u001b[0m\n\u001b[0m\u001b[0;32m   2096\u001b[0m             \u001b[1;32mreturn\u001b[0m \u001b[0mresult\u001b[0m\u001b[1;33m\u001b[0m\u001b[0m\n\u001b[0;32m   2097\u001b[0m \u001b[1;33m\u001b[0m\u001b[0m\n",
      "\u001b[1;32m<decorator-gen-57>\u001b[0m in \u001b[0;36mprun\u001b[1;34m(self, parameter_s, cell)\u001b[0m\n",
      "\u001b[1;32mD:\\Install\\Anaconda\\lib\\site-packages\\IPython\\core\\magic.py\u001b[0m in \u001b[0;36m<lambda>\u001b[1;34m(f, *a, **k)\u001b[0m\n\u001b[0;32m    185\u001b[0m     \u001b[1;31m# but it's overkill for just that one bit of state.\u001b[0m\u001b[1;33m\u001b[0m\u001b[1;33m\u001b[0m\u001b[0m\n\u001b[0;32m    186\u001b[0m     \u001b[1;32mdef\u001b[0m \u001b[0mmagic_deco\u001b[0m\u001b[1;33m(\u001b[0m\u001b[0marg\u001b[0m\u001b[1;33m)\u001b[0m\u001b[1;33m:\u001b[0m\u001b[1;33m\u001b[0m\u001b[0m\n\u001b[1;32m--> 187\u001b[1;33m         \u001b[0mcall\u001b[0m \u001b[1;33m=\u001b[0m \u001b[1;32mlambda\u001b[0m \u001b[0mf\u001b[0m\u001b[1;33m,\u001b[0m \u001b[1;33m*\u001b[0m\u001b[0ma\u001b[0m\u001b[1;33m,\u001b[0m \u001b[1;33m**\u001b[0m\u001b[0mk\u001b[0m\u001b[1;33m:\u001b[0m \u001b[0mf\u001b[0m\u001b[1;33m(\u001b[0m\u001b[1;33m*\u001b[0m\u001b[0ma\u001b[0m\u001b[1;33m,\u001b[0m \u001b[1;33m**\u001b[0m\u001b[0mk\u001b[0m\u001b[1;33m)\u001b[0m\u001b[1;33m\u001b[0m\u001b[0m\n\u001b[0m\u001b[0;32m    188\u001b[0m \u001b[1;33m\u001b[0m\u001b[0m\n\u001b[0;32m    189\u001b[0m         \u001b[1;32mif\u001b[0m \u001b[0mcallable\u001b[0m\u001b[1;33m(\u001b[0m\u001b[0marg\u001b[0m\u001b[1;33m)\u001b[0m\u001b[1;33m:\u001b[0m\u001b[1;33m\u001b[0m\u001b[0m\n",
      "\u001b[1;32mD:\\Install\\Anaconda\\lib\\site-packages\\IPython\\core\\magics\\execution.py\u001b[0m in \u001b[0;36mprun\u001b[1;34m(self, parameter_s, cell)\u001b[0m\n\u001b[0;32m    300\u001b[0m             \u001b[0marg_str\u001b[0m \u001b[1;33m+=\u001b[0m \u001b[1;34m'\\n'\u001b[0m \u001b[1;33m+\u001b[0m \u001b[0mcell\u001b[0m\u001b[1;33m\u001b[0m\u001b[0m\n\u001b[0;32m    301\u001b[0m         \u001b[0marg_str\u001b[0m \u001b[1;33m=\u001b[0m \u001b[0mself\u001b[0m\u001b[1;33m.\u001b[0m\u001b[0mshell\u001b[0m\u001b[1;33m.\u001b[0m\u001b[0minput_splitter\u001b[0m\u001b[1;33m.\u001b[0m\u001b[0mtransform_cell\u001b[0m\u001b[1;33m(\u001b[0m\u001b[0marg_str\u001b[0m\u001b[1;33m)\u001b[0m\u001b[1;33m\u001b[0m\u001b[0m\n\u001b[1;32m--> 302\u001b[1;33m         \u001b[1;32mreturn\u001b[0m \u001b[0mself\u001b[0m\u001b[1;33m.\u001b[0m\u001b[0m_run_with_profiler\u001b[0m\u001b[1;33m(\u001b[0m\u001b[0marg_str\u001b[0m\u001b[1;33m,\u001b[0m \u001b[0mopts\u001b[0m\u001b[1;33m,\u001b[0m \u001b[0mself\u001b[0m\u001b[1;33m.\u001b[0m\u001b[0mshell\u001b[0m\u001b[1;33m.\u001b[0m\u001b[0muser_ns\u001b[0m\u001b[1;33m)\u001b[0m\u001b[1;33m\u001b[0m\u001b[0m\n\u001b[0m\u001b[0;32m    303\u001b[0m \u001b[1;33m\u001b[0m\u001b[0m\n\u001b[0;32m    304\u001b[0m     \u001b[1;32mdef\u001b[0m \u001b[0m_run_with_profiler\u001b[0m\u001b[1;33m(\u001b[0m\u001b[0mself\u001b[0m\u001b[1;33m,\u001b[0m \u001b[0mcode\u001b[0m\u001b[1;33m,\u001b[0m \u001b[0mopts\u001b[0m\u001b[1;33m,\u001b[0m \u001b[0mnamespace\u001b[0m\u001b[1;33m)\u001b[0m\u001b[1;33m:\u001b[0m\u001b[1;33m\u001b[0m\u001b[0m\n",
      "\u001b[1;32mD:\\Install\\Anaconda\\lib\\site-packages\\IPython\\core\\magics\\execution.py\u001b[0m in \u001b[0;36m_run_with_profiler\u001b[1;34m(self, code, opts, namespace)\u001b[0m\n\u001b[0;32m    322\u001b[0m         \u001b[0mprof\u001b[0m \u001b[1;33m=\u001b[0m \u001b[0mprofile\u001b[0m\u001b[1;33m.\u001b[0m\u001b[0mProfile\u001b[0m\u001b[1;33m(\u001b[0m\u001b[1;33m)\u001b[0m\u001b[1;33m\u001b[0m\u001b[0m\n\u001b[0;32m    323\u001b[0m         \u001b[1;32mtry\u001b[0m\u001b[1;33m:\u001b[0m\u001b[1;33m\u001b[0m\u001b[0m\n\u001b[1;32m--> 324\u001b[1;33m             \u001b[0mprof\u001b[0m \u001b[1;33m=\u001b[0m \u001b[0mprof\u001b[0m\u001b[1;33m.\u001b[0m\u001b[0mrunctx\u001b[0m\u001b[1;33m(\u001b[0m\u001b[0mcode\u001b[0m\u001b[1;33m,\u001b[0m \u001b[0mnamespace\u001b[0m\u001b[1;33m,\u001b[0m \u001b[0mnamespace\u001b[0m\u001b[1;33m)\u001b[0m\u001b[1;33m\u001b[0m\u001b[0m\n\u001b[0m\u001b[0;32m    325\u001b[0m             \u001b[0msys_exit\u001b[0m \u001b[1;33m=\u001b[0m \u001b[1;34m''\u001b[0m\u001b[1;33m\u001b[0m\u001b[0m\n\u001b[0;32m    326\u001b[0m         \u001b[1;32mexcept\u001b[0m \u001b[0mSystemExit\u001b[0m\u001b[1;33m:\u001b[0m\u001b[1;33m\u001b[0m\u001b[0m\n",
      "\u001b[1;32mD:\\Install\\Anaconda\\lib\\cProfile.py\u001b[0m in \u001b[0;36mrunctx\u001b[1;34m(self, cmd, globals, locals)\u001b[0m\n\u001b[0;32m     98\u001b[0m         \u001b[0mself\u001b[0m\u001b[1;33m.\u001b[0m\u001b[0menable\u001b[0m\u001b[1;33m(\u001b[0m\u001b[1;33m)\u001b[0m\u001b[1;33m\u001b[0m\u001b[0m\n\u001b[0;32m     99\u001b[0m         \u001b[1;32mtry\u001b[0m\u001b[1;33m:\u001b[0m\u001b[1;33m\u001b[0m\u001b[0m\n\u001b[1;32m--> 100\u001b[1;33m             \u001b[0mexec\u001b[0m\u001b[1;33m(\u001b[0m\u001b[0mcmd\u001b[0m\u001b[1;33m,\u001b[0m \u001b[0mglobals\u001b[0m\u001b[1;33m,\u001b[0m \u001b[0mlocals\u001b[0m\u001b[1;33m)\u001b[0m\u001b[1;33m\u001b[0m\u001b[0m\n\u001b[0m\u001b[0;32m    101\u001b[0m         \u001b[1;32mfinally\u001b[0m\u001b[1;33m:\u001b[0m\u001b[1;33m\u001b[0m\u001b[0m\n\u001b[0;32m    102\u001b[0m             \u001b[0mself\u001b[0m\u001b[1;33m.\u001b[0m\u001b[0mdisable\u001b[0m\u001b[1;33m(\u001b[0m\u001b[1;33m)\u001b[0m\u001b[1;33m\u001b[0m\u001b[0m\n",
      "\u001b[1;32m<string>\u001b[0m in \u001b[0;36m<module>\u001b[1;34m()\u001b[0m\n",
      "\u001b[1;31mNameError\u001b[0m: name 'count_Kprimes' is not defined"
     ]
    }
   ],
   "source": [
    "%prun count_Kprimes(5, 500, 1000)"
   ]
  },
  {
   "cell_type": "code",
   "execution_count": null,
   "metadata": {},
   "outputs": [],
   "source": []
  },
  {
   "cell_type": "code",
   "execution_count": 93,
   "metadata": {},
   "outputs": [],
   "source": [
    "import numpy as np\n",
    "k_primes1=[]\n",
    "def count_Kprimes1(k, start, nd):\n",
    "    if start == 0:\n",
    "        start =1\n",
    "    k_numbers = []\n",
    "    max_nd_prime = n_primes1(int(nd/4)+1)\n",
    "    for i in range(nd+1-start):\n",
    "        if is_k_prime1(start+i,k,max_nd_prime):\n",
    "            k_numbers.append(start+i)\n",
    "    return k_numbers\n",
    "    \n",
    "def is_k_prime1(num,k,nd):\n",
    "    global k_primes1\n",
    "    k_primes1 = []\n",
    "    devide1(num,nd) \n",
    "    if len(k_primes1)==k:\n",
    "        return True\n",
    "    \n",
    "        \n",
    "def devide1 (num,rng):\n",
    "    global k_primes1\n",
    "    for i in rng:\n",
    "        if num%i == 0 :\n",
    "            k_primes1.append(i)\n",
    "            return devide1(num/i,rng) if num/i!= 1 else 1\n",
    "    \n",
    "        \n",
    "def n_primes1 (n):\n",
    "    k_prime = np.ones((n),dtype = bool)\n",
    "    for i in range(2,n):\n",
    "        if k_prime[i] == True:\n",
    "            for j in range(i*2,n,i):\n",
    "                k_prime[j]=False\n",
    "    return k_prime.nonzero()[0][2:].astype(np.int32)"
   ]
  },
  {
   "cell_type": "code",
   "execution_count": 94,
   "metadata": {},
   "outputs": [
    {
     "name": "stdout",
     "output_type": "stream",
     "text": [
      " "
     ]
    }
   ],
   "source": [
    "%prun count_Kprimes1(5, 500, 1000)"
   ]
  },
  {
   "cell_type": "code",
   "execution_count": 95,
   "metadata": {},
   "outputs": [],
   "source": [
    "from typing import List"
   ]
  },
  {
   "cell_type": "code",
   "execution_count": null,
   "metadata": {},
   "outputs": [],
   "source": []
  },
  {
   "cell_type": "code",
   "execution_count": 96,
   "metadata": {},
   "outputs": [],
   "source": [
    "def checkio(game_result: List[str]) -> str:\n",
    "    print(game_result)\n",
    "    o_cord = [(i,j) for i,row in enumerate(game_result) for j,lit in enumerate(row) if lit == 'O']\n",
    "    x_cord = [(i,j) for i,row in enumerate(game_result) for j,lit in enumerate(row) if lit == 'X']\n",
    "    \n",
    "    if is_win_d(o_cord) :#or is_win_v_h(o_cord):\n",
    "        return \"O\"\n",
    "    elif is_win_d(x_cord) :#or is_win_v_h(x_cord):\n",
    "        return \"X\"\n",
    "    else:\n",
    "        return \"D\"\n",
    "    \n",
    "    \n",
    "def is_win_v_h (cords):\n",
    "#     print(cords)\n",
    "    x = map(lambda x: x[0],cords)\n",
    "    y = map(lambda x: x[1],cords)\n",
    "    len_x = [len(list(j)) for _,j in groupby(sorted(x))]\n",
    "    len_y = [len(list(j)) for _,j in groupby(sorted(y))]\n",
    "#     print(len_x,len_y)\n",
    "    if 3 in len_x or 3 in len_y:\n",
    "        return True\n",
    "    else:\n",
    "        return False\n",
    "    \n",
    "def is_win_d(cords):\n",
    "    if (0,2)in cords and (1,1) in cords and (2,0) in cords:\n",
    "        print(cords)\n",
    "        return True\n",
    "    \n",
    "    cords = ([(i,j) for i,j in cords if i==j])\n",
    "    if len(cords)==3:\n",
    "        x = sorted(map(lambda x: x[0],cords))\n",
    "        y = sorted(map(lambda x: x[1],cords))\n",
    "        \n",
    "        if x == y:\n",
    "            return True   \n",
    "    return False\n",
    "    \n",
    "    "
   ]
  },
  {
   "cell_type": "code",
   "execution_count": 97,
   "metadata": {},
   "outputs": [],
   "source": [
    "def checkio1(result):\n",
    "    rows = result\n",
    "    \n",
    "    \n",
    "    cols = map(''.join, zip(*rows))\n",
    "    \n",
    "    diags = map(''.join, zip(*[(r[i], r[2 - i]) for i, r in enumerate(rows)]))\n",
    "    \n",
    "    lines = rows + list(cols) + list(diags)\n",
    "    print(lines)\n",
    "\n",
    "    return 'X' if ('XXX' in lines) else 'O' if ('OOO' in lines) else 'D'"
   ]
  },
  {
   "cell_type": "code",
   "execution_count": 98,
   "metadata": {},
   "outputs": [
    {
     "name": "stdout",
     "output_type": "stream",
     "text": [
      "['OOX', 'XXO', 'OXX', 'OXO', 'OXX', 'XOX', 'OXX', 'XXO']\n"
     ]
    },
    {
     "data": {
      "text/plain": [
       "'D'"
      ]
     },
     "execution_count": 98,
     "metadata": {},
     "output_type": "execute_result"
    }
   ],
   "source": [
    "game =[\n",
    "        \"OOX\",\n",
    "        \"XXO\",\n",
    "        \"OXX\"]\n",
    "checkio1(game)"
   ]
  },
  {
   "cell_type": "code",
   "execution_count": 99,
   "metadata": {},
   "outputs": [
    {
     "data": {
      "text/plain": [
       "[0]"
      ]
     },
     "execution_count": 99,
     "metadata": {},
     "output_type": "execute_result"
    }
   ],
   "source": [
    "[0for globals()['checkio'],checkio.__name__,checkio.__doc__ in[((lambda t,n=range(9),d='.',l=len,s=set:[[*(r[i]for i in n[:9:3]if(l(s(r[i:i+3]))==1)&(r[i]!=d)),*(r[c]for c in n[:3]if(l(s(r[c:9:3]))==1)&(r[c]!=d)),r[0]if(l(s(r[::4]))==1)&(r[0]!=d)else r[4]if(l(s(r[2:7:2]))==1)&(r[4]!=d)else'D'][0]for r in[''.join(t)]][0]),'checkio','Return the result of a game of tic-tac-toe')]]"
   ]
  },
  {
   "cell_type": "code",
   "execution_count": null,
   "metadata": {},
   "outputs": [],
   "source": []
  },
  {
   "cell_type": "code",
   "execution_count": 100,
   "metadata": {},
   "outputs": [],
   "source": [
    "def checkio(first, second):\n",
    "    first = first.split(',')\n",
    "    second = second.split(',')\n",
    "    return ', '.join(i for i in first for j in second if i==j)"
   ]
  },
  {
   "cell_type": "code",
   "execution_count": 101,
   "metadata": {},
   "outputs": [
    {
     "name": "stdout",
     "output_type": "stream",
     "text": [
      "hello\n",
      "XD\n"
     ]
    }
   ],
   "source": [
    "list_of_funcs = ['print(\"hello\")', 'str(5)', 'print(\"XD\")']\n",
    " \n",
    "for func in list_of_funcs:\n",
    "    eval(func)"
   ]
  },
  {
   "cell_type": "code",
   "execution_count": 102,
   "metadata": {},
   "outputs": [],
   "source": [
    "import numpy as np"
   ]
  },
  {
   "cell_type": "code",
   "execution_count": 103,
   "metadata": {},
   "outputs": [],
   "source": [
    "A = np.array ([2,5,9,8,8,3,2,1,2,1,8])"
   ]
  },
  {
   "cell_type": "code",
   "execution_count": 104,
   "metadata": {},
   "outputs": [
    {
     "name": "stdout",
     "output_type": "stream",
     "text": [
      "[1 2 3 5 8 9]\n",
      "[2 5 9 8 8 3 2 1 2 1 8]\n"
     ]
    }
   ],
   "source": [
    "set_=np.unique(A)\n",
    "print(set_)\n",
    "print(np.where(A==A[0],A,A))"
   ]
  },
  {
   "cell_type": "code",
   "execution_count": 105,
   "metadata": {},
   "outputs": [
    {
     "name": "stdout",
     "output_type": "stream",
     "text": [
      "[8.0, 4.666666666666667, 5.0, 1.0, 5.666666666666667, 2.0]\n"
     ]
    }
   ],
   "source": [
    "A = np.array ([2,5,9,8,8,3,2,1,2,1,8])\n",
    "set_ = np.unique(A)\n",
    "indeces = [np.where(A==i) for i in set_]\n",
    "mean_ = [np.mean(i) for i in indeces]\n",
    "print(mean_)"
   ]
  },
  {
   "cell_type": "code",
   "execution_count": 106,
   "metadata": {
    "scrolled": false
   },
   "outputs": [
    {
     "data": {
      "text/plain": [
       "[<function numpy.core.fromnumeric.mean>,\n",
       " <function numpy.core.fromnumeric.mean>,\n",
       " <function numpy.core.fromnumeric.mean>,\n",
       " <function numpy.core.fromnumeric.mean>,\n",
       " <function numpy.core.fromnumeric.mean>,\n",
       " <function numpy.core.fromnumeric.mean>]"
      ]
     },
     "execution_count": 106,
     "metadata": {},
     "output_type": "execute_result"
    }
   ],
   "source": [
    "A = np.array ([2,5,9,8,8,3,2,1,2,1,8])\n",
    "set_ = np.unique(A)\n",
    "indeces = map(np.where,[A==i for i in set_])\n",
    "[np.mean for i in indeces]"
   ]
  },
  {
   "cell_type": "code",
   "execution_count": 107,
   "metadata": {},
   "outputs": [
    {
     "name": "stdout",
     "output_type": "stream",
     "text": [
      "['__bytes__', '__class__', '__delattr__', '__dict__', '__dir__', '__doc__', '__eq__', '__format__', '__ge__', '__getattr__', '__getattribute__', '__getitem__', '__gt__', '__hash__', '__init__', '__init_subclass__', '__iter__', '__le__', '__len__', '__lt__', '__module__', '__ne__', '__new__', '__reduce__', '__reduce_ex__', '__repr__', '__setattr__', '__sizeof__', '__str__', '__subclasshook__', '__unicode__', '__weakref__', '_accessors', '_add_numeric_operations', '_agg_doc', '_aggregate', '_aggregate_multiple_funcs', '_aggregate_named', '_apply_filter', '_apply_to_column_groupbys', '_apply_whitelist', '_assure_grouper', '_builtin_table', '_concat_objects', '_constructor', '_cumcount_array', '_cython_agg_general', '_cython_table', '_cython_transform', '_def_str', '_deprecations', '_dir_additions', '_dir_deletions', '_get_index', '_get_indices', '_gotitem', '_group_selection', '_index_with_as_index', '_internal_names', '_internal_names_set', '_is_builtin_func', '_is_cython_func', '_iterate_slices', '_make_wrapper', '_obj_with_exclusions', '_python_agg_general', '_python_apply_general', '_reset_cache', '_reset_group_selection', '_selected_obj', '_selection', '_selection_list', '_selection_name', '_set_group_selection', '_set_result_index_ordered', '_shallow_copy', '_transform_fast', '_try_aggregate_string_function', '_try_cast', '_wrap_aggregated_output', '_wrap_applied_output', '_wrap_output', '_wrap_transformed_output', 'agg', 'aggregate', 'all', 'any', 'apply', 'backfill', 'bfill', 'corr', 'count', 'cov', 'cumcount', 'cummax', 'cummin', 'cumprod', 'cumsum', 'describe', 'diff', 'dtype', 'expanding', 'ffill', 'fillna', 'filter', 'first', 'get_group', 'groups', 'head', 'hist', 'idxmax', 'idxmin', 'indices', 'last', 'mad', 'max', 'mean', 'median', 'min', 'ndim', 'ngroup', 'ngroups', 'nlargest', 'nsmallest', 'nth', 'nunique', 'ohlc', 'pad', 'pct_change', 'pipe', 'plot', 'prod', 'quantile', 'rank', 'resample', 'rolling', 'sem', 'shift', 'size', 'skew', 'std', 'sum', 'tail', 'take', 'transform', 'tshift', 'unique', 'value_counts', 'var']\n",
      "[8.         4.66666667 5.         1.         5.66666667 2.        ]\n"
     ]
    }
   ],
   "source": [
    "import numpy as np\n",
    "import pandas as pd\n",
    "A = np.array([2,5,9,8,8,3,2,1,2,1,8])\n",
    "S = pd.Series(np.arange(len(A)))\n",
    "G=S.groupby(A)\n",
    "print(dir(G))\n",
    "print(S.groupby(A).mean().values)"
   ]
  },
  {
   "cell_type": "code",
   "execution_count": 108,
   "metadata": {},
   "outputs": [
    {
     "ename": "NameError",
     "evalue": "name 'A_' is not defined",
     "output_type": "error",
     "traceback": [
      "\u001b[1;31m---------------------------------------------------------------------------\u001b[0m",
      "\u001b[1;31mNameError\u001b[0m                                 Traceback (most recent call last)",
      "\u001b[1;32m<ipython-input-108-9dd10bb2884b>\u001b[0m in \u001b[0;36m<module>\u001b[1;34m()\u001b[0m\n\u001b[0;32m     19\u001b[0m     \u001b[1;32melse\u001b[0m\u001b[1;33m:\u001b[0m\u001b[1;33m\u001b[0m\u001b[0m\n\u001b[0;32m     20\u001b[0m         \u001b[0mx\u001b[0m\u001b[1;33m=\u001b[0m\u001b[1;33m[\u001b[0m\u001b[0mnp\u001b[0m\u001b[1;33m.\u001b[0m\u001b[0mmean\u001b[0m\u001b[1;33m(\u001b[0m\u001b[0mS\u001b[0m\u001b[1;33m[\u001b[0m\u001b[0mS\u001b[0m\u001b[1;33m[\u001b[0m\u001b[1;34m'col 1'\u001b[0m\u001b[1;33m]\u001b[0m\u001b[1;33m==\u001b[0m\u001b[0mi\u001b[0m\u001b[1;33m]\u001b[0m\u001b[1;33m.\u001b[0m\u001b[0mindex\u001b[0m\u001b[1;33m.\u001b[0m\u001b[0mvalues\u001b[0m\u001b[1;33m)\u001b[0m \u001b[1;32mfor\u001b[0m \u001b[0mi\u001b[0m \u001b[1;32min\u001b[0m \u001b[0mlrg_val\u001b[0m\u001b[1;33m]\u001b[0m\u001b[1;33m\u001b[0m\u001b[0m\n\u001b[1;32m---> 21\u001b[1;33m         \u001b[0mprint\u001b[0m\u001b[1;33m(\u001b[0m\u001b[0mA_\u001b[0m\u001b[1;33m[\u001b[0m\u001b[0mnp\u001b[0m\u001b[1;33m.\u001b[0m\u001b[0mwhere\u001b[0m\u001b[1;33m(\u001b[0m\u001b[0mnp\u001b[0m\u001b[1;33m.\u001b[0m\u001b[0margmin\u001b[0m\u001b[1;33m(\u001b[0m\u001b[0mx\u001b[0m\u001b[1;33m)\u001b[0m\u001b[1;33m)\u001b[0m\u001b[1;33m]\u001b[0m\u001b[1;33m[\u001b[0m\u001b[1;36m0\u001b[0m\u001b[1;33m]\u001b[0m\u001b[1;33m)\u001b[0m\u001b[1;33m\u001b[0m\u001b[0m\n\u001b[0m\u001b[0;32m     22\u001b[0m \u001b[1;33m\u001b[0m\u001b[0m\n\u001b[0;32m     23\u001b[0m \u001b[1;33m\u001b[0m\u001b[0m\n",
      "\u001b[1;31mNameError\u001b[0m: name 'A_' is not defined"
     ]
    }
   ],
   "source": [
    "import numpy as np\n",
    "import pandas as pd\n",
    "a=[8,5,9,8,8,3,2,1,2,1,2]\n",
    "b=[9,3,8,5,3,3,8]\n",
    "c=[1,2,3,4,5,6,7,8,9,]\n",
    "\n",
    "A = np.array(a)\n",
    "\n",
    "\n",
    "is_more = np.bincount(A)\n",
    "\n",
    "if (any(is_more[is_more>1])):\n",
    "    S = pd.DataFrame({'col 1':A,'col 2':np.arange(len(A))})\n",
    "    gb_S = S.groupby(S['col 1'])\n",
    "    largest = gb_S.size().nlargest()\n",
    "    lrg_val = largest[largest==largest.max()].index.values\n",
    "    if len(lrg_val)==1:\n",
    "        print(A[largest.loc[lrg_val[0]]])\n",
    "    else:\n",
    "        x=[np.mean(S[S['col 1']==i].index.values) for i in lrg_val]\n",
    "        print(A_[np.where(np.argmin(x))][0])\n",
    "    \n",
    "    \n",
    "    \n",
    "else: \n",
    "    print(A[0])\n",
    "    \n",
    "\n",
    "# [print(j,i) for j,i in gb_S]\n",
    "\n",
    "\n",
    "\n",
    "# G = S.groupby(A)\n",
    "# size_ = G.size()\n",
    "# largest = size_.nlargest()\n",
    "# closest_labels = largest[largest==largest.max()]\n",
    "# print (closest_labels.index.values)\n",
    "# for key,_ in G:\n",
    "#     print(key)\n",
    "#     print(G.get_group(key))\n"
   ]
  },
  {
   "cell_type": "code",
   "execution_count": null,
   "metadata": {},
   "outputs": [],
   "source": [
    "a=[8,5,9,8,8,3,2,1,2,1,2]\n",
    "b=[9,7,8,3,4,3,8]\n",
    "\n",
    "A_ = np.array(a)\n",
    "A = pd.DataFrame({'col 1':A_,'col 2':np.arange(len(A_))})\n",
    "gb_A = A.groupby(A['col 1'])\n",
    "largest = gb_A.size().nlargest()\n",
    "large_val = largest[largest==largest.max()].index.values\n",
    "print(large_val)\n",
    "x=[np.mean(A[A['col 1']==i].index.values) for i in large_val]\n",
    "print(np.argmin(x))\n",
    "print(A_[np.where(np.argmin(x))])\n",
    "[print(i) for _,i in gb_A]\n"
   ]
  },
  {
   "cell_type": "code",
   "execution_count": 3,
   "metadata": {},
   "outputs": [],
   "source": [
    "def cache(func):\n",
    "    prev = {}\n",
    "    def sub(arg):\n",
    "        if arg in prev:\n",
    "            return prev[arg]\n",
    "        res = func(arg)\n",
    "        prev[arg]= res\n",
    "        return res\n",
    "    return sub\n",
    "    "
   ]
  },
  {
   "cell_type": "code",
   "execution_count": 110,
   "metadata": {},
   "outputs": [
    {
     "name": "stdout",
     "output_type": "stream",
     "text": [
      "[1, 1, 2, 3, 5, 8, 13, 21, 34, 55, 89, 144, 233, 377, 610, 987]\n"
     ]
    }
   ],
   "source": [
    "@cache\n",
    "def feb(num):\n",
    "    if num < 2:\n",
    "        return 1\n",
    "    return feb(num-1)+feb(num-2)\n",
    "\n",
    "X = [feb(i) for i in range(16)]\n",
    "print(X)"
   ]
  },
  {
   "cell_type": "code",
   "execution_count": 111,
   "metadata": {},
   "outputs": [
    {
     "name": "stdout",
     "output_type": "stream",
     "text": [
      "9.37 µs ± 338 ns per loop (mean ± std. dev. of 7 runs, 100000 loops each)\n"
     ]
    }
   ],
   "source": [
    "%timeit X = [feb(i) for i in range(30)]"
   ]
  },
  {
   "cell_type": "code",
   "execution_count": null,
   "metadata": {},
   "outputs": [],
   "source": []
  },
  {
   "cell_type": "code",
   "execution_count": 11,
   "metadata": {},
   "outputs": [],
   "source": [
    "let = ('a','b','c')\n",
    "A = (f'{i}{j}{k}' for i in let for j in let for k in let)"
   ]
  },
  {
   "cell_type": "code",
   "execution_count": 14,
   "metadata": {},
   "outputs": [
    {
     "name": "stdout",
     "output_type": "stream",
     "text": [
      "aac\n"
     ]
    }
   ],
   "source": [
    "print(A.__next__())"
   ]
  },
  {
   "cell_type": "code",
   "execution_count": 114,
   "metadata": {},
   "outputs": [],
   "source": [
    "import sys"
   ]
  },
  {
   "cell_type": "code",
   "execution_count": 2,
   "metadata": {},
   "outputs": [
    {
     "data": {
      "text/plain": [
       "{'A': ['aaa',\n",
       "  'aab',\n",
       "  'aac',\n",
       "  'aba',\n",
       "  'abb',\n",
       "  'abc',\n",
       "  'aca',\n",
       "  'acb',\n",
       "  'acc',\n",
       "  'baa',\n",
       "  'bab',\n",
       "  'bac',\n",
       "  'bba',\n",
       "  'bbb',\n",
       "  'bbc',\n",
       "  'bca',\n",
       "  'bcb',\n",
       "  'bcc',\n",
       "  'caa',\n",
       "  'cab',\n",
       "  'cac',\n",
       "  'cba',\n",
       "  'cbb',\n",
       "  'cbc',\n",
       "  'cca',\n",
       "  'ccb',\n",
       "  'ccc'],\n",
       " 'In': ['',\n",
       "  \"let = ('a','b','c')\\nA = [f'{i}{j}{k}' for i in let for j in let for k in let]\",\n",
       "  'globals()'],\n",
       " 'Out': {},\n",
       " '_': '',\n",
       " '__': '',\n",
       " '___': '',\n",
       " '__builtin__': <module 'builtins' (built-in)>,\n",
       " '__builtins__': <module 'builtins' (built-in)>,\n",
       " '__doc__': 'Automatically created module for IPython interactive environment',\n",
       " '__loader__': None,\n",
       " '__name__': '__main__',\n",
       " '__package__': None,\n",
       " '__spec__': None,\n",
       " '_dh': ['C:\\\\Users\\\\Сергей\\\\Phyton'],\n",
       " '_i': \"let = ('a','b','c')\\nA = [f'{i}{j}{k}' for i in let for j in let for k in let]\",\n",
       " '_i1': \"let = ('a','b','c')\\nA = [f'{i}{j}{k}' for i in let for j in let for k in let]\",\n",
       " '_i2': 'globals()',\n",
       " '_ih': ['',\n",
       "  \"let = ('a','b','c')\\nA = [f'{i}{j}{k}' for i in let for j in let for k in let]\",\n",
       "  'globals()'],\n",
       " '_ii': '',\n",
       " '_iii': '',\n",
       " '_oh': {},\n",
       " 'exit': <IPython.core.autocall.ZMQExitAutocall at 0x57d5a58>,\n",
       " 'get_ipython': <bound method InteractiveShell.get_ipython of <ipykernel.zmqshell.ZMQInteractiveShell object at 0x0000000005785780>>,\n",
       " 'let': ('a', 'b', 'c'),\n",
       " 'quit': <IPython.core.autocall.ZMQExitAutocall at 0x57d5a58>}"
      ]
     },
     "execution_count": 2,
     "metadata": {},
     "output_type": "execute_result"
    }
   ],
   "source": [
    "globals()"
   ]
  },
  {
   "cell_type": "code",
   "execution_count": 10,
   "metadata": {},
   "outputs": [
    {
     "data": {
      "text/plain": [
       "{'In': ['',\n",
       "  \"assert('one','one')\",\n",
       "  \"x = 'one'\\nassert(x,'one')\",\n",
       "  \"x = 'one'\\nassert x=='one'\",\n",
       "  \"x = 'onfe'\\nassert x=='one'\",\n",
       "  \"x = 'onfe'\\nassert x=='one' , 'tehre is an error'\",\n",
       "  \"x = 'onfe'\\nassert x=='one' , print('tehre is an error')\",\n",
       "  \"x = 'onfe'\\nassert x=='one' \",\n",
       "  \"x = 'onfe'\\ndir(X)\\nassert x=='one' \",\n",
       "  \"x = 'onfe'\\ndir(x)\\nassert x=='one' \",\n",
       "  'locals()'],\n",
       " 'Out': {},\n",
       " '_': '',\n",
       " '__': '',\n",
       " '___': '',\n",
       " '__builtin__': <module 'builtins' (built-in)>,\n",
       " '__builtins__': <module 'builtins' (built-in)>,\n",
       " '__doc__': 'Automatically created module for IPython interactive environment',\n",
       " '__loader__': None,\n",
       " '__name__': '__main__',\n",
       " '__package__': None,\n",
       " '__spec__': None,\n",
       " '_dh': ['C:\\\\Users\\\\Сергей\\\\Phyton'],\n",
       " '_i': \"x = 'onfe'\\ndir(x)\\nassert x=='one' \",\n",
       " '_i1': \"assert('one','one')\",\n",
       " '_i10': 'locals()',\n",
       " '_i2': \"x = 'one'\\nassert(x,'one')\",\n",
       " '_i3': \"x = 'one'\\nassert x=='one'\",\n",
       " '_i4': \"x = 'onfe'\\nassert x=='one'\",\n",
       " '_i5': \"x = 'onfe'\\nassert x=='one' , 'tehre is an error'\",\n",
       " '_i6': \"x = 'onfe'\\nassert x=='one' , print('tehre is an error')\",\n",
       " '_i7': \"x = 'onfe'\\nassert x=='one' \",\n",
       " '_i8': \"x = 'onfe'\\ndir(X)\\nassert x=='one' \",\n",
       " '_i9': \"x = 'onfe'\\ndir(x)\\nassert x=='one' \",\n",
       " '_ih': ['',\n",
       "  \"assert('one','one')\",\n",
       "  \"x = 'one'\\nassert(x,'one')\",\n",
       "  \"x = 'one'\\nassert x=='one'\",\n",
       "  \"x = 'onfe'\\nassert x=='one'\",\n",
       "  \"x = 'onfe'\\nassert x=='one' , 'tehre is an error'\",\n",
       "  \"x = 'onfe'\\nassert x=='one' , print('tehre is an error')\",\n",
       "  \"x = 'onfe'\\nassert x=='one' \",\n",
       "  \"x = 'onfe'\\ndir(X)\\nassert x=='one' \",\n",
       "  \"x = 'onfe'\\ndir(x)\\nassert x=='one' \",\n",
       "  'locals()'],\n",
       " '_ii': \"x = 'onfe'\\ndir(X)\\nassert x=='one' \",\n",
       " '_iii': \"x = 'onfe'\\nassert x=='one' \",\n",
       " '_oh': {},\n",
       " 'exit': <IPython.core.autocall.ZMQExitAutocall at 0x5bb4a20>,\n",
       " 'get_ipython': <bound method InteractiveShell.get_ipython of <ipykernel.zmqshell.ZMQInteractiveShell object at 0x0000000005B65748>>,\n",
       " 'quit': <IPython.core.autocall.ZMQExitAutocall at 0x5bb4a20>,\n",
       " 'x': 'onfe'}"
      ]
     },
     "execution_count": 10,
     "metadata": {},
     "output_type": "execute_result"
    }
   ],
   "source": [
    "locals()"
   ]
  },
  {
   "cell_type": "code",
   "execution_count": null,
   "metadata": {},
   "outputs": [],
   "source": []
  },
  {
   "cell_type": "code",
   "execution_count": 14,
   "metadata": {},
   "outputs": [
    {
     "name": "stdout",
     "output_type": "stream",
     "text": [
      "['__add__', '__class__', '__contains__', '__delattr__', '__dir__', '__doc__', '__eq__', '__format__', '__ge__', '__getattribute__', '__getitem__', '__getnewargs__', '__gt__', '__hash__', '__init__', '__init_subclass__', '__iter__', '__le__', '__len__', '__lt__', '__mod__', '__mul__', '__ne__', '__new__', '__reduce__', '__reduce_ex__', '__repr__', '__rmod__', '__rmul__', '__setattr__', '__sizeof__', '__str__', '__subclasshook__', 'capitalize', 'casefold', 'center', 'count', 'encode', 'endswith', 'expandtabs', 'find', 'format', 'format_map', 'index', 'isalnum', 'isalpha', 'isdecimal', 'isdigit', 'isidentifier', 'islower', 'isnumeric', 'isprintable', 'isspace', 'istitle', 'isupper', 'join', 'ljust', 'lower', 'lstrip', 'maketrans', 'partition', 'replace', 'rfind', 'rindex', 'rjust', 'rpartition', 'rsplit', 'rstrip', 'split', 'splitlines', 'startswith', 'strip', 'swapcase', 'title', 'translate', 'upper', 'zfill']\n"
     ]
    },
    {
     "ename": "AssertionError",
     "evalue": "",
     "output_type": "error",
     "traceback": [
      "\u001b[1;31m---------------------------------------------------------------------------\u001b[0m",
      "\u001b[1;31mAssertionError\u001b[0m                            Traceback (most recent call last)",
      "\u001b[1;32m<ipython-input-14-87db2de94969>\u001b[0m in \u001b[0;36m<module>\u001b[1;34m()\u001b[0m\n\u001b[0;32m      1\u001b[0m \u001b[0mx\u001b[0m \u001b[1;33m=\u001b[0m \u001b[1;34m'onfe'\u001b[0m\u001b[1;33m\u001b[0m\u001b[0m\n\u001b[0;32m      2\u001b[0m \u001b[0mprint\u001b[0m\u001b[1;33m(\u001b[0m\u001b[0mdir\u001b[0m\u001b[1;33m(\u001b[0m\u001b[0m__name__\u001b[0m\u001b[1;33m)\u001b[0m\u001b[1;33m)\u001b[0m\u001b[1;33m\u001b[0m\u001b[0m\n\u001b[1;32m----> 3\u001b[1;33m \u001b[1;32massert\u001b[0m \u001b[0mx\u001b[0m\u001b[1;33m==\u001b[0m\u001b[1;34m'one'\u001b[0m\u001b[1;33m\u001b[0m\u001b[0m\n\u001b[0m",
      "\u001b[1;31mAssertionError\u001b[0m: "
     ]
    }
   ],
   "source": [
    "x = 'onfe'\n",
    "print(dir(__name__))\n",
    "assert x=='one' "
   ]
  },
  {
   "cell_type": "code",
   "execution_count": null,
   "metadata": {},
   "outputs": [],
   "source": []
  },
  {
   "cell_type": "code",
   "execution_count": null,
   "metadata": {},
   "outputs": [],
   "source": []
  },
  {
   "cell_type": "code",
   "execution_count": null,
   "metadata": {},
   "outputs": [],
   "source": []
  },
  {
   "cell_type": "code",
   "execution_count": null,
   "metadata": {},
   "outputs": [],
   "source": []
  },
  {
   "cell_type": "code",
   "execution_count": null,
   "metadata": {},
   "outputs": [],
   "source": []
  },
  {
   "cell_type": "code",
   "execution_count": null,
   "metadata": {},
   "outputs": [],
   "source": []
  },
  {
   "cell_type": "code",
   "execution_count": null,
   "metadata": {},
   "outputs": [],
   "source": []
  },
  {
   "cell_type": "code",
   "execution_count": null,
   "metadata": {},
   "outputs": [],
   "source": []
  },
  {
   "cell_type": "code",
   "execution_count": null,
   "metadata": {},
   "outputs": [],
   "source": []
  },
  {
   "cell_type": "code",
   "execution_count": null,
   "metadata": {},
   "outputs": [],
   "source": []
  },
  {
   "cell_type": "code",
   "execution_count": null,
   "metadata": {},
   "outputs": [],
   "source": []
  },
  {
   "cell_type": "code",
   "execution_count": null,
   "metadata": {},
   "outputs": [],
   "source": []
  },
  {
   "cell_type": "code",
   "execution_count": null,
   "metadata": {},
   "outputs": [],
   "source": []
  },
  {
   "cell_type": "code",
   "execution_count": null,
   "metadata": {},
   "outputs": [],
   "source": []
  },
  {
   "cell_type": "code",
   "execution_count": null,
   "metadata": {},
   "outputs": [],
   "source": []
  },
  {
   "cell_type": "code",
   "execution_count": null,
   "metadata": {},
   "outputs": [],
   "source": []
  },
  {
   "cell_type": "code",
   "execution_count": null,
   "metadata": {},
   "outputs": [],
   "source": []
  },
  {
   "cell_type": "code",
   "execution_count": null,
   "metadata": {},
   "outputs": [],
   "source": []
  },
  {
   "cell_type": "code",
   "execution_count": null,
   "metadata": {},
   "outputs": [],
   "source": []
  }
 ],
 "metadata": {
  "kernelspec": {
   "display_name": "Python 3",
   "language": "python",
   "name": "python3"
  },
  "language_info": {
   "codemirror_mode": {
    "name": "ipython",
    "version": 3
   },
   "file_extension": ".py",
   "mimetype": "text/x-python",
   "name": "python",
   "nbconvert_exporter": "python",
   "pygments_lexer": "ipython3",
   "version": "3.6.4"
  }
 },
 "nbformat": 4,
 "nbformat_minor": 2
}
