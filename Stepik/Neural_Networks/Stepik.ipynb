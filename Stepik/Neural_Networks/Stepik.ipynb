{
 "cells": [
  {
   "cell_type": "code",
   "execution_count": 8,
   "metadata": {},
   "outputs": [],
   "source": [
    "import numpy as np\n",
    "import pandas as pd\n",
    "import matplotlib.pyplot as plt\n",
    "from numpy import linalg\n",
    "import urllib\n",
    "from urllib import request"
   ]
  },
  {
   "cell_type": "code",
   "execution_count": 9,
   "metadata": {},
   "outputs": [],
   "source": [
    "def fmt_items(lines,max_lines=0):\n",
    "    max_width=max([len(line)for line in lines])\n",
    "    empty =' '*max_width\n",
    "    lines = [line.ljust(max_width)for line in lines]\n",
    "    lines += [empty]*(max_lines - len(lines))\n",
    "    return lines\n",
    "def pp (*list):\n",
    "    lines = [ str(item).split('\\n') for item in list]\n",
    "    max_lines=max([len(item)for  item in lines])\n",
    "    lines = [fmt_items(item,max_lines=max_lines)for item in lines]\n",
    "    lines_t= np.array(lines).T\n",
    "    print('\\n'.join([' '.join(line) for  line in lines_t]))"
   ]
  },
  {
   "cell_type": "code",
   "execution_count": 10,
   "metadata": {},
   "outputs": [
    {
     "name": "stdout",
     "output_type": "stream",
     "text": [
      "[[0 1 0 0]\n",
      " [0 0 1 0]\n",
      " [0 0 0 1]]\n"
     ]
    }
   ],
   "source": [
    "a = np.eye(3, 4, 0,dtype = int)\n",
    "b = np.eye(3, 4, 1,dtype = int)\n",
    "c = 2*a + b\n",
    "print(b)"
   ]
  },
  {
   "cell_type": "code",
   "execution_count": null,
   "metadata": {},
   "outputs": [],
   "source": []
  },
  {
   "cell_type": "code",
   "execution_count": 11,
   "metadata": {},
   "outputs": [],
   "source": [
    "path = 'https://stepic.org/media/attachments/lesson/16462/boston_houses.csv'\n",
    "file = urllib.request.urlopen(path)"
   ]
  },
  {
   "cell_type": "code",
   "execution_count": 8,
   "metadata": {},
   "outputs": [],
   "source": [
    "X = np.loadtxt(file,delimiter =',',skiprows=1)"
   ]
  },
  {
   "cell_type": "code",
   "execution_count": 9,
   "metadata": {},
   "outputs": [],
   "source": [
    "y = X[:,0].copy()"
   ]
  },
  {
   "cell_type": "code",
   "execution_count": 10,
   "metadata": {},
   "outputs": [],
   "source": [
    "X[:,0] = 1"
   ]
  },
  {
   "cell_type": "code",
   "execution_count": 13,
   "metadata": {},
   "outputs": [],
   "source": [
    "b = linalg.inv(X.T@X)@X.T@y"
   ]
  },
  {
   "cell_type": "code",
   "execution_count": 14,
   "metadata": {},
   "outputs": [
    {
     "data": {
      "text/plain": [
       "array([ -3.65580429,  -0.2163955 ,   0.0737306 ,   4.41245058,\n",
       "       -25.46844878,   7.14320155,  -1.30108768])"
      ]
     },
     "execution_count": 14,
     "metadata": {},
     "output_type": "execute_result"
    }
   ],
   "source": [
    "b"
   ]
  },
  {
   "cell_type": "markdown",
   "metadata": {},
   "source": [
    "### 2.3 Перцептрон: обучение"
   ]
  },
  {
   "cell_type": "code",
   "execution_count": 12,
   "metadata": {},
   "outputs": [],
   "source": [
    "def predict (example,w):\n",
    "    return int(np.sum(example*w)>0)"
   ]
  },
  {
   "cell_type": "code",
   "execution_count": 13,
   "metadata": {},
   "outputs": [],
   "source": [
    "w = np.array([0,0,0])\n",
    "imput = pd.DataFrame([[1,1,0.3],[1,0.4,0.5],[1,0.7,0.8]])\n",
    "answer = np.array([1,1,0])"
   ]
  },
  {
   "cell_type": "code",
   "execution_count": 15,
   "metadata": {},
   "outputs": [
    {
     "name": "stdout",
     "output_type": "stream",
     "text": [
      "0    0.0      \n",
      "1    0.3      \n",
      "2   -0.5      \n",
      "dtype: float64\n",
      "0    0.0       1 1\n",
      "1    0.3          \n",
      "2   -0.5          \n",
      "dtype: float64    \n",
      "0    0.0      \n",
      "1    0.3      \n",
      "2   -0.5      \n",
      "dtype: float64\n",
      "0    1.0       0 1\n",
      "1    0.7          \n",
      "2    0.0          \n",
      "dtype: float64    \n",
      "0    1.0      \n",
      "1    0.7      \n",
      "2    0.0      \n",
      "dtype: float64\n",
      "0    0.000000e+00 1 0\n",
      "1    1.110223e-16    \n",
      "2   -8.000000e-01    \n",
      "dtype: float64       \n",
      "loop stoped\n"
     ]
    }
   ],
   "source": [
    "for z in range(1):\n",
    "    for i,r in imput.iterrows():\n",
    "        pp(w)\n",
    "        prediction = predict(r,w)\n",
    "        if prediction != answer[i]:\n",
    "            if prediction == 0:\n",
    "                w = w+r\n",
    "            else:\n",
    "                w = w-r\n",
    "        pp(w,prediction,answer[i])\n",
    "            \n",
    "print('loop stoped')\n",
    "\n",
    "    "
   ]
  },
  {
   "cell_type": "code",
   "execution_count": 4,
   "metadata": {},
   "outputs": [
    {
     "name": "stdout",
     "output_type": "stream",
     "text": [
      "[1.  1.  0.3] [0 0 0] 0.0 0\n",
      "0 [1.  1.  0.3] [1.  1.  0.3] \n",
      "\n",
      "\n",
      "[1.  0.4 0.5] [1.  1.  0.3] 1.5499999999999998 1\n",
      "[1.  0.7 0.8] [1.  1.  0.3] 1.94 1\n",
      "1 [ 0.   0.3 -0.5] [1.  0.7 0.8] \n",
      "\n",
      "\n"
     ]
    },
    {
     "ename": "NameError",
     "evalue": "name 'weights' is not defined",
     "output_type": "error",
     "traceback": [
      "\u001b[1;31m---------------------------------------------------------------------------\u001b[0m",
      "\u001b[1;31mNameError\u001b[0m                                 Traceback (most recent call last)",
      "\u001b[1;32m<ipython-input-4-604b9f7dead0>\u001b[0m in \u001b[0;36m<module>\u001b[1;34m\u001b[0m\n\u001b[0;32m     28\u001b[0m             \u001b[0mw\u001b[0m \u001b[1;33m=\u001b[0m \u001b[0mw\u001b[0m \u001b[1;33m-\u001b[0m \u001b[0me\u001b[0m\u001b[1;33m\u001b[0m\u001b[1;33m\u001b[0m\u001b[0m\n\u001b[0;32m     29\u001b[0m         \u001b[0mprint\u001b[0m\u001b[1;33m(\u001b[0m\u001b[0mprediction\u001b[0m\u001b[1;33m,\u001b[0m\u001b[0mw\u001b[0m\u001b[1;33m,\u001b[0m\u001b[0me\u001b[0m\u001b[1;33m,\u001b[0m\u001b[1;34m'\\n\\n'\u001b[0m\u001b[1;33m)\u001b[0m\u001b[1;33m\u001b[0m\u001b[1;33m\u001b[0m\u001b[0m\n\u001b[1;32m---> 30\u001b[1;33m \u001b[0mprint\u001b[0m\u001b[1;33m(\u001b[0m\u001b[0mweights\u001b[0m\u001b[1;33m)\u001b[0m\u001b[1;33m\u001b[0m\u001b[1;33m\u001b[0m\u001b[0m\n\u001b[0m",
      "\u001b[1;31mNameError\u001b[0m: name 'weights' is not defined"
     ]
    }
   ],
   "source": [
    "import numpy\n",
    "\n",
    "examples = numpy.array([\n",
    "    [1, 1, 0.3],\n",
    "    [1, 0.4, 0.5],\n",
    "    [1, 0.7, 0.8]\n",
    "])\n",
    "target = [1, 1, 0]\n",
    "perfect = 0\n",
    "\n",
    "def predict(x, weights):\n",
    "    print(x,weights,x @ weights,int((x @ weights) > 0))\n",
    "    return int((x @ weights) > 0)\n",
    "\n",
    "\n",
    "w = numpy.array([0, 0, 0])\n",
    "for re in range(1):\n",
    "    perfect = 1\n",
    "    for idx, e in enumerate(examples):\n",
    "        prediction = predict(e, w)\n",
    "        \n",
    "        if prediction == target[idx]:\n",
    "            continue\n",
    "        perfect = 0\n",
    "        if prediction == 0:\n",
    "            w = w + e\n",
    "        if prediction == 1:\n",
    "            w = w - e\n",
    "        print(prediction,w,e,'\\n\\n')\n",
    "print(weights)"
   ]
  },
  {
   "cell_type": "code",
   "execution_count": 1,
   "metadata": {},
   "outputs": [
    {
     "name": "stdout",
     "output_type": "stream",
     "text": [
      "d tanh(12)=2.3538526586668966e+17\n",
      "d sigm(12)=6.1441368513331755e-06\n",
      "\n",
      "tanh(-x)=-0.9999999999244972\n",
      "1−tanh(x)= 7.550282621338056e-11\n",
      "\n",
      "sigm(-x)=6.144174602214718e-06\n",
      "−sigm(x)=-0.9999938558253978\n",
      "\n",
      "sigm(-x)=6.144174602214718e-06\n",
      "1-sigm(x)=6.144174602207286e-06\n",
      "\n",
      "tanh(-x)=-0.9999999999244972\n",
      "-tanh(x)=-0.9999999999244972\n"
     ]
    }
   ],
   "source": [
    "from math import exp\n",
    "#Функция гиперболического тангенса\n",
    "def tanh(x):\n",
    "    return ((exp(x)-exp(x*-1))/(exp(x)+exp(x*-1)))\n",
    "\n",
    "#Сигмоидальная функция\n",
    "def sigm(x):\n",
    "    return 1/(1+(exp(x*-1)))\n",
    "\n",
    "#Производная гиперболического тангенса\n",
    "def dtanh(x):\n",
    "    return ( (1-exp(x-2))**2    *    (-(exp(x-2)+1))**2 ) +1\n",
    "\n",
    "#Производная сигмоидальной функции\n",
    "def dsigm(x):\n",
    "    return ( exp(-x)/(exp(-x)+1)**2 )\n",
    "\n",
    "\n",
    "#Принт вариантов ответов по почереди подбирая Х\n",
    "\n",
    "x=12\n",
    "\n",
    "#1. производная tanh в точке 0 и производная σ в точке 0\n",
    "print (f'd tanh({x})={dtanh(x)}\\nd sigm({x})={dsigm(x)}')\n",
    "\n",
    "#2. tanh(−x)=1−tanh(x) для любого x\n",
    "print (f'\\ntanh(-x)={tanh(-x)}')\n",
    "print ('1−tanh(x)=',(1-tanh(x)))\n",
    "\n",
    "#3 σ(−x)=−σ(x) для любого x (сигмоидальная функция нечётна)\n",
    "print (f'\\nsigm(-x)={sigm(-x)}\\n−sigm(x)={-sigm(x)}')\n",
    "\n",
    "#4. σ(−x)=1−σ(x) для любого x\n",
    "print (f'\\nsigm(-x)={sigm(-x)}\\n1-sigm(x)={1-sigm(x)}')\n",
    "\n",
    "#5 tanh(−x)=−tanh(x) для любого x (гиперболический тангенс нечётен)\n",
    "print (f'\\ntanh(-x)={tanh(-x)}\\n-tanh(x)={-tanh(x)}')"
   ]
  },
  {
   "cell_type": "code",
   "execution_count": null,
   "metadata": {},
   "outputs": [],
   "source": []
  },
  {
   "cell_type": "code",
   "execution_count": null,
   "metadata": {},
   "outputs": [],
   "source": []
  },
  {
   "cell_type": "code",
   "execution_count": null,
   "metadata": {},
   "outputs": [],
   "source": []
  }
 ],
 "metadata": {
  "kernelspec": {
   "display_name": "Python 3",
   "language": "python",
   "name": "python3"
  },
  "language_info": {
   "codemirror_mode": {
    "name": "ipython",
    "version": 3
   },
   "file_extension": ".py",
   "mimetype": "text/x-python",
   "name": "python",
   "nbconvert_exporter": "python",
   "pygments_lexer": "ipython3",
   "version": "3.7.3"
  }
 },
 "nbformat": 4,
 "nbformat_minor": 2
}
