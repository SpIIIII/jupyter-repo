{
 "cells": [
  {
   "cell_type": "code",
   "execution_count": 2,
   "metadata": {},
   "outputs": [],
   "source": [
    "import numpy as np"
   ]
  },
  {
   "cell_type": "code",
   "execution_count": null,
   "metadata": {},
   "outputs": [],
   "source": []
  },
  {
   "cell_type": "code",
   "execution_count": 3,
   "metadata": {},
   "outputs": [],
   "source": [
    "def act_max(x):\n",
    "    return x if x >0 else 0\n",
    "\n",
    "def act_max_prime(x):\n",
    "    return 1 if x>0 else 0\n",
    "\n",
    "def sigmoid(x):\n",
    "    return 1/(1+np.exp(-x))\n",
    "\n",
    "def sigmoid_prime(x):\n",
    "    return sigmoid(x) * (1 - sigmoid(x))\n",
    "\n",
    "def gen_weidgth (x):\n",
    "    if len(x.shape)>1:\n",
    "        return np.random.randn(x.shape[1],1)\n",
    "    else:\n",
    "        return np.random.randn(x.shape[0],1)\n",
    "    \n",
    "def terget_func (right, predicted):\n",
    "    return (predicted - right) ** 2\n",
    "\n",
    "def terget_func_prime(right, predicted):\n",
    "    return 2*(predicted - right)\n",
    "    \n",
    "class Neuron:\n",
    "    def __init__(self, weidgth, activation = sigmoid, activation_deriv = sigmoid_prime):\n",
    "        self.acttivation = activation\n",
    "        self.activation_deriv = activation_deriv\n",
    "        self.weidgth = weidgth\n",
    "    def forvard (self, input_):\n",
    "        self.input_ = input_\n",
    "        self.forvard_res = self.acttivation(input_@self.weidgth)\n",
    "        return self.forvard_res\n",
    "    def backward (self, error):\n",
    "        return self.forvard_res*self.activation_deriv(error)\n",
    "        \n",
    "    \n"
   ]
  },
  {
   "cell_type": "code",
   "execution_count": 4,
   "metadata": {},
   "outputs": [],
   "source": [
    "input_ = np.array([0,1,1])\n"
   ]
  },
  {
   "cell_type": "code",
   "execution_count": 5,
   "metadata": {},
   "outputs": [],
   "source": [
    "weights_1 = np.array([0.7,0.2,0.7])\n",
    "weights_2 = np.array([0.8,0.3,0.6])\n",
    "weights_3 = np.array([0.2,0.4])\n",
    "l1n1 = Neuron(weights_1,act_max,act_max_prime)\n",
    "l1n2 = Neuron(weights_2,sigmoid,sigmoid_prime)\n"
   ]
  },
  {
   "cell_type": "code",
   "execution_count": 6,
   "metadata": {},
   "outputs": [
    {
     "data": {
      "text/plain": [
       "array([0.9      , 0.7109495])"
      ]
     },
     "execution_count": 6,
     "metadata": {},
     "output_type": "execute_result"
    }
   ],
   "source": [
    "one_exit = l1n1.forvard(input_)\n",
    "two_exit = l1n2.forvard(input_)\n",
    "next_input = np.concatenate((one_exit,two_exit),axis = None)\n",
    "next_input"
   ]
  },
  {
   "cell_type": "code",
   "execution_count": 11,
   "metadata": {},
   "outputs": [
    {
     "name": "stdout",
     "output_type": "stream",
     "text": [
      "[0.2 0.4]\n"
     ]
    },
    {
     "data": {
      "text/plain": [
       "0.6140526709954424"
      ]
     },
     "execution_count": 11,
     "metadata": {},
     "output_type": "execute_result"
    }
   ],
   "source": [
    "l2n1 = Neuron(weights_3,sigmoid,sigmoid_prime)\n",
    "print(l2n1.weidgth)\n",
    "last_exit = l2n1.forvard(next_input)\n",
    "last_exit"
   ]
  },
  {
   "cell_type": "code",
   "execution_count": 12,
   "metadata": {},
   "outputs": [
    {
     "data": {
      "text/plain": [
       "0.14895534076575226"
      ]
     },
     "execution_count": 12,
     "metadata": {},
     "output_type": "execute_result"
    }
   ],
   "source": [
    "error = terget_func(1,last_exit)\n",
    "error"
   ]
  },
  {
   "cell_type": "code",
   "execution_count": 13,
   "metadata": {},
   "outputs": [
    {
     "data": {
      "text/plain": [
       "-1.7020893184684955"
      ]
     },
     "execution_count": 13,
     "metadata": {},
     "output_type": "execute_result"
    }
   ],
   "source": [
    "last_delta = terget_func_prime(1,error)\n",
    "last_delta"
   ]
  },
  {
   "cell_type": "code",
   "execution_count": 14,
   "metadata": {},
   "outputs": [
    {
     "data": {
      "text/plain": [
       "0.08008304950524076"
      ]
     },
     "execution_count": 14,
     "metadata": {},
     "output_type": "execute_result"
    }
   ],
   "source": [
    "last_error = l2n1.backward(last_delta)\n",
    "last_error"
   ]
  },
  {
   "cell_type": "code",
   "execution_count": 15,
   "metadata": {},
   "outputs": [
    {
     "data": {
      "text/plain": [
       "(0.8999999999999999, 0.8999999999999999)"
      ]
     },
     "execution_count": 15,
     "metadata": {},
     "output_type": "execute_result"
    }
   ],
   "source": [
    "first_errow = l1n1.backward(last_error)\n",
    "second_errow = l1n1.backward(last_error)\n",
    "first_errow,second_errow"
   ]
  },
  {
   "cell_type": "code",
   "execution_count": null,
   "metadata": {},
   "outputs": [],
   "source": []
  },
  {
   "cell_type": "code",
   "execution_count": null,
   "metadata": {},
   "outputs": [],
   "source": []
  },
  {
   "cell_type": "code",
   "execution_count": null,
   "metadata": {},
   "outputs": [],
   "source": []
  },
  {
   "cell_type": "code",
   "execution_count": null,
   "metadata": {},
   "outputs": [],
   "source": []
  },
  {
   "cell_type": "code",
   "execution_count": null,
   "metadata": {},
   "outputs": [],
   "source": []
  },
  {
   "cell_type": "code",
   "execution_count": null,
   "metadata": {},
   "outputs": [],
   "source": []
  },
  {
   "cell_type": "code",
   "execution_count": null,
   "metadata": {},
   "outputs": [],
   "source": []
  },
  {
   "cell_type": "code",
   "execution_count": null,
   "metadata": {},
   "outputs": [],
   "source": []
  },
  {
   "cell_type": "code",
   "execution_count": null,
   "metadata": {},
   "outputs": [],
   "source": []
  },
  {
   "cell_type": "code",
   "execution_count": null,
   "metadata": {},
   "outputs": [],
   "source": []
  }
 ],
 "metadata": {
  "kernelspec": {
   "display_name": "Python 3",
   "language": "python",
   "name": "python3"
  },
  "language_info": {
   "codemirror_mode": {
    "name": "ipython",
    "version": 3
   },
   "file_extension": ".py",
   "mimetype": "text/x-python",
   "name": "python",
   "nbconvert_exporter": "python",
   "pygments_lexer": "ipython3",
   "version": "3.7.4"
  }
 },
 "nbformat": 4,
 "nbformat_minor": 2
}
