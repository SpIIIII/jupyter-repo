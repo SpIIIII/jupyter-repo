{
 "cells": [
  {
   "cell_type": "code",
   "execution_count": 1,
   "metadata": {},
   "outputs": [],
   "source": [
    "import numpy as np\n"
   ]
  },
  {
   "cell_type": "code",
   "execution_count": 2,
   "metadata": {},
   "outputs": [],
   "source": [
    "def fmt_items(lines,max_lines=0):\n",
    "    max_width=max([len(line)for line in lines])\n",
    "    empty =' '*max_width\n",
    "    lines = [line.ljust(max_width)for line in lines]\n",
    "    lines += [empty]*(max_lines - len(lines))\n",
    "    return lines\n",
    "def pp (*list):\n",
    "    lines = [ str(item).split('\\n') for item in list]\n",
    "    max_lines=max([len(item)for  item in lines])\n",
    "    lines = [fmt_items(item,max_lines=max_lines)for item in lines]\n",
    "    lines_t= np.array(lines).T\n",
    "    print('\\n'.join([' '.join(line) for  line in lines_t]))"
   ]
  },
  {
   "cell_type": "code",
   "execution_count": 95,
   "metadata": {},
   "outputs": [],
   "source": [
    "def act_max(x):\n",
    "    return x if x >0 else 0\n",
    "\n",
    "def act_max_prime(x):\n",
    "    return np.where(x>=0,1,0)\n",
    "\n",
    "def sigmoid(x):\n",
    "    return 1/(1+np.exp(-x))\n",
    "\n",
    "def sigmoid_prime(x):\n",
    "    return sigmoid(x) * (1 - sigmoid(x))\n",
    "\n",
    "def gen_weidgth (x):\n",
    "    if len(x.shape)>1:\n",
    "        return np.random.randn(x.shape[1],1)\n",
    "    else:\n",
    "        return np.random.randn(x.shape[0],1)\n",
    "    \n",
    "def terget_func (right, predicted):\n",
    "    return (predicted -right) ** 2\n",
    "\n",
    "def terget_func_prime(right, predicted):\n",
    "    return (predicted -right)\n",
    "    \n",
    "class Neuron:\n",
    "    def __init__(self, weidgth, activation = sigmoid, activation_deriv = sigmoid_prime):\n",
    "        self.d_W = 0\n",
    "        self.acttivation = activation\n",
    "        self.activation_deriv = activation_deriv\n",
    "        self.weidgth = weidgth\n",
    "    def forvard (self, input_):\n",
    "        pp('input ', input_, ' of shape ',input_.shape,' @ weidght ',\n",
    "           self.weidgth,' of shepe ',self.weidgth.shape,' = ')\n",
    "        self.input_ = input_\n",
    "        self.output = self.input_@self.weidgth\n",
    "        self.forvard_res = self.acttivation(self.output)\n",
    "        return self.forvard_res\n",
    "    def backward (self, error):\n",
    "       \n",
    "        back_active = self.activation_deriv(self.output)*error\n",
    "        pp ('back_active @ weights.T',back_active,' @ ', self.weidgth.T)\n",
    "        d_input = back_active@self.weidgth.T\n",
    "        self.d_W = self.input_[:,None]@back_active\n",
    "        return d_input\n",
    "        \n",
    "    \n"
   ]
  },
  {
   "cell_type": "code",
   "execution_count": 96,
   "metadata": {},
   "outputs": [],
   "source": [
    "input_ = np.array([0,1,1])\n"
   ]
  },
  {
   "cell_type": "code",
   "execution_count": 97,
   "metadata": {},
   "outputs": [],
   "source": [
    "weights_1 = np.array([[0.7],[0.2],[0.7]])\n",
    "weights_2 = np.array([[0.8],[0.3],[0.6]])\n",
    "weights_3 = np.array([[0.2],[0.4]])\n",
    "l1n1 = Neuron(weights_1,act_max,act_max_prime)\n",
    "l1n2 = Neuron(weights_2,sigmoid,sigmoid_prime)\n"
   ]
  },
  {
   "cell_type": "code",
   "execution_count": 98,
   "metadata": {},
   "outputs": [
    {
     "name": "stdout",
     "output_type": "stream",
     "text": [
      "input  [0 1 1]  of shape  (3,)  @ weidght  [[0.7]   of shepe  (3, 1)  = \n",
      "                                            [0.2]                       \n",
      "                                            [0.7]]                      \n",
      "input  [0 1 1]  of shape  (3,)  @ weidght  [[0.8]   of shepe  (3, 1)  = \n",
      "                                            [0.3]                       \n",
      "                                            [0.6]]                      \n",
      "\n",
      "output of first layer    [0.9       0.7109495]\n"
     ]
    }
   ],
   "source": [
    "one_exit = l1n1.forvard(input_)\n",
    "two_exit = l1n2.forvard(input_)\n",
    "next_input = np.concatenate((one_exit,two_exit),axis = None)\n",
    "print('\\noutput of first layer   ',next_input)"
   ]
  },
  {
   "cell_type": "code",
   "execution_count": 99,
   "metadata": {},
   "outputs": [
    {
     "name": "stdout",
     "output_type": "stream",
     "text": [
      "[[0.2]\n",
      " [0.4]]\n",
      "input  [0.9       0.7109495]  of shape  (2,)  @ weidght  [[0.2]   of shepe  (2, 1)  = \n",
      "                                                          [0.4]]                      \n",
      "\n",
      "output of network   [0.61405267]\n"
     ]
    }
   ],
   "source": [
    "l2n1 = Neuron(weights_3,sigmoid,sigmoid_prime)\n",
    "print(l2n1.weidgth)\n",
    "predict = l2n1.forvard(next_input)\n",
    "print('\\noutput of network  ',predict)"
   ]
  },
  {
   "cell_type": "code",
   "execution_count": 100,
   "metadata": {},
   "outputs": [
    {
     "name": "stdout",
     "output_type": "stream",
     "text": [
      "error   [0.14895534]\n"
     ]
    }
   ],
   "source": [
    "error = terget_func(1,predict)\n",
    "\n",
    "print('error  ',error)"
   ]
  },
  {
   "cell_type": "code",
   "execution_count": 101,
   "metadata": {},
   "outputs": [
    {
     "data": {
      "text/plain": [
       "array([-0.38594733])"
      ]
     },
     "execution_count": 101,
     "metadata": {},
     "output_type": "execute_result"
    }
   ],
   "source": [
    "last_delta = terget_func_prime(1,predict)\n",
    "\n",
    "last_delta"
   ]
  },
  {
   "cell_type": "markdown",
   "metadata": {},
   "source": [
    "## Back"
   ]
  },
  {
   "cell_type": "code",
   "execution_count": 102,
   "metadata": {},
   "outputs": [
    {
     "name": "stdout",
     "output_type": "stream",
     "text": [
      "back_active @ weights.T [-0.09146642]  @  [[0.2 0.4]]\n"
     ]
    },
    {
     "data": {
      "text/plain": [
       "array([-0.01829328, -0.03658657])"
      ]
     },
     "execution_count": 102,
     "metadata": {},
     "output_type": "execute_result"
    }
   ],
   "source": [
    "last_error = l2n1.backward(last_delta)\n",
    "last_error"
   ]
  },
  {
   "cell_type": "code",
   "execution_count": 103,
   "metadata": {},
   "outputs": [
    {
     "name": "stdout",
     "output_type": "stream",
     "text": [
      "back_active @ weights.T [-0.01829328]  @  [[0.7 0.2 0.7]]\n",
      "back_active @ weights.T [-0.00751855]  @  [[0.8 0.3 0.6]]\n"
     ]
    },
    {
     "data": {
      "text/plain": [
       "(array([-0.0128053 , -0.00365866, -0.0128053 ]),\n",
       " array([-0.00601484, -0.00225557, -0.00451113]))"
      ]
     },
     "execution_count": 103,
     "metadata": {},
     "output_type": "execute_result"
    }
   ],
   "source": [
    "first_errow = l1n1.backward(last_error[0])\n",
    "second_errow = l1n2.backward(last_error[1])\n",
    "first_errow,second_errow"
   ]
  },
  {
   "cell_type": "code",
   "execution_count": 104,
   "metadata": {},
   "outputs": [
    {
     "name": "stdout",
     "output_type": "stream",
     "text": [
      "[ 0.         -0.01829328 -0.01829328]\n",
      "[ 0.         -0.00751855 -0.00751855]\n"
     ]
    }
   ],
   "source": [
    "print(l1n1.d_W)\n",
    "print(l1n2.d_W)"
   ]
  },
  {
   "cell_type": "code",
   "execution_count": null,
   "metadata": {},
   "outputs": [],
   "source": []
  },
  {
   "cell_type": "code",
   "execution_count": null,
   "metadata": {},
   "outputs": [],
   "source": []
  },
  {
   "cell_type": "code",
   "execution_count": 105,
   "metadata": {},
   "outputs": [],
   "source": [
    "x = np.array([1,0,0])\n",
    "y = np.array([1,0.3,0.1])"
   ]
  },
  {
   "cell_type": "code",
   "execution_count": 106,
   "metadata": {},
   "outputs": [
    {
     "data": {
      "text/plain": [
       "-0.0914664257718867"
      ]
     },
     "execution_count": 106,
     "metadata": {},
     "output_type": "execute_result"
    }
   ],
   "source": [
    "-0.38594733*0.23699199\n"
   ]
  },
  {
   "cell_type": "code",
   "execution_count": null,
   "metadata": {},
   "outputs": [],
   "source": []
  },
  {
   "cell_type": "code",
   "execution_count": null,
   "metadata": {},
   "outputs": [],
   "source": []
  },
  {
   "cell_type": "code",
   "execution_count": null,
   "metadata": {},
   "outputs": [],
   "source": []
  },
  {
   "cell_type": "code",
   "execution_count": null,
   "metadata": {},
   "outputs": [],
   "source": []
  },
  {
   "cell_type": "code",
   "execution_count": null,
   "metadata": {},
   "outputs": [],
   "source": []
  }
 ],
 "metadata": {
  "kernelspec": {
   "display_name": "Python 3",
   "language": "python",
   "name": "python3"
  },
  "language_info": {
   "codemirror_mode": {
    "name": "ipython",
    "version": 3
   },
   "file_extension": ".py",
   "mimetype": "text/x-python",
   "name": "python",
   "nbconvert_exporter": "python",
   "pygments_lexer": "ipython3",
   "version": "3.7.4"
  }
 },
 "nbformat": 4,
 "nbformat_minor": 2
}
